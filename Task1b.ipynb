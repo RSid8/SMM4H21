{
  "nbformat": 4,
  "nbformat_minor": 0,
  "metadata": {
    "accelerator": "GPU",
    "colab": {
      "name": "Task1b.ipynb",
      "provenance": [],
      "collapsed_sections": [],
      "toc_visible": true,
      "include_colab_link": true
    },
    "kernelspec": {
      "display_name": "Python 3",
      "name": "python3"
    }
  },
  "cells": [
    {
      "cell_type": "markdown",
      "metadata": {
        "id": "view-in-github",
        "colab_type": "text"
      },
      "source": [
        "<a href=\"https://colab.research.google.com/github/RSid8/SMM4H21/blob/main/Task1b.ipynb\" target=\"_parent\"><img src=\"https://colab.research.google.com/assets/colab-badge.svg\" alt=\"Open In Colab\"/></a>"
      ]
    },
    {
      "cell_type": "markdown",
      "metadata": {
        "id": "L6BHjMbbuC33"
      },
      "source": [
        "# Installations"
      ]
    },
    {
      "cell_type": "code",
      "metadata": {
        "colab": {
          "base_uri": "https://localhost:8080/"
        },
        "id": "9etflYA3uoMu",
        "outputId": "6214b594-9c9d-4e1a-dcf6-bbfaa3a0a2fe"
      },
      "source": [
        "from google.colab import drive\n",
        "drive.mount('/content/drive')"
      ],
      "execution_count": null,
      "outputs": [
        {
          "output_type": "stream",
          "text": [
            "Mounted at /content/drive\n"
          ],
          "name": "stdout"
        }
      ]
    },
    {
      "cell_type": "code",
      "metadata": {
        "colab": {
          "base_uri": "https://localhost:8080/"
        },
        "id": "FJzVJocusfFn",
        "outputId": "77007a4f-1ef5-45b9-f20b-2f72944410a5"
      },
      "source": [
        "!pip install -U spacy"
      ],
      "execution_count": null,
      "outputs": [
        {
          "output_type": "stream",
          "text": [
            "Collecting spacy\n",
            "\u001b[?25l  Downloading https://files.pythonhosted.org/packages/3a/70/a0b8bd0cb54d8739ba4d6fb3458785c3b9b812b7fbe93b0f10beb1a53ada/spacy-3.0.5-cp37-cp37m-manylinux2014_x86_64.whl (12.8MB)\n",
            "\u001b[K     |████████████████████████████████| 12.8MB 235kB/s \n",
            "\u001b[?25hCollecting srsly<3.0.0,>=2.4.0\n",
            "\u001b[?25l  Downloading https://files.pythonhosted.org/packages/19/54/76982427ceb495dd19ff982c966708c624b85e03c45bf1912feaf60c7b2d/srsly-2.4.0-cp37-cp37m-manylinux2014_x86_64.whl (456kB)\n",
            "\u001b[K     |████████████████████████████████| 460kB 50.0MB/s \n",
            "\u001b[?25hRequirement already satisfied, skipping upgrade: tqdm<5.0.0,>=4.38.0 in /usr/local/lib/python3.7/dist-packages (from spacy) (4.41.1)\n",
            "Requirement already satisfied, skipping upgrade: packaging>=20.0 in /usr/local/lib/python3.7/dist-packages (from spacy) (20.9)\n",
            "Requirement already satisfied, skipping upgrade: numpy>=1.15.0 in /usr/local/lib/python3.7/dist-packages (from spacy) (1.19.5)\n",
            "Collecting typer<0.4.0,>=0.3.0\n",
            "  Downloading https://files.pythonhosted.org/packages/90/34/d138832f6945432c638f32137e6c79a3b682f06a63c488dcfaca6b166c64/typer-0.3.2-py3-none-any.whl\n",
            "Collecting pathy>=0.3.5\n",
            "  Downloading https://files.pythonhosted.org/packages/a2/53/97dc0197cca9357369b3b71bf300896cf2d3604fa60ffaaf5cbc277de7de/pathy-0.4.0-py3-none-any.whl\n",
            "Requirement already satisfied, skipping upgrade: jinja2 in /usr/local/lib/python3.7/dist-packages (from spacy) (2.11.3)\n",
            "Collecting spacy-legacy<3.1.0,>=3.0.0\n",
            "  Downloading https://files.pythonhosted.org/packages/78/d8/e25bc7f99877de34def57d36769f0cce4e895b374cdc766718efc724f9ac/spacy_legacy-3.0.2-py2.py3-none-any.whl\n",
            "Collecting thinc<8.1.0,>=8.0.2\n",
            "\u001b[?25l  Downloading https://files.pythonhosted.org/packages/e3/08/20e707519bcded1a0caa6fd024b767ac79e4e5d0fb92266bb7dcf735e338/thinc-8.0.2-cp37-cp37m-manylinux2014_x86_64.whl (1.1MB)\n",
            "\u001b[K     |████████████████████████████████| 1.1MB 49.1MB/s \n",
            "\u001b[?25hRequirement already satisfied, skipping upgrade: cymem<2.1.0,>=2.0.2 in /usr/local/lib/python3.7/dist-packages (from spacy) (2.0.5)\n",
            "Requirement already satisfied, skipping upgrade: typing-extensions<4.0.0.0,>=3.7.4; python_version < \"3.8\" in /usr/local/lib/python3.7/dist-packages (from spacy) (3.7.4.3)\n",
            "Requirement already satisfied, skipping upgrade: murmurhash<1.1.0,>=0.28.0 in /usr/local/lib/python3.7/dist-packages (from spacy) (1.0.5)\n",
            "Requirement already satisfied, skipping upgrade: setuptools in /usr/local/lib/python3.7/dist-packages (from spacy) (54.2.0)\n",
            "Requirement already satisfied, skipping upgrade: wasabi<1.1.0,>=0.8.1 in /usr/local/lib/python3.7/dist-packages (from spacy) (0.8.2)\n",
            "Requirement already satisfied, skipping upgrade: preshed<3.1.0,>=3.0.2 in /usr/local/lib/python3.7/dist-packages (from spacy) (3.0.5)\n",
            "Requirement already satisfied, skipping upgrade: importlib-metadata>=0.20; python_version < \"3.8\" in /usr/local/lib/python3.7/dist-packages (from spacy) (3.8.1)\n",
            "Requirement already satisfied, skipping upgrade: requests<3.0.0,>=2.13.0 in /usr/local/lib/python3.7/dist-packages (from spacy) (2.23.0)\n",
            "Requirement already satisfied, skipping upgrade: blis<0.8.0,>=0.4.0 in /usr/local/lib/python3.7/dist-packages (from spacy) (0.4.1)\n",
            "Collecting catalogue<2.1.0,>=2.0.1\n",
            "  Downloading https://files.pythonhosted.org/packages/48/5c/493a2f3bb0eac17b1d48129ecfd251f0520b6c89493e9fd0522f534a9e4a/catalogue-2.0.1-py3-none-any.whl\n",
            "Collecting pydantic<1.8.0,>=1.7.1\n",
            "\u001b[?25l  Downloading https://files.pythonhosted.org/packages/b3/0a/52ae1c659fc08f13dd7c0ae07b88e4f807ad83fb9954a59b0b0a3d1a8ab6/pydantic-1.7.3-cp37-cp37m-manylinux2014_x86_64.whl (9.1MB)\n",
            "\u001b[K     |████████████████████████████████| 9.1MB 52.7MB/s \n",
            "\u001b[?25hRequirement already satisfied, skipping upgrade: pyparsing>=2.0.2 in /usr/local/lib/python3.7/dist-packages (from packaging>=20.0->spacy) (2.4.7)\n",
            "Requirement already satisfied, skipping upgrade: click<7.2.0,>=7.1.1 in /usr/local/lib/python3.7/dist-packages (from typer<0.4.0,>=0.3.0->spacy) (7.1.2)\n",
            "Collecting smart-open<4.0.0,>=2.2.0\n",
            "\u001b[?25l  Downloading https://files.pythonhosted.org/packages/11/9a/ba2d5f67f25e8d5bbf2fcec7a99b1e38428e83cb715f64dd179ca43a11bb/smart_open-3.0.0.tar.gz (113kB)\n",
            "\u001b[K     |████████████████████████████████| 122kB 55.5MB/s \n",
            "\u001b[?25hRequirement already satisfied, skipping upgrade: MarkupSafe>=0.23 in /usr/local/lib/python3.7/dist-packages (from jinja2->spacy) (1.1.1)\n",
            "Requirement already satisfied, skipping upgrade: zipp>=0.5 in /usr/local/lib/python3.7/dist-packages (from importlib-metadata>=0.20; python_version < \"3.8\"->spacy) (3.4.1)\n",
            "Requirement already satisfied, skipping upgrade: certifi>=2017.4.17 in /usr/local/lib/python3.7/dist-packages (from requests<3.0.0,>=2.13.0->spacy) (2020.12.5)\n",
            "Requirement already satisfied, skipping upgrade: idna<3,>=2.5 in /usr/local/lib/python3.7/dist-packages (from requests<3.0.0,>=2.13.0->spacy) (2.10)\n",
            "Requirement already satisfied, skipping upgrade: chardet<4,>=3.0.2 in /usr/local/lib/python3.7/dist-packages (from requests<3.0.0,>=2.13.0->spacy) (3.0.4)\n",
            "Requirement already satisfied, skipping upgrade: urllib3!=1.25.0,!=1.25.1,<1.26,>=1.21.1 in /usr/local/lib/python3.7/dist-packages (from requests<3.0.0,>=2.13.0->spacy) (1.24.3)\n",
            "Building wheels for collected packages: smart-open\n",
            "  Building wheel for smart-open (setup.py) ... \u001b[?25l\u001b[?25hdone\n",
            "  Created wheel for smart-open: filename=smart_open-3.0.0-cp37-none-any.whl size=107098 sha256=8b3deabb1128bf67bd10e55d0adfb80d635044bdbeea27d9d3d4841f7bb65d7a\n",
            "  Stored in directory: /root/.cache/pip/wheels/18/88/7c/f06dabd5e9cabe02d2269167bcacbbf9b47d0c0ff7d6ebcb78\n",
            "Successfully built smart-open\n",
            "Installing collected packages: catalogue, srsly, typer, smart-open, pathy, spacy-legacy, pydantic, thinc, spacy\n",
            "  Found existing installation: catalogue 1.0.0\n",
            "    Uninstalling catalogue-1.0.0:\n",
            "      Successfully uninstalled catalogue-1.0.0\n",
            "  Found existing installation: srsly 1.0.5\n",
            "    Uninstalling srsly-1.0.5:\n",
            "      Successfully uninstalled srsly-1.0.5\n",
            "  Found existing installation: smart-open 4.2.0\n",
            "    Uninstalling smart-open-4.2.0:\n",
            "      Successfully uninstalled smart-open-4.2.0\n",
            "  Found existing installation: thinc 7.4.0\n",
            "    Uninstalling thinc-7.4.0:\n",
            "      Successfully uninstalled thinc-7.4.0\n",
            "  Found existing installation: spacy 2.2.4\n",
            "    Uninstalling spacy-2.2.4:\n",
            "      Successfully uninstalled spacy-2.2.4\n",
            "Successfully installed catalogue-2.0.1 pathy-0.4.0 pydantic-1.7.3 smart-open-3.0.0 spacy-3.0.5 spacy-legacy-3.0.2 srsly-2.4.0 thinc-8.0.2 typer-0.3.2\n"
          ],
          "name": "stdout"
        }
      ]
    },
    {
      "cell_type": "code",
      "metadata": {
        "colab": {
          "base_uri": "https://localhost:8080/"
        },
        "id": "fwAmuQq_uBjt",
        "outputId": "d591d80f-fc57-4660-db5c-db4855fe5728"
      },
      "source": [
        "!python -m spacy download 'en_core_web_trf'"
      ],
      "execution_count": null,
      "outputs": [
        {
          "output_type": "stream",
          "text": [
            "2021-04-11 11:29:10.591276: I tensorflow/stream_executor/platform/default/dso_loader.cc:49] Successfully opened dynamic library libcudart.so.11.0\n",
            "Collecting en-core-web-trf==3.0.0\n",
            "\u001b[?25l  Downloading https://github.com/explosion/spacy-models/releases/download/en_core_web_trf-3.0.0/en_core_web_trf-3.0.0-py3-none-any.whl (459.7MB)\n",
            "\u001b[K     |████████████████████████████████| 459.7MB 32kB/s \n",
            "\u001b[?25hCollecting spacy-transformers<1.1.0,>=1.0.0rc4\n",
            "  Downloading https://files.pythonhosted.org/packages/5b/22/51e9e59ebb0d914cf162201ca76f497a2fb1730e9fcf6cf5f5de3a2fbfc0/spacy_transformers-1.0.1-py2.py3-none-any.whl\n",
            "Requirement already satisfied: spacy<3.1.0,>=3.0.0 in /usr/local/lib/python3.7/dist-packages (from en-core-web-trf==3.0.0) (3.0.5)\n",
            "Collecting torchcontrib<0.1.0,>=0.0.2\n",
            "  Downloading https://files.pythonhosted.org/packages/72/36/45d475035ab35353911e72a03c1c1210eba63b71e5a6917a9e78a046aa10/torchcontrib-0.0.2.tar.gz\n",
            "Requirement already satisfied: srsly<3.0.0,>=2.4.0 in /usr/local/lib/python3.7/dist-packages (from spacy-transformers<1.1.0,>=1.0.0rc4->en-core-web-trf==3.0.0) (2.4.0)\n",
            "Collecting spacy-alignments<1.0.0,>=0.7.2\n",
            "\u001b[?25l  Downloading https://files.pythonhosted.org/packages/ea/86/a6786d24d1d8f3a6cff2c60b55a7e845725a94919cd94d270ea49d82e59b/spacy_alignments-0.8.3-cp37-cp37m-manylinux2014_x86_64.whl (998kB)\n",
            "\u001b[K     |████████████████████████████████| 1.0MB 16.7MB/s \n",
            "\u001b[?25hCollecting transformers<4.3.0,>=3.1.0\n",
            "\u001b[?25l  Downloading https://files.pythonhosted.org/packages/88/b1/41130a228dd656a1a31ba281598a968320283f48d42782845f6ba567f00b/transformers-4.2.2-py3-none-any.whl (1.8MB)\n",
            "\u001b[K     |████████████████████████████████| 1.8MB 52.4MB/s \n",
            "\u001b[?25hRequirement already satisfied: torch>=1.5.0 in /usr/local/lib/python3.7/dist-packages (from spacy-transformers<1.1.0,>=1.0.0rc4->en-core-web-trf==3.0.0) (1.8.1+cu101)\n",
            "Requirement already satisfied: importlib-metadata>=0.20; python_version < \"3.8\" in /usr/local/lib/python3.7/dist-packages (from spacy-transformers<1.1.0,>=1.0.0rc4->en-core-web-trf==3.0.0) (3.8.1)\n",
            "Collecting ftfy<6.0.0,>=5.0.0\n",
            "\u001b[?25l  Downloading https://files.pythonhosted.org/packages/04/06/e5c80e2e0f979628d47345efba51f7ba386fe95963b11c594209085f5a9b/ftfy-5.9.tar.gz (66kB)\n",
            "\u001b[K     |████████████████████████████████| 71kB 11.2MB/s \n",
            "\u001b[?25hRequirement already satisfied: jinja2 in /usr/local/lib/python3.7/dist-packages (from spacy<3.1.0,>=3.0.0->en-core-web-trf==3.0.0) (2.11.3)\n",
            "Requirement already satisfied: typing-extensions<4.0.0.0,>=3.7.4; python_version < \"3.8\" in /usr/local/lib/python3.7/dist-packages (from spacy<3.1.0,>=3.0.0->en-core-web-trf==3.0.0) (3.7.4.3)\n",
            "Requirement already satisfied: setuptools in /usr/local/lib/python3.7/dist-packages (from spacy<3.1.0,>=3.0.0->en-core-web-trf==3.0.0) (54.2.0)\n",
            "Requirement already satisfied: spacy-legacy<3.1.0,>=3.0.0 in /usr/local/lib/python3.7/dist-packages (from spacy<3.1.0,>=3.0.0->en-core-web-trf==3.0.0) (3.0.2)\n",
            "Requirement already satisfied: typer<0.4.0,>=0.3.0 in /usr/local/lib/python3.7/dist-packages (from spacy<3.1.0,>=3.0.0->en-core-web-trf==3.0.0) (0.3.2)\n",
            "Requirement already satisfied: catalogue<2.1.0,>=2.0.1 in /usr/local/lib/python3.7/dist-packages (from spacy<3.1.0,>=3.0.0->en-core-web-trf==3.0.0) (2.0.1)\n",
            "Requirement already satisfied: requests<3.0.0,>=2.13.0 in /usr/local/lib/python3.7/dist-packages (from spacy<3.1.0,>=3.0.0->en-core-web-trf==3.0.0) (2.23.0)\n",
            "Requirement already satisfied: tqdm<5.0.0,>=4.38.0 in /usr/local/lib/python3.7/dist-packages (from spacy<3.1.0,>=3.0.0->en-core-web-trf==3.0.0) (4.41.1)\n",
            "Requirement already satisfied: preshed<3.1.0,>=3.0.2 in /usr/local/lib/python3.7/dist-packages (from spacy<3.1.0,>=3.0.0->en-core-web-trf==3.0.0) (3.0.5)\n",
            "Requirement already satisfied: thinc<8.1.0,>=8.0.2 in /usr/local/lib/python3.7/dist-packages (from spacy<3.1.0,>=3.0.0->en-core-web-trf==3.0.0) (8.0.2)\n",
            "Requirement already satisfied: numpy>=1.15.0 in /usr/local/lib/python3.7/dist-packages (from spacy<3.1.0,>=3.0.0->en-core-web-trf==3.0.0) (1.19.5)\n",
            "Requirement already satisfied: pydantic<1.8.0,>=1.7.1 in /usr/local/lib/python3.7/dist-packages (from spacy<3.1.0,>=3.0.0->en-core-web-trf==3.0.0) (1.7.3)\n",
            "Requirement already satisfied: pathy>=0.3.5 in /usr/local/lib/python3.7/dist-packages (from spacy<3.1.0,>=3.0.0->en-core-web-trf==3.0.0) (0.4.0)\n",
            "Requirement already satisfied: cymem<2.1.0,>=2.0.2 in /usr/local/lib/python3.7/dist-packages (from spacy<3.1.0,>=3.0.0->en-core-web-trf==3.0.0) (2.0.5)\n",
            "Requirement already satisfied: blis<0.8.0,>=0.4.0 in /usr/local/lib/python3.7/dist-packages (from spacy<3.1.0,>=3.0.0->en-core-web-trf==3.0.0) (0.4.1)\n",
            "Requirement already satisfied: wasabi<1.1.0,>=0.8.1 in /usr/local/lib/python3.7/dist-packages (from spacy<3.1.0,>=3.0.0->en-core-web-trf==3.0.0) (0.8.2)\n",
            "Requirement already satisfied: packaging>=20.0 in /usr/local/lib/python3.7/dist-packages (from spacy<3.1.0,>=3.0.0->en-core-web-trf==3.0.0) (20.9)\n",
            "Requirement already satisfied: murmurhash<1.1.0,>=0.28.0 in /usr/local/lib/python3.7/dist-packages (from spacy<3.1.0,>=3.0.0->en-core-web-trf==3.0.0) (1.0.5)\n",
            "Collecting sacremoses\n",
            "\u001b[?25l  Downloading https://files.pythonhosted.org/packages/08/cd/342e584ee544d044fb573ae697404ce22ede086c9e87ce5960772084cad0/sacremoses-0.0.44.tar.gz (862kB)\n",
            "\u001b[K     |████████████████████████████████| 870kB 50.4MB/s \n",
            "\u001b[?25hRequirement already satisfied: regex!=2019.12.17 in /usr/local/lib/python3.7/dist-packages (from transformers<4.3.0,>=3.1.0->spacy-transformers<1.1.0,>=1.0.0rc4->en-core-web-trf==3.0.0) (2019.12.20)\n",
            "Collecting tokenizers==0.9.4\n",
            "\u001b[?25l  Downloading https://files.pythonhosted.org/packages/fb/36/59e4a62254c5fcb43894c6b0e9403ec6f4238cc2422a003ed2e6279a1784/tokenizers-0.9.4-cp37-cp37m-manylinux2010_x86_64.whl (2.9MB)\n",
            "\u001b[K     |████████████████████████████████| 2.9MB 48.4MB/s \n",
            "\u001b[?25hRequirement already satisfied: filelock in /usr/local/lib/python3.7/dist-packages (from transformers<4.3.0,>=3.1.0->spacy-transformers<1.1.0,>=1.0.0rc4->en-core-web-trf==3.0.0) (3.0.12)\n",
            "Requirement already satisfied: zipp>=0.5 in /usr/local/lib/python3.7/dist-packages (from importlib-metadata>=0.20; python_version < \"3.8\"->spacy-transformers<1.1.0,>=1.0.0rc4->en-core-web-trf==3.0.0) (3.4.1)\n",
            "Requirement already satisfied: wcwidth in /usr/local/lib/python3.7/dist-packages (from ftfy<6.0.0,>=5.0.0->spacy-transformers<1.1.0,>=1.0.0rc4->en-core-web-trf==3.0.0) (0.2.5)\n",
            "Requirement already satisfied: MarkupSafe>=0.23 in /usr/local/lib/python3.7/dist-packages (from jinja2->spacy<3.1.0,>=3.0.0->en-core-web-trf==3.0.0) (1.1.1)\n",
            "Requirement already satisfied: click<7.2.0,>=7.1.1 in /usr/local/lib/python3.7/dist-packages (from typer<0.4.0,>=0.3.0->spacy<3.1.0,>=3.0.0->en-core-web-trf==3.0.0) (7.1.2)\n",
            "Requirement already satisfied: chardet<4,>=3.0.2 in /usr/local/lib/python3.7/dist-packages (from requests<3.0.0,>=2.13.0->spacy<3.1.0,>=3.0.0->en-core-web-trf==3.0.0) (3.0.4)\n",
            "Requirement already satisfied: idna<3,>=2.5 in /usr/local/lib/python3.7/dist-packages (from requests<3.0.0,>=2.13.0->spacy<3.1.0,>=3.0.0->en-core-web-trf==3.0.0) (2.10)\n",
            "Requirement already satisfied: urllib3!=1.25.0,!=1.25.1,<1.26,>=1.21.1 in /usr/local/lib/python3.7/dist-packages (from requests<3.0.0,>=2.13.0->spacy<3.1.0,>=3.0.0->en-core-web-trf==3.0.0) (1.24.3)\n",
            "Requirement already satisfied: certifi>=2017.4.17 in /usr/local/lib/python3.7/dist-packages (from requests<3.0.0,>=2.13.0->spacy<3.1.0,>=3.0.0->en-core-web-trf==3.0.0) (2020.12.5)\n",
            "Requirement already satisfied: smart-open<4.0.0,>=2.2.0 in /usr/local/lib/python3.7/dist-packages (from pathy>=0.3.5->spacy<3.1.0,>=3.0.0->en-core-web-trf==3.0.0) (3.0.0)\n",
            "Requirement already satisfied: pyparsing>=2.0.2 in /usr/local/lib/python3.7/dist-packages (from packaging>=20.0->spacy<3.1.0,>=3.0.0->en-core-web-trf==3.0.0) (2.4.7)\n",
            "Requirement already satisfied: six in /usr/local/lib/python3.7/dist-packages (from sacremoses->transformers<4.3.0,>=3.1.0->spacy-transformers<1.1.0,>=1.0.0rc4->en-core-web-trf==3.0.0) (1.15.0)\n",
            "Requirement already satisfied: joblib in /usr/local/lib/python3.7/dist-packages (from sacremoses->transformers<4.3.0,>=3.1.0->spacy-transformers<1.1.0,>=1.0.0rc4->en-core-web-trf==3.0.0) (1.0.1)\n",
            "Building wheels for collected packages: torchcontrib, ftfy, sacremoses\n",
            "  Building wheel for torchcontrib (setup.py) ... \u001b[?25l\u001b[?25hdone\n",
            "  Created wheel for torchcontrib: filename=torchcontrib-0.0.2-cp37-none-any.whl size=7532 sha256=eec69707c6e0e37c3a706127d8210270f508858e48b6aaab550df5176a110b95\n",
            "  Stored in directory: /root/.cache/pip/wheels/06/06/7b/a5f5920bbf4f12a2c927e438fac17d4cd9560f8336b00e9a99\n",
            "  Building wheel for ftfy (setup.py) ... \u001b[?25l\u001b[?25hdone\n",
            "  Created wheel for ftfy: filename=ftfy-5.9-cp37-none-any.whl size=46451 sha256=9d07173d72f56ef8c1492450bef5fae1a21b2e965d95b9fc658e3ba456ad5c37\n",
            "  Stored in directory: /root/.cache/pip/wheels/5e/2e/f0/b07196e8c929114998f0316894a61c752b63bfa3fdd50d2fc3\n",
            "  Building wheel for sacremoses (setup.py) ... \u001b[?25l\u001b[?25hdone\n",
            "  Created wheel for sacremoses: filename=sacremoses-0.0.44-cp37-none-any.whl size=886084 sha256=0da484ca663950c8c244fca557a76748c8901d00b391a097b02eeb93637b7083\n",
            "  Stored in directory: /root/.cache/pip/wheels/3e/fb/c0/13ab4d63d537658f448366744654323077c4d90069b6512f3c\n",
            "Successfully built torchcontrib ftfy sacremoses\n",
            "Installing collected packages: torchcontrib, spacy-alignments, sacremoses, tokenizers, transformers, ftfy, spacy-transformers, en-core-web-trf\n",
            "Successfully installed en-core-web-trf-3.0.0 ftfy-5.9 sacremoses-0.0.44 spacy-alignments-0.8.3 spacy-transformers-1.0.1 tokenizers-0.9.4 torchcontrib-0.0.2 transformers-4.2.2\n",
            "\u001b[38;5;2m✔ Download and installation successful\u001b[0m\n",
            "You can now load the package via spacy.load('en_core_web_trf')\n"
          ],
          "name": "stdout"
        }
      ]
    },
    {
      "cell_type": "markdown",
      "metadata": {
        "id": "vnJK0KDyu0tS"
      },
      "source": [
        "# Data Processing and Pre processing\n",
        "Clean up the dataset by removing overlapping entities"
      ]
    },
    {
      "cell_type": "code",
      "metadata": {
        "colab": {
          "base_uri": "https://localhost:8080/",
          "height": 197
        },
        "id": "bRhos73WuaaS",
        "outputId": "8210da19-e7df-4ec3-b3c0-9bae3891c951"
      },
      "source": [
        "import pandas as pd\n",
        "df_tweets = pd.read_csv(\"/content/drive/MyDrive/UPENN/Task1b/train_tweets.tsv\", sep = '\\t')\n",
        "df_spans = pd.read_csv(\"/content/drive/MyDrive/UPENN/Task1b/train_spans.tsv\", sep = '\\t')\n",
        "df_tweets.columns = [\"tweet_id\", \"tweet\"]\n",
        "df_spans.columns = [\"tweet_id\", \"label\", \"start\", \"end\", \"span\"]\n",
        "df_tweets.head()"
      ],
      "execution_count": null,
      "outputs": [
        {
          "output_type": "execute_result",
          "data": {
            "text/html": [
              "<div>\n",
              "<style scoped>\n",
              "    .dataframe tbody tr th:only-of-type {\n",
              "        vertical-align: middle;\n",
              "    }\n",
              "\n",
              "    .dataframe tbody tr th {\n",
              "        vertical-align: top;\n",
              "    }\n",
              "\n",
              "    .dataframe thead th {\n",
              "        text-align: right;\n",
              "    }\n",
              "</style>\n",
              "<table border=\"1\" class=\"dataframe\">\n",
              "  <thead>\n",
              "    <tr style=\"text-align: right;\">\n",
              "      <th></th>\n",
              "      <th>tweet_id</th>\n",
              "      <th>tweet</th>\n",
              "    </tr>\n",
              "  </thead>\n",
              "  <tbody>\n",
              "    <tr>\n",
              "      <th>0</th>\n",
              "      <td>347806215776116737</td>\n",
              "      <td>@ashleylvivian if #avelox has hurt your liver,...</td>\n",
              "    </tr>\n",
              "    <tr>\n",
              "      <th>1</th>\n",
              "      <td>350336129817509888</td>\n",
              "      <td>apparently, baclofen greatly exacerbates the \"...</td>\n",
              "    </tr>\n",
              "    <tr>\n",
              "      <th>2</th>\n",
              "      <td>332540699692130304</td>\n",
              "      <td>pt of mine died from cipro rt @ciproispoison: ...</td>\n",
              "    </tr>\n",
              "    <tr>\n",
              "      <th>3</th>\n",
              "      <td>332542581760204800</td>\n",
              "      <td>@gastromom The only pt of mine who ever died w...</td>\n",
              "    </tr>\n",
              "    <tr>\n",
              "      <th>4</th>\n",
              "      <td>343944308828811264</td>\n",
              "      <td>owww. i hurt my foot. &amp;amp; am concerned. 1st ...</td>\n",
              "    </tr>\n",
              "  </tbody>\n",
              "</table>\n",
              "</div>"
            ],
            "text/plain": [
              "             tweet_id                                              tweet\n",
              "0  347806215776116737  @ashleylvivian if #avelox has hurt your liver,...\n",
              "1  350336129817509888  apparently, baclofen greatly exacerbates the \"...\n",
              "2  332540699692130304  pt of mine died from cipro rt @ciproispoison: ...\n",
              "3  332542581760204800  @gastromom The only pt of mine who ever died w...\n",
              "4  343944308828811264  owww. i hurt my foot. &amp; am concerned. 1st ..."
            ]
          },
          "metadata": {
            "tags": []
          },
          "execution_count": 4
        }
      ]
    },
    {
      "cell_type": "code",
      "metadata": {
        "colab": {
          "base_uri": "https://localhost:8080/",
          "height": 197
        },
        "id": "GNW_5nmMwMl_",
        "outputId": "064fbc82-aee5-4059-a12d-1f3acb3e9faa"
      },
      "source": [
        "df_spans.head()"
      ],
      "execution_count": null,
      "outputs": [
        {
          "output_type": "execute_result",
          "data": {
            "text/html": [
              "<div>\n",
              "<style scoped>\n",
              "    .dataframe tbody tr th:only-of-type {\n",
              "        vertical-align: middle;\n",
              "    }\n",
              "\n",
              "    .dataframe tbody tr th {\n",
              "        vertical-align: top;\n",
              "    }\n",
              "\n",
              "    .dataframe thead th {\n",
              "        text-align: right;\n",
              "    }\n",
              "</style>\n",
              "<table border=\"1\" class=\"dataframe\">\n",
              "  <thead>\n",
              "    <tr style=\"text-align: right;\">\n",
              "      <th></th>\n",
              "      <th>tweet_id</th>\n",
              "      <th>label</th>\n",
              "      <th>start</th>\n",
              "      <th>end</th>\n",
              "      <th>span</th>\n",
              "    </tr>\n",
              "  </thead>\n",
              "  <tbody>\n",
              "    <tr>\n",
              "      <th>0</th>\n",
              "      <td>347806215776116737</td>\n",
              "      <td>ADE</td>\n",
              "      <td>31</td>\n",
              "      <td>46</td>\n",
              "      <td>HURT YOUR Liver</td>\n",
              "    </tr>\n",
              "    <tr>\n",
              "      <th>1</th>\n",
              "      <td>350336129817509888</td>\n",
              "      <td>ADE</td>\n",
              "      <td>48</td>\n",
              "      <td>50</td>\n",
              "      <td>AD</td>\n",
              "    </tr>\n",
              "    <tr>\n",
              "      <th>2</th>\n",
              "      <td>350336129817509888</td>\n",
              "      <td>ADE</td>\n",
              "      <td>88</td>\n",
              "      <td>93</td>\n",
              "      <td>focus</td>\n",
              "    </tr>\n",
              "    <tr>\n",
              "      <th>3</th>\n",
              "      <td>332540699692130304</td>\n",
              "      <td>ADE</td>\n",
              "      <td>11</td>\n",
              "      <td>15</td>\n",
              "      <td>died</td>\n",
              "    </tr>\n",
              "    <tr>\n",
              "      <th>4</th>\n",
              "      <td>332542581760204800</td>\n",
              "      <td>ADE</td>\n",
              "      <td>40</td>\n",
              "      <td>44</td>\n",
              "      <td>died</td>\n",
              "    </tr>\n",
              "  </tbody>\n",
              "</table>\n",
              "</div>"
            ],
            "text/plain": [
              "             tweet_id label  start  end             span\n",
              "0  347806215776116737   ADE     31   46  HURT YOUR Liver\n",
              "1  350336129817509888   ADE     48   50               AD\n",
              "2  350336129817509888   ADE     88   93            focus\n",
              "3  332540699692130304   ADE     11   15             died\n",
              "4  332542581760204800   ADE     40   44             died"
            ]
          },
          "metadata": {
            "tags": []
          },
          "execution_count": 5
        }
      ]
    },
    {
      "cell_type": "code",
      "metadata": {
        "colab": {
          "base_uri": "https://localhost:8080/",
          "height": 197
        },
        "id": "uq5tXHrMwPSW",
        "outputId": "d359f89b-09a5-4a2e-b7bb-f36c273dd06f"
      },
      "source": [
        "df = df_tweets.merge(df_spans, on = \"tweet_id\")\n",
        "df.head()"
      ],
      "execution_count": null,
      "outputs": [
        {
          "output_type": "execute_result",
          "data": {
            "text/html": [
              "<div>\n",
              "<style scoped>\n",
              "    .dataframe tbody tr th:only-of-type {\n",
              "        vertical-align: middle;\n",
              "    }\n",
              "\n",
              "    .dataframe tbody tr th {\n",
              "        vertical-align: top;\n",
              "    }\n",
              "\n",
              "    .dataframe thead th {\n",
              "        text-align: right;\n",
              "    }\n",
              "</style>\n",
              "<table border=\"1\" class=\"dataframe\">\n",
              "  <thead>\n",
              "    <tr style=\"text-align: right;\">\n",
              "      <th></th>\n",
              "      <th>tweet_id</th>\n",
              "      <th>tweet</th>\n",
              "      <th>label</th>\n",
              "      <th>start</th>\n",
              "      <th>end</th>\n",
              "      <th>span</th>\n",
              "    </tr>\n",
              "  </thead>\n",
              "  <tbody>\n",
              "    <tr>\n",
              "      <th>0</th>\n",
              "      <td>347806215776116737</td>\n",
              "      <td>@ashleylvivian if #avelox has hurt your liver,...</td>\n",
              "      <td>ADE</td>\n",
              "      <td>31</td>\n",
              "      <td>46</td>\n",
              "      <td>HURT YOUR Liver</td>\n",
              "    </tr>\n",
              "    <tr>\n",
              "      <th>1</th>\n",
              "      <td>350336129817509888</td>\n",
              "      <td>apparently, baclofen greatly exacerbates the \"...</td>\n",
              "      <td>ADE</td>\n",
              "      <td>48</td>\n",
              "      <td>50</td>\n",
              "      <td>AD</td>\n",
              "    </tr>\n",
              "    <tr>\n",
              "      <th>2</th>\n",
              "      <td>350336129817509888</td>\n",
              "      <td>apparently, baclofen greatly exacerbates the \"...</td>\n",
              "      <td>ADE</td>\n",
              "      <td>88</td>\n",
              "      <td>93</td>\n",
              "      <td>focus</td>\n",
              "    </tr>\n",
              "    <tr>\n",
              "      <th>3</th>\n",
              "      <td>332540699692130304</td>\n",
              "      <td>pt of mine died from cipro rt @ciproispoison: ...</td>\n",
              "      <td>ADE</td>\n",
              "      <td>11</td>\n",
              "      <td>15</td>\n",
              "      <td>died</td>\n",
              "    </tr>\n",
              "    <tr>\n",
              "      <th>4</th>\n",
              "      <td>332542581760204800</td>\n",
              "      <td>@gastromom The only pt of mine who ever died w...</td>\n",
              "      <td>ADE</td>\n",
              "      <td>40</td>\n",
              "      <td>44</td>\n",
              "      <td>died</td>\n",
              "    </tr>\n",
              "  </tbody>\n",
              "</table>\n",
              "</div>"
            ],
            "text/plain": [
              "             tweet_id  ...             span\n",
              "0  347806215776116737  ...  HURT YOUR Liver\n",
              "1  350336129817509888  ...               AD\n",
              "2  350336129817509888  ...            focus\n",
              "3  332540699692130304  ...             died\n",
              "4  332542581760204800  ...             died\n",
              "\n",
              "[5 rows x 6 columns]"
            ]
          },
          "metadata": {
            "tags": []
          },
          "execution_count": 6
        }
      ]
    },
    {
      "cell_type": "code",
      "metadata": {
        "colab": {
          "base_uri": "https://localhost:8080/"
        },
        "id": "krBM-kh2VLxA",
        "outputId": "055ddc23-63d6-428f-b33f-869aaec49e23"
      },
      "source": [
        "len(df)"
      ],
      "execution_count": null,
      "outputs": [
        {
          "output_type": "execute_result",
          "data": {
            "text/plain": [
              "1691"
            ]
          },
          "metadata": {
            "tags": []
          },
          "execution_count": 7
        }
      ]
    },
    {
      "cell_type": "code",
      "metadata": {
        "id": "TdRYHVYWy3qJ"
      },
      "source": [
        "TRAIN_DATA = []\n",
        "entity_list = []\n",
        "for ind in df.index:\n",
        "  id = df['tweet_id'][ind]\n",
        "  x = df['tweet'][ind]\n",
        "  if ind+1<len(df):\n",
        "    next_id = df['tweet_id'][ind+1]\n",
        "  else:\n",
        "    next_id = None \n",
        "  if next_id == id:\n",
        "    span_tuple = (df['start'][ind], df['end'][ind], df['label'][ind])\n",
        "    entity_list.append(span_tuple)\n",
        "  else:\n",
        "    span_tuple = (df['start'][ind], df['end'][ind], df['label'][ind])\n",
        "    entity_list.append(span_tuple)    \n",
        "    train_sample = (x, {'entities': entity_list})\n",
        "    TRAIN_DATA.append(train_sample)\n",
        "    entity_list = []"
      ],
      "execution_count": null,
      "outputs": []
    },
    {
      "cell_type": "code",
      "metadata": {
        "colab": {
          "base_uri": "https://localhost:8080/"
        },
        "id": "rfNagxO3KZm_",
        "outputId": "e5974260-7ebd-4c93-a856-59de97c2ec69"
      },
      "source": [
        "print(TRAIN_DATA)\n",
        "print(len(TRAIN_DATA))"
      ],
      "execution_count": null,
      "outputs": [
        {
          "output_type": "stream",
          "text": [
            "[('@ashleylvivian if #avelox has hurt your liver, avoid tylenol always, as it further damages liver, eat grapefruit unless taking cardiac drugs', {'entities': [(31, 46, 'ADE')]}), ('apparently, baclofen greatly exacerbates the \"ad\" part of my adhd. average length of focus today: about 30 seconds.', {'entities': [(48, 50, 'ADE'), (88, 93, 'ADE')]}), ('pt of mine died from cipro rt @ciproispoison: @gastromom if only more doctors thought like you! i lost my entire life to 12 cipro pills', {'entities': [(11, 15, 'ADE')]}), ('@gastromom The only pt of mine who ever died was one age 21 profound autism chronic underwt & GI issues, given lots of Cipro. Terrible', {'entities': [(40, 44, 'ADE')]}), (\"owww. i hurt my foot. &amp; am concerned. 1st warning on cipro is tendon damage. :-/ it certainly wasn't a rupture. i'm sure i'm just paranoid.\", {'entities': [(66, 79, 'ADE')]}), (\"@bilgeebiri oh robitussin dreams are notorious. although what will really turn 'em into a bunuel movie is cipro.\", {'entities': [(26, 32, 'ADE')]}), ('#eds friends! anybody taken #cipro? (antibiotic) complications?? big side effect is tendon rupture...figured my dr would know better?', {'entities': [(84, 98, 'ADE')]}), ('@Enlightenmentor Umm, are you being a smart-ass? Dont mess with me right now. Going through Cymbalta withdrawal I think & Im VERY depressed.', {'entities': [(101, 111, 'ADE')]}), (\"today i'm an emotional mess. that's what happens when i think i could wean myself off of cymbalta.\", {'entities': [(13, 27, 'ADE')]}), ('losing it. could not remember the word power strip. wonder which drug is doing this memory lapse thing. my guess the cymbalta. #helps', {'entities': [(17, 29, 'ADE'), (84, 96, 'ADE')]}), ('that nap was on point.... cymbalta did that shit cuz i dont take naps...ever', {'entities': [(5, 8, 'ADE')]}), ('@andiedanley2626 cymbalta. 3x the dosage i was once on...everything is psychedelic and yuck. still grateful for meds!', {'entities': [(71, 82, 'ADE')]}), (\"@santypas @scrabalisios i'm taking 700mg pregablin and 60 mg duloxetine hence why i'm totally mashed\", {'entities': [(94, 100, 'ADE')]}), (\"note to self: do not take #fluoxetine and #aleved together. i'm a space cadet today!  #druginteractions\", {'entities': [(66, 77, 'ADE')]}), (\"I'm sure this fluoxetine is making my illness worse, especially since I can't eat..\", {'entities': [(38, 51, 'ADE'), (72, 81, 'ADE')]}), (\"rt @ianibbo: finding out i'm allergic to fluoxetine was a bit of a shock tho. mind, only someone from yorkshire could be actually allergic '\", {'entities': [(30, 38, 'ADE')]}), ('i took 11 pills of geodon i was rushed to the hospital they had to stick a tube up my nose ugh never again i feel so bad today withdrawals.', {'entities': [(127, 138, 'ADE')]}), (\"so the geodon is what made me so frickin hungry all the time cause i've eaten very little these past few days.\", {'entities': [(41, 47, 'ADE')]}), ('@thestomabaglady it was explained to me that all the anti-tnfs can bring out other issues. i had severe joint pain on humira &amp; remicaid', {'entities': [(104, 114, 'ADE')]}), ('@renegade_snare @ibdtweet i feel your pain :(  just got 1st #fistula urgh ! humira worked for me for just 3months then got painful reactions', {'entities': [(61, 68, 'ADE'), (123, 140, 'ADE')]}), ('The day after Humira used to be a great one, full of energy, low pain. After a month, it is now a fatigue filled achy day. #rheum', {'entities': [(98, 105, 'ADE'), (113, 117, 'ADE')]}), (\"rt @smbell1: the day after humira used to be a great one, full of energy, low pain. after a month, it is now a fatigue filled achy day. #rh'\", {'entities': [(112, 119, 'ADE'), (127, 131, 'ADE')]}), ('humira + thioguanine + preds = me have no immune lol.. thankgod i on anti biotics for a bit... then preds drop off #crohns', {'entities': [(39, 48, 'ADE')]}), ('anyone have nerve damage symptoms (ms like) from enbrel or humira? #rheum', {'entities': [(12, 24, 'ADE'), (35, 42, 'ADE')]}), ('well. i abruptly stopped taking lamotrigine (lamictal), and that is why i am having the pain and weakness. possible seizure. oops.', {'entities': [(89, 93, 'ADE'), (98, 106, 'ADE'), (117, 124, 'ADE')]}), (\"So while I'm letting the thoughts of Lamictal/fatal rashes/tonsillectomy/spinal tap settle, I'm going to go rescue a budgie.\", {'entities': [(52, 58, 'ADE')]}), ('oh... oh my hair is... definitely falling out. ._. i just noticed it starting tonight. google tells me other people on lamictal have this.', {'entities': [(12, 45, 'ADE')]}), (\"@kierarampton it's called lamotrigine, i'm pretty sure the mix of them both is making me sick. i don't think bipolar &amp; add mix very well..\", {'entities': [(90, 94, 'ADE')]}), (\"what is this weird feeling i've been having all day? i've felt depressed yet oddly happy. this is the second day of bid #lamotrigine\", {'entities': [(63, 72, 'ADE')]}), ('@OUCH_UK didnt know Lamotrigine was addictive Stopped as didnt think were helping @clusterheads 3 days of hell before realized, back on now', {'entities': [(36, 45, 'ADE'), (83, 95, 'ADE'), (98, 110, 'ADE')]}), ('@midwesternwife i feel your pain, im allergic to penicillin, ammoxicillin, levaquin, doxycycline. it sucks', {'entities': [(38, 46, 'ADE')]}), (\"@wee_jendo nicotine lozenges. if i go cold turkey i can't think (or see) straight, so i can't work.\", {'entities': [(53, 64, 'ADE'), (69, 82, 'ADE')]}), (\"he said he is 'slowly dying of starvation'. i don't want to be the one to say stop taking the aricept and namenda...\", {'entities': [(31, 41, 'ADE')]}), ('@sophiemonk coz olanzapine increases hunger strains u all day dosile unless u get up when ur accilies still wud n coffee 5am fog frost', {'entities': [(27, 43, 'ADE')]}), ('@river__tam olanzapine is amazing srsly, the dreams are immense, no addiction, its gorgeous, like brave new world soma to me', {'entities': [(45, 51, 'ADE')]}), ('olanzapine is supposed to make you a fat bastard i got off lucky. lithium makes my hand shake. bipolar or schizo drugs.', {'entities': [(37, 40, 'ADE'), (83, 93, 'ADE')]}), ('@christal_l that\\'s the problem with most of them - side effects. i was on paxil after my mom died and \"it\" stopped working. fuck that.', {'entities': [(110, 125, 'ADE')]}), ('anemia, hormones, depression &amp; paxil are totally getting the best of me this morning. getting out of bed is haaard.', {'entities': [(91, 119, 'ADE')]}), ('my creativity was blocked by lithium and prozac and wellbutrin and paxil and zoloft and effexor and lexapro and cymbalta and abilify-', {'entities': [(3, 25, 'ADE')]}), ('the #zombieapocalypse will stem from paxil w/d symptoms. mark my words.', {'entities': [(43, 46, 'ADE')]}), ('For anxiety to penetrate through my drowsy haze (a result of the triumvirate of fluoxetine, pregabalin, amoxicillin?) is pretty good going.', {'entities': [(36, 42, 'ADE'), (43, 47, 'ADE')]}), (\"@deltrimental i came off pristiq in july last year. i still get brain zaps when tired. my genitals aren't numb now tho - swings/roundabouts\", {'entities': [(64, 74, 'ADE'), (90, 110, 'ADE')]}), ('@MissMazyGG anxiety has been so high. But yeah, if your dosage is high its hard to come off. I had to detox from pristiq (its cousin drug)', {'entities': [(102, 107, 'ADE')]}), ('anybody get involuntary facial spasms with prozac? mine is my right eye. does it go away or is time to try something else?', {'entities': [(24, 37, 'ADE'), (68, 71, 'ADE')]}), (\"@rbhu7_82 if i don't take my quetiapine i can stay awake for days!\", {'entities': [(51, 56, 'ADE')]}), ('new meds have me out of it. i want therapy not doping up! i was highly functioning now have trouble standing! #quetiapine #bipolar', {'entities': [(17, 26, 'ADE'), (47, 56, 'ADE')]}), ('-9.5lbs in 14 days. obvious now that i should have stopped the quetiapine a long long time ago before i got in this state', {'entities': [(0, 7, 'ADE')]}), (\"extra quetiapine and two zopiclone still aren't helping me sleep. head full of broken biscuits at 4am with horrid intrusive thoughts\", {'entities': [(107, 132, 'ADE')]}), (\"(triggering) so... i'm taking quetiapine and tramadol pre-cutting. i'm allergic to tramadol...this should be interesting #selfharm\", {'entities': [(71, 79, 'ADE')]}), ('all i have done today is sleep. and i still need to sleep more. this is a welcome change. #quetiapine', {'entities': [(25, 30, 'ADE')]}), ('toothache. discovered that somewhere in the paracetamol, codeine, sertraline #quetiapine combination there is a bad mix. #hallucinating', {'entities': [(123, 136, 'ADE')]}), ('@bella_astre quetiapine made me eat all the sweets, the sour ones seem to help with the dry mouth', {'entities': [(89, 98, 'ADE')]}), ('@disabledmedic Quetiapine perhaps gives most dramatic effect for single low dose. No, pts are not being lazy in bed 20 hours a day, asleep!', {'entities': [(116, 138, 'ADE')]}), (\"rt @bipolarblogger: since quetiapine's messed with my prolactin levels, making my boobs humungous &amp; my bras so expensive, i want a lingerie'\", {'entities': [(55, 71, 'ADE'), (83, 98, 'ADE')]}), ('rivaroxaban diary day 8. left knee is much better. right knee still painful. back ache receding but suspect it will come back once in bed.', {'entities': [(57, 75, 'ADE'), (77, 86, 'ADE')]}), ('08.15 day 13 Rivaroxaban diary. Lower back ache, neck ache, hips and knees ache, short of breath, (am asthmatic) taken 2paracetamol, to bed.', {'entities': [(32, 47, 'ADE'), (49, 58, 'ADE'), (60, 64, 'ADE'), (69, 79, 'ADE'), (81, 96, 'ADE')]}), ('13.24 day 15 rivaroxaban diary. atrocious backache despite having taken paracetamol an hour ago. gone back to bed.', {'entities': [(42, 50, 'ADE')]}), ('rivaroxaban diary day 25 muscle &amp; back pains were due to being on rvxbn for 10 days, on it + losartan for 8 days, + losartan only for 4 days', {'entities': [(26, 37, 'ADE'), (39, 49, 'ADE')]}), (\"@doctorchristian is my memory really bad due to 900mg seroquel and 120mg cymbalta or the bipolar itself? i'm not remembering conversations\", {'entities': [(109, 124, 'ADE')]}), (\"@Basic_Chunnel @bromethazine I'm pretty lucid in all my dreams, and the Seroquel drowsiness carried over into the dream. LOLOL.\", {'entities': [(81, 91, 'ADE')]}), ('i can only get about 7-8 hours of sleep on my own. but i got at least 16 hours with seroquel. i now see how people can get addicted.', {'entities': [(34, 78, 'ADE')]}), ('maybe cos of the insulin blocking effect of seroquel but i do feel sugar crashes when eat fast carbs. will feel ill. so avoid where poss.', {'entities': [(67, 80, 'ADE'), (107, 115, 'ADE')]}), (\"trazodone isn't working. can't take seroquel at 430 am or i won't wake up until after 2 pm. stuck, painfully awake.\", {'entities': [(61, 74, 'ADE')]}), ('why do i not remember going to bed or waking up (the answer: probably seroquel)', {'entities': [(9, 21, 'ADE')]}), (\"i can't take this:( i thought having seroquel would make it easier but nope. my whole body feels like i have raw nerve endings going crazy\", {'entities': [(91, 126, 'ADE')]}), ('@suedoelawyer and with seroquel i take half of a 25mg pill. and it knocks me out; i can sleep for 12 straight hours', {'entities': [(88, 115, 'ADE')]}), ('waitt..here it comes..the #seroquel is pulling me under..also i now have the sudden urge to procure food.. #fmlimugly', {'entities': [(84, 104, 'ADE')]}), (\"but i don't want to take an ambien or trazodone or anything because i dint wanna restart my dependence upon them\", {'entities': [(92, 102, 'ADE')]}), (\"i think it's bad i'm consistently in bed by 9 and asleep by 9:15. #trazodone\", {'entities': [(50, 56, 'ADE')]}), ('holy shit, that trazodone actually knocked me the fuck out and took me for a ride', {'entities': [(36, 59, 'ADE')]}), ('trazodone is fun because you get high, slowly fade into sleep, then wake up drunk as hell.', {'entities': [(34, 38, 'ADE'), (77, 82, 'ADE')]}), ('i wish xanax made me tired. i also wish ambien, trazodone, lorazepam, lunesta, and temazepam did too. #tolerance #fml', {'entities': [(104, 113, 'ADE')]}), ('trazodone has screwed up my sleep schedule. its helping tho.', {'entities': [(28, 42, 'ADE')]}), ('@nighttraumadoc it works otherwise. my pcp started me on trazodone before. i felt like i.had a frontal lobotomy the following day', {'entities': [(77, 111, 'ADE')]}), ('My Philly dr prescribed me Trazodone,1pill made me so fkn sick, couldnt move 2day.Xtreme migraine, puke, shakes. Any1else get that react?', {'entities': [(58, 62, 'ADE'), (64, 76, 'ADE'), (89, 97, 'ADE'), (99, 103, 'ADE'), (105, 111, 'ADE')]}), ('i went down to 100 mg of trazodone at night. the nightmares are gone but my insomnia got worse.', {'entities': [(49, 59, 'ADE'), (76, 84, 'ADE')]}), ('sick of feeling tired. fed up of meds not working. loads to do today &amp; no freaking motivation or energy #venlafaxine #day9', {'entities': [(16, 21, 'ADE'), (75, 97, 'ADE'), (101, 107, 'ADE')]}), ('11 hours sleep and still i feel tired and dizzy #venlafaxine #day10', {'entities': [(9, 14, 'ADE'), (32, 37, 'ADE'), (42, 47, 'ADE')]}), (\"so it seems that  if i take #venlafaxine in am i am drowsy all day. if i take in pm i don't sleep well. go figure.  #day14\", {'entities': [(52, 58, 'ADE'), (86, 102, 'ADE')]}), ('feel crap every morning. wake up after another restless night and just want to cry. #venlafaxine #day16', {'entities': [(0, 23, 'ADE'), (47, 61, 'ADE')]}), (\"i low carb but have just eaten my body weight in freakin carbs! i only hope the carb cravings are because i'm coming off the #venlafaxine\", {'entities': [(80, 93, 'ADE')]}), ('dreamt i was squirting acid at wood lice - i woke screaming when they came at me. i do hope the dreams are the #venlafaxine withdrawal.', {'entities': [(0, 6, 'ADE'), (96, 102, 'ADE'), (124, 134, 'ADE')]}), ('@zombie_girl_2 i tried that going cold turkey on venlafaxine and depakote is not a good idea i dreamt colours and lost my fucking mind aghh!', {'entities': [(95, 109, 'ADE'), (114, 134, 'ADE')]}), (\"high off tramadol and venlafaxine in school omg help i'm falling asleep here\", {'entities': [(57, 71, 'ADE')]}), (\"holy shit no more xanax or risperidone. i will have withdrawals. still on viibryd but it's next. it makes me the sickest.\", {'entities': [(113, 120, 'ADE')]}), (\"@MVRCIVL VYVANSE GOT ME UP LIKE ZOMBIES.. XAN'S PUT ME DOWN, THEM BITCHES CALL ME ROMNEY.. THE WAY I STEADY CLOWN #txfreestyle #barrdout\", {'entities': [(32, 39, 'ADE')]}), (\"@jordantaylor068 yeah, i'm on vyvanse and sometimes i have to be reminded to eat because i just forget.\", {'entities': [(78, 103, 'ADE')]}), ('vyvanse make me so hyper and creative and i think of so many tweets', {'entities': [(19, 24, 'ADE')]}), (\"vyvanse = 5 lines of coke. can't. stop. moving.\", {'entities': [(27, 46, 'ADE')]}), (\"@guccigreenery i felt drugged on ritalin. i love vyvanse. i can't tell i'm on it except for feeling better and calmer and more structured\", {'entities': [(17, 29, 'ADE')]}), ('when im tweaked off vyvanse  i cant go into my room...cuse if i look at my shoes ill lose focus of everything and just think bout them', {'entities': [(85, 95, 'ADE')]}), ('the come down on vyvanse kicks my ass every time', {'entities': [(4, 13, 'ADE')]}), (\"thought of work is overwhelming me so much i feel like crying but can't because olanzapine has me trapped in a zombie state #strugglewithin\", {'entities': [(45, 71, 'ADE'), (111, 117, 'ADE')]}), ('5hrs sleep last night but stayed awake today. lethargic &amp; low still. in bed &amp; can feel myself going hot &amp; cold :(  #venlafaxine #day7', {'entities': [(46, 55, 'ADE'), (108, 122, 'ADE')]}), ('@dopamine_diva q makes me hungry. olanzapine made me want to eat my own arm!', {'entities': [(26, 32, 'ADE'), (53, 75, 'ADE')]}), (\"Wellbutrin, Zyprexa, Xanax, Effexor, Lamotrigine, Valium. Every day. I'm not even a person anymore. I'm a parody of an actual human being.\", {'entities': [(105, 137, 'ADE')]}), (\"i'm going to try for sleep. real sleep. not that light bastard that #venlafaxine brings me.\", {'entities': [(13, 26, 'ADE'), (49, 62, 'ADE')]}), (\"cannot decide whether to take meds today. the #venlafaxine is wiping me out like the #citalopram did. i can't function on them. #day11\", {'entities': [(62, 75, 'ADE'), (104, 118, 'ADE')]}), ('after taking olanzapine i wake up and feel like i am in a straight jacket because my muscles feel stiff', {'entities': [(38, 73, 'ADE'), (85, 103, 'ADE')]}), (\"another night of 'light' sleep. feel low. subdued. sad.  #venlafaxine #day12\", {'entities': [(18, 30, 'ADE'), (32, 40, 'ADE'), (42, 49, 'ADE'), (51, 54, 'ADE')]}), ('if i become high i will not increase the lamotrigine as this will fuel the sleep problems', {'entities': [(75, 89, 'ADE')]}), ('tonight i am taking my #venlafaxine in the evening in pursuit of better sleep and less tired daytimes. wish me luck.', {'entities': [(86, 101, 'ADE')]}), ('over-eaten again just before bed. stuffed. good chance i will choke on my own vomit during sleep. i blame #olanzapine #timetochange #bipolar', {'entities': [(0, 10, 'ADE')]}), ('ooooop. anyone know if amoxicillin and pregabalin have an interaction? never had one with fluoxetine and losartan... so dizzy!', {'entities': [(58, 69, 'ADE'), (120, 125, 'ADE')]}), (\"husband said i was a little 'high' tonight so encouraged me to take 7.5mg of olanzapine. now feel really really really sleepy, zzzz....\", {'entities': [(120, 126, 'ADE')]}), (\"@ital_livity not getting any better here so dragging myself to gp. i'd rather be mad than comatose! hope ur doing ok #quetiapine\", {'entities': [(90, 98, 'ADE')]}), ('@any1mouse jus Gt bck myself, hes puT me on citalopram in addition 2 the quetiapine! Im a bit worried as citalopram has made me manic before', {'entities': [(128, 133, 'ADE')]}), ('RP McMurphy was right about the trazodone being my new favorite bed-buddy. RIP, melatonin dreams. You were getting too weird - even for me.', {'entities': [(90, 96, 'ADE')]}), ('tearful this morning. desperately poor nights sleep. utterly fucked up by withdrawing so quickly from lamotrigine', {'entities': [(0, 7, 'ADE'), (34, 51, 'ADE'), (74, 85, 'ADE')]}), ('joints killing me now i have gone back up on the lamotrigine. sick of side effects. sick of meds. want my own self back. knackered today', {'entities': [(0, 17, 'ADE'), (121, 130, 'ADE')]}), ('me: why have i been sectioned, what psychotic symptoms do i have? psychiatrist: dancing.  i am now addicted to the antipsychotic olanzapine', {'entities': [(100, 108, 'ADE')]}), ('coming off #quetiapine is harder than u think. nausea sickness hot and cold shivers twitching headache #bipolar #mentalhealth #medication', {'entities': [(0, 10, 'ADE'), (47, 53, 'ADE'), (54, 62, 'ADE'), (63, 75, 'ADE'), (76, 83, 'ADE'), (84, 93, 'ADE'), (94, 102, 'ADE')]}), ('@ecrjones attempts at lamotrigine withdrawal, commuting by train every day and being back at work in a new role', {'entities': [(35, 45, 'ADE')]}), ('Round 2 trazodone. Please just put me to sleep, not make me into a zombie the whole next day.', {'entities': [(67, 73, 'ADE')]}), (\"@elizabethaf not addictive? 'ssri discontinuation syndrome.' i know someone who has been trying to come off venlafaxine for over two years &gt;\", {'entities': [(17, 26, 'ADE'), (34, 58, 'ADE')]}), ('#trazodone is one hell of a sleeping pill. it also makes you feel incredibly high.', {'entities': [(77, 81, 'ADE')]}), ('i feel like a pile of shit #sick #cold #stomach reacting to some antibiotics. i will never again take #ciprofloxacin', {'entities': [(2, 26, 'ADE'), (28, 32, 'ADE'), (34, 38, 'ADE'), (40, 56, 'ADE')]}), ('slept! really slept! i think i can assume from that that the venlafaxine is now nearly out of my system :))', {'entities': [(0, 5, 'ADE')]}), (\"@SpicyNyx I think I'm that too! Had rare breastmilk production on quetiapine, ultra rare hallucinations (not psychosis) on valproate.\", {'entities': [(41, 62, 'ADE'), (89, 103, 'ADE')]}), ('@thejeremyvine i once had an allergic reaction to the anti-convulsant lamotrigine.  i got a rash all over my body that looked like burns.', {'entities': [(29, 46, 'ADE'), (92, 96, 'ADE')]}), ('morning fluoxetine burp makes me want to ralph.', {'entities': [(19, 23, 'ADE'), (33, 46, 'ADE')]}), (\"i love when my #trazodone kicks in after i've forgotten i've taken it. groggy tweets commence.\", {'entities': [(71, 77, 'ADE')]}), ('Please be careful when withdrawing from any anti deps, benzos and/or hypnotics. Venlafaxine was a bad choice for me and worse withdrawl.', {'entities': [(23, 34, 'ADE')]}), (\"@ftamalenus I keep telling myself 8 am, but I think the Trazodone fucks it up. :( It knocks me right out and won't let me wake up.\", {'entities': [(85, 104, 'ADE'), (109, 129, 'ADE')]}), (\"can't sleep, but i'm afraid that the muscle tremors keep me awake even worse if i take promethazine in combination with fluoxetine...\", {'entities': [(37, 51, 'ADE'), (103, 114, 'ADE')]}), ('little did i know that i would go through withdrawals when coming off of effexor xr. #antidepressants', {'entities': [(42, 53, 'ADE')]}), ('@jessieeclayton take paxil then. no anxiety just happiness. but you et withdraws if you forget to take it.', {'entities': [(71, 80, 'ADE')]}), ('@spooniescouch @joodamsmith @seal_kim @sapril880 ant take anti seizure meds or anti depressants and cymbalta and savella made me very sick:(', {'entities': [(134, 138, 'ADE')]}), ('i reaaaallly need to take my paxil but it makes me feel so delirious and just messed up.', {'entities': [(59, 68, 'ADE'), (78, 87, 'ADE')]}), ('@edaemus @waynehatesfruit oh that was only last night when i was delirious on quetiapine - you took advantage of the situation.', {'entities': [(65, 74, 'ADE')]}), (\"i'd rather be on the effexor that made me happy though i had severe back pain from it.. than sad and crying for no reason on lexapro....\", {'entities': [(68, 77, 'ADE'), (93, 96, 'ADE'), (101, 121, 'ADE')]}), ('@sarapekow need to switch bc def allergic to cymbalta :(', {'entities': [(33, 41, 'ADE')]}), ('has anyone ever had to take avelox?  i need some tricks to curb the nausea and help me with the hypotension.  #avelox #antibiotic #evil', {'entities': [(68, 74, 'ADE'), (96, 107, 'ADE')]}), ('@crimefish bum.  i was worried about mania on them, but i think the biffiness is going to be worse, especially coupled with quetiapine.', {'entities': [(69, 78, 'ADE')]}), (\"i can't decide if i should watch mind-numbing reality tv on netflix or abuse my prescription for trazodone and sleep for fifteen hours\", {'entities': [(111, 134, 'ADE')]}), (\"narcotic, benzo, etc rx's arent the only meds addictive. if i miss a dose of wellbutrin or effexor, my hands shake crazy & i get brain zaps\", {'entities': [(46, 55, 'ADE'), (103, 114, 'ADE'), (129, 139, 'ADE')]}), (\"@BurberryWife sometimes it never ends. So sorry. Topomax is miserable with parasthesia, cognitive problems, kidney stones. Lamictal's good\", {'entities': [(75, 86, 'ADE'), (88, 106, 'ADE'), (108, 121, 'ADE')]}), ('@burberrywife lamictal has a black box warning for rash? and they titrate you slowly. no side effects at all for me.  bad migraine today.', {'entities': [(122, 130, 'ADE')]}), (\"i need help twitter. i was gradually coming off venlafaxine and now i'm completely off it i've been going though hell.\", {'entities': [(100, 117, 'ADE')]}), (\"today was hard - arguing with a professional. was told seroquel doesn't make you put on weight - i and my extra 20kg beg to differ.\", {'entities': [(81, 95, 'ADE'), (106, 116, 'ADE')]}), (\"@MondaysMomma It's ok, I guess it's just a case of trial and error with antidepressants. Coming off venlafaxine has been so nasty :(\", {'entities': [(89, 111, 'ADE'), (124, 129, 'ADE')]}), (\"@gusgreeper i can't believe how long it takes to be symptom free from this shit #paxil\", {'entities': [(52, 64, 'ADE')]}), ('seroquel aka wake up at 2:30 and waste half your day sleeping.', {'entities': [(13, 28, 'ADE'), (39, 61, 'ADE')]}), (\"took 25 pills of lamictal cause that shit will fuck you up. yo eyes are outta focus and you can't walk straight but your happy as hell.\", {'entities': [(63, 83, 'ADE'), (92, 111, 'ADE')]}), (\"@halfabear i had a year on prozac which ruined my creativity too - my memory now is awful - pregabalin does it but it's worth it!!!\", {'entities': [(40, 60, 'ADE'), (70, 89, 'ADE')]}), ('i hate #zoloft because it makes me crazy revved up but i also hate #lamictal because it gives me \"stupid head\". ah, bipolar i disorder ?', {'entities': [(42, 51, 'ADE'), (100, 111, 'ADE')]}), ('@lk_gillan i started out with lyrica but i could no longer afford it &amp; it made me bloated. tried cymbalta &amp; my heart was beating wicked fast', {'entities': [(86, 93, 'ADE'), (119, 148, 'ADE')]}), (\"i am so tired right now. like i feel like i used to when i used to take seroquel and lithium. i haven't been this tired naturally ever\", {'entities': [(8, 13, 'ADE')]}), ('i eat my trazodone and go to bed; wake up in the morning with holes in my head', {'entities': [(62, 78, 'ADE')]}), (\"@bayerusnews sure is!  i no longer even own a car after being crippled by cipro (a bayer product!).  who needs a car when you can't walk!?\", {'entities': [(62, 70, 'ADE'), (126, 136, 'ADE')]}), (\"@tete_floue yeah, i couldn't function without sleep so i understand. with fluoxetine, im not sleeping as well, but still sleeping x\", {'entities': [(90, 102, 'ADE')]}), ('@weswroten @bullfrogr wow paxil sent me into a huge hypo manic mixed episode.', {'entities': [(52, 76, 'ADE')]}), (\"@lucilleparr i take quetiapine and it's supposed to just relax me i end up falling asleep within 2 hours. my brain's always scattered haha\", {'entities': [(75, 89, 'ADE'), (109, 133, 'ADE')]}), (\"i do wonder of that achille's will ever recover fully from the cipro.\", {'entities': [(20, 29, 'ADE')]}), ('i feel like a drug addict taking seroquel every night.. but oh well, great sleep beats no sleep. except the shitty feeling when you wake up', {'entities': [(109, 140, 'ADE')]}), (\"@CIPROisPOISON I'm in so much pain now... tendonitis, headaches, cognitive issues... I feel violated. #Cipro\", {'entities': [(30, 34, 'ADE'), (42, 52, 'ADE'), (54, 63, 'ADE'), (65, 81, 'ADE')]}), (\"@iamcarrieeeeee coming off the lamotrigine. it's not acceptable to be in pain most of the time. struggled to get out of the bath on sat\", {'entities': [(73, 77, 'ADE'), (96, 128, 'ADE')]}), (\"the drugs don't work!!! from fit to hobbling in a few days. off the pills but may need wks to recover &amp; be prone to ruptures #ciprofloxacin\", {'entities': [(36, 44, 'ADE'), (120, 128, 'ADE')]}), ('@noeleen3talk my mom is aged 72. she changed anti-depressants from aspen trazodone to zoloft. she has itchy scalp &amp; hairloss. could this be', {'entities': [(102, 113, 'ADE'), (120, 128, 'ADE')]}), ('weird thing about paxil: feeling fully awake and energized and feeling completely tired and half-asleep at the same time.', {'entities': [(82, 87, 'ADE'), (92, 103, 'ADE')]}), ('#tysabri  really takes it out on me. spent most of the day sleeping.', {'entities': [(17, 29, 'ADE'), (59, 67, 'ADE')]}), (\"i wish everyone i loved wasn't addicted to nicotine.\", {'entities': [(31, 39, 'ADE')]}), ('you guys are going to have to hear about my withdrawal from paxil. unfollow while you have the chance!!!  day one....', {'entities': [(44, 54, 'ADE')]}), ('the nicotine in chewing tobacco is a deadly poison and it kills your taste buds.', {'entities': [(44, 50, 'ADE'), (58, 79, 'ADE')]}), ('nicotine is literally poison. but sometimes you gotta find out the hard way. #headache', {'entities': [(22, 28, 'ADE'), (78, 86, 'ADE')]}), (\"the nicotine beast has me firmly gripped in it's gnarled yellow claw. #resistanceisfutile\", {'entities': [(4, 40, 'ADE')]}), ('i shivering like mad , time to have nicotine . muahahhaha .', {'entities': [(3, 12, 'ADE')]}), (\"@pizzavibes nicotine high lol i'm like fragile or s/t and it gets to me\", {'entities': [(21, 25, 'ADE')]}), ('what idiot named it prozac instead of sadvil', {'entities': [(38, 44, 'ADE')]}), (\"@me_hypnoticeyes count kum hai, can't avoid it being a nicotine addict. :/\", {'entities': [(65, 71, 'ADE')]}), (\"day seven off the baclofen and i've got cold sweats and constant insomnia... i'm running on fumes at this point.\", {'entities': [(40, 50, 'ADE'), (65, 73, 'ADE')]}), (\"i should just start taking my prozac again so i can stfu and go numb and maybe i won't cry anymore cos i'll be too fucking lifeless\", {'entities': [(63, 68, 'ADE'), (123, 131, 'ADE')]}), (\"i'm crazy! gee i wonder why! thats it! i got a whole canister of seroquel xr! i'm going to start throwing them at higher educated people!\", {'entities': [(97, 105, 'ADE')]}), ('@itsmecreezy i hate to hear that.  taking seroquel is like swallowing a sleeping pill when u wake up then trying to function normally', {'entities': [(106, 133, 'ADE')]}), (\"took a percocet for my tooth. feel like i'm about to die cause of the prozac thats already in my system. apparently you can't take both. fml\", {'entities': [(120, 135, 'ADE')]}), (\"Not that anyone noticed, but my #ambienwithdrawl only lasted a few days. Why? Because I got another scrip. I need it while I'm on Levaquin.\", {'entities': [(39, 48, 'ADE')]}), ('@ruraldocmd please advise if you know of levaquin toxicity/adverse reactions. i am a 4+ year sufferer and chronic pain every day=can u help', {'entities': [(50, 58, 'ADE'), (106, 118, 'ADE')]}), ('ran on an antibiotic this morning (having missed 4 days) and my legs ache like hell, not jsut the soft tissue either. levofloxacin is awful!', {'entities': [(65, 74, 'ADE')]}), ('paxil made me suicidally depressed to the point where a voice screamed inside my brain about my own worthlessness', {'entities': [(14, 34, 'ADE'), (56, 61, 'ADE'), (100, 113, 'ADE')]}), ('@lulubot75 yeah,it can be caused by swelling from around a nerve from ra,but the effexor causes shaking like ur cold(shivering)', {'entities': [(97, 117, 'ADE'), (118, 127, 'ADE')]}), (\"mann i've been having the munchies all day eatin weird shxt ahaha my zyprexa gotta nigga tearin up food\", {'entities': [(26, 34, 'ADE'), (43, 54, 'ADE'), (89, 103, 'ADE')]}), (\"@christal_l yeah, that was a great fucking year. that's when paxil entered my life, and made it worse. 10 years time sure helps, though.\", {'entities': [(97, 102, 'ADE')]}), (\"i'm sick so i had a difflam lozenge and now my tongue is numb and i'm on tv aaahhhhhh\", {'entities': [(47, 61, 'ADE')]}), ('@Fox1985 Cipro can permanently damage ALL tendons in the body.  If you enjoy being able to walk, you need to find a safer antibiotic!', {'entities': [(31, 49, 'ADE'), (91, 95, 'ADE')]}), (\"@teepeewest did you get floxed too?  i've been in bed since 2009 thanks to just 12 cipro pills!  they never told me this can be permanent!!!\", {'entities': [(42, 53, 'ADE')]}), ('@Angel_Long @PrincessDolly85 Cipro crippled me. You should also stay away from all other antibiotics in the same class (Levaquin, Avelox...)', {'entities': [(35, 43, 'ADE')]}), (\"@jakefletcha @becki_65roses cipro is real bad on your entire body!  take it from me (on disability since '09 thanks to just 12 pills).\", {'entities': [(88, 98, 'ADE')]}), ('plus this antibiotic is making me stupid and clumsy. cipro is evil but the fever is gone.', {'entities': [(34, 40, 'ADE'), (45, 51, 'ADE')]}), (\"@Sectioned_ Anybody know anything about side effects of venlafaxine? Come off 'em 6wks ago, still feeling awful. physical withdrawal awful\", {'entities': [(98, 111, 'ADE'), (122, 132, 'ADE')]}), ('remind me to get my prescription earlier next time. eight days without fluoxetine and my brain is a sack of nope.', {'entities': [(89, 112, 'ADE')]}), ('a comprehensive and accurate list of trazodone side effects http://dld.bz/ww2q depression #antidepressant ocd insomnia', {'entities': [(79, 89, 'ADE'), (106, 109, 'ADE'), (110, 118, 'ADE')]}), (\"i've been so tired since i started the cymbalta. i sleep so much. case in point: just slept an hour before bed.\", {'entities': [(13, 18, 'ADE'), (51, 64, 'ADE')]}), ('they put me on cymbalta for my joint pain with hashis. now the pain is better but depression is worse. *sigh*', {'entities': [(82, 92, 'ADE')]}), (\"i need vyvanse ugh i ran out and now i've been eating all day and i feel weird without it\", {'entities': [(47, 61, 'ADE'), (68, 78, 'ADE')]}), (\"off of my metoprolol medication!! hopefully i won't be so depressed anymore! #thankyoujesus\", {'entities': [(58, 67, 'ADE')]}), ('im feeling so shitty. been out of prozac for four days:(((', {'entities': [(3, 20, 'ADE')]}), (\"i've been getting almost daily headaches for the past 3 weeks ?? side effects of #enbrel ? i've been on it for months now though #rheum\", {'entities': [(31, 40, 'ADE')]}), (\"Depression hurts, cymbalta can help. Jk. Cymbalta doesn't do shit except put a gun in your hand\", {'entities': [(73, 95, 'ADE')]}), ('i took some baclofen and i dont feel a little but drowsy! #wtf #backspasms', {'entities': [(50, 56, 'ADE')]}), (\"feels dreadful - how do u over come a #virus when on #humira? gp gave antibiotics to help me out' but it's #viral!! making #lung pain worse\", {'entities': [(0, 14, 'ADE'), (124, 133, 'ADE')]}), ('@OisEucalypt I was on muscle relaxant Baclofen for two weeks, then 2 months trying to rid myself of it. 11 days in without and no sleep. :/', {'entities': [(86, 102, 'ADE'), (127, 135, 'ADE')]}), ('i think i might be allergic to effexor. i just woke up feeling sick, meh.', {'entities': [(20, 28, 'ADE'), (64, 68, 'ADE')]}), (\"venlafaxine makes me feel  so nauseas hahahaha oh god i'm going to chunder in my geography lesson help\", {'entities': [(30, 37, 'ADE'), (67, 74, 'ADE')]}), (\"@joanne__howe i'm good been on 25mg mtx for years then switched to leflunomide back mtx the other caused tummy trouble. why r u off enbrel\", {'entities': [(105, 118, 'ADE')]}), ('how anyone can say there is no withdrawal from prozac withdrawal is beyond me.  their answer is to go back on it and up the dose.', {'entities': [(31, 41, 'ADE')]}), ('i really feel like this fluoxetine is messing with my perspective time and people.', {'entities': [(54, 81, 'ADE')]}), ('how do u do it? u got me losing every breath. what did u give me to make my heart beat out my chest? #vyvanse', {'entities': [(25, 44, 'ADE'), (75, 99, 'ADE')]}), ('seriously if you are getting off cymbalta tape alot if movies i was up till 4 and feel and look like a zombie just to tired to growl !!!', {'entities': [(68, 77, 'ADE'), (103, 109, 'ADE'), (118, 123, 'ADE')]}), ('vyvanse literally causes me to get like schizophrenia but i hear answers idk but i like it', {'entities': [(40, 53, 'ADE'), (60, 72, 'ADE')]}), ('woah even 50mg seroquel hits like a thick fog', {'entities': [(36, 45, 'ADE')]}), ('no one likes me on my vyvanse #toochill #zombiemode', {'entities': [(31, 39, 'ADE'), (41, 47, 'ADE')]}), ('@ctr1945 my mom used rivaroxaban and it gave her a terrible time with weakness and muscle pain.', {'entities': [(70, 78, 'ADE'), (83, 94, 'ADE')]}), ('quetiapine - i slept!! weirdo dreams and very drowsy this morning but i slept!!!', {'entities': [(23, 36, 'ADE'), (46, 52, 'ADE')]}), ('I keep hearing the words \"Chris tucker, money talk mufucka\" over and over in my head it\\'s been happening for like an hour too. Fuck vyvanse', {'entities': [(7, 24, 'ADE')]}), ('@Zymymar stopped Zoloft cold turkey after I became suicidal, stopped Effexor because I was numb.', {'entities': [(51, 59, 'ADE'), (91, 95, 'ADE')]}), (\"why can't i sleep like a normal person. oh yeah because i suffer from insomnia and trazodone gives me headaches #suffering #reality\", {'entities': [(102, 111, 'ADE')]}), ('gonna watch the sunrise.. vyvanse got me up. i have only slept about 2 hours in the past 48 hours. 150mg got me fucked up', {'entities': [(34, 43, 'ADE'), (52, 76, 'ADE')]}), ('Hmm, interesting. I may have been undergoing Baclofen withdrawal hence the anxiety for the past few months… #hypochondria', {'entities': [(54, 64, 'ADE'), (75, 82, 'ADE'), (109, 121, 'ADE')]}), ('i hate the low after the high on vyvanse', {'entities': [(11, 14, 'ADE')]}), ('on a related note: tysabri causes weight gain. as does body pain/inability to exercise. sigh. #fuckms', {'entities': [(34, 45, 'ADE')]}), ('#cymbalta withdrawal has reached a peak, lost vision and almost crashed my car from a brain zap. thanks a zillion #elililly #bigpharma', {'entities': [(10, 20, 'ADE'), (41, 52, 'ADE'), (86, 95, 'ADE')]}), ('i hate cipro! #antibiotic #nauseous #cf #hospitallife #cysticfibrosis', {'entities': [(27, 35, 'ADE')]}), (\"@luckystubbs reppin zoloft&amp;seroquel since last november. i'm hella gainin weight too awesome i'm fat and can't cum i own\", {'entities': [(71, 84, 'ADE'), (101, 104, 'ADE'), (109, 118, 'ADE')]}), (\"i've had a trazodone headache all day. i heard they go away within a week. #hopeso #iactuallyslept\", {'entities': [(21, 29, 'ADE')]}), (\"i've had ocd symptoms like that for a while but seems like the seroquel exacerbates things and now this. :\\\\\", {'entities': [(72, 83, 'ADE')]}), (\"I finally had an appetite, made food, gone. HUMIRA WHY WON'T YOU LET ME EAT\", {'entities': [(55, 75, 'ADE')]}), (\"@coolpharmgreg i don't care if they are toxic haha putting the cipro drops in is essentially equivalent to torture #oww\", {'entities': [(40, 45, 'ADE'), (93, 114, 'ADE'), (116, 119, 'ADE')]}), ('@benderbach cause humira gives me a lot of rashes and like most of these drugs.. skin sensitivity happens', {'entities': [(43, 49, 'ADE'), (81, 97, 'ADE')]}), (\"@stillicides @stfumisogynists @schizophrenicgb *buts in* you don't wanna miss venlafaxine no no it made me so wonky missing one day! ouch\", {'entities': [(110, 115, 'ADE')]}), (\"'@dipndots95: my vyvanse makes me nocturnal ??'\", {'entities': [(25, 43, 'ADE')]}), (\"i'd gladly trade the #mtx  headache for #humira but after 5 months i still don't have the prescription. i function through vitamins &amp; motrin\", {'entities': [(27, 35, 'ADE')]}), (\"thank god i was born with so much hair; i wouldn't been balm by now. #crohnsproblems #teamibd #hairloss #humira #chronic #illness #gratitude\", {'entities': [(56, 60, 'ADE'), (95, 103, 'ADE')]}), ('vyvanse makes me having the sleeping schedule of a vampire.', {'entities': [(28, 58, 'ADE')]}), ('1/2 vitamin d malsorption and damaged photosynthesis of sun shine in to vitamin d from levaquin toxicity leading to calcium problems.', {'entities': [(4, 25, 'ADE'), (116, 132, 'ADE')]}), ('but still dr. maria jasinskas was right &amp; would have been if not for pharmacy; she said, \"you know sometimes vyvanse can make you depressed\"', {'entities': [(136, 145, 'ADE')]}), ('@brokenmind_ quetiapine was horrific for me in relation to wait gain. such a horror story. but the weight will come off one day at a time.', {'entities': [(59, 68, 'ADE'), (99, 105, 'ADE')]}), (\"@almostwell what problems did you have with humira, if you don't mind me asking. I tried infliximab it destroyed my liver.\", {'entities': [(103, 121, 'ADE')]}), ('@AmberInnerGlow @eclipsedblue Me too, Remicade for a year, Humira, and had an allergic reaction to Cimzia, almost killed me in November.', {'entities': [(78, 95, 'ADE'), (107, 123, 'ADE')]}), ('@hello_nacho @tobiasampersand lexapro gave me the worst mixed episodes. i have some instability with pristiq but i can manage it ok.', {'entities': [(56, 70, 'ADE'), (84, 95, 'ADE')]}), ('@kkarkatvantas1 (( when i used to take trazodone to sleep, people would make me stay up after i took it so they could watch me be high ))', {'entities': [(130, 134, 'ADE')]}), ('im having paroxetine withdrawals but thats ok cuz i still aint takin no moe fuck behavioral health ill be iight', {'entities': [(21, 32, 'ADE')]}), ('almost blew out my arms &amp; heels @ work. they hurt like hell. &amp; the pain is spreading, damned cipro.', {'entities': [(8, 24, 'ADE'), (31, 36, 'ADE'), (50, 54, 'ADE'), (76, 80, 'ADE')]}), ('adderall makes me vomit and vyvanse gives me migraines.. the struggle', {'entities': [(18, 23, 'ADE'), (45, 54, 'ADE')]}), (\"the #quetiapine is kicking in. bizarre thoughts tonight. tempted to take the whole lot. i won't - don't worry people. just odd thoughts.\", {'entities': [(31, 47, 'ADE')]}), (\"i'm always irritated on vyvanse because people can't think as fast as i can. it's like every conversation is with someone at a nursing home\", {'entities': [(11, 20, 'ADE'), (47, 66, 'ADE')]}), ('@ysabel_03 @bofier try something like wellbutrin - there are many better than zoloft (zombie-loft) and paxil for anxiety imo', {'entities': [(86, 92, 'ADE')]}), (\"Does anyone on #tysabri get flu Iike symptoms, aches and pains, shivers a sweats I seem to get it about a week or so after I've had infusion\", {'entities': [(28, 45, 'ADE'), (47, 62, 'ADE'), (64, 71, 'ADE'), (74, 80, 'ADE')]}), ('rt @swagbologna: if this fuckin emt looks at me one more time hes gonna feel the wrath of my vyvanse rage', {'entities': [(101, 105, 'ADE')]}), ('21.55 Rivaroxaban diary day 8. Aches easing, back pain easing. Swollen lower legs like fluid retention. I take 20mg. Furosemide every a.m.', {'entities': [(31, 36, 'ADE'), (45, 54, 'ADE'), (63, 81, 'ADE'), (87, 102, 'ADE')]}), ('@deltrimental @scribble_dragon comedown is hell. when i went cold turkey from effexor it was about two weeks before the zap noises stopped', {'entities': [(31, 47, 'ADE'), (120, 130, 'ADE')]}), ('My Effexor has left me with the inability to cry. I was dry eyed watching \"Into the Wild\" and even one of those Sarah Mclachlan commercials', {'entities': [(32, 48, 'ADE'), (56, 64, 'ADE')]}), (\"i hate how vyvanse makes me over think everything and it makes me angry about things that i shouldn't even be angry about\", {'entities': [(28, 38, 'ADE'), (66, 71, 'ADE')]}), ('Too tired to function right now, thanks Humira. #naptime', {'entities': [(4, 9, 'ADE'), (49, 56, 'ADE')]}), ('rt @annie_monster: almost blew out my arms &amp; heels @ work. they hurt like hell. &amp; the pain is spreading, damned cipro.', {'entities': [(27, 43, 'ADE'), (50, 55, 'ADE'), (69, 73, 'ADE'), (95, 99, 'ADE')]}), ('fuckin wired! not sleeping tonight. #vyvanse #whatdoido #yuuuuup', {'entities': [(7, 12, 'ADE'), (14, 26, 'ADE')]}), ('had 2 quit job: tendons in lots of pain,  almost ruptured, hands barely usable now. damned cipro.', {'entities': [(16, 40, 'ADE'), (60, 79, 'ADE')]}), (\"No med orders til Effexor is fully exited. Still having brain shivers, but mostly when I don't eat. #effexor #withdrawal #depression\", {'entities': [(56, 69, 'ADE'), (110, 120, 'ADE')]}), ('@onemoremum did i read in a blog post that you took venlafaxine? i am on 300mg and if i forget it for one day i can barely function the next', {'entities': [(116, 131, 'ADE')]}), ('restless arms &amp; legs! blood quetiapine :-/', {'entities': [(0, 13, 'ADE')]}), (\"i've been sleeping most of my day away thanks to my humira shot. some days i feel like just giving up. #sick&amp;tired\", {'entities': [(10, 18, 'ADE')]}), (\"at my old weight my bmi was 18.4. i hate seroquel and prozac and my new pill, i don't eat but still gain weight.\", {'entities': [(101, 112, 'ADE')]}), (\"@bmccarthy32 glad to here it's keppra over the others. lamictal made me a zombie. first seizure is a bitch eh?\", {'entities': [(74, 80, 'ADE')]}), ('RT @ellus_cooper: @UCLAibd even w/ Humira: ab pain, cramps,nausea,vomitting, skin&joint problems, ulcers in mouth&fatique #uclaibdnurses2013', {'entities': [(43, 50, 'ADE'), (52, 58, 'ADE'), (59, 65, 'ADE'), (66, 75, 'ADE'), (77, 81, 'ADE'), (82, 96, 'ADE'), (98, 113, 'ADE'), (114, 121, 'ADE')]}), ('@wayne386 they probably would have offered me the full anti psychotic menu had i not reacted badly to seroquel #handy #bonus', {'entities': [(85, 98, 'ADE')]}), ('@c4dispatches i was prescribed victoza for obesity in july 2010. i have been ill ever since. evil drug #diabetes', {'entities': [(77, 80, 'ADE')]}), (\"i'm having to pee way too much this drive.. drinking too much water. fuck you 70mg vyvanse and your ability to dehydrate the fuck out of me.\", {'entities': [(14, 30, 'ADE'), (111, 120, 'ADE')]}), ('this rant could be #paxil withdrawl...or delayed divorce rage.', {'entities': [(5, 9, 'ADE'), (26, 35, 'ADE')]}), ('also, yay addiction. it\\'s drugs i need for living, but it\\'s still dependance. every time i get a \"paxil headache\" i realize this. oh well.', {'entities': [(11, 20, 'ADE'), (67, 77, 'ADE'), (106, 114, 'ADE')]}), (\"gotta find an alternative to vyvanse, asap. i'd rather be sleepy &amp; happy, than alert &amp; depressed!\", {'entities': [(96, 105, 'ADE')]}), ('@almostwell yeh same bk felt like sumo wrestler on it all time :( think its f****ed me 4life :( ironic as humira is used to treat artheritis', {'entities': [(24, 47, 'ADE')]}), (\"okay i took the seroquel and i am resisting the urge to vomit it up i feel disgusting but oh well good times good vibes don't be sad\", {'entities': [(48, 61, 'ADE'), (70, 85, 'ADE')]}), (\"why not to take vyvanse late in the day: i just cleaned my entire kitchen. it's 3am. #addproblems @vyvanseswag\", {'entities': [(48, 73, 'ADE'), (80, 83, 'ADE')]}), (\"@magnoliapearl missing a day of meds is never fun. i get migraines if i don't get my effexor. do you just get super tired?\", {'entities': [(57, 66, 'ADE'), (116, 121, 'ADE')]}), (\"i'm high af on vyvanse.\", {'entities': [(4, 8, 'ADE')]}), ('@doctorchristian @c4dispatch re victoza i was prescribed this in 2010 for obesity. caused pancreatitis and digestive problems ever since', {'entities': [(90, 102, 'ADE'), (107, 125, 'ADE')]}), ('@mtv when are you going to do true life: i am addicted to vyvanse?', {'entities': [(46, 54, 'ADE')]}), ('09.26 day 12 rivaroxaban diary:  headache, right shoulder and neck ache, lower back pain, weak knees, limping when walking.Taken paracetamol', {'entities': [(33, 41, 'ADE'), (49, 57, 'ADE'), (62, 71, 'ADE'), (73, 88, 'ADE'), (90, 100, 'ADE'), (102, 109, 'ADE')]}), ('get asked if i have tourettes. nope. just vyvanse #twitchy @vyvanseswag', {'entities': [(20, 29, 'ADE'), (51, 58, 'ADE')]}), (\"i don't know whether my vyvanse caused my caffeine addiction or caffeine caused my vyvanse addiction.\", {'entities': [(91, 100, 'ADE')]}), (\"rt @vyvanseswag: i don't know whether my vyvanse caused my caffeine addiction or caffeine caused my vyvanse addiction.\", {'entities': [(68, 77, 'ADE')]}), ('my house smells of bacon &amp; seroquel is making me so hungry i want to tear my own face off &amp; eat it or cry or maybe both at once.', {'entities': [(56, 62, 'ADE'), (73, 106, 'ADE'), (110, 113, 'ADE')]}), (\"@sdunn242 yup quetiapine. the normal dose at night whacks me out. i'd have been asleep til friday on double\", {'entities': [(51, 64, 'ADE'), (80, 86, 'ADE')]}), (\"i'm not sure if excedrin is the right way for me to go for my tmj headaches. vyvanse + caffeine is pretty rough. ideas?\", {'entities': [(62, 65, 'ADE'), (66, 75, 'ADE')]}), ('13.08 Day 13 Rivaroxaban diary.  Pracetamol has taken away most of the aches, but still have lower back ache and weak knees.', {'entities': [(71, 76, 'ADE'), (93, 108, 'ADE'), (113, 123, 'ADE')]}), (\"@PArthritis I don't know that one, but metho made me sick  everyday I took it. I had to stop. Enbrel has worked wonders for me .. so far\", {'entities': [(53, 57, 'ADE')]}), (\"@ajswurld i'm allergic to enbrel :-( bad reaction\", {'entities': [(14, 22, 'ADE')]}), (\"rt @ajswurld: @parthritis i don't know that one, but metho made me sick  everyday i took it. i had to stop. enbrel has worked wonders for m'\", {'entities': [(68, 72, 'ADE')]}), ('just wondering where the side effect of hating the world is stated on vyvanse advertisements?', {'entities': [(40, 56, 'ADE')]}), ('this lamictal shit ain\\'t cuttin the mustard; any \"mood stabilizers\" that don\\'t steal your soul &amp; make u a bloated zombie a la britney?', {'entities': [(82, 97, 'ADE'), (113, 120, 'ADE'), (121, 127, 'ADE')]}), ('@TweetNomDePlume SSRIs were great for me for ages, not working as well now. Thus Seroquel.  I’m also on Clonazepam, makes me sleepy too.', {'entities': [(51, 70, 'ADE'), (125, 131, 'ADE')]}), ('@sarahchoueiry cipro and flagyl are the absolute worst. like taking rat poison.', {'entities': [(56, 78, 'ADE')]}), ('@fragileannie @meilufay I tried Baclofen, another common muscle relaxer, and had too many side-effects from it, including worsening pain.', {'entities': [(122, 136, 'ADE')]}), ('@abianne the Effexor may have been pushing me toward hypomania, so we are trying just an ssri, then see if a mood stabilizer is needed.', {'entities': [(53, 62, 'ADE')]}), (\"seroquel left me with sleep paralysis. abilify left me with occasional muscle spasms. i've been off of both for nearly a decade.\", {'entities': [(22, 37, 'ADE'), (71, 84, 'ADE')]}), ('@ineedyouhere66 ugh the olanzapine makes me so tired :(', {'entities': [(47, 52, 'ADE')]}), (\"@indiescent @serarrist when i weaned myself off paxil, slower than recommended, my blood pressure dropped so bad i couldn't walk for a week.\", {'entities': [(84, 106, 'ADE'), (116, 129, 'ADE')]}), (\"gimme one reason why i shouldn't have sex drive / libido. i accept this as a part of withdrawal symptoms from venlafaxine. :o\", {'entities': [(38, 47, 'ADE'), (50, 56, 'ADE'), (85, 95, 'ADE')]}), (\"i called for my effexor refill on wednesday. i was out. it's sunday and i can't stop screaming and crying\", {'entities': [(85, 94, 'ADE'), (99, 105, 'ADE')]}), (\"arms stil hurt. cipro to tendons is like a razor to rope: cut it partway through, makes it weaker &amp; won't heal ever. damned cipro.\", {'entities': [(1, 15, 'ADE'), (26, 57, 'ADE'), (92, 98, 'ADE'), (105, 115, 'ADE')]}), ('Eurgh! Last time I was this tired, I was on a four day antidepressant cocktail binge.  #seroxat #sertraline #fluoxitine #lithium', {'entities': [(28, 33, 'ADE')]}), (\"rivaroxaban 2/2 lower back pain. not very pc but am crippled by this drug. taking more paracetamols. must ring for 'phone consultation.\", {'entities': [(16, 31, 'ADE'), (52, 60, 'ADE')]}), ('@electrosocket i was on enbrel for 8 years have since developed neuro problems (ataxia) wish id never taken it side effects not worth risks', {'entities': [(64, 78, 'ADE'), (80, 86, 'ADE')]}), ('@cutefont I essentially felt nothing on them. Great for anxiety, bad for living. Coming off klonopin and paxil was hell though.', {'entities': [(24, 36, 'ADE'), (81, 119, 'ADE')]}), ('@gloombat i think it was an anxiety meds dream. damn quetiapine.', {'entities': [(41, 46, 'ADE')]}), ('@dougmoneybags quetiapine. very low dose even with increase. helps me get to sleep (&amp; eat in general) but feel really groggy in the morning', {'entities': [(122, 143, 'ADE')]}), ('03.00 day 19 rivaroxaban diary. just taken 2 paracetamol. probabably will take 70 minutes to work. a long painful night ahead.', {'entities': [(106, 113, 'ADE')]}), ('your humira shot burns with the power of a thousand suns #ibdfmlmoments #crohns #ibd #uc', {'entities': [(17, 22, 'ADE')]}), ('today is the day for my biweekly humira injection, any volunteers to take it for me?  It hurts.', {'entities': [(89, 94, 'ADE')]}), (\"new dx: dysthymia. start seroquel (which i've had before. it zombified me iirc).\", {'entities': [(61, 70, 'ADE')]}), (\"@AnyssiaKaissa Depakote made me feel flat, but helps many. Zyprexa can cause weight gain, so be very careful. I can't tolerate it.\", {'entities': [(37, 41, 'ADE'), (77, 88, 'ADE')]}), ('takin anbien &amp;seroquel for bad insomnia gives u messed up dreams doc saids its normal', {'entities': [(52, 68, 'ADE')]}), ('been on humira now short period 4 to 6 injections no noticeable change in pain but racing heart and palpitations. mtx at 1ml injection.', {'entities': [(83, 95, 'ADE'), (100, 112, 'ADE')]}), ('hey not sleeping. #hotflashes #menopause #effexor', {'entities': [(4, 16, 'ADE')]}), (\"@kniterrupted i think it's an snri, i'm not even sure. it's viibryd. but none of my anti-depressants have ever messed me up like this before\", {'entities': [(112, 124, 'ADE')]}), ('19.32 day 20 rivaroxaban diary. still residual aches and pains; only had 4 paracetamol today.', {'entities': [(47, 52, 'ADE'), (57, 62, 'ADE')]}), ('i better go to bed.. effexor withdrawal makes me feel kinda terrible ugh.', {'entities': [(29, 39, 'ADE'), (49, 68, 'ADE')]}), ('@missynomatter i was on quetiapine and gained 40lbs &lt;wall&gt; so i am not even trying olanzapine. they gave me abilify cause it not supposed to', {'entities': [(39, 51, 'ADE')]}), (\"@sewyoursoul i 'served' 6months of fluoxetine-time around 18 years ago, it put a smile on my face but inside i was still screaming. :(\", {'entities': [(102, 130, 'ADE')]}), ('@privacy625 @sandycolon25 what i take is serious. i never was informed ahead of time. i could get \"metabolic\" syndrome from seroquel.', {'entities': [(99, 121, 'ADE')]}), ('half of seroquel knocks me out so fast and im asleep for at least 10 hours...', {'entities': [(17, 30, 'ADE')]}), ('08.55 day 21 rivaroxaban diary strange muscle spasms especially in neck shoulders and legs. no more fluid retention. more mobile.', {'entities': [(39, 52, 'ADE'), (100, 115, 'ADE'), (122, 128, 'ADE')]}), ('#epilepsy is sucktastic. neuro appt monday to discuss a third med after getting the rash with lamotrigine and the glaucoma with topiramate.', {'entities': [(84, 88, 'ADE'), (114, 122, 'ADE')]}), ('@RealHausfrau @Tantalizinyou my step-dad was on Effexer,taking supplements for energy and drinking like a fish when he shot my daughter&me', {'entities': [(119, 135, 'ADE')]}), ('this seroquel got me lo0o0py as helll.  this status took me at least thirty minutes to type i keep waking up without knowing i feel asleep', {'entities': [(21, 28, 'ADE'), (69, 91, 'ADE'), (99, 138, 'ADE')]}), ('rivaroxaban diary day 22. am beginning to think all pains from pressure on that part of body are due to fluid retention.', {'entities': [(52, 57, 'ADE'), (104, 119, 'ADE')]}), (\"@_katball natural don't work for me, try 300mg of seroquel...you'll sleep for days, i have insomnia that's what they give me lol\", {'entities': [(69, 83, 'ADE')]}), ('doc for panic disorders: alprazolam (addictive) and paroxetine (sedating). #psychiatry', {'entities': [(37, 46, 'ADE'), (64, 72, 'ADE')]}), ('@criminalbanjo dude i feel physically and mentally drained.. thats the paxil i wanted hard at work', {'entities': [(27, 37, 'ADE'), (42, 58, 'ADE')]}), ('04.46 day 23 rivaroxaban diary. Much better than yesterday. Still neck, back, hip, and leg aches but not so intense.', {'entities': [(66, 96, 'ADE')]}), ('@silkwould smh. lmao paxil was my first, i just stopped effexor (the headaches were a nightmare)', {'entities': [(70, 79, 'ADE')]}), (\"the toilet just flushed itself.  my apartment is haunted.  paxil tells me it's common for apartments to be haunted.  send help\", {'entities': [(79, 114, 'ADE')]}), (\"@wickleperson i do have a crisis number, but i'm just going to knock myself out today w/ trazodone and start antipsychotics today too.\", {'entities': [(110, 124, 'ADE')]}), ('wish it was monday...seeing doctor tomorrow &amp; want to see if he has any suggestions for my withdrawal. #paroxetine #anxiety #fedup', {'entities': [(95, 105, 'ADE')]}), (\"15.15 rivaroxaban diary day 24.  pains easing all the time. didn't take losartan yesterday. will get bp and hopefully inr checked today.\", {'entities': [(33, 38, 'ADE')]}), (\"feels like one of those 5-cup #coffee days - but wait: i'm weaning off #seroquel. aha!\", {'entities': [(0, 42, 'ADE')]}), ('The most upsetting thing about Silver Linings Playbook, is how Bradley Cooper can take Seroquel and still stay in shape.', {'entities': [(106, 119, 'ADE')]}), ('then the viibryd it will be the hardest. makes you very ill. hospital ill.', {'entities': [(70, 73, 'ADE')]}), ('effexor dreams, now with lucidity. i grant the power of flight?', {'entities': [(26, 34, 'ADE')]}), ('@mcmorag my dreams became vivider i think with effexor #bpdchat', {'entities': [(12, 33, 'ADE')]}), ('bombed on olanzapine. work going to be tricky. 5 days of not drinking coming up. i could sleep all the time atm.', {'entities': [(0, 6, 'ADE'), (89, 107, 'ADE')]}), ('@dsymons @trainingwithra i agree that the after sting is much worse from #humira than #enbrel #rheum', {'entities': [(42, 53, 'ADE')]}), (\"i didn't expect that going off of paxil would make me want to look at my farrah fawcett poster quite so much.\", {'entities': [(62, 94, 'ADE')]}), ('panic attacking because you cant find your effexor and know withdrawal will set in momentarily  &lt;&lt;&lt;&lt;&lt;&lt;&lt;.', {'entities': [(60, 70, 'ADE')]}), (\"@WarWraith I'm not even sure what to request. :/ Sertraline makes me sick now, Venlafaxine made me sick, Reboxetine and Citalopram useless\", {'entities': [(69, 73, 'ADE')]}), ('question time #crohns #ibd #humira does anyone suffer from egg burps? what works for you', {'entities': [(59, 68, 'ADE')]}), (\"i'm so fine today. increasing zyprexa,my condisition became so good. it has a side effect that increase my weight. i must care about it.\", {'entities': [(96, 114, 'ADE')]}), ('@oscli every time i forget seroquel, i end up rage breaking things eg- my laptop *facepalm*', {'entities': [(47, 67, 'ADE')]}), ('being sick every morning is getting really old. not sure if anxiety or my body getting used to paxil.  anyone know?', {'entities': [(6, 10, 'ADE')]}), (\"i can't wait to go get my anti nauaea meds tonight. i feel like shit. humira is definitely kicking my ass but my skin lools great.\", {'entities': [(31, 37, 'ADE'), (91, 105, 'ADE')]}), (\"rt @annie_monster: wtf? can't even get whipped cream out of the can? my arms just keep getting worse. damned cipro.\", {'entities': [(24, 67, 'ADE'), (72, 101, 'ADE')]}), ('@tootingrebecca it helped me enormously with seroquel withdrawal but it makes benzo withdrawal much worse.', {'entities': [(84, 94, 'ADE')]}), ('whoah so dizzing.  damn   tamazapam - shld probably wap back to quetiapine if this keeps up! but it makes me feel so ick!', {'entities': [(9, 16, 'ADE'), (109, 120, 'ADE')]}), (\"the seroquel the doc gave me, makes doing things difficult. . . but if i don't do something, i'll fall asleep. the catch-22 of crazy.\", {'entities': [(37, 59, 'ADE'), (99, 110, 'ADE')]}), (\"@jennyelliott88 ffs!! i'm getting shooting pains down arms &amp; legs now &amp; in eve whole body ache #humira is horrible ??\", {'entities': [(34, 69, 'ADE'), (93, 102, 'ADE')]}), ('screw you paxil! you do wonders for anxiety but you make me a ultra lightweight', {'entities': [(68, 79, 'ADE')]}), (\"the difference between 'just tired' and 'tired &amp; in a fog' is amazing.  so happy to be done taking levaquin, that stuff is way too strong\", {'entities': [(42, 47, 'ADE'), (54, 62, 'ADE')]}), ('@helsthorn i dont get it, sex i mean. the doctors p[ut me on venlafaxin', {'entities': [(14, 30, 'ADE')]}), (\"@_rubyrouge_ i'm reducing duloxitine (been on 6 yr) and slowly increasing m but slept 13-14 hrs solid and still feel wasted\", {'entities': [(80, 95, 'ADE'), (112, 123, 'ADE')]}), (\"Did you know insanely intense dreams are a known side effect of venlafaxine? It's not an antidepressant, it's my Dream Fuel!\", {'entities': [(22, 36, 'ADE')]}), (\"@daftlimmy i've been taking venlafaxine since 2007, it's like hotel california - you can check in, but you can never leave.\", {'entities': [(82, 123, 'ADE')]}), ('rt @ocserena: @drdrewhowlong does paxil withdrawal take! extremely emotional:( switched to wellbutrin. wanna crawl in a hole.', {'entities': [(40, 50, 'ADE'), (67, 76, 'ADE'), (109, 124, 'ADE')]}), ('rt @mad_in_america: my journey into the dark night of the soul was launched by an adverse reaction to the drug effexor. taking this... http', {'entities': [(40, 62, 'ADE')]}), (\"@bare_faced_chic i've had to reduce the quetiapine back to 400mg. couldn't take the increased gastro pain. was crumpled in a heap crying x\", {'entities': [(94, 105, 'ADE'), (130, 136, 'ADE')]}), (\"dissociative fugues &amp; loss of empathy since age 11, serious cardio problems since age 14, almost dying of paxil withdrawal @ 21, that's a-ok\", {'entities': [(117, 127, 'ADE')]}), ('so last night i kept waking up with period pain. took what i thought was ibuprofen 3 times. turned out to be seroquel. i just woke up.', {'entities': [(121, 133, 'ADE')]}), (\"abilify for 3 weeks has made me lose 1/6 of the weight i put on w/seroquel, and i've been eating like shit. i love you abilify!\", {'entities': [(49, 64, 'ADE')]}), ('@psychiatrysho partly true but olanzapine is the worst ever for inducing carb cravings for some unfortunate ppl serequel and clozaril a 2nd', {'entities': [(73, 86, 'ADE')]}), (\"gamma-aminobutyric acid+glycine =paralyzing rem neurotransmitters=precisely when you shouldn't wake up=grumpy as fuck  #sciencestrikesagain\", {'entities': [(85, 102, 'ADE')]}), (\"@clarketacular fanapt was the only thing that calmed her rages but comes with tremors.   i'm so sorry :(\", {'entities': [(78, 85, 'ADE')]}), (\"worked a double shift today while dealing with Effexor withdrawals, I'm a tough bitch; fight me. #badass #sick #withdraws #sicksicksick\", {'entities': [(55, 66, 'ADE'), (106, 110, 'ADE'), (112, 121, 'ADE'), (123, 135, 'ADE')]}), ('2/2 blood tests scheduled. BP normal Now have own coaguckek machine. Still aches and pains, legs better. Taking codeine rivaroxaban losartan', {'entities': [(75, 80, 'ADE'), (85, 90, 'ADE')]}), ('@obsidianvormund @glass1ncision sorry for jumping in. trying to get up for work after night seroquel is a nightmare!', {'entities': [(54, 70, 'ADE')]}), ('@dani_deeh  nope, i tested positive for jcv.?????? ????????jcv &amp; tysabri = permanent brain damage or sudden death.', {'entities': [(41, 44, 'ADE'), (60, 63, 'ADE')]}), ('oh. delayed reaction from humira injections-my hip joints just started hurting. haha.', {'entities': [(47, 78, 'ADE')]}), ('@crohns_twins that sucks. Humira made me so sick. Remicade helped a but, but then seizures put that out. Now waiting, just prednisone now.', {'entities': [(44, 48, 'ADE'), (82, 90, 'ADE')]}), (\"i do baclofen which helps w incontinent urges but don't think it's good for the bowels. (very personal but wtf) anyone have insight for me??\", {'entities': [(80, 86, 'ADE')]}), ('rt @brassiest: @mikedelic if this is a real question, withdrawal from an antidepressant named effexor was worse than cocaine withdrawal', {'entities': [(126, 136, 'ADE')]}), ('@southkirk @positiveaboutms thinking it might be the baclofen doing it.only on a low dose though.broken sleep is a nightmare.#msfatigue', {'entities': [(97, 109, 'ADE')]}), ('Oh hey. Much like other anti-convulsants, Lamictal dehydrates you. So much is explained.', {'entities': [(51, 61, 'ADE')]}), ('i used to be on paxil but that made me more depressed and prozac made me angry', {'entities': [(44, 53, 'ADE'), (73, 78, 'ADE')]}), (\"@crohniecharlie #humira helped my #crohns but then #respiratory issues ensued &amp; now i can't take anything &amp; have major lung issues\", {'entities': [(52, 70, 'ADE'), (127, 138, 'ADE')]}), ('when i had my infected k stone, hospital put me on cipro - a synthetic antibiotic. i \"smelled\" a pungent solvent odor, i smell it now. why?', {'entities': [(86, 120, 'ADE'), (124, 129, 'ADE')]}), ('@kirkby007 #hcsm i start #chemo on tues b/c of #humira so i know.  it helped but it then destroyed my lungs.', {'entities': [(26, 31, 'ADE'), (89, 107, 'ADE')]}), ('bedtime. hopefully  the headache and nausea from the levaquin will be gone leaving me with only the more common side effects of antibiotics.', {'entities': [(24, 32, 'ADE'), (37, 43, 'ADE')]}), ('@posaware my t cell went up w ith humira i also have crohns disease.   i wish u guys had more articles with people like me in it', {'entities': [(13, 27, 'ADE')]}), ('off to see the gi consultant this week. hope theres something other than humira to try as not working also hair falling out.', {'entities': [(107, 123, 'ADE')]}), ('@rachelhatesjazz Watch your eyesight with Lamictal- I went from awesome vision, to wearing glasses full time for the 2 yrs I was on it.', {'entities': [(28, 36, 'ADE'), (64, 98, 'ADE')]}), ('@epilepsysociety i have a q..i am taking lamotrigine and wondered if anyone else has had insomnia as a side effect?and what to do about it', {'entities': [(89, 97, 'ADE')]}), ('3 weeks sober today. have had cravings but no where near as intense as when i was on antipsychotic seroquel. convinced of connection.', {'entities': [(30, 38, 'ADE')]}), (\"when on high dose of seroquel, alcoholism was at it's worst and cravings constant and intense. now off seroquel, cravings occasional.\", {'entities': [(32, 42, 'ADE'), (65, 74, 'ADE')]}), ('feeling better and much less anxious (i could actually talk to people yesterday) but the fluoxetine makes me sooooo sleepy...', {'entities': [(116, 122, 'ADE')]}), ('#schizophrenia #seroquel #sideeffects uncontrollable tremors in hands and legs. body would rock all the time. restlessness. desperation.', {'entities': [(53, 78, 'ADE'), (80, 96, 'ADE'), (110, 122, 'ADE'), (124, 135, 'ADE')]}), ('@xyle50ul my cousin has bipolar she is on seroquel, her feet are always going &amp; she twirls her hair constantly is that a side effect of them', {'entities': [(57, 78, 'ADE'), (89, 115, 'ADE')]}), ('@liftburn it all might be due to restlessness. #seroquel did make my legs go too!!', {'entities': [(33, 45, 'ADE'), (57, 76, 'ADE')]}), ('#tremors #schizophrenia #seroquel #sideeffects i reflect on the tension in my nerves and all the shaking... meditation helped me a lot.', {'entities': [(1, 8, 'ADE'), (64, 84, 'ADE'), (97, 104, 'ADE')]}), ('@arzbrocki nawh bactrim. cipro made me sick once.', {'entities': [(39, 43, 'ADE')]}), ('what! nightmare made me jump awake! not nice at all. thought #quetiapine was supposed to keep me asleep through the night #psychosis #fail', {'entities': [(6, 15, 'ADE'), (29, 34, 'ADE')]}), ('@r00shoes \"eh whatever\" was me for years on paxil cr, years 14-18. better than \"everything sucks i wanna die\" but i still had days like that', {'entities': [(13, 24, 'ADE')]}), (\"u wailed all night; now y'r disembodied sobbing all damn'd day, ghost? ' effexor-xr'discontinuation syndrome ain't exactly heaven, angel\", {'entities': [(3, 9, 'ADE'), (41, 48, 'ADE'), (85, 109, 'ADE')]}), ('The placebo week of birth control increases blood levels of Lamictal, which in turn makes me a very cheerful insomniac.', {'entities': [(109, 118, 'ADE')]}), ('in need of a dream interpreter.. #quetiapine is really having an affect on my night visions.. some fucked up scenarios in my sleep lol :-/', {'entities': [(78, 91, 'ADE')]}), ('just had a marathon sleep past 24hrs on new dose of #duloxetine -hope my liver will be ok on it.woke with stressy tummy pains. #sideeffects', {'entities': [(20, 36, 'ADE'), (114, 125, 'ADE')]}), (\"promethazine with codein, a tessalon pearl &amp; a trazodone. i'm not coughing anymore but i'm even more exhausted.\", {'entities': [(106, 115, 'ADE')]}), ('#seb2013 fluoxetine - prosac - reduces anxiety in humans, but it also reduces libido and causes lethargy', {'entities': [(70, 84, 'ADE'), (96, 104, 'ADE')]}), ('does fluoxetine (anti-depressant) make you gain weight? id rather be sad then be fat :c', {'entities': [(43, 54, 'ADE')]}), ('meds paranoia cos my leg is itching #lamictal #bipolar', {'entities': [(5, 13, 'ADE'), (21, 35, 'ADE')]}), ('anyone on cymbalta it is making me like a zombie and still hating the world.', {'entities': [(42, 48, 'ADE'), (59, 75, 'ADE')]}), (\"there's a point where you know when trazodone has kicked in. it's when you're a drunk, staggering, blurry-eyed, amnesic. yeah. i'm there now\", {'entities': [(81, 86, 'ADE'), (88, 98, 'ADE'), (100, 111, 'ADE'), (113, 120, 'ADE')]}), ('20s 8th day with #effexor still experiencing some side effects (drowsiness,sleepiness,gi effects). moderate improvement in mood #depression', {'entities': [(65, 75, 'ADE'), (76, 86, 'ADE'), (87, 97, 'ADE')]}), (\"@holeri81 crippled since oct of '09 thanks to just 12 cipro pills here...run for your life! tendon rupture is only the tip of the iceberg.\", {'entities': [(10, 18, 'ADE'), (92, 106, 'ADE')]}), (\"@DoctorMcPA  Had my doctor attempted to treat with bactrim prior to Cipro, I wouldn't be crippled today.\", {'entities': [(89, 97, 'ADE')]}), (\"&amp; i'm about to be sick af tomorrow because i ran out of paxil #withdrawal\", {'entities': [(22, 26, 'ADE'), (67, 77, 'ADE')]}), ('@thebookgirl985 trazodone makes me hungry. prop my eyelids open with toothpicks and drive me to a buffet?', {'entities': [(35, 41, 'ADE'), (43, 63, 'ADE')]}), (\"@MisterAK47 @CBS I don't know what that has to do w/ me. Avelox has hurt my connective tissue,lungs and thyroid. I guess I should feel lucky\", {'entities': [(76, 93, 'ADE'), (94, 99, 'ADE'), (104, 111, 'ADE')]}), (\"i am never taking baclofen and norflex the same day again. first i felt super drowsy but now i feel extremely high and it's freaking me out.\", {'entities': [(78, 84, 'ADE'), (110, 114, 'ADE')]}), ('baclofen gives me a head high but it makes me feel like throwing up after. ugh. #thestruggle', {'entities': [(25, 29, 'ADE'), (46, 67, 'ADE')]}), ('the cipro in you eyes burns but works its buffered for your ears seems stupid but if they take your life take it back', {'entities': [(21, 27, 'ADE')]}), (\"rt @indigo_rosie: my medication gives me weird &amp; bizarre dreams. not all bad though. last night i had dinner with the rolling stones #cipro'\", {'entities': [(41, 67, 'ADE')]}), ('@rickywarwick so true ricky! i went into anaphylactic shock &amp; almost died from taking cipro! dangerous drug - be careful!! take care.', {'entities': [(41, 59, 'ADE'), (66, 77, 'ADE')]}), (\"cipro makes my nose feel like its bleeding. but it's not. #phantomsangre\", {'entities': [(15, 42, 'ADE')]}), (\"all i have to say is cipro will mess you up kids. don't get sick! #blagh #gross #weak\", {'entities': [(81, 85, 'ADE')]}), ('@jessielee122 you can say that again!  i trusted my doc and ended up crippled thanks to just 12 cipro pills.  going on 4 years now.', {'entities': [(69, 77, 'ADE')]}), (\"i'm too numb to feel, blow out the candle, blindness #np #cymbalta\", {'entities': [(9, 21, 'ADE')]}), (\"my sim card isn't working aaggh i feel like im having cymbalta withdrawal again aaagh aaaggh\", {'entities': [(63, 73, 'ADE')]}), ('@stevecoy @JoelAnair all the things I have just make me sleepy as hell: Cymbalta, Klonopin, Ambien. wait what if I take em all togethhssaagg', {'entities': [(56, 62, 'ADE')]}), ('coming off cymbalta cold turkey.. day 4... i think i have vertigo! this is awful.', {'entities': [(58, 65, 'ADE')]}), ('i feel soo much better today, cymbalta with drawls are going away :))', {'entities': [(40, 51, 'ADE')]}), ('@neomoms i had been blaming my dizziness upon standing to my menopause but now on hrt &amp; no more flashes so looked at cymbalta side effs', {'entities': [(31, 40, 'ADE')]}), ('@deltrimental effexor i found was not so bad. currently on cymbalta &amp;the wdrawals are vile. internet full of horror stories,', {'entities': [(78, 85, 'ADE')]}), ('Cymbalta, my mood has worsened', {'entities': [(13, 17, 'ADE')]}), ('from jessica i have recently changed anti-depressants from cymbalta to zoloft...does anyone else get daily migraines from taking zoloft?', {'entities': [(107, 116, 'ADE')]}), ('i swear thia cymbalta is causing me to have horrible nightmares!', {'entities': [(53, 63, 'ADE')]}), (\"i rilly want to get off cymbalta but i don't want to suffer through terrible withdrawals\", {'entities': [(77, 88, 'ADE')]}), ('#effexor #withdrawl is a monster that i have taken by the horns and am wrestling to the ground...this time i am winning! 7thdayfree', {'entities': [(10, 19, 'ADE')]}), ('found them. starting back up on effexor. vomits shall ensue!', {'entities': [(41, 47, 'ADE')]}), ('crying randomly at nothing and everything. sigh. thank you #effexor #withdrawls can you just exit my system already.', {'entities': [(0, 6, 'ADE'), (69, 79, 'ADE')]}), ('@thatjunkiechick thank you! coming off effexor is not fun!', {'entities': [(28, 57, 'ADE')]}), ('Effexor side effects; headaches, no appetite.', {'entities': [(22, 31, 'ADE'), (33, 44, 'ADE')]}), ('@anarchasxworker coming off effexor was the worst ever. even my doctor was terrified of me doing it but the side effects left me no choice.', {'entities': [(17, 49, 'ADE')]}), ('down to just one tiny dose of effexor each night now. today wasnt too bad in terms of anxiety &amp; depression, but irritability? woosh!! way up', {'entities': [(117, 129, 'ADE')]}), ('@catthoma Right, some SSRIs are used for cataplexy, as is Effexor. Can be tricky to wean off without rebound.  #nchat', {'entities': [(101, 108, 'ADE')]}), (\"@joanne__howe enbrel is a miracle but it made my eyes worse :( so couldn't have it anymore :(\", {'entities': [(49, 59, 'ADE')]}), (\"@dsymons @MelissaDee_  I was only on 200 mg and was recently switched to 150 mg due to weight. It's still working with enbrel, though.\", {'entities': [(87, 93, 'ADE')]}), ('@amybadkin at the end of most working days! i still have to nap loads just to get through a week. some days better than others #enbrel', {'entities': [(60, 63, 'ADE')]}), (\"@doctorchristian can reducing fluoxetine zap me of all energy?i've reduced from a high dose, now on standard does &amp; not feeling good at all.\", {'entities': [(42, 62, 'ADE'), (121, 137, 'ADE')]}), ('fluoxetine makes me see shapes when i close my eyes', {'entities': [(20, 30, 'ADE')]}), (\"don't need any alcohol really when fluoxetine just makes me feel like i can't even stand\", {'entities': [(60, 88, 'ADE')]}), ('@SpicyNyx fluoxetine and quet combo zombified me...ah, the meds merrygoround #bipolar', {'entities': [(36, 45, 'ADE')]}), (\"@bobsmithno6 i've found that it's okay to stop dead with prozac but not fluoxetine - i got terrible paraesthesia; it felt as though i was\", {'entities': [(100, 112, 'ADE')]}), ('just woke up from a 14 hour nap thank u fluoxetine', {'entities': [(20, 31, 'ADE')]}), ('rt @ocd_guy: restless leg syndrome is bad tonight.  damn you fluoxetine.', {'entities': [(13, 34, 'ADE')]}), (\"you know starting with geodon, the meds messed up my attitude. how odd. it's not just about spirituality. i became a bit mean. that got\", {'entities': [(41, 62, 'ADE'), (122, 126, 'ADE')]}), (\"the day after my humira jab and as ever i'm mega tired. may have to go back to bed.\", {'entities': [(49, 54, 'ADE')]}), ('@uclaibd i never had bleeding or vomiting just alot alot of fatigue and face was pale and lost tons of weight.. #crohns #humira', {'entities': [(60, 67, 'ADE'), (81, 85, 'ADE'), (90, 109, 'ADE')]}), (\"@amybadkin @kate24hrs_aday not to worry - just a bit of temporary fuzziness. i've been on humira since 2007 &amp; love it.\", {'entities': [(66, 75, 'ADE')]}), ('@trainingwithra  nope, was on #enbrel 5yrs &amp; had to get off due to unrelenting flare. been on #humira since dec 2012. #rheum', {'entities': [(84, 89, 'ADE')]}), (\"i don't want to take my humira at all the pain is always unbearable and i don't wanna\", {'entities': [(42, 46, 'ADE')]}), (\"scared of my #humira. keep feeling like i'm having a heart attack or panic attack. anyone else have these problems? #crohns #ra #help\", {'entities': [(35, 65, 'ADE'), (69, 81, 'ADE')]}), ('fuck some lamictal...almost died. #fuck', {'entities': [(21, 32, 'ADE')]}), (\"i take 500mg of lamictal everyday i'm tired leave me alone\", {'entities': [(38, 43, 'ADE')]}), ('lamictal dosage increases kind of wreck my head for a day or two. but they also make me super productive as long as i can do things slowly.', {'entities': [(34, 47, 'ADE')]}), ('@msbecker that\\'s what u used to take that has wt loss as a side \"benefit\". tell  ur dr fuck abilify, i want me some lamictal.', {'entities': [(47, 54, 'ADE')]}), ('first day of reduction back down to normal dose of lamotrigine-before i could literally feel it irritating my nerve endings', {'entities': [(96, 123, 'ADE')]}), ('why does tapering down lamotrigine feel as yucky as stepping it up? #soreashell', {'entities': [(43, 48, 'ADE')]}), ('day 4: the initial lamotrigine lethargy kicked in the day before exams. i tell myself that possible failure is better than possible death.', {'entities': [(31, 39, 'ADE')]}), ('it turns out that i can still ride a bike in spite of my ataxia (side effect of lamotrigine) it has been at least 25 years.', {'entities': [(57, 63, 'ADE')]}), ('lamotrigine causing steven johnson syndrome', {'entities': [(20, 43, 'ADE')]}), (\"rt @silkius: @ouch_uk didnt know lamotrigine was addictive stopped as didnt think were helping @clusterheads 3 days of hell before realized'\", {'entities': [(49, 58, 'ADE'), (109, 123, 'ADE')]}), ('allergic reaction to #lamotrigine. feel free to share &amp; distribute. kill #bigpharma before it kills us. http://t.co/bkqnqwy5nk', {'entities': [(0, 18, 'ADE')]}), ('@levaquin Levaquin poisoned me and ruined my life! Constant pain 24/7! I hate you, Levaquin!', {'entities': [(19, 27, 'ADE'), (60, 64, 'ADE')]}), (\"@thebeecharmer97 @wyrdotter @danadelany psssh didn't levaquin make u hallucinate? girl u best stay away from shrooms lol\", {'entities': [(69, 80, 'ADE')]}), ('nicotine lozenges are giving me stomach cramps.', {'entities': [(32, 46, 'ADE')]}), ('this lozenge is making my whole mouth numb... is that normal?', {'entities': [(38, 42, 'ADE')]}), ('it can get really cold when you have a halls lozenge', {'entities': [(18, 22, 'ADE')]}), ('rt @jumpingjesush: it appears that my twitter addiction may have just been a side effect of my nicotine lozenge addiction.', {'entities': [(112, 121, 'ADE')]}), (\"@boatsnkrose they are on to you. poppin' metoprolol and she sweatin'.\", {'entities': [(60, 67, 'ADE')]}), (\"a big ol' fuck you to my doctor for not telling me a side effect of metoprolol was depression. just wait until i see you friday -.-\", {'entities': [(83, 94, 'ADE')]}), ('my nigga dante addicted to that nicotine', {'entities': [(15, 23, 'ADE')]}), ('god there is nothing worse than nicotine withdrawal', {'entities': [(41, 51, 'ADE')]}), ('saying goodbye to smoking involves more than physical recovery from nicotine addiction #worldnotobaccoday (1)', {'entities': [(77, 86, 'ADE')]}), (\"so much for no nicotine withdrawal. think i've about pissed everyone off this week. #needacigarette\", {'entities': [(24, 34, 'ADE')]}), (\"going to bed with a nicotine patch on... i really hope i don't have a nightmare.......\", {'entities': [(70, 79, 'ADE')]}), ('@sugarrbutt     he has me on ciprofloxacin  and phenazopyride      i had severe pain  that started over the weekend when trying to use', {'entities': [(80, 84, 'ADE')]}), ('this levofloxacin got me feeling sick to my stomach!! ugh!!', {'entities': [(33, 51, 'ADE')]}), (\"time for my commute. wondering if i'm going to cope with this everyday. it's like wading through treacle getting up so early on olanzapine\", {'entities': [(77, 115, 'ADE')]}), (\"on today's ride i burnt 1119 calories. take that olanzapine you hunger inducing bastard!!!\", {'entities': [(64, 79, 'ADE')]}), ('Actually it was more like a prison but with nurses instead of guards, olanzapine pill n IM= #zombies', {'entities': [(93, 100, 'ADE')]}), ('evening dose of lithium and olanzapine really knocks me out. in bed at 10.30pm on a friday night. rock and roll...#mylife', {'entities': [(46, 59, 'ADE')]}), ('@doctorchristian i take olanzapine and have a permanent dry mouth what can i do to help it', {'entities': [(56, 65, 'ADE')]}), ('olanzapine together. olanzapine is causing me to gain weight because i binge eat on it, normally in the evening. also sick of the joint pain', {'entities': [(50, 61, 'ADE'), (72, 77, 'ADE'), (131, 141, 'ADE')]}), ('Although my bitching about being fat did look a but comical next to my brother, with his olanzapine induced weight gain.', {'entities': [(108, 119, 'ADE')]}), (\"@LithiumLibGirl I can relate to the olanzapine lbs, but you'll be great!\", {'entities': [(36, 50, 'ADE')]}), ('@mrcbehan best of luck man! and they do suck :/ i was on olanzapine (abilify didnt work)...was awful, gained 3stone. off it nw n doin gud!', {'entities': [(103, 116, 'ADE')]}), ('@psychcentral olanzapine made me gain 20 lbs in a few months, plus it gave me bad acne breakouts. had to beg my old shrink to take me off it', {'entities': [(34, 45, 'ADE'), (83, 87, 'ADE')]}), ('throbbing headache from not having my pills. 2 pills left i need to save. this sucks :( #paroxetine #socialanxiety', {'entities': [(10, 18, 'ADE')]}), (\"@wielding my friends are annoying me and i'm having withdrawls from the paxil because american healthcare is a joke :(\", {'entities': [(52, 62, 'ADE')]}), ('paxil withdrawal is nasty. do not like.', {'entities': [(6, 16, 'ADE')]}), ('paxil makes it nearly impossible to cry.', {'entities': [(22, 39, 'ADE')]}), ('@bullfrogr @soozmc123 amil isnt so bad, paxil makes everything slow and haldol is ok, and haldol  .. i dunno how to explain what it does', {'entities': [(64, 68, 'ADE')]}), (\"i've been on paxil for 10 years for depression/anxiety and at first it used to help but i guess i've built up tolerance and i come too fast.\", {'entities': [(110, 119, 'ADE'), (126, 139, 'ADE')]}), ('this paxil makes me pee so often omg #sorrynotsorry', {'entities': [(20, 32, 'ADE')]}), (\"@richiel13 my doctor gave me paxil, which i think is similar but it's made me feel like crap.\", {'entities': [(79, 93, 'ADE')]}), (\"Promise, brownies honor I'm not stupid, i have been forgetting everything lately #paxil\", {'entities': [(52, 62, 'ADE')]}), ('what i lack in money and personality, i make up for in paxil induced impotency', {'entities': [(70, 79, 'ADE')]}), ('Things which are the Spawn of Satin: mosquitoes, bananas, Facebook, Paxil withdrawal symptoms. #BewareOfSatin', {'entities': [(74, 84, 'ADE')]}), ('@Ta3fox Yeah, Pristiq is a different formulation or something of Effexor. So similar withdrawal stuff :(', {'entities': [(85, 95, 'ADE')]}), (\"@hello_nacho @tobiasampersand I'm with you. Even though the Pristiq works, I still don't feel fully human.\", {'entities': [(83, 105, 'ADE')]}), (\"my sleep schedule is all fucked up and pristiq is making me gain weight and i don't like this\", {'entities': [(3, 8, 'ADE'), (60, 71, 'ADE')]}), (\"i've had no appetite since i started on prozac, i guess that's a good thing\", {'entities': [(10, 21, 'ADE')]}), ('i am way too hyper to go home and do nothing tonight :( damn prozac &gt;.&lt;', {'entities': [(13, 18, 'ADE')]}), ('Rules of Prozac: 1: You can never sleep, ever again. NEVER EVER 2: No you may NOT switch your brain off. Ever. 3: Exhaustion is your friend.', {'entities': [(28, 39, 'ADE'), (74, 103, 'ADE'), (114, 125, 'ADE')]}), ('whenever i drink and im on prozac i always feel a little bit sick and twice as drunk as i usually would', {'entities': [(61, 65, 'ADE'), (70, 84, 'ADE')]}), (\"food doesn't help for energy, not sure how to get some get up and go! #newmeds #quetiapine #bipolar\", {'entities': [(23, 29, 'ADE')]}), ('my increase of quetiapine is making me so tired #sleepy', {'entities': [(42, 47, 'ADE'), (49, 55, 'ADE')]}), (\"@tete_floue been thailand so many time it's lovely but always seem to have bad dreams every since i been on quetiapine x\", {'entities': [(75, 85, 'ADE')]}), ('@louiseypopssss quetiapine withdrawals.', {'entities': [(27, 38, 'ADE')]}), (\"Just about dead, think it's bedtime.. Fuck you quetiapine\", {'entities': [(0, 15, 'ADE')]}), ('@lavenderfuchsia I lost weight in the past but it was much easier. Like 2 steps forward, one step back on the quetiapine.', {'entities': [(24, 30, 'ADE')]}), (\"took a quetiapine it's been a while and I'm ready for bed, so tiiiiired\", {'entities': [(62, 71, 'ADE')]}), (\"i think i'm gong to speak my gp about reducing quetiapine dosage. the weight gain from it is scaring the hell out of me.\", {'entities': [(70, 81, 'ADE')]}), ('sleeping my life away on #quetiapine. fine by me.', {'entities': [(0, 21, 'ADE')]}), (\"In other news, I've got my first weird side effect from quetiapine. Numbness and tingling in my fingertips.\", {'entities': [(68, 76, 'ADE'), (81, 89, 'ADE')]}), (\"@redbuttongirl i know. i just realised with everything else - i haven't taken the sodding quetiapine yet!! wondered why i wasn't drowsy doh!\", {'entities': [(129, 135, 'ADE')]}), ('feeling a little dizzy from the quetiapine i just popped!', {'entities': [(17, 22, 'ADE')]}), (\"@embodiedtales please tell me that wasn't quetiapine! that stuff is sooo sedating...\", {'entities': [(73, 81, 'ADE')]}), (\"@iamcarrieeeeee not eating that badly but portions prob too big. quetiapine a factor. think i'd be ok with gentle exercise but not vigorous\", {'entities': [(42, 63, 'ADE')]}), ('erm my pdoc wants me to go back on quetiapine. pointed out it had caused a heart arrhythmia last time. going back to gp to look at my ecg', {'entities': [(75, 91, 'ADE')]}), ('having a serious quetiapine haze this morning...', {'entities': [(28, 32, 'ADE')]}), ('Hello, world! Quetiapine zombie this morning and I have a work call in about 45 minutes. Perfect combination.', {'entities': [(25, 31, 'ADE')]}), ('#quetiapine is not doing me any favors #ifeelsick', {'entities': [(45, 49, 'ADE')]}), ('@cheer_bear13 am on 300mg quetiapine. mainly tiredness it causes with me.', {'entities': [(45, 54, 'ADE')]}), ('i hate my new medication. it makes me feel hungry :-( #quetiapine', {'entities': [(43, 49, 'ADE')]}), ('01.10 day 13 rivaroxaban diary. headache over right side of head; lower back pain. wrote letter to my gp &amp; his colleague outlining problems', {'entities': [(32, 40, 'ADE'), (72, 81, 'ADE')]}), ('03.25 day 13 rivaroxaban diary. neck ache and right shoulder ache. lower back pain.', {'entities': [(32, 41, 'ADE'), (52, 65, 'ADE'), (73, 82, 'ADE')]}), (\"20.12 day 15 rivaroxaban diary. haven't yet taken today's tablet. will when i eat. still intense lower back pain from yesterday's tablet.\", {'entities': [(103, 112, 'ADE')]}), ('05.00 day 17 Rivaroxaban diary. Woken up by pain in neck, hips and legs.', {'entities': [(44, 56, 'ADE'), (58, 62, 'ADE'), (67, 71, 'ADE')]}), ('14.11 day 17 rivaroxaban diary. still waiting for doctor to phone me \"around lunchtime\". taken more paracetamol to dull the aches.', {'entities': [(127, 132, 'ADE')]}), ('21.19 day 17 Rivaroxaban diary. Aches are related to pressure on my body, e.g. If sitting then in back, buttoocks and legs 1/2', {'entities': [(32, 37, 'ADE')]}), ('seroquel gives me nightmares every fucking night but i take it anyway', {'entities': [(18, 28, 'ADE')]}), (\"i don't like taking seroquel at night. makes me crabby the whole time the following day. something about feeling sluggish and groggy. aargh.\", {'entities': [(48, 54, 'ADE'), (113, 132, 'ADE')]}), (\"So, I lasted 16 days on Seroquel. I couldn't handle the awful side effects. Constantly dizzy and lightheadeded & a myriad of other bad stuff\", {'entities': [(87, 92, 'ADE'), (97, 111, 'ADE')]}), (\"well i didn't gain 18 kg in 24 hrs. seroquel gained it for me over 8 months. ffffffffffuuuuuuu\", {'entities': [(14, 24, 'ADE')]}), ('@luckystubbs i take way too much zoloft and seroquel to get the horn my life is a lie', {'entities': [(56, 76, 'ADE')]}), (\"@trenchtimelow ooh. i was on seroquel. and withdrawal is a bitch. i'm not even fully off it yet either.\", {'entities': [(43, 53, 'ADE')]}), (\"popped a seroquel now i'm sleepy\", {'entities': [(26, 32, 'ADE')]}), ('have been in a lot of pain all day though and i feel and look like a zombie. seroquel is quite an annoying medication, ugh. -.-', {'entities': [(23, 27, 'ADE'), (70, 76, 'ADE')]}), (\"just took seroquel. now i'm freaking out that i will end up sleeping 15 hrs and miss my 12pm appt tomorrow\", {'entities': [(60, 75, 'ADE')]}), ('time to let this seroquel take me into some weird dimension and see crazy shit in my dreams. i was getting shot at by gangstas last night', {'entities': [(68, 91, 'ADE')]}), (\"I'm tired of being tired, deffinatly #nap time for this girl. Stupid #medications #paxil #trazodone #seroquel\", {'entities': [(19, 24, 'ADE'), (38, 46, 'ADE')]}), ('oh hello seroquel old friend i mi*passes out on bed*', {'entities': [(34, 44, 'ADE')]}), ('Tell you okes what: When your Dr. says only take Seroquel at night, only take it at night. Zombiness galore.', {'entities': [(91, 100, 'ADE')]}), (\"Oh, what a great idea watching Gordan Ramsay cook at 4am when I'm hungry from my seroquel.\", {'entities': [(66, 72, 'ADE')]}), (\"@brain_opera i had to taper myself down. i think the seroquel gave me lasting sleep paralysis. i've had it ever since.\", {'entities': [(78, 93, 'ADE')]}), (\"the one time i'm glad for seroquel memory loss\", {'entities': [(35, 46, 'ADE')]}), ('@thunderangel454 meds work differently for each person. i know seroquel xr was hell for me &amp; i gained weight but can be heaven for another', {'entities': [(99, 112, 'ADE')]}), ('@cardiwithpearls enjoy :) haha. i take it + seroquel + klonopin every night for sleep. it can make me very loopy sometimes!', {'entities': [(107, 112, 'ADE')]}), ('this seroquel-dry-mouth thing is getting weird', {'entities': [(14, 23, 'ADE')]}), (\"i've been really forgetting to take my paxil lately but if i take it with a my seroquel it makes my sinuses close up :(\", {'entities': [(100, 116, 'ADE')]}), (\"nb: not psychotic ;) seroquel used off-label for ptsd. ctl'd many sympts, helped sleep. but side fx - weight gain - caused terrible pain.\", {'entities': [(103, 114, 'ADE'), (133, 137, 'ADE')]}), ('@kickdblcj they increased my celexa. took me off seroquel because it was screwing with my memory. i go back in two weeks to see how its goin', {'entities': [(73, 96, 'ADE')]}), (\"lucidity rn is probably some med's fault...with my luck probably klonopin and not seroquel\", {'entities': [(0, 9, 'ADE')]}), ('going back to bed for a nap. seroquel has turned me into a zombie again today.', {'entities': [(59, 65, 'ADE')]}), (\"i stopped taking my seroquel because i hate it. i can barely function on it, hopefully my cpn &amp; psychiatrist can advise a 'nicer' med.\", {'entities': [(55, 70, 'ADE')]}), ('@glass1ncision  -nods-  my zombie-ness when i first wake up in the morning is mostly from my nightly meds too (seroquel).', {'entities': [(27, 38, 'ADE')]}), ('really bad rls fron seroquel :(', {'entities': [(11, 14, 'ADE')]}), ('it was 6th period when i was still fucked up off them vicodins &amp; seroquel. i remember it was lunch &amp; i left because something pissed me off.', {'entities': [(35, 44, 'ADE')]}), ('@gsxr1kbusakilla but i switched to trazodone ... i was doing some crazy ish on ambien smh not good lol', {'entities': [(66, 75, 'ADE')]}), ('@jamieab1 trazodone made me extremely angry and i was wide awake all the time', {'entities': [(38, 43, 'ADE'), (59, 64, 'ADE')]}), (\"co-codemol and trazodone have taken control of my eyes, so i better go to bed, before they switch off my legs too, g'nite all, stay safe\", {'entities': [(31, 55, 'ADE')]}), ('@droz i take trazodone for my #insomina &amp; still have a hard time falling asleep or i end up having crazy dreams that wake me up!?!', {'entities': [(103, 115, 'ADE')]}), (\"its your third visit in 2 weeks for priapism and you're still taking trazodone @erproblem\", {'entities': [(36, 44, 'ADE')]}), ('@caseygrin i used to take trazodone. made me sleep for dayyssss', {'entities': [(45, 63, 'ADE')]}), (\"@adreamitstrue things like mirtazipine&amp;trazodone weight gain isn't too hard to mitigate.things like valproate substantially more of an issue\", {'entities': [(53, 64, 'ADE')]}), (\"fuck you trazodone.  i didn't want or need to sleep for 11 hours.\", {'entities': [(46, 64, 'ADE')]}), ('@baybeecarrot  trazodone but you might have troubles waking up in the morning. 1/2 tablet is enough for a night i could give you 10 for 10$?', {'entities': [(44, 62, 'ADE')]}), (\"i'm so allergic to trazodone but i haven't been taking it so no one believes me :::---))))\", {'entities': [(7, 15, 'ADE')]}), ('@jules_clarke banana? hot milk? and randomly lettuce! all contain sleepy bye chems. all i have is trazodone which means dopey all day tomo', {'entities': [(120, 125, 'ADE')]}), ('i took my trazodone like an hour ago and i can barely keep my eyes open and i need to finish homeworrrkkk', {'entities': [(47, 71, 'ADE')]}), (\"@rachaelherron @marrije i haaaated trazodone. don't be afraid to ask doc for something else if side effects continue. gave me migraines.\", {'entities': [(126, 135, 'ADE')]}), ('have taken the trazodone dose back down. simply cannot put up with feeling tired all day!', {'entities': [(75, 80, 'ADE')]}), ('does trazodone actually make people feel like high omfg it makes me sleepy', {'entities': [(68, 74, 'ADE')]}), ('eat my trazodone then go to bed, wake up in the morning with holes in my head', {'entities': [(62, 78, 'ADE')]}), ('my trazodone be having me dream all types of crazy.', {'entities': [(26, 50, 'ADE')]}), ('great.. i have hives up and down my legs from this gosh dang trazodone?', {'entities': [(15, 20, 'ADE')]}), ('taking trazodone and literally passing out on the bathroom floor yeah that shit happens', {'entities': [(31, 42, 'ADE')]}), ('trazodone hangover and dry eyes', {'entities': [(10, 18, 'ADE'), (23, 31, 'ADE')]}), (\"@kitschmagnet I was on tysabri for 50 months. I'm in the process of going to tecfedera. It is similar, I needed to get off because of veins\", {'entities': [(134, 139, 'ADE')]}), ('@craigsdaughter no joke!  #tysabri worked like a charm for me, til my immune system went poof.  hopeful about #Tecfidera :)', {'entities': [(70, 93, 'ADE')]}), (\"it's not even 11pm and i'm already feeling the venlafaxine withdrawal. stupid bitch. how hard is it to pack the bloody tablets?!\", {'entities': [(59, 69, 'ADE')]}), ('@leigh_clay i feel for you, i had the sane experience of disturbed sleep &amp; bad dreams on venlafaxine xx', {'entities': [(58, 73, 'ADE'), (80, 90, 'ADE')]}), ('@adandelionmind i had itchy skin at night on venlafaxine, i react badly to insect bites too.', {'entities': [(23, 34, 'ADE')]}), ('i feel siiiiiiiiiiiiiiick. damn you venlafaxine.', {'entities': [(7, 25, 'ADE')]}), (\"@Fatuglyew thing about venlafaxine is the withdrawals when you're late for a dose - it's like electric shocks in your brain, and they go -\", {'entities': [(42, 53, 'ADE'), (94, 123, 'ADE')]}), ('venlafaxine withdrawal is horrific', {'entities': [(12, 22, 'ADE')]}), ('@amyelle11 i was on venlafaxine after the citalopram but it messed up my sleep :(', {'entities': [(60, 78, 'ADE')]}), ('@figster014 bloody zombie I also take venlafaxine thats for cronic depression bipolar is a difficult illness to deal with, both for the', {'entities': [(19, 25, 'ADE')]}), ('so i ran out of victoza before payday &amp; restarted it yesterday.  bleh: nausea.  it did help me lose @ 10 lbs. but i found 3 when i ran out.', {'entities': [(75, 81, 'ADE')]}), (\"also my kidneys have been swollen ever since i've been on viibryd.. but its also been super hot out..\", {'entities': [(8, 33, 'ADE')]}), ('this night of no sleep is brought to you by vyvanse. ?', {'entities': [(14, 22, 'ADE')]}), ('@rayydepotter yeaa bihh all jacked up on vyvanse!??', {'entities': [(28, 37, 'ADE')]}), (\"ugh i wish my vyvanse didn't make my stomach hurt so bad???\", {'entities': [(37, 49, 'ADE')]}), (\"so i took 2 vyvanse this morning..i think i'm about to have a heart attack?????\", {'entities': [(62, 74, 'ADE')]}), (\"i'm so irritable when my vyvanse wears off #fuckkk\", {'entities': [(7, 16, 'ADE')]}), ('vyvanse makes my brain crazier than it already is.', {'entities': [(23, 30, 'ADE')]}), ('alright time to find out if a shit ton of vyvanse and not sleeping for 2 days can get a trimester worth of homework done for 2 classes', {'entities': [(54, 66, 'ADE')]}), ('fda needs a warning label for vyvanse: \"use of of this drug may result in major ocd/many unneeded hours at work\" http://t.co/o7pqc782di', {'entities': [(82, 85, 'ADE')]}), ('playing league while on vyvanse is too damn stressful.  back to public i go!', {'entities': [(44, 53, 'ADE')]}), ('it feels like my brain is melting. 360mg of vyvanse in 24 hours... not smart danielle. not smart.', {'entities': [(17, 33, 'ADE')]}), ('vyvanse is really taking its toll now #headache #anger', {'entities': [(39, 47, 'ADE'), (49, 54, 'ADE')]}), (\"vyvanse keep me straight but i can't eat shit when i'm on em\", {'entities': [(31, 40, 'ADE')]}), ('vyvanse makes me having the sleeping schedule of a fucking vampire.', {'entities': [(28, 66, 'ADE')]}), (\"i lost 17 pounds on vyvanse &amp; that's why life is wonderful\", {'entities': [(2, 16, 'ADE')]}), (\"popped a vyvanse i'm tweak. whoop\", {'entities': [(21, 26, 'ADE')]}), (\"popped a vyvanse i'm tweaking. whoop\", {'entities': [(21, 29, 'ADE')]}), (\"@mannypresh602 word. i've been fuckin tweakin out on vyvanse and writing hella verses\", {'entities': [(38, 49, 'ADE')]}), ('am i the only one that grinds the shit out of their teeth on vyvanse? #cantbetheonlyone #icouldstudyforfinalsidonthave', {'entities': [(23, 57, 'ADE')]}), ('vyvanse completely gets rid of my appetite. not quite sure how to feel about this.', {'entities': [(24, 42, 'ADE')]}), ('@the_ignorable hungover shakes + vyvanse shakes + coffee = recipe for success', {'entities': [(41, 47, 'ADE')]}), ('rt @vyvanseswag: is it hot in here or is my vyvanse just kicking in?', {'entities': [(23, 26, 'ADE')]}), ('@pk_money i took a vyvanse and drank a 12oz redbull this morning. my heart was hurting a lil bit haha', {'entities': [(69, 86, 'ADE')]}), ('YOUNG NIGGA JUST GAVE ME A 70MG VYVANSE, THESE THINGS CAN TWERK ME OUT THANK GOODNESS FOR MY SCRIPT OF XANAX', {'entities': [(58, 70, 'ADE')]}), ('rt @csestrich21: all nighter is killing me right now, i hate you vyvanse', {'entities': [(18, 29, 'ADE')]}), (\"oh my god. it's 5:19am and i am just now realizing that i accidentally took a vyvanse at 11pm... that explains why i can't sleep.\", {'entities': [(117, 128, 'ADE')]}), (\"rt @thelsuzebra: @_kassidymariee maybe it's just a vyvanse addict thing rt @vyvanseswag: nothing more satisfying than crossing something of'\", {'entities': [(59, 65, 'ADE')]}), (\"i haven't slept in 2 days due to #vyvanse\", {'entities': [(2, 15, 'ADE')]}), ('rt @uffelanie: just wondering where the side effect of hating the world is stated on vyvanse advertisements?', {'entities': [(55, 71, 'ADE')]}), ('@stacymadern thats the prob with zyprexa its for ppl with bi-polar or schizophrenia its really strong when you wake up your drowsy for 6 hrs', {'entities': [(124, 130, 'ADE')]}), (\"i can't even fucking restrict anymore. i just eat, and eat. maybe it's bc of the zyprexa. the other med should help with that, but idk.\", {'entities': [(42, 59, 'ADE')]}), ('@njmanura zyprexa had me sleep walking!!!', {'entities': [(25, 38, 'ADE')]}), ('@ciproispoison avelox got me. central nervous system breakdown.', {'entities': [(30, 62, 'ADE')]}), ('@CaroleWhelan I find the baclofen worse, it has left me in a tired/sleepy fog all day  - the codeine I can (mostly) deal with.', {'entities': [(60, 66, 'ADE'), (67, 73, 'ADE'), (74, 77, 'ADE')]}), (\"yay mom's giving me baclofen when i get home~ i'll probably still be gorked for my physics final but i kinda don't give a fuck.\", {'entities': [(69, 75, 'ADE')]}), ('i think baclofen might make me a bigger asshole than usual. :/', {'entities': [(23, 47, 'ADE')]}), ('@neph0079@positiveaboutms i take baclofen \"can\\'t sleep! want to sleep!\" help!', {'entities': [(45, 56, 'ADE')]}), (\"@dystoniasociety i would like to know what everyone else's experience are of baclofen and clonazepam. do they get dry nose / throat?\", {'entities': [(114, 122, 'ADE'), (125, 131, 'ADE')]}), (\"boniva would've been better properly named as an erectile dysfunction drug.\", {'entities': [(49, 69, 'ADE')]}), (\"boniva would've been better properly named as an erectile dysfunction drug.\", {'entities': [(49, 69, 'ADE')]}), (\"i'm sorry you have ostrich halitosis @daniellejmoody but that is a side effect of once monthly boniva.\", {'entities': [(27, 36, 'ADE')]}), (\"@CIPROisPOISON ironically, the pulmonologist I work with told me about his own devastating bout with 'tendonitis' after Cipro\", {'entities': [(102, 112, 'ADE')]}), (\"@integratemd i sure wish my doctor had told me cipro could disable me for life!  there was never any mention of that.  now i'm crippled.\", {'entities': [(59, 66, 'ADE'), (127, 135, 'ADE')]}), (\"@remiamaka It wasn't an easy victory though. Felt like chemo with the Cipro. As for the heart, i meant for study purposes.\", {'entities': [(45, 60, 'ADE')]}), ('@evann_lfc yea still a vampire as still on cipro wbu? xx', {'entities': [(23, 30, 'ADE')]}), ('@ABittersweet1 Cipro destroyed my entire body, from head to toe.  Bedridden since 2009.  Be VERY careful.', {'entities': [(21, 45, 'ADE'), (66, 75, 'ADE')]}), ('this cipro is totally \"killing\"  my tummy .. hiks..', {'entities': [(25, 44, 'ADE')]}), (\"@katelynjoyy the aythromicyn didn't work so i'm back on cipro which is what caused my septic c diff in sept.\", {'entities': [(86, 99, 'ADE')]}), (\"day 11 of #rwrunstreak completed. 1.32 miles of walking. can't run even if i could because of cipro. also day 4 of mostly raw was good.\", {'entities': [(57, 66, 'ADE')]}), ('@shipmom cipro is awful makes me sick as a dog too', {'entities': [(33, 37, 'ADE')]}), ('@lisabrownphotos consider yourself lucky if all it does is make you dizzy and sick!  cipro crippled me and countless others.', {'entities': [(68, 73, 'ADE'), (78, 82, 'ADE'), (91, 99, 'ADE')]}), ('@theeastmovie thank you so much for getting the message out...wish i could see the film but bayer crippled me with cipro back in 2009!', {'entities': [(98, 106, 'ADE')]}), (\"@dougbremner i wish i'd have found your article sooner! i was crippled by cipro in oct of '09. prescribed for a uti &amp; it didn't even help.\", {'entities': [(62, 70, 'ADE')]}), ('@ciproispoison you r right cipro nearly killed me', {'entities': [(33, 49, 'ADE')]}), (\"guess i'm allergic to cipro...\", {'entities': [(10, 18, 'ADE')]}), ('@jkimberlinn im on cypro . actually in dying on cypro', {'entities': [(39, 44, 'ADE')]}), ('so glad to have just finished a course of cipro! fingers crossed i can stay off of nausea inducing meds for the next little while...', {'entities': [(83, 89, 'ADE')]}), ('@mariamelee oof, sympathies. i had a raging cipro headache last week.', {'entities': [(51, 59, 'ADE')]}), ('the cymbalta certainly is addictive &amp; its fda approved...', {'entities': [(26, 35, 'ADE')]}), (\"@furrowedfox cymbalta is especially weird i've had withdrawal quickly from missing a pill\", {'entities': [(51, 61, 'ADE')]}), ('only change so far since switching from lexapro to cymbalta: now i might notice if i got hit in the crotch w/ a lance in a jousting accident', {'entities': [(67, 140, 'ADE')]}), ('@NireBryce Thanks. There is a nonzero chance that the discomfort I am feeling was caused by going back on Cymbalta, possibly too quickly.', {'entities': [(54, 64, 'ADE')]}), (\"cymbalta tore up our stress incontinence agreement first!  it's like niagara falls when i cough.\", {'entities': [(21, 40, 'ADE'), (64, 95, 'ADE')]}), (\"woke up to breakfast in bed...well couch because i'm addicted to the new 3d wifi tv. too bad i have no appetite. thanks cymbalta.\", {'entities': [(100, 111, 'ADE')]}), ('@liver_bird_87 @miztinkerbella when i was on cymbalta and visanne i could not orgasm at all!!!', {'entities': [(68, 84, 'ADE')]}), (\"@herodfel @amelia_draws @scribble_dragon it's very tough. i understand, &amp; you have my full sympathy. how did you find cymbalta withdrawals?\", {'entities': [(132, 143, 'ADE')]}), (\"@jameetmiller i didn't have side effects when i started taking cymbalta. after about 6 mths had to stop because it raised my blood pressure.\", {'entities': [(115, 139, 'ADE')]}), ('Cymbalta is legal, an antidepressant.....side effects: nausea, dry mouth, constipation, diarrhea, fatigue, & THOUGHTS OF SUICIDE', {'entities': [(55, 61, 'ADE'), (63, 72, 'ADE'), (74, 86, 'ADE'), (88, 96, 'ADE'), (98, 105, 'ADE'), (109, 128, 'ADE')]}), (\"fact: if cymbalta didn't make me so miserable, i'd go back on it. i was the cooliest on cymbalta!\", {'entities': [(37, 46, 'ADE')]}), ('cymbalta withdrawal &lt;&lt;&lt;&lt;&lt;&lt;&lt;&lt;', {'entities': [(9, 19, 'ADE')]}), ('you woukd think going off of cymbalta would make me less tired...but nope...-_-', {'entities': [(57, 62, 'ADE')]}), (\"coming off of cymbalta has been the most exhausting experience. and it isn't even over :(\", {'entities': [(41, 51, 'ADE')]}), (\"ok i've got a med ? anyone ever tried cymbalta?? my doc put me on it but i slept 10 hrs straight!!\", {'entities': [(75, 87, 'ADE')]}), (\"@almostwell my blood pressure is fine, but my heart started lurching two weeks ago. savella didn't work for me, yeah. cymbalta rules!\", {'entities': [(47, 69, 'ADE')]}), (\"coming off cymbalta sucks, i've been slowly cutting back for the past 3 months. have finally made it over a weeks since i have taken it.\", {'entities': [(1, 26, 'ADE')]}), ('do not ever get on cymbalta.  getting off of it is hell!', {'entities': [(30, 55, 'ADE')]}), ('@upasbook Great read as always. I was on Cymbalta for 5 days. Cold turkey had sweats, migraine, tremors while on & 3 days after.', {'entities': [(78, 84, 'ADE'), (86, 94, 'ADE'), (96, 103, 'ADE')]}), ('@blackloislane i was on cymbalta for over a year. in the process of quitting it because it interacts badly with my testosterone blockers.', {'entities': [(91, 100, 'ADE')]}), ('cymbalta makes me thirsty to the point where my mouth is painfully dry. it feels like the sahara desert in my mouth.', {'entities': [(18, 25, 'ADE'), (48, 70, 'ADE'), (75, 115, 'ADE')]}), ('i feel like i have a hangover ...that cymbalta was a bad idea', {'entities': [(21, 29, 'ADE')]}), (\"i'm def suing cymbalta. i can't wait until its out of my system. get out!!!!!!! nowwww!!!!! you turn peaceful people into the hulk!\", {'entities': [(96, 130, 'ADE')]}), ('i hate forgetting to take my cymbalta. it makes you feel sooooooo weird.', {'entities': [(52, 71, 'ADE')]}), ('this higher dose of #cymbalta is making me extremely tired and anxious. is this normal?', {'entities': [(53, 58, 'ADE'), (63, 70, 'ADE')]}), ('cymbalta withdrawals. need to get script. head is spinning. blood pressure low.  i hate depending on drugs to live.', {'entities': [(9, 20, 'ADE'), (42, 58, 'ADE'), (60, 78, 'ADE')]}), (\"hate that i've been off #cymbalta for ages now and my appetite is still terrible. the worst part? i can't bear meat or chocolate :'(\", {'entities': [(54, 80, 'ADE')]}), (\"Cymbalta, you're driving me insane.\", {'entities': [(17, 34, 'ADE')]}), ('rt @upasbook: @glinda_r @spooniescouch cymbalta withdrawal is getting top billing at the moment, however. ugh! xx', {'entities': [(49, 59, 'ADE')]}), ('@strangledduck i am on duloxetine and i think my body would be asleep 24/7 if i let it.', {'entities': [(63, 74, 'ADE')]}), ('@scrabalisios i hav to come of the duloxetine immediately as i hav a terrible rash because of it! had the rash 2 weeks', {'entities': [(78, 82, 'ADE')]}), ('Kinda worried about the nighttime jaw clenching from Effexor, what with my tongue ring and all... :L', {'entities': [(34, 47, 'ADE')]}), (\"@juntei my old ones took 2 days for withdrawals but effexor which i'm on now i will get them the next day :/ i wish i could email you valium\", {'entities': [(36, 47, 'ADE')]}), ('@drdrew i recently stopped taking effexor 225 what can i do to ease my withdrawls?i feel miserable right now and very angry.please any ideas', {'entities': [(71, 81, 'ADE'), (89, 98, 'ADE'), (118, 123, 'ADE')]}), ('so it fucking turns out that a side effect of effexor is a loss of appetite', {'entities': [(59, 75, 'ADE')]}), ('@lulubot75 the shaking is a common side effect of effexor', {'entities': [(15, 22, 'ADE')]}), ('day five of no effexor. i am guessing this is what it feels like when you come off heroin...  #discontinuation', {'entities': [(54, 89, 'ADE')]}), ('@synapsid with effexor if i miss one day i am dizzy and wrecked', {'entities': [(46, 51, 'ADE'), (56, 63, 'ADE')]}), ('@AuthorEdKurtz Oh, it sucks, but try doing SNRI withdrawal. They had to put me on a whole other drug just to get me off Effexor. :(', {'entities': [(47, 58, 'ADE')]}), ('@stfumisogynists brain zaps? happens a lot when missing doses, (especially with effexor &amp; wellbutrin ime) - just feels weird. no real danger', {'entities': [(18, 28, 'ADE')]}), (\"@opium_district I've been having them today too, three days without effexor. I completely understand what you mean. every hit, lightheaded..\", {'entities': [(127, 138, 'ADE')]}), ('@johncheese i hated effexor. it makes you hungry, dizzy, and lethargic. that culminated in a large weight gain for me.', {'entities': [(43, 49, 'ADE'), (51, 56, 'ADE'), (62, 71, 'ADE'), (100, 111, 'ADE')]}), ('effexor withdrawal.', {'entities': [(8, 18, 'ADE')]}), ('upped my effexor dosage 5 days ago. sleep cycle and quality went to shit 4 days ago. i sense a correlation here...', {'entities': [(36, 47, 'ADE'), (52, 59, 'ADE')]}), ('stomach discomfort, flushed, sweating, weird jaw, this stuff sucks #effexor #experiment', {'entities': [(1, 19, 'ADE'), (21, 28, 'ADE'), (30, 38, 'ADE'), (46, 49, 'ADE')]}), ('i love this effexor! majorly kills my libido.', {'entities': [(29, 44, 'ADE')]}), ('@AaronM effexor was a boner killer, absolutely. welbutrin goes the other way.', {'entities': [(22, 34, 'ADE')]}), ('@joec second day off effexor &amp; on viibryd here. brain zaps are fun. and by fun, i mean horrendous &amp; miserable.', {'entities': [(53, 63, 'ADE')]}), ('day 6 cold turkey from effexor. i bellevue this pic adequately represents my descent into madness. or whatever. http://t.co/v7miglato6', {'entities': [(77, 97, 'ADE')]}), (\"headache &amp; stomach ache. i'm never forgetting my effexor again.\", {'entities': [(0, 8, 'ADE'), (15, 27, 'ADE')]}), ('@elladeruiter oh I hate that! I used to be on citalopram, it stopped working eventually. sometimes I have to up my effexor dose temporarily.', {'entities': [(61, 76, 'ADE')]}), ('out of pills, feeling like a train wreck #tweaking #effexor', {'entities': [(14, 40, 'ADE'), (42, 50, 'ADE')]}), ('@Jonny_Wags @Hey_Jeffrey Realtalk: until I started taking Wellbutrin, Effexor robbed me of the ability to cum', {'entities': [(95, 109, 'ADE')]}), ('effexor xr side effects : - sucidal thoughts - insomnia - feeling high &amp; unresponsible. -dry mouth.', {'entities': [(28, 44, 'ADE'), (47, 55, 'ADE'), (58, 70, 'ADE'), (77, 90, 'ADE'), (93, 102, 'ADE')]}), (\"@darko_marco i've no probs with porn other than the fact that i've gained 80 pounds on effexor and no one needs to see that ;-)\", {'entities': [(67, 83, 'ADE')]}), ('the effexor dreams have taken a terrifying turn. ugh.', {'entities': [(12, 18, 'ADE')]}), (\"@iamthattgirl Ugh, sorry. This effexor is not making me feel so awesome. Posting Puck's stuff tonight though.\", {'entities': [(42, 72, 'ADE')]}), ('struggling with effexor withdrawal. worse than any symptoms i was taking the drug for.stay away from this!!! http://t.co/m5r2qtt9np', {'entities': [(24, 34, 'ADE')]}), ('ssri discontinuation syndrome is a bitch. effexor, i hate you. wellbutrin, thanks for being nice to me. now do your job kthx. #depression', {'entities': [(6, 30, 'ADE')]}), ('effexor dreams d:', {'entities': [(8, 14, 'ADE')]}), ('@oscli you want bad withdrawl, effexor had that..evil stuff for me...never again. i strongly believe it caused some memory damage for me. :(', {'entities': [(21, 30, 'ADE'), (117, 130, 'ADE')]}), ('life: fucked. mind: falling into a realm of utter disillusion.  thank the lord for #effexor contributing to it.', {'entities': [(20, 61, 'ADE')]}), (\"@fell2earth yeah, i'm ok. that was weird. might've been meds. got a new batch yesterday. i'm remembering the effexor xr making me sick once.\", {'entities': [(131, 135, 'ADE')]}), (\"i suggest never stop taking effexor abruptly because you will feel like you're on your death bed\", {'entities': [(62, 96, 'ADE')]}), (\"zoloft was just as bad as effexor. it made me more depressed and more suicidal. i don't want it.\", {'entities': [(51, 60, 'ADE'), (70, 78, 'ADE')]}), (\"fucking effexor withdrawals. i would shake my fist but i don't have the energy.\", {'entities': [(16, 27, 'ADE'), (57, 78, 'ADE')]}), ('fuck you, effexor. dilated pupils and blurry vision and nausea and headaches? this is awful!', {'entities': [(20, 34, 'ADE'), (39, 52, 'ADE'), (57, 63, 'ADE'), (68, 77, 'ADE')]}), (\"dear alternative medicine aficionados, don't do intra-nasal acupuncture when you're on effient and aspirin. #nightmare #bloodbath\", {'entities': [(121, 130, 'ADE')]}), ('@thebloggess your lucky! i have to do infusions of remicade for my ra. i would happily do humera or enbrel if it didnt make me stop breathin', {'entities': [(127, 140, 'ADE')]}), ('@racanuck i had a weird rash w/ enbrel. but it was all over my abdomen &amp; chest. rash in elbow cld b psoriasis? can u take a pic?', {'entities': [(24, 28, 'ADE')]}), ('@eesullivan i had allergic reaction from enbrel.', {'entities': [(18, 36, 'ADE')]}), ('anyone else have worsening #acne problems since starting #enbrel for autoimmune disease?', {'entities': [(28, 32, 'ADE')]}), (\"@cocayne18 stopped working.  i don't think their meant to last forever but again it depends on the person.  i took enbrel when i was on my\", {'entities': [(11, 26, 'ADE')]}), ('i think my tablets have made me gain weight. anyone on fluoxetine/prozac? #replytweet', {'entities': [(32, 43, 'ADE')]}), (\"fluoxetine is a hell of a drug if you're into being awake all night and feeling ill.\", {'entities': [(52, 67, 'ADE'), (72, 83, 'ADE')]}), (\"@wickychoo @lollygee omg all the special places. i'm not drunk. it's the fluoxetine.\", {'entities': [(57, 62, 'ADE')]}), ('forgetting to take meds then having a day feeling like absolute shit. fluoxetine u r shit', {'entities': [(42, 68, 'ADE')]}), ('the one bummer about it all is that the fluoxetine is giving me the shakes which made fine fiddly detail work harder than it should be', {'entities': [(68, 74, 'ADE')]}), (\"@waynedjc that's good news. you must feel a bit less stressed. btw, are you ok with diazepam and fluoxetine? take both and they space me out\", {'entities': [(129, 141, 'ADE')]}), ('Only one day in and Mirtazapine is like fluoxetine all over again, it just makes me so tiered', {'entities': [(87, 93, 'ADE')]}), (\"didnt take my fluoxetine this morning because i forgot and i've been so shaky and tired all day, is this like, withdrawal symptoms?\", {'entities': [(73, 78, 'ADE'), (83, 88, 'ADE'), (112, 122, 'ADE')]}), (\"@themartinnewman to be honest i've  had worse. on fluoxetine i was convinced there was a plot to steal my thoughts... !\", {'entities': [(89, 114, 'ADE')]}), (\"@MerePrototype Probably the combination with my fluoxetine. But I can't move that to night time, it makes me have bad dreams.\", {'entities': [(114, 124, 'ADE')]}), (\"@SamAmbreen doesn't work. Citilopram then fluoxetine before, bothe did nothing for my mood but made me vomit so much I lost 4 stone in 6mo.\", {'entities': [(103, 108, 'ADE'), (119, 131, 'ADE')]}), ('life alert life alert i am burping up fluoxetine powder i think i might die', {'entities': [(27, 34, 'ADE')]}), ('@hendryhannah i tried fluoxetine. it knocked me out.', {'entities': [(37, 51, 'ADE')]}), (\"@nicoleccoelho i take fluoxetine and it doesn't do shit it just makes me dizzy and tired\", {'entities': [(73, 78, 'ADE'), (83, 88, 'ADE')]}), ('popped a fluoxetine im sweating', {'entities': [(23, 31, 'ADE')]}), ('@Chavielle i has beta blockers now, apparently the fluoxetine can cause panic attacks ^_^', {'entities': [(72, 85, 'ADE')]}), ('@icedweller i loved fluoxetine (prozac) but it made me lose my temper of the slightest thing but that was the only downside.', {'entities': [(55, 69, 'ADE')]}), ('my 3 favourite things about fluoxetine are: it doesnt work as an antidepressant. increases suicidal thoughts. it stops you from jizzing.', {'entities': [(91, 108, 'ADE'), (113, 135, 'ADE')]}), ('@CandidlyKelly some day I should try fluoxetine again. it made me all suicidal the first time, but I was 18', {'entities': [(70, 78, 'ADE')]}), ('restless leg syndrome is bad tonight.  damn you fluoxetine.', {'entities': [(0, 22, 'ADE')]}), (\"(cont'd) my pdoc altered the dosage of @fluoxetine to 30mg. that's the only alteration. because i complained about the extreme fatigue. :-(\", {'entities': [(127, 134, 'ADE')]}), (\"@bobsmithno6 aw, dude. i've been on both in the past. don't stop fluoxetine suddenly - the withdrawal effects are awful. do it gradually.\", {'entities': [(92, 102, 'ADE')]}), (\"OK, I'm pretty sure that missing 2 doses of fluoxetine (pure disorderliness/schedule fail) was responsible for my joint pain.\", {'entities': [(114, 124, 'ADE')]}), (\"@_unbeautiful_ i used to dream every night without fail on fluoxetine...i have no crazy stories each morning now i'm off it though!! :-l\", {'entities': [(25, 30, 'ADE')]}), (\"@notquitereal Oh, really? That's what gave me the terrible reaction. My current doctor told me he'd almost never prescribe fluoxetine.\", {'entities': [(59, 67, 'ADE')]}), ('@notquitereal yeah, I mean, fluoxetine made me feel like shit, and citalopram makes me feel ace, so worth considering if you ever have to', {'entities': [(47, 61, 'ADE')]}), ('@theonlywayisgay fluoxetine.  killed my libido stone dead.', {'entities': [(30, 46, 'ADE')]}), (\"@major___tom mm, i'm wary of trying new meds after a really bad reaction to fluoxetine, but i've heard a lot of good things about citalopram\", {'entities': [(65, 73, 'ADE')]}), ('@tittuck i know it made me want to be sick every time i had it plus fluoxetine is the bigges bunch of shit ive been on worse than sertraline', {'entities': [(27, 42, 'ADE')]}), (\"@tysonstown when i was on fluoxetine i was dead from the waist down. even frankenstein couldn't have helped...\", {'entities': [(43, 67, 'ADE')]}), ('@ana_3033 fluoxetine give me headaches and makes me yawn 24/7', {'entities': [(29, 38, 'ADE'), (52, 56, 'ADE')]}), ('@znb_maqbool sweaty fluoxetine addict', {'entities': [(13, 19, 'ADE'), (31, 37, 'ADE')]}), (\"@thebeachynurse ...had to get an x-ray of my arm per protocol...it was negative but it's just now starting to hurt. ugh!!!!  #geodon\", {'entities': [(110, 114, 'ADE')]}), (\"me too. i used to call geodon the potato drug bcuz that's what i looked like after just 5 weeks on it..  @beyondmeds @medskep\", {'entities': [(34, 76, 'ADE')]}), ('3 rounds of puking, a nasty headache, and my throat is raw. body wants nothing to do with this increase in the geodon.', {'entities': [(13, 19, 'ADE'), (29, 37, 'ADE'), (46, 59, 'ADE')]}), ('leathers and 20 of geodon later.... we had a sleepy crackhead', {'entities': [(45, 51, 'ADE')]}), ('@kathrynfoucha remicade was my last treatment before humira and i really loved it. then i started having a reaction from it multiple times', {'entities': [(107, 115, 'ADE')]}), ('humira got a real nigga tired?', {'entities': [(24, 29, 'ADE')]}), (\"@melzter777 that's how i felt about humira. when it stopped working, i had a whole summer in and out of the hospital\", {'entities': [(53, 68, 'ADE')]}), ('@mesgreene i lost effectiveness on humira, and then methotrexate was added and it was like going back to starting the drug.', {'entities': [(14, 32, 'ADE')]}), ('@mesgreene humira worked for me much better than remicaid. i felt constantly beat up on r. humira was much easier to administer, too.', {'entities': [(78, 85, 'ADE')]}), (\"i'm loosing so much blood right now. humira is some scurry ish.\", {'entities': [(4, 25, 'ADE')]}), (\"thank god i was born with so much hair; i wouldn't been bald by now. #crohnsproblems #teamibd #hairloss #humira #chronic #illness #gratitude\", {'entities': [(95, 103, 'ADE')]}), ('whyyyyy so painful #humira ?', {'entities': [(11, 18, 'ADE')]}), (\"@sapphire20 to it, and now I'm on Humira with just the bloat to battle. Things sometimes get super shitty in every sense. But stay strong xx\", {'entities': [(55, 60, 'ADE')]}), ('question: anyone on #humira experiencing urinary track infections frequently and never had before?', {'entities': [(41, 65, 'ADE')]}), (\"Starting Humira tomorrow. :) I wonder if it will make me tired for a day or so like Remicade did. If it works, it's worth it.\", {'entities': [(57, 62, 'ADE')]}), (\"@HurtBlogger good luck! Have you tried it before? Does it work 4 u? I just had 2nd dose of Humira, and hurting so bad I can't stand it :-(\", {'entities': [(103, 110, 'ADE')]}), ('@sarahchoueiry @crohns_twins i also have nuasea and low grade temp and on #humira should i go check it out??', {'entities': [(41, 47, 'ADE'), (52, 66, 'ADE')]}), ('i had the two humira shots today and the needle didnt hurt at all but the medicine inside burned like lava', {'entities': [(90, 96, 'ADE')]}), ('@trainingwithra but #Humira has the after-sting, which is worse! Yuck. Reminds me, I need to go take my shot :) #rheum', {'entities': [(36, 47, 'ADE')]}), ('@Shellyfanelly I was on #azathioprine for about 8 years, it worked well, now on #Humira instead though which is knocking me about', {'entities': [(112, 129, 'ADE')]}), ('@ccfa pooped out bc i did humira last night :)', {'entities': [(6, 16, 'ADE')]}), (\"@foggymelon @movmctov @The_Scottymomma when I did Humira for my Crohn's it felt like acid, hubby had to shoot me up. Made my lupus flare too\", {'entities': [(75, 89, 'ADE'), (125, 136, 'ADE')]}), (\"@zmiller1902 sometimes my humira pens make me feel like i'm 90 years old due to the joint pain everywhere.\", {'entities': [(84, 94, 'ADE')]}), ('going to the hair salon is no longer a pleasant experience.how much are we cutting?half of it. #crohns #hairloss #autoimmune disease #humira', {'entities': [(104, 112, 'ADE')]}), ('god humira shots blow so bad... #painful #crohnssucks', {'entities': [(33, 40, 'ADE')]}), ('@dsymons @trainingwithra @lisabinkc my husband gives me my humira injections. we use the pens. it hurts too bad to give them to myself.', {'entities': [(98, 103, 'ADE')]}), (\"@mizbergy that's the hardest part: difficult to willingly self-inflict pain. #humira #rheum\", {'entities': [(71, 75, 'ADE')]}), (\"@ayegraybay I knowwishful thinking. My Humira shot doesn't even work for me anymore and when it does I get so sick.\", {'entities': [(51, 83, 'ADE'), (110, 114, 'ADE')]}), (\"Well,yesterday was rubbish(post humira)all day in bed,loads of pain etc.Just got up and I think I'm alright?Give it an hour and reassess lol\", {'entities': [(63, 67, 'ADE')]}), (\"rt @ginarclark: personal frustration med's that work (humira) then wear-off even when taking mtx for anti-bodies. #rheum\", {'entities': [(67, 75, 'ADE')]}), (\"ah the sting of the #humira injection. how i've not missed thee. #ankylosing #spondylitisq #ouch\", {'entities': [(7, 12, 'ADE')]}), ('humira why you burn my veins', {'entities': [(15, 28, 'ADE')]}), ('no pain is worse than humira. not even arthritis. lmfao.', {'entities': [(3, 7, 'ADE')]}), ('@kirkby007 if u r on #humira and have respiratory probs - see ur doc.  that;s how it all started of me.  be well.  nice chatting,', {'entities': [(39, 56, 'ADE')]}), ('@hospitalpatient  have been on humira 2years now n get on off chest infections that sometimes need 2diff pills 2sort out should i b worried?', {'entities': [(62, 78, 'ADE')]}), ('my choice was more #surgery on 6-ft small bowel or #biologics like #humira.  now #chemo is my only hope 2 treat #lung side effect. #crohns', {'entities': [(113, 118, 'ADE')]}), ('@epilepsyadvice  on lamictal, chemist giving me there own brand med lamotrigine when lamictal not available..side effect problems..raging !', {'entities': [(132, 138, 'ADE')]}), ('@ybnormal622 i am on only 25mg lamictal but it makes me anxious and insomniac so i skip sometimes and get depressed.', {'entities': [(56, 63, 'ADE'), (68, 77, 'ADE')]}), (\"@thekillmars300 called lamictal (for anxiety) that turns out I'm allergic to also. Kicker is, they both can cause SJS. I never had a chance.\", {'entities': [(65, 73, 'ADE'), (114, 117, 'ADE')]}), (\"developing add in my 20s thanks to the memory/attention-killing lamictal i've been on since my early teens. #bipolar #morepillsmoreproblems\", {'entities': [(11, 14, 'ADE'), (39, 45, 'ADE'), (46, 63, 'ADE')]}), (\"i decided to try visualization tapes again. at least they wouldn't give me a rash like lamictal.\", {'entities': [(77, 81, 'ADE')]}), ('are restlessness and insomnia common side-effects of #lamictal / #lamotrigine?', {'entities': [(4, 16, 'ADE'), (21, 29, 'ADE')]}), ('@ikimlowe my son has been on lamictal for 3 yrs n broke out in a rash when he 1st was put on it. luckily after going to er it was not the sj', {'entities': [(65, 69, 'ADE')]}), (\"@ineptune_ samezies :( it's the lamictal i'm flat as a kate hudson in how to lose a guy in 10 days\", {'entities': [(45, 49, 'ADE')]}), ('@feltfedora &lt; i was on lamictal for a while (for other reasons) but i had to stop due to an allergic reaction.', {'entities': [(95, 112, 'ADE')]}), ('@blednos lamictal and trileptal and seroquel...of course the seroquel i take in severe situations because gaining weight is never cool', {'entities': [(106, 120, 'ADE')]}), ('lamictal nap ft. 2 cups of caffeinated coffee', {'entities': [(9, 12, 'ADE')]}), (\"@aravain i've heard of all kinds of skin issues on lamictal! pretty sure mine is psychosomatic though...\", {'entities': [(36, 47, 'ADE')]}), ('lamictal withdrawal update:  starving!', {'entities': [(9, 19, 'ADE'), (29, 37, 'ADE')]}), ('@Milynda lamictal makes you sleepy at night, but I take it around 10 or so. Once you get in the system, you start falling asleep normally.', {'entities': [(28, 34, 'ADE')]}), ('@mc_elhill @mhchat @womblegeorge #mhchat lamotrigine also causes me to have fewer hours sleep a night', {'entities': [(76, 93, 'ADE')]}), (\"also the lamotrigine dose feels a bit high too now the o is leaving my system. will have to adjust that as well or i won't sleep *sigh*\", {'entities': [(117, 128, 'ADE')]}), (\"reducing the lamotrigine is grim. exhausted and grumpy. got another 2 weeks of this yet. wondering if i'm doing the right thing?\", {'entities': [(34, 43, 'ADE'), (48, 54, 'ADE')]}), ('anyone taking lamotrigine suffer with headaches weeks after starting the med?', {'entities': [(38, 47, 'ADE')]}), ('@ecrjones coming off lamotrigine has been as bad as going up on it. poorly tummy, tiredness, feeling disconnected', {'entities': [(76, 81, 'ADE'), (83, 92, 'ADE'), (102, 114, 'ADE')]}), (\"but i have realised that it's the lamotrigine which causes the joint pain.\", {'entities': [(63, 73, 'ADE')]}), ('Question: recently I have been hyper-sensitive to different textures, does anyone know if this is a bipolar / lamotrigine thing??', {'entities': [(31, 46, 'ADE')]}), ('bloody dreadful nights sleep= joint pain. combination of sitting all day in training and full therapeutic dose of lamotrigine', {'entities': [(7, 28, 'ADE'), (30, 40, 'ADE')]}), (\"i've decided i'm really not happy with the pain lamotrigine is causing or the poor sleep. i am thinking of asking for a trial of prozac and\", {'entities': [(43, 47, 'ADE'), (78, 88, 'ADE')]}), (\"@bipolarblogger the misery i'm experiencing today from the pain, outweighs the anti-depressant effect of the lamotrigine\", {'entities': [(60, 64, 'ADE')]}), ('me : feeling fine, watching tv ... swiffer commercial #lamotrigine : Lol lets make the bitch cry at this... a fucking swiffer commercial.', {'entities': [(93, 97, 'ADE')]}), ('#lamotrigine headaches suck :( i wanna curl up &amp; cry.', {'entities': [(13, 22, 'ADE')]}), ('not feeling like staying up all night, so taking the #levothyroxin in the morning. #lamotrigine early at 0432utc', {'entities': [(18, 38, 'ADE')]}), ('@stavvers Yeah I hear epilim is pretty tough, sorry to hear re bad times with it :( Oddly, dear sweet Lamotrigine tipped me to a dark place', {'entities': [(114, 139, 'ADE')]}), ('@sleazeballz @Kanako_UkFur was on Lamotrigine for about 5 months, got taken off them due to a rash on my elbow :/ now i feel more meh', {'entities': [(94, 98, 'ADE')]}), ('allergic reaction to #lamotrigine. feel free to share &amp; distribute. kill #bigpharma before it kills us. http://t.co/kbj5fvqpff', {'entities': [(0, 17, 'ADE')]}), ('allergic reaction to #lamotrigine. feel free to share &amp; distribute. kill #bigpharma before it kills us. http://t.co/8gj415gas5', {'entities': [(0, 17, 'ADE')]}), ('allergic reaction to #lamotrigine. feel free to share &amp; distribute. kill #bigpharma before it kills us. http://t.co/spmda8toqt', {'entities': [(0, 17, 'ADE')]}), ('allergic reaction to #lamotrigine. feel free to share &amp; distribute. kill #bigpharma before it kills us. http://t.co/mfrgr3tenj', {'entities': [(0, 17, 'ADE')]}), ('allergic reaction to #lamotrigine. feel free to share &amp; distribute. kill #bigpharma before it kills us. http://t.co/sqdtqpucgn', {'entities': [(0, 17, 'ADE')]}), ('Oh, and I forgot that with Lamotrigine come awful night terrors. I woke up no fewer than five times screaming and sweaty. #lol', {'entities': [(50, 63, 'ADE')]}), (\"i think the lamotrigine is finally doing what it's supposed to; which is not make me sick, but keep my moods stable :) yaay &lt;3\", {'entities': [(86, 90, 'ADE')]}), (\"ain't nothing worse than having vasovagal pre-syncope from levaquin toxicity. hard to digest food just pushes all the nerves. #blah\", {'entities': [(32, 53, 'ADE'), (68, 76, 'ADE'), (78, 92, 'ADE')]}), ('is it possible for levaquin to cause massive pain in my joints? #medical#query', {'entities': [(45, 62, 'ADE')]}), ('@sonniedetore i cannot be in the sun! #levaquin', {'entities': [(16, 36, 'ADE')]}), ('levaquin sucks. blinding headaches. vomiting. diarrhea.   time for my next dose.  happy weekend.   #tmi #fml', {'entities': [(25, 34, 'ADE'), (36, 44, 'ADE'), (46, 54, 'ADE')]}), ('note to self - nicotine lozenge &amp; alcohol = nausea.', {'entities': [(48, 54, 'ADE')]}), ('i have a lozenge i cant feel my throat', {'entities': [(19, 38, 'ADE')]}), (\"popped a zinc lozenge, i'm sweatin\", {'entities': [(28, 35, 'ADE')]}), ('you guys i was sucking on this lozenge thats supposed to numb sore throats and now i cant feel my mouth', {'entities': [(85, 103, 'ADE')]}), ('it appears that my twitter addiction may have just been a side effect of my nicotine lozenge addiction.', {'entities': [(93, 102, 'ADE')]}), ('rt @jumpingjesush: it appears that my twitter addiction may have just been a side effect of my nicotine lozenge addiction.', {'entities': [(112, 121, 'ADE')]}), ('rt @jumpingjesush: it appears that my twitter addiction may have just been a side effect of my nicotine lozenge addiction.', {'entities': [(112, 121, 'ADE')]}), ('so i may be allergic to the metoprolol. rash on my face. needing my inhaler daily since friday.', {'entities': [(12, 20, 'ADE'), (40, 45, 'ADE'), (57, 75, 'ADE')]}), (\"i'm gonna make a list of drugs that give you mad crazy dreams. trazadone and metoprolol are at the top.\", {'entities': [(49, 61, 'ADE')]}), (\"okay, this metoprolol is not a game. aside from the occasional chest pain when i breathe, i'm fine. ?\", {'entities': [(64, 74, 'ADE')]}), ('nicotine headache! #notcool', {'entities': [(9, 17, 'ADE')]}), ('@tedwardpaynus very little is going to get in the way of their nicotine addiction.', {'entities': [(72, 81, 'ADE')]}), ('holy shit i quit. no for real this time tho. fuck that noise. aint got time for stuffy sinuses and nicotine addiction.', {'entities': [(80, 94, 'ADE'), (108, 117, 'ADE')]}), ('fucking nicotine driving my fucking mind up the fucking wall. i feel like kathy bates', {'entities': [(17, 60, 'ADE')]}), (\"i'm never gonna pack it in i know i'm addicted to the nicotine through my veins it flow\", {'entities': [(38, 46, 'ADE')]}), ('do the people that make the blu e-cig not fucking understand what addiction to nicotine is?! where is it already', {'entities': [(66, 75, 'ADE')]}), ('i can go without nicotine for a few day but by the time the third day comes around i want to rip out my teeth', {'entities': [(93, 109, 'ADE')]}), ('Brb, dying of nicotine withdrawal.', {'entities': [(23, 33, 'ADE')]}), ('going through a real bad nicotine withdraw...', {'entities': [(34, 42, 'ADE')]}), ('nicotine withdrawals. #needasmoke', {'entities': [(9, 20, 'ADE')]}), ('this new baccy is just making my cough so much worse but ahhh well need my nicotine', {'entities': [(33, 38, 'ADE')]}), (\"bought ourselves an electronic cigarette for fun and now i think we're addicted to nicotine ???\", {'entities': [(71, 79, 'ADE')]}), (\"@broahegan it's my nicotine withdrawls\", {'entities': [(27, 38, 'ADE')]}), ('fuck here comes the nicotine cravings damn you hookah', {'entities': [(29, 37, 'ADE')]}), ('nicotine withdrawal is hitting me so fuckin hard right now', {'entities': [(9, 19, 'ADE')]}), ('officially addicted to nicotine', {'entities': [(11, 19, 'ADE')]}), ('all this nicotine is going to my head', {'entities': [(21, 37, 'ADE')]}), ('addicted to nicotine badly.', {'entities': [(0, 8, 'ADE')]}), ('nicotine withdrawals #2daysdown #forevertogo #headache #irritable #toomanyhashtags #makeitstop', {'entities': [(9, 20, 'ADE'), (46, 54, 'ADE'), (56, 65, 'ADE')]}), (\"do you know how badly i want a cigarette right now? but no. i manfully suffer through nicotine withdrawal'all for you #sacrifice\", {'entities': [(94, 105, 'ADE')]}), (\"i'm void of nicotine and my moods are void of stability.\", {'entities': [(28, 55, 'ADE')]}), ('@copelong30 had a migraine, asked him for medicine, he\\'s sitting there like \"that\\'s what you get! nicotine withdrawals!\" like fuck dad.', {'entities': [(19, 27, 'ADE'), (109, 120, 'ADE')]}), ('day 2 without nicotine: fuck sleep would be nice. so would a dip.......', {'entities': [(29, 34, 'ADE')]}), ('sent my lovely compandre to fuel my nicotine addiction', {'entities': [(45, 54, 'ADE')]}), (\"pop a ciprofloxacin i'm sweating woo!\", {'entities': [(24, 32, 'ADE')]}), (\"@aquafare the only things i know i'm allergic to are sulfa drugs and ciprofloxacin.\", {'entities': [(37, 45, 'ADE')]}), ('when the depression is coming out caused by this damn levofloxacin :))', {'entities': [(9, 19, 'ADE')]}), ('my battle continues with olanzapine weight gain with a bowl of porridge and a 9am bootcamp #iwillwin', {'entities': [(36, 47, 'ADE')]}), (\"i can't secretly try and come off my olanzapine as my cpn and psychiatrist will notice the weight loss!\", {'entities': [(91, 97, 'ADE')]}), ('@rayvenmental yeah the first time i was on olanzapine i did not put much weight on but 2nd time i did! weird!', {'entities': [(64, 82, 'ADE')]}), ('have run out of olanzapine, was tapering off anyway but this is a bit too quick-feel restless. hot bath and diazepam time :(', {'entities': [(86, 94, 'ADE')]}), ('ok brain &amp; body. we need a chat about oversleeping and overeating since taking olanzapine again #tuboficecream #timetochange #junkfood #gym', {'entities': [(42, 54, 'ADE'), (59, 69, 'ADE')]}), ('despite a difficult meeting with hr today i feel good, i feel chilled, i feel happy but i still feel fat! #olanzapine', {'entities': [(102, 105, 'ADE')]}), ('only problem is the ride has fuelled the olanzapine munchies. i was a nightmare in the supermarket tonight!', {'entities': [(52, 60, 'ADE')]}), ('gave in wholeheartedly today to my olanzapine munchies. had already had an ice cream and milkshake before this :-0 http://t.co/mrzznwzwrl', {'entities': [(46, 54, 'ADE')]}), ('@beckysrecovery i have been on amisulpride but only for a few days, i could not tolerate nausea and akathisia, olanzapine i can cope with', {'entities': [(90, 96, 'ADE'), (101, 110, 'ADE')]}), ('had a great few hours on my bike but exercise drives my #olanzapine munchies. getting fed up with not being able to fit into summer wardrobe', {'entities': [(68, 76, 'ADE'), (98, 140, 'ADE')]}), (\"@KarimS3D Olanzapine actually makes you put on weight, even when you aren't eating that much\", {'entities': [(40, 53, 'ADE')]}), ('does anyone know if the #weight gain is less in #olanzapine combined with #prozac(#symbyax) than in olanzapine alone?', {'entities': [(25, 36, 'ADE')]}), ('thanks to all my re-tweeters, your support is very much appreciated. i took the full dosd of olanzapine last night #sluggish', {'entities': [(117, 125, 'ADE')]}), ('going off of olanzapine is no picnic.  you have to be prepared to ask the aid of the gods, Jesus, Krishna.', {'entities': [(0, 36, 'ADE')]}), ('@secretsufferer olanzapine. i was taking 7.5mg and that was a nightmare, now taking 5mg but the weight still keeps coming :(', {'entities': [(97, 122, 'ADE')]}), (\"racing next sun so thought i'd better try on my tri suit. so depressing, can just about get into it and look like a whale ffs!! #olanzapine\", {'entities': [(105, 122, 'ADE')]}), (\"@LithiumLibGirl I'm sure it helps that you are so active. I did eventually lose my olanzapine lbs, so there is hope. :)\", {'entities': [(83, 97, 'ADE')]}), ('gonna have to speak with my psychiatrist about stopping my olanzapine its interfering with my visions and it gives you memory loss and more.', {'entities': [(74, 101, 'ADE'), (119, 130, 'ADE')]}), ('@azlemed first two weeks of olanzapine v drowsy. weight gain was an issue. great for my anxiety though.', {'entities': [(41, 47, 'ADE'), (49, 60, 'ADE')]}), (\"i'm now back on the olanzapine along side lithium. ugh. #helloweightgain\", {'entities': [(62, 72, 'ADE')]}), ('@fergusonelaine @psychiatrysho recent spell in hospital and olanzapine sloth/weight gain', {'entities': [(71, 76, 'ADE'), (77, 88, 'ADE')]}), ('day has been a right off. missed opticians&amp;slept aw day. sitting here torn faced, wi greasy hair&amp;unwashed. swollen feet thx to olanzapine.', {'entities': [(48, 60, 'ADE'), (75, 85, 'ADE'), (116, 128, 'ADE')]}), (\"@kalmsivi saying that, the whole reason i gained weight in the first place was due to the drug olanzapine. doctor's fault. ah well.\", {'entities': [(43, 56, 'ADE')]}), ('i resent taking olanzapine as it is the side effects of olanzapine that were mistaken for negative symptoms of schizophrenia', {'entities': [(99, 124, 'ADE')]}), ('i think this olanzapine makes me crazier.', {'entities': [(33, 40, 'ADE')]}), (\"@Pete__Bull elderly, diabetic on olanzapine= raging bm's, mood swings and weight gain...cons may outweigh the pros..\", {'entities': [(45, 56, 'ADE'), (58, 69, 'ADE'), (74, 85, 'ADE')]}), ('i wonder if olanzapine causes restless legs &lt;_&lt;', {'entities': [(30, 43, 'ADE')]}), ('been taking low dosage of paroxetine for the last two years and only recently found out that a common side affect is pinsandneedles.', {'entities': [(117, 131, 'ADE')]}), (\"i'm having the worst withdrawals from my paroxetine. is this real life?\", {'entities': [(21, 32, 'ADE')]}), (\"@Sectioned_ @bipolarlife7 @BBCWomansHour ah yes, I'm starting to think my paroxetine turns panic attacks into fat.\", {'entities': [(110, 114, 'ADE')]}), (\"@Marcello I had to take Paroxetine tablets for a year nd a side effect is weight gain, it went to my core. Off them now bt can't shift it!\", {'entities': [(74, 85, 'ADE')]}), ('@mrnick was getting out of control. i had no idea that coming off it would be so awful. other than paroxetine, i thought ssris were easy', {'entities': [(56, 69, 'ADE')]}), ('@moonsyrin @britni_rose talk to your doctor to see if you need to up your dose of paroxetine. it is possible to \"plateau\" on it..i did.', {'entities': [(115, 122, 'ADE')]}), ('@princeherb i had paroxetine for a few weeks once... apparently i started behaving oddly so they took me off it and put me on  sertraline', {'entities': [(74, 88, 'ADE')]}), ('prozac and paxil have the same effects.  well, shit. no wonder i fucking have insomnia after i told him i have it.', {'entities': [(79, 87, 'ADE')]}), ('@levimichaelsxxx @outnynews you are so horny and i am not! wtf!!! paxil why paxil why!!!!', {'entities': [(28, 57, 'ADE')]}), ('@ripnercabbit @pacerfox ugh. my partner was on paxil for a while. it made him hide in the apartment. :/', {'entities': [(78, 99, 'ADE')]}), (\"@nickysangelbaby oy.. i'm allergic to paxil. makes me physically puke didn't understand why. i see a psych. i'm on 100mg of zoloft.\", {'entities': [(26, 34, 'ADE'), (65, 69, 'ADE')]}), (\"when i was taking a full dose of #paxil, i didn't even realize that sleeping 12 hours a night, then falling asleep every day, wasn't normal.\", {'entities': [(69, 94, 'ADE'), (101, 125, 'ADE')]}), ('Dr. Kyrillos: Of SSRIs, Paxil has the greatest assoc with #weight gain. Rx with caution in pts with presenting weight issues. #PAIPIP #QI', {'entities': [(59, 70, 'ADE')]}), (\"i've probably gained a good seven or eight pounds on paxil. my 5'2 and small frame can't deal w that. lol get me off the crazy meds asap!!!\", {'entities': [(14, 49, 'ADE')]}), ('Fuck Paxil. I never want to take this shit again, but every time I try I get ridiculously sick. My life suckssss.', {'entities': [(90, 94, 'ADE')]}), (\"@anitaalibi paxil didn't end up helping. tried prozac and wellbutrin and it helped my mood and anxiety but gave me vertigo. :(\", {'entities': [(115, 122, 'ADE')]}), ('@reneeliedig hi idk who you are but i just wanted to let you know i gained over 20 lbs on paxil. be watchful.', {'entities': [(68, 86, 'ADE')]}), ('i hate nightmares! #scary #gayboyproblems #paxil', {'entities': [(7, 17, 'ADE')]}), ('@jephjacques i hated being on paxil for that reason. way to make you *more* depressed. x.x', {'entities': [(76, 85, 'ADE')]}), (\"dear paxil, you're supposed to make me feel better. instead you've wrecked me completely. thanks to you, i had to take an adivan.\", {'entities': [(68, 75, 'ADE')]}), ('just wondering why doctors prescribe dangerous, addictive medications without any warning to patients.  Paxil, for instance.', {'entities': [(48, 57, 'ADE')]}), (\"time to get off paxil.  it's really really been terrifying lately.\", {'entities': [(48, 58, 'ADE')]}), ('two weeks back on paxil. i have no more depressed thoughts or feeling ls but i also have no feelings at all again.', {'entities': [(89, 100, 'ADE')]}), ('@VanessaLovesJK because my dr switched from celexa to paxil and,paxil made me feel sick', {'entities': [(83, 87, 'ADE')]}), (\"hey guys don't forget to refill your paxil for like six days because the withdrawal is like heroin. literally.\", {'entities': [(73, 83, 'ADE')]}), ('so my body was goin threw withdrawl? lol didnt kno paxil was that strong lol', {'entities': [(26, 35, 'ADE')]}), (\"every since i stopped taking that paxil i haven't been so damn emotional ..... i think!\", {'entities': [(63, 72, 'ADE')]}), ('not sure the paxil is working any more', {'entities': [(22, 38, 'ADE')]}), ('@rogerbezanis: any ideas on treating depression naturally paxil is making me gain unwanted pounds and water weight...thanks', {'entities': [(77, 97, 'ADE'), (102, 114, 'ADE')]}), (\"@furyofpatience i was fine w/ effexor. paxil/seroxat/paroxetine was the worst fucking bitch ad  i've ever withdrawn from. pure evil.\", {'entities': [(106, 116, 'ADE')]}), (\"@inarticulate i haven't had an orgasm in a long time.. wtf.. #paxil\", {'entities': [(31, 37, 'ADE')]}), ('how do guys ejaculate on paxil?? #antidepressants', {'entities': [(12, 21, 'ADE')]}), ('brisdelle dangerous. paxil is supposed to treat depression and suicidal thoughts.  i took paxil and got depressed. went off &amp; ok in 2 wk.', {'entities': [(104, 113, 'ADE')]}), ('paxil why you not let me sleep?!?', {'entities': [(14, 30, 'ADE')]}), ('@poet_carl_watts @yueesei ...  used to be on them #justaddanother ...worst was the psychotic episode when starting #paxil but one of my favs', {'entities': [(83, 100, 'ADE')]}), ('rt @fightforfood: what i lack in money and personality, i make up for in paxil induced impotency', {'entities': [(88, 97, 'ADE')]}), ('rt @fightforfood: what i lack in money and personality, i make up for in paxil induced impotency', {'entities': [(88, 97, 'ADE')]}), ('going off paxil cr cold turkey is something you should never ever do if you value your brain cells.', {'entities': [(76, 98, 'ADE')]}), ('rt @karmageddonit: paxil makes it nearly impossible to cry.', {'entities': [(41, 58, 'ADE')]}), ('welll..decided to get off paxil. withdrawals are killlerrr, like loss of circulation randomly in areas.', {'entities': [(33, 44, 'ADE'), (65, 85, 'ADE')]}), (\"i can't wait until i get off of paxil because that's what is probably making my face break out.\", {'entities': [(80, 94, 'ADE')]}), (\"maybe i'm allergic to paxil, because it didn't say anything about making your face break out.\", {'entities': [(11, 19, 'ADE'), (79, 93, 'ADE')]}), ('@halfabear @eabendies yeah pregabalin calms my bipolar ii too - but not in the numbing way that prozac does.', {'entities': [(79, 86, 'ADE')]}), ('@spectagoggles jeez, and to think i\\'m suffering without my pristiq for a few days (we\\'ve reached the \"random crying\" phase). two weeks yikes', {'entities': [(104, 117, 'ADE')]}), ('@harrydfish @deltrimental joe is on pristiq and he gets weird brain zap / twitch things too.', {'entities': [(62, 71, 'ADE'), (74, 80, 'ADE')]}), ('holy shit balls pristiq withdrawals are very strong!', {'entities': [(24, 35, 'ADE')]}), (\"today's pristiq withdrawal symptom: my eyeballs make a sound like star trek doors when i move them. #wtf\", {'entities': [(16, 26, 'ADE'), (39, 60, 'ADE')]}), ('what to do? not looking forward to cold turkey withdrawals from pristiq... sense of impending doom. anxiety only makes the situation worse.', {'entities': [(47, 58, 'ADE')]}), (\"@cloudtoad @mrsyiswhy @bigthink each brain is different.  the ssri i'm on has worked really well.  prozac made me a zombie. #brains\", {'entities': [(116, 122, 'ADE')]}), ('@unicornluvchild no legit sex on prozac has legit scarred me for life. fuck this shit for real runaway from them', {'entities': [(17, 29, 'ADE')]}), ('thank you, prozac, for my most fucked dream to date', {'entities': [(39, 44, 'ADE')]}), (\"I need more medication than this.My body is already building a tolerance for the Prozac I've been taking.\", {'entities': [(63, 72, 'ADE')]}), (\"@courage_cub i'm feeling weirdly antsy lately and i'm positive it's due to the prozac and i'm a bit worried where that could lead me\", {'entities': [(33, 38, 'ADE')]}), ('prozac makes me want to destroy myself. js. #core', {'entities': [(24, 38, 'ADE')]}), ('do i come off my medication or do i just continue to be a prozac zombie', {'entities': [(65, 71, 'ADE')]}), (\"@gromkath it's all training injuries. 3 of them. and prozac withdrawal.\", {'entities': [(60, 70, 'ADE')]}), (\"or maybe that's the prozac ugh i need a nap always\", {'entities': [(40, 43, 'ADE')]}), (\"so apparently 60mgs of prozac will make you scared of eating gmo's and make you think you need to save the world! switching back to 40mgs!!!\", {'entities': [(44, 50, 'ADE'), (90, 112, 'ADE')]}), ('@neurobonkers also, \"meth mouth\" is really poverty mouth. u don\\'t c when people take it for adhd. nor in prozac, which similarly dries mouth', {'entities': [(132, 143, 'ADE')]}), (\"@pseudodeviant i clock in at 16 stone (added 1 stone since quetiapine) and according to that BMI thing I'm obese, which I'm clearly not.\", {'entities': [(39, 52, 'ADE')]}), ('i ate 2 cakes  2 pastries at work today. blaming the quetiapine rather than my liking for cakes. blaming work too for providing free cake.', {'entities': [(2, 5, 'ADE')]}), ('too scared to go back to sleep horrid imposing dream #mewmeds #quetiapine #mentalhealth #bipolar', {'entities': [(31, 52, 'ADE')]}), ('whoa quetiapine stop making me feel drowsy yo', {'entities': [(36, 42, 'ADE')]}), ('@mc_elhill @mhchat @womblegeorge #mhchat i had sleep paralysis every night for four months when i took quetiapine in addition to lamotrigine', {'entities': [(47, 62, 'ADE')]}), ('since swapping my quetiapine doses around, my hunger and cravings have gotten so bad!', {'entities': [(47, 53, 'ADE'), (58, 66, 'ADE')]}), (\"@hopingforhope1 i found it worked better for me than quetiapine because it didn't make me as drowsy.\", {'entities': [(93, 99, 'ADE')]}), ('guess what? still feeling weird. fuck you quetiapine. fuck you.', {'entities': [(18, 31, 'ADE')]}), (\"@bipolarblogger i'm on citalapram and 600mg quetiapine - i'm not sleeping!\", {'entities': [(61, 73, 'ADE')]}), ('Got offered a seat on the tube this morning. Quetiapine, like pregnancy, but hungrier. #bipolarlifestylechoice', {'entities': [(77, 85, 'ADE')]}), ('not hungry but eating anyway. thank you quetiapine you utter cunt.', {'entities': [(15, 21, 'ADE')]}), ('@nullfuture me too. major fatness since i started on the fabulous, non-soporific, weight-gaining quetiapine. it has to go or i will die.', {'entities': [(27, 34, 'ADE'), (83, 97, 'ADE')]}), ('i seem to need to sleep right now. quetiapine takers, is this normal?', {'entities': [(19, 34, 'ADE')]}), (\"@crescentcolours that'll be the quetiapine making you drowsy. it's a common side effect xx\", {'entities': [(54, 60, 'ADE')]}), ('@jelizap tried lithium &amp; depakote been reading up on lamotrigine it was suggested but had such nightmare with quetiapine was scared to try', {'entities': [(99, 108, 'ADE')]}), ('people taking #quetiapine - does this need to sleep 24/7 go eventually? cos this is not sustainable beyond the short term.', {'entities': [(38, 56, 'ADE')]}), (\"think i'm going to test this quetiapine headache theory &amp; take some prn &amp; see if it goes away.\", {'entities': [(40, 48, 'ADE')]}), (\"@whatkatie_did I'm certainly weird but it's quetiapine instead of crack, I can't get that on prescription.\", {'entities': [(29, 34, 'ADE')]}), ('#restlesslegs #quetiapine', {'entities': [(1, 13, 'ADE')]}), ('@butterflywgs ...my old ones! plus caffeine in the morning counteracts these quite nicely whereas quetiapine hangovers were unshiftable', {'entities': [(109, 118, 'ADE')]}), ('@redbuttongirl combining them with the quetiapine makes me hallucinate :/', {'entities': [(59, 71, 'ADE')]}), (\"and quetiapine makes you gain weight i'm scared\", {'entities': [(25, 36, 'ADE')]}), ('act now and get our deluxe cyde-fx set absolutely free! experience lucid dreaming and sleep paralysis like never before! #quetiapine', {'entities': [(67, 81, 'ADE'), (86, 101, 'ADE')]}), ('@bipolarblogger i hate quetiapine. i was so relieved to come off it and stop feeling like a zombie.', {'entities': [(92, 98, 'ADE')]}), (\"this quetiapine isn't working damnit!!!! does make me hungry at night though... *sigh*\", {'entities': [(54, 60, 'ADE')]}), (\"it's raining. i ran for the bus when i didn't need to. my gp letter isn't right. sweating like a pig thanks to quetiapine. brighton bound!\", {'entities': [(81, 89, 'ADE')]}), (\"@inkyworld why i came off it. gp told me its not dangerous but it is damn unpleasant. at least i know it's the quetiapine that's causing it\", {'entities': [(45, 84, 'ADE')]}), ('damn you quetiapine side effect. was quite enjoying being able to sleep at night', {'entities': [(58, 80, 'ADE')]}), ('still a slightly fast pulse this morning. i know this is the quetiapine', {'entities': [(17, 27, 'ADE')]}), ('@loveusnotdrugus many congratualtions for being able to come off quetiapine - i have read that and clozapine are the worst for withdrawals', {'entities': [(127, 138, 'ADE')]}), ('@cheer_bear13 quetiapine knocked me sidewards for a week then I suddenly woke up activated. Then relapsed, upped dose, activated & so on', {'entities': [(25, 45, 'ADE')]}), (\"@stillicides well no. but it's just that i dropped my quetiapine last night. i slept horribly! but i feel v unfoggy...\", {'entities': [(79, 93, 'ADE')]}), (\"@lilythepurr i've had too much quetiapine today - i'm zombified.\", {'entities': [(54, 63, 'ADE')]}), (\"i have been on lorazepam / diazepam / quetiapine for the past few nights and i've noticed i am slightly drooling a bit. lovely.\", {'entities': [(104, 112, 'ADE')]}), (\"whilst most kids ask santa for xmas presents, i'm like, can we reduce my quetiapine intake, i need to get out of bed\", {'entities': [(103, 117, 'ADE')]}), ('pretty sure the quetiapine was affecting my sense of taste', {'entities': [(53, 58, 'ADE')]}), (\"@jennniff i didn't take a zopiclone in the end.. but i'm third day of no quetiapine &amp; i'm eating incredibly differently!\", {'entities': [(94, 123, 'ADE')]}), (\"this week i officially stopped taking my quetiapine. i'm happy to be able to have a life again and not sleep 12 hours.\", {'entities': [(103, 117, 'ADE')]}), ('@lynseypattie @ukschizophrenic @polarbear3127 @weswroten its quetiapine for me. i was wearing factor 30 today &amp; i still burnt :-(', {'entities': [(124, 129, 'ADE')]}), ('quetiapine side affects are increased appetite and cravings. it all makes sense. ??????', {'entities': [(28, 46, 'ADE'), (51, 59, 'ADE')]}), (\"oh man! i've been a total quetiapine zombie all morning! i've been taking them for years but every now  then they really mess me up!\", {'entities': [(37, 43, 'ADE')]}), ('@gangamstyledad is that like quetiapine. when i had to take that crap i could not stay up longer than 11 hours', {'entities': [(78, 89, 'ADE')]}), (\"Since quetiapine's messed with my prolactin levels, making my boobs humungous & my bras so expensive, I want a lingerie component to DLA.\", {'entities': [(34, 43, 'ADE'), (62, 77, 'ADE')]}), (\"rt @bipolarblogger: since quetiapine's messed with my prolactin levels, making my boobs humungous &amp; my bras so expensive, i want a lingerie'\", {'entities': [(55, 71, 'ADE'), (83, 98, 'ADE')]}), ('21.36 day 9 rivaroxaban diary. particularly bad lower back ache had not eased by 14.00 so went to bed. much better when i woke at 19.00.', {'entities': [(54, 63, 'ADE')]}), ('18.08 day 11 rivaroxaban diary intense back pain  at a funeral from 10.30am.  paracetamol eventually took it off. very weak and aching knees', {'entities': [(39, 48, 'ADE'), (119, 123, 'ADE'), (128, 140, 'ADE')]}), ('Rivaroxaban diary ctd , neck and should ache, lower back pain and knee ache.', {'entities': [(24, 28, 'ADE'), (33, 44, 'ADE'), (52, 61, 'ADE'), (66, 75, 'ADE')]}), ('02.50 day 15 rivaroxaban diary. neck ache and lower back pain. had to kneel on floor to get out of bed.', {'entities': [(32, 41, 'ADE'), (52, 61, 'ADE')]}), ('rivaroxaban diary 2/2 ..but not hungry. has to be taken with food. only had 1 hot drink and 1 slice of bread so far today', {'entities': [(28, 38, 'ADE')]}), ('20.05 day 16 Rivaroxaban diary. Intense back and knee pain most of day;  taken more paracetamol. Had to shop, walking painful.', {'entities': [(40, 44, 'ADE'), (49, 58, 'ADE'), (110, 125, 'ADE')]}), (\"rivaroxaban 2/2 if i could float weightless in space i suspect i would not ache. but i can't so need rid of rivaroxaban.\", {'entities': [(75, 79, 'ADE')]}), ('02.20 Day 19 Rivaroxaban Diary woken up with pains in head, neck, back, hip and legs. Seeing Doc in 7 hours. No way am I continuin with Rvxn', {'entities': [(45, 58, 'ADE'), (60, 64, 'ADE'), (66, 70, 'ADE'), (72, 75, 'ADE'), (80, 84, 'ADE')]}), ('02.03 Rivaroxaban diary day 20. Some neck pain and legs still weak, but feeling much better. Very warm night.', {'entities': [(37, 46, 'ADE'), (51, 66, 'ADE')]}), ('Rivaroxaban diary day 22. Last tablet taken Tuesday 18th, 4 days ago. Woken up in pain. Bad fluid retention (uneven) on both legs.', {'entities': [(82, 86, 'ADE'), (92, 107, 'ADE')]}), ('I reckon I have drug-induced oedema causing musculo-skeletal pain. Likely drug combination: Rivaroxaban, Losartan, and Simvastatin.', {'entities': [(29, 35, 'ADE'), (44, 65, 'ADE')]}), ('21.43 day 25 rivaroxaban diary. think all rvxbn nowq out of my body but losartan (last 25mg tablet taken 4 days ago) remains. still aching.', {'entities': [(132, 138, 'ADE')]}), ('@mhchat hopefully i would love to chat or talk by skype with you and your team. i am on 1 med saphris. i lost 10 pounds 2 months ago.', {'entities': [(105, 119, 'ADE')]}), ('slept 11 hours last night on seroquel o.o', {'entities': [(0, 14, 'ADE')]}), ('this #seroquel gotta nigga feelin like a  slow turtle. #ihatemeds', {'entities': [(42, 53, 'ADE')]}), (\"@annaspargoryan benzos don't work for me &amp; i've had a cracker of a panic attack on seroquel. listening to people chat on podcasts helps me.\", {'entities': [(71, 83, 'ADE')]}), ('Last night, I had a dream that @bromethazine and I were going to have sex, but I was too tired. Seroquel is the devil.', {'entities': [(89, 94, 'ADE')]}), (\"can't even take a seroquel cause i gotta wake up smfh\", {'entities': [(35, 48, 'ADE')]}), ('this seroquel got me sleepy', {'entities': [(21, 27, 'ADE')]}), ('@exitingcorpse @luckystubbs seroquel was my boner kryptonite when i was a disfunctional teen', {'entities': [(44, 60, 'ADE')]}), (\"i'm not sure if seroquel is helping us or making things even worse.. anyone else knows if it can make dissociation worse?\", {'entities': [(102, 114, 'ADE')]}), (\"not to mention the thousands of people online who say they've stacked on the weight due to taking seroquel.\", {'entities': [(62, 83, 'ADE')]}), ('why do i always get the seroquel munchies!?', {'entities': [(33, 41, 'ADE')]}), (\"i ain't trying to take this seroquel yet. i'm not ready to be sedated and completely unconscious till tomorrow.\", {'entities': [(62, 70, 'ADE'), (85, 96, 'ADE')]}), ('@rowlegendary r u on any meds? my dreams on seroquel are fucked up', {'entities': [(34, 40, 'ADE')]}), ('my seroquel this morning got me lethargic', {'entities': [(32, 41, 'ADE')]}), (\"if your doctor prescribes you seroquel off label, they just want you to stfu. i'm a mute.\", {'entities': [(85, 89, 'ADE')]}), (\"@danietreg oh yep! the only trouble with seroquel for me is i don't want to get up in the morning. i've always been an early riser.\", {'entities': [(62, 82, 'ADE')]}), ('to take my seroquel and have weird dreams or to not... real life lyndsey world questions', {'entities': [(29, 41, 'ADE')]}), (\"@breatheinhope blargh hate this. particularly with seroquel at night. i not i don't sleep. if have and have more cant get up :/\", {'entities': [(78, 89, 'ADE'), (113, 124, 'ADE')]}), ('my body is so not ready for this seroquel. never had an antidepressant knock me the fuck out at a quarter dose before o _o', {'entities': [(71, 93, 'ADE')]}), (\"the seroquel is definitely causing this restlessness i'm experiencing #jitters\", {'entities': [(40, 52, 'ADE'), (71, 78, 'ADE')]}), ('shouts out to seroquel for giving me that blessed 17h sleep tho', {'entities': [(50, 59, 'ADE')]}), ('@PreciousThing I just had a look buddy, and my medication (Seroquel) does affect tolerance to the sun.', {'entities': [(81, 101, 'ADE')]}), (\"@badboyfloyd_ lmao, i'm prescribed baby. it's for my anxiety. i take seroquel, and celexa with it. i'm a fucking zombie after 9pm.\", {'entities': [(113, 119, 'ADE')]}), (\"@deanmikel i'm not lazy!! my seroquel knocked me out!!\", {'entities': [(38, 52, 'ADE')]}), ('that seroquel had me sleepy as fuck alllll damn day', {'entities': [(21, 27, 'ADE')]}), ('my tremors are horrible. fuck seroquel.', {'entities': [(3, 10, 'ADE')]}), ('Medication side-affects have hit me hard today: I keep on randomly jolting or rocking, it is so bad I am finding it hard to type! #Seroquel', {'entities': [(67, 74, 'ADE'), (78, 85, 'ADE')]}), ('seroquel will make you sleep for 12 hours.', {'entities': [(23, 41, 'ADE')]}), ('so damn sleepy. this seroquel is fucking me up so bad.', {'entities': [(8, 14, 'ADE')]}), ('that seroquel has been given me some seriously fucked up dreams.', {'entities': [(47, 63, 'ADE')]}), ('@JessBarrett227 Taking someone off 150mg off Seroquel, mixing it with Olanzapine in 2 wks causes psychosis - a proper assess was not done.', {'entities': [(97, 106, 'ADE')]}), ('so unfair, i never get the good side effects of meds. ativan, seroquel, &amp; ambien xr make me feel so drink i cant really walk &amp; im nauseated', {'entities': [(97, 110, 'ADE'), (113, 129, 'ADE'), (139, 148, 'ADE')]}), (\"if you want to sleep for 15 hours, take seroquel. fuck i just woke up and it's 4\", {'entities': [(16, 34, 'ADE')]}), ('wow, the rls is out of control tonight #notfun does anyone out there taking seroquel have issues with restless leg syndrome?', {'entities': [(10, 13, 'ADE'), (103, 124, 'ADE')]}), (\"only problem is i'm hungry. seroquel nation hunger :(\", {'entities': [(20, 26, 'ADE'), (44, 50, 'ADE')]}), (\"@nanamack69 i'm here been in a seroquel coma lol\", {'entities': [(40, 44, 'ADE')]}), (\"oh i get it  ambien  seroquel  now i'm floatin\", {'entities': [(39, 46, 'ADE')]}), (\"Found out that it could be two months before I sleep well again now that I'm off Seroquel. Srsly, fuck the psychiatrist that put me on it.\", {'entities': [(47, 52, 'ADE')]}), (\"seroquel is causing more gaps in memory, I don't remember going to therapy and as usual no one has stepped up to claim thos memories >>\", {'entities': [(25, 39, 'ADE')]}), ('@jessovenden No more SSRI’s for me. They kept giving me manic reactions, usually angry. The Seroquel has me feeling too tired. It’s brutal', {'entities': [(56, 71, 'ADE'), (81, 86, 'ADE'), (119, 125, 'ADE')]}), ('@adelerosenbloom Getting off Seroquel (Sero-KILL) can cause convulsions, fever, toxic reactions, psychotic reactions. and other shit', {'entities': [(60, 71, 'ADE'), (73, 78, 'ADE'), (80, 95, 'ADE'), (97, 116, 'ADE')]}), ('seroquel census: \"did we kiss?\" (notes i scribble next to my bed at 5am, loopy on anti-psychotics)', {'entities': [(76, 81, 'ADE')]}), (\"@obsidianvormund was on seroquel for years in my teens &amp; stopped taking it. a 'quack' doc put me back on it &amp; i gained 50 in 3 months.\", {'entities': [(120, 129, 'ADE')]}), (\"@kaliruoff ohhh...lmao that's just great. maybe it was probably seroquel. that stuff knocks you outttttttt haha\", {'entities': [(85, 106, 'ADE')]}), (\"@alyseisspecial omg seroquel. that made me crazy town. i hope it's a low dose. so it's almost midnight. last gulp now, and sober tomorrow.\", {'entities': [(44, 54, 'ADE')]}), (\"I have been on Seroquel (Quetiapine) for so long I don't even know what the side-effects are! Although, I think overheating is definitely 1.\", {'entities': [(112, 123, 'ADE')]}), ('seroquel makes me wanna eat so much', {'entities': [(24, 35, 'ADE')]}), ('damn you seroquel! why you only let me sleep four hours!?!?', {'entities': [(27, 55, 'ADE')]}), ('conclusion: my psychiatrist is not very attentive and i should be on seroquel, not benzos and the maniatriggering lamitol. #ugh', {'entities': [(99, 104, 'ADE')]}), ('@crazyindapeg 3 seroquel?? hell i take half of the lowest dosage and i am knocked on my ass!!', {'entities': [(74, 91, 'ADE')]}), ('@privacy625 @sandycolon25 the seroquel is addictive a d they deny it.', {'entities': [(42, 51, 'ADE')]}), ('coming up this week: seroquel is notorious for two things - making you sleep until next tuesday, and leaving you a hangover.  lovely.', {'entities': [(72, 77, 'ADE'), (116, 124, 'ADE')]}), ('@bipolar_mania i just got diagnosed a few weeks ago with bpd...they put me on seroquel and kept me on zoloft with it. it makes me eat a lot.', {'entities': [(130, 139, 'ADE')]}), (\".@tootingrebecca at last, a good side effect. couldn't go back on seroquel due to diabetes risk.\", {'entities': [(83, 96, 'ADE')]}), ('@tootingrebecca when i forgot seroquel made me feel fucking ill as fuck!', {'entities': [(60, 63, 'ADE')]}), ('@karensmallcat i hated seroquel, i was sleeping 18 hrs a day on it', {'entities': [(39, 62, 'ADE')]}), ('@dearabbygail yeah, ambien is also addictive, so short term is the goal. ask about seroquel? tell the doc about all the health stuffs though', {'entities': [(36, 45, 'ADE')]}), (\"oops meant to say janice ian. that's why my doctor took me off seroquel... because it makes me retarded.\", {'entities': [(95, 103, 'ADE')]}), ('fuck seroquel. i need to be awake', {'entities': [(17, 33, 'ADE')]}), (\"I need to progress onto oxazepam.Apparently it's more sedating. Seroquel is sedating, but you can hardly open or close your mouth.\", {'entities': [(98, 129, 'ADE')]}), ('no fail, seroquel does make you hungry.', {'entities': [(33, 39, 'ADE')]}), (\"@Glass1ncision It's called Seroquel Prolong (Quetiapine). Apart from the weight gain, I am actually quite happy with it.\", {'entities': [(73, 84, 'ADE')]}), ('seroquel has arrived. question now is when do i want to be zombified?', {'entities': [(59, 68, 'ADE')]}), (\"two days without my seroquel' i feel like death, seriously\", {'entities': [(33, 48, 'ADE')]}), ('stopped #seroquel for 2 months as it caused terrible side effect. had to start back up or lose my job #hotflashes r soooo fun #thisismylife', {'entities': [(103, 113, 'ADE')]}), ('although taking it now would run counter to my current \"food + seroquel = RLS\" philosophy', {'entities': [(74, 77, 'ADE')]}), ('wish i could stay up and do nicething with all the loveliesd but woah does seroquel hit hard', {'entities': [(84, 92, 'ADE')]}), ('#schizophrenia #seroquel did not suit me at all. had severe tremors and weight gain. diabetes too! switched to #abilify. suits me well.', {'entities': [(60, 67, 'ADE'), (72, 83, 'ADE'), (85, 93, 'ADE')]}), ('ooh me too! rt @xyle50ul: #schizophrenia #seroquel did not suit me at all. had severe tremors and weight gain.', {'entities': [(85, 93, 'ADE'), (98, 109, 'ADE')]}), ('@eqinnastra all the time! i took trazodone last night and it really helped- but it was difficult to wake up :-/', {'entities': [(87, 107, 'ADE')]}), ('@stinkings @evilbadgerette trazodone was evil. turned you all flat :(', {'entities': [(62, 66, 'ADE')]}), (\"I've taken everything but my Trazodone that's tonight, but the nasal spray is giving me a drip :|\", {'entities': [(90, 94, 'ADE')]}), ('last night i was a mermaid and then a wizard who had to save the world while being hunted by the japanese... err thank you #trazodone ?', {'entities': [(0, 105, 'ADE')]}), ('@droz i take trazodone for my #insomina &amp; still have a hard time falling asleep or i end up having crazy dreams that wake me up!?! #ozsleep', {'entities': [(103, 115, 'ADE')]}), ('pop a trazodone i have fuckin dry mouth', {'entities': [(30, 39, 'ADE')]}), ('trazodone is no joke. slept through every alarm.', {'entities': [(22, 47, 'ADE')]}), ('trazodone hangovers are the worst, though. sigh', {'entities': [(11, 20, 'ADE')]}), (\"god knows how i'm going to sleep tonight after sleeping 9 hours in the day ? #trazodone ?\", {'entities': [(47, 74, 'ADE')]}), ('side affects of this withdrawal contains confusion, deliriousness, nauesousness and insomnia #withdrawal #trazodone #omgicantwait #help', {'entities': [(22, 32, 'ADE'), (42, 51, 'ADE'), (53, 66, 'ADE'), (68, 80, 'ADE'), (85, 93, 'ADE'), (95, 105, 'ADE')]}), (\"&amp; i'm not taking that trazodone ever again shit had me sleep for like 12 hours\", {'entities': [(59, 82, 'ADE')]}), ('woke up from a nap with a really bad headache, my 2nd headache in three days. #trazodone #withdrawls', {'entities': [(38, 46, 'ADE'), (55, 63, 'ADE'), (91, 101, 'ADE')]}), (\"exhausted...can't fall asleep. don't wanna take a trazadone and wake up hungover. #sleepdisorderproblems\", {'entities': [(72, 80, 'ADE')]}), ('@Iamjoy1 yeah I know, I dont take my trazadone at night cause it makes me feel groggy in the morning and I wont wake to my alarm):', {'entities': [(79, 85, 'ADE'), (107, 116, 'ADE')]}), (\"@INukeYou And then I had horrible sleep once I took the trazodone. I just couldn't win, haha.\", {'entities': [(25, 39, 'ADE')]}), (\"i can't stop yawning #trazodone\", {'entities': [(13, 20, 'ADE')]}), ('had a dream my eyes got burned out of my head. thank you trazodone', {'entities': [(6, 11, 'ADE')]}), ('im on the codiene lean oxy hydro pill trazodone ah man loud n moscato vision blurry still alot on deck fuck everybody im rollin #superhard', {'entities': [(70, 83, 'ADE')]}), ('dear lord how did i just now wake up? thank you trazodone for ruining my life.', {'entities': [(20, 36, 'ADE')]}), ('@thekatieduke pt with similar found out trazodone can do the same. md said it was common. \"trazodone gives you a bone\". he is a poet.', {'entities': [(115, 119, 'ADE')]}), ('my tolerance for my trazodone goes up every few days??', {'entities': [(3, 12, 'ADE')]}), ('@katie_woodman fingers crossed i have been taken off tysabri because my body is resisting it ha typical hope you are doing ok :)', {'entities': [(80, 92, 'ADE')]}), (\"tysabri infusion #54 yesterday. made me feel tired and out of it for a while. maybe it's the heat - 34c (94f)!!! maybe a very hot summer?\", {'entities': [(45, 50, 'ADE'), (55, 64, 'ADE')]}), ('@kirkby007 i had a gene test for tysabri i guess it can cause a fatal brain disorder. my chances are low.. but that crap is creepy.', {'entities': [(70, 84, 'ADE')]}), ('have any of you developed knee pain since starting tysabri ? what helps with the problem ?', {'entities': [(26, 35, 'ADE')]}), ('i have put on weight (thanks ms and #tysabri). always look on the bright side: time for a @thinkgeek t-shirt spree! #winning', {'entities': [(7, 20, 'ADE')]}), ('anyway, i was just feeling itchy and my neck was red so they gave me benedryl with my #tysabri. might be a coincidence but just in case', {'entities': [(28, 33, 'ADE'), (41, 53, 'ADE')]}), (\"i need more energy today. don't know where to get it from, though. this is the result of going off #tysabri for #msandlife and heat-related.\", {'entities': [(13, 19, 'ADE')]}), ('why must i be so tired. this spell better just be new med beginnings &amp; go away! #tysabri', {'entities': [(17, 22, 'ADE')]}), ('tysabri bruises are the best http://t.co/l1gpzefu5f', {'entities': [(8, 15, 'ADE')]}), (\"wondered why my limbs ached and i was shivering on the hottest day of the year so far. forgot my venlafaxine. that'll be withdrawal then!\", {'entities': [(16, 27, 'ADE'), (38, 47, 'ADE'), (121, 131, 'ADE')]}), ('@fibrofighter08 Venlafaxine gave me horrendous nightmares, & coming of it was horrific.!', {'entities': [(47, 57, 'ADE'), (61, 86, 'ADE')]}), ('seem to be feeling a bit better. disturbed sleep is a problem though. #venlafaxine #day15', {'entities': [(33, 48, 'ADE')]}), (\"i can't see the point in taking #venlafaxine it's screwing up my sleep &amp; i'm pretty sure it's not helping with the depression.\", {'entities': [(50, 70, 'ADE')]}), ('@calyxxx same with venlafaxine, 1 user I spoke to yrs ago stopped taking that when she started having acid like trips losing hours at a time', {'entities': [(102, 117, 'ADE')]}), (\"as are (probably) the nausea, headache, sweats, flu symptoms &amp; diarrhea. but it's still better than being on it.  #venlafaxine #withdrawal\", {'entities': [(23, 29, 'ADE'), (31, 39, 'ADE'), (41, 47, 'ADE'), (49, 61, 'ADE'), (68, 76, 'ADE'), (133, 143, 'ADE')]}), ('@samambreen venlafaxine definitely does mine. also makes me need 15 hours sleep a day. hence now unmediated &amp; rollercoastery.', {'entities': [(65, 79, 'ADE')]}), ('@twistedwillow @SamAmbreen apologies if gatecrashing. I was like walking dead when first started venlafaxine, much better now dose stable', {'entities': [(65, 77, 'ADE')]}), (\"@nicolapow i'd consider restarting the venlafaxine today but it was messing with my sleep big time :( i'll go back to dr x\", {'entities': [(68, 89, 'ADE')]}), ('@jamesaengland i might go back on the venlafaxine &amp; give it another chance but it was wrecking my sleep :( x', {'entities': [(90, 107, 'ADE')]}), ('um yay venlafaxine set off a mixed episode. calming down now after weeks, now back to the depression of before. yay indeed', {'entities': [(30, 43, 'ADE')]}), ('venlafaxine hangover finally starting to shift after 2 huge mugs of hot water with giant pieces of lemon...', {'entities': [(12, 20, 'ADE')]}), (\"#twothingsthatdontmixwell venlafaxine and alcohol- you'll cry and throw chairs at your mom's bbq.\", {'entities': [(58, 61, 'ADE'), (66, 78, 'ADE')]}), (\"@lynnbett Off Venlafaxine which was pure hell for me, I can't switch these meds anymore, tired of feeling like shit all day.\", {'entities': [(98, 115, 'ADE')]}), (\"@asdfghjklucy_ venlafaxine was always awful for that. like someone sprayed hairspray all over my tongue... eww isn't a strong enough word!\", {'entities': [(67, 103, 'ADE')]}), ('coming off 150mg venlafaxine over 14 days was a better idea in discussion. my brain feels like its actually vibrating! #willpower', {'entities': [(78, 117, 'ADE')]}), ('anyone who will listen: never ever take effexor/venlafaxine. paraesthesia abound.', {'entities': [(61, 73, 'ADE')]}), ('day 3 without #venlafaxine. worst drug ever to withdraw from? any support much appreciated!', {'entities': [(47, 55, 'ADE')]}), ('so anyway last night.. my new medication (venlafaxine/effexor) made me feel the most depressed ever, and i overreacted about everything', {'entities': [(86, 95, 'ADE'), (108, 119, 'ADE')]}), ('@mycuriousmind not sure. i took it with venlafaxine mostly, and think it was that which made me very tired', {'entities': [(102, 107, 'ADE')]}), ('@BipolarBlogger yeah,  generic Venlafaxine has about four different slow release formulations,  I got withdrawals from some.', {'entities': [(102, 113, 'ADE')]}), ('packing whilst experiencing venlafaxine withdrawal is pretty hellish. got to keep track of my med times.', {'entities': [(40, 50, 'ADE')]}), ('@mycuriousmind not that i ever noticed. i was taking it with venlafaxine, and it definitely made me drowsy', {'entities': [(101, 107, 'ADE')]}), (\"@sarahcherry88 @mycuriousmind i didn't find it any more sedative than just venlafaxine alone. prob a little less so :)\", {'entities': [(56, 64, 'ADE')]}), ('@anwen @ellwynnnnn venlafaxine withdrawal is worse than most by miles x', {'entities': [(31, 41, 'ADE')]}), (\"i just have to remember that what i'm feeling is the withdrawal from the venlafaxine. when my meds come, i will get better.\", {'entities': [(54, 64, 'ADE')]}), (\"but i'm happy to be clean. just really really really really really really really sucked going from 100mg desvenlafaxine / day to zero.\", {'entities': [(81, 133, 'ADE')]}), ('i need to start taking my viibryd again but it makes me feel so nauseous ughhh', {'entities': [(64, 72, 'ADE')]}), ('@sam_dietrich just had the viibryd vision shake thing again very cool', {'entities': [(35, 47, 'ADE')]}), (\"i'm sort of nauseous. don't know if it's a side effect of the viibryd or i need to eat more or what. unpleasant.\", {'entities': [(12, 20, 'ADE')]}), ('dear seizure buddies, never ever take vimpat. side effects &amp; withdrawals are quite fucking hideous. love, meh xoxo', {'entities': [(66, 77, 'ADE')]}), (\"I can feel my heart starting to palpitate from vyvanse, red bull, and nicotine. That's probably par for the course for finals week, right?\", {'entities': [(32, 41, 'ADE')]}), ('my breath smells awful (thanks vyvanse) anyone have gum', {'entities': [(3, 16, 'ADE')]}), (\"if you're taking vyvanse can we please discuss side effects real quick wtf is happening to my digestive system\", {'entities': [(94, 110, 'ADE')]}), ('my vyvanse is seriously about to drive me crazy', {'entities': [(33, 47, 'ADE')]}), (\"the only bad thing about vyvanse is the awful headache you get when it's starting to wear off ?\", {'entities': [(46, 54, 'ADE')]}), ('took a vyvanse for the first time in a month feelin weird.', {'entities': [(45, 57, 'ADE')]}), (\"i wish i could be tired. shouldn't have taken the vyvanse. now i'm never sleeping.\", {'entities': [(9, 23, 'ADE'), (67, 81, 'ADE')]}), ('didnt take my vyvanse and remembered what food is #firstworldproblems @_ericalynn_', {'entities': [(26, 49, 'ADE')]}), ('ready for bed but vyvanse is saying no #forciblynocturnal', {'entities': [(0, 38, 'ADE'), (40, 57, 'ADE')]}), (\"i have a feeling i'm not going to go to bed at all tonight. damn you vyvanse!\", {'entities': [(21, 43, 'ADE')]}), ('when cute boys send you home with free drugs you say thank you, then stay up all night feeling like you have to poop. #vyvanse #daytimesleep', {'entities': [(70, 87, 'ADE'), (88, 117, 'ADE')]}), ('vyvanse makes you mad *example a*', {'entities': [(18, 21, 'ADE')]}), (\"@Back_datASHup same lol didn't eat a thing, damn vyvanse\", {'entities': [(24, 42, 'ADE')]}), (\"'@kendallmarieem: i'm sleepless, you've got me wide awake' my song to vyvanse and mdma\", {'entities': [(23, 32, 'ADE'), (53, 58, 'ADE')]}), (\"i'm feeling extra ocd right now. like chill out melissa. my vyvanse has me wired or something....\", {'entities': [(18, 21, 'ADE'), (75, 80, 'ADE')]}), ('@drdrewhln @drdrew #zimmerman was removed from vyvanse for mood swings before he was put on adderall see med report: http://t.co/g5dxrjkpr5', {'entities': [(59, 70, 'ADE')]}), ('no #vyvanse = eat everything in sight.', {'entities': [(14, 17, 'ADE')]}), (\"i couldn't remember if i took a vyvanse or not early so i took another one &amp;now i'm spazzing out... bc obviously i took one already?? #adhd\", {'entities': [(88, 100, 'ADE')]}), (\"don't ever take a vyvanse and drink an energy drink. your heart will explode\", {'entities': [(58, 76, 'ADE')]}), (\"seriously haven't ate one thing all damn day.. #vyvanse #add #damn\", {'entities': [(10, 21, 'ADE')]}), (\"can't even enjoy this banana right now because of fuckin vyvanse what is life\", {'entities': [(0, 28, 'ADE')]}), ('this vyvanse is keeping me up tho but i want to sleep', {'entities': [(16, 29, 'ADE')]}), (\"'@r_kohler1: this 40 hours of no sleeping really sucks #vyvanse' was just going to tweet this\", {'entities': [(30, 41, 'ADE')]}), ('fda needs a warning label on vyvanse: \"consumption of this drug may result in major ocd/many unneeded hrs at work\" http://t.co/ugxj62lpim', {'entities': [(86, 89, 'ADE')]}), ('i guess that vyvanse want a good idea i just want to sleeeeep', {'entities': [(45, 61, 'ADE')]}), ('@nikkimarieeeee lucky bitch i took vyvanse today as it makes me not eat i just wanna be able to wanna eat ugh', {'entities': [(64, 71, 'ADE')]}), ('@itwasntbay yeah when i take vyvanse any food just looks/sounds/tastes fucking disgusting', {'entities': [(41, 89, 'ADE')]}), ('i guess this is what i get for doubling my vyvanse #nosleep', {'entities': [(52, 59, 'ADE')]}), ('@fleer09: playing league while on vyvanse is too damn stressful.  back to public i go!', {'entities': [(54, 63, 'ADE')]}), ('i need to stop the vyvanse that shit can fuck with your head', {'entities': [(41, 60, 'ADE')]}), ('vyvanse completely fucks up my sleep smh but i need it to study too', {'entities': [(19, 36, 'ADE')]}), (\"'@brycesheppard21: popped a vyvanse im sweatin'#schoollife\", {'entities': [(39, 46, 'ADE')]}), ('every day i take a vyvanse, i sleep less the next night.', {'entities': [(31, 41, 'ADE')]}), ('i think that vyvanse is making me grind my teeth...', {'entities': [(34, 48, 'ADE')]}), (\"shouldn't have taken 80mg of vyvanse today... #cantsleep\", {'entities': [(47, 56, 'ADE')]}), ('thank god for vyvanse #addicted', {'entities': [(23, 31, 'ADE')]}), ('adderall puts me in a good mood, vyvanse makes me an asshole.', {'entities': [(42, 61, 'ADE')]}), ('results of accidentally taking 100 mg of vyvanse last night: i took it at 11:00am and was wide awake until 3:30 this morning..', {'entities': [(90, 100, 'ADE')]}), (\"amateur porn tips: take vyvanse! after two hours of continuous shitting, you'll be ready for anal with no embarrassing poo accidents! ?\", {'entities': [(53, 72, 'ADE')]}), (\"i shouldn't tweet on vyvanse it's going to be extremely negative lol\", {'entities': [(56, 64, 'ADE')]}), (\"Wanna go back to sleep, but this vyvanse ain't letting me\", {'entities': [(9, 22, 'ADE')]}), ('@boop_b_love vyvanse and adivan....its ws a crazy night my heart stopped for like 36 seconds. woke up in the mental hospital.', {'entities': [(59, 72, 'ADE')]}), (\"@hwise29 Yikes! I can usually fight Adderall/Vyvanse dehydration with water, but it's trickier when you're drinking your stimulants.\", {'entities': [(53, 64, 'ADE')]}), (\"lalalalala.. clearly i've underestimated my vyvanse by choosing to take it in the middle of the day. #wideawake #neveragain ?\", {'entities': [(102, 111, 'ADE')]}), (\"vyvanse evidently doesn't care about my bed time\", {'entities': [(18, 48, 'ADE')]}), ('i took 60 mg of vyvanse at 2 o clock today. i have not slept since five yesterday morning. never take vyvanse!! this is miserable', {'entities': [(51, 60, 'ADE')]}), ('vyvanse is a hell of a drug. you get expensive insomnia! and you get expensive insomnia!', {'entities': [(47, 55, 'ADE'), (79, 87, 'ADE')]}), ('too much vyvanse.... not sleeping tonight', {'entities': [(21, 33, 'ADE')]}), ('if this fuckin emt looks at me one more time hes gonna feel the wrath of my vyvanse rage', {'entities': [(84, 88, 'ADE')]}), (\"my emails to big pharm were answered! turns out there is a pill that makes you stop spending all of your income in food and it's #vyvanse\", {'entities': [(79, 119, 'ADE')]}), (\"rt @ho0driiich: i hate how vyvanse makes me over think everything and it makes me angry about things that i shouldn't even be angry about\", {'entities': [(44, 54, 'ADE'), (82, 87, 'ADE')]}), (\"i really hate the fact that i feel like i need to throw up while at work. maybe taking my vyvanse wasn't a good idea\", {'entities': [(30, 58, 'ADE')]}), (\"'@vyvanseswag: i run on vyvanse and redbull.' so done with that life. vyvance cooked my brain like a stove top\", {'entities': [(78, 93, 'ADE')]}), ('rt @vyvansethoughts: @the_ignorable hungover shakes  vyvanse shakes  coffee = recipe for success', {'entities': [(61, 67, 'ADE')]}), ('How is it that Vyvanse gives me dry mouth, but I still produce this much saliva in my sleep?', {'entities': [(32, 41, 'ADE'), (73, 79, 'ADE')]}), ('would like less vyvanse and more sleep in my life', {'entities': [(33, 38, 'ADE')]}), ('Damn i need to sleep,  fucken vyvanse', {'entities': [(7, 20, 'ADE')]}), ('no taste for you -vyvanse', {'entities': [(0, 8, 'ADE')]}), (\"# when i take my vyvanse  i don't eat!\", {'entities': [(28, 37, 'ADE')]}), ('Vyvanse, commonly known as OCD in a pill.', {'entities': [(27, 30, 'ADE')]}), ('rt @vyvanseswag: vyvanse, commonly known as ocd in a pill.', {'entities': [(45, 48, 'ADE')]}), ('vyvanse makes me think too much ?', {'entities': [(17, 31, 'ADE')]}), ('rt @sueereid: vyvanse makes me think too much ?', {'entities': [(31, 45, 'ADE')]}), ('rt @sueereid: vyvanse makes me think too much ?', {'entities': [(31, 46, 'ADE')]}), ('All nighter is killing me right now, I hate you vyvanse', {'entities': [(0, 11, 'ADE')]}), (\"i'm becoming too tolerant to vyvanse #notgrooy\", {'entities': [(17, 25, 'ADE')]}), ('finally got my vyvanse today, now i can go back to hating food . ha', {'entities': [(52, 63, 'ADE')]}), (\"my mind races when i'm on a vyvanse\", {'entities': [(3, 13, 'ADE')]}), ('vyvanse masks me so depressed', {'entities': [(20, 29, 'ADE')]}), ('rt @vyvanseswag: vyvanse, commonly known as ocd in a pill.', {'entities': [(45, 48, 'ADE')]}), (\"it's 6 am and still no sleep fuck you vyvanse\", {'entities': [(20, 28, 'ADE')]}), (\"vyvanse at 7pm probably wasn't a great idea.. i can't sleeeep -__-\", {'entities': [(48, 61, 'ADE')]}), ('rt @kaylaamorley: never take your vyvanse at fucking 4 pm... #teamnosleep', {'entities': [(62, 73, 'ADE')]}), ('geez this vyvanse makes me talk a mile a minute haha', {'entities': [(27, 47, 'ADE')]}), ('Thank god my steady stream of vyvanse is wearing off, i can sleep now.', {'entities': [(60, 65, 'ADE')]}), (\"@_kassidymariee maybe it's just a vyvanse addict thing rt @vyvanseswag: nothing more satisfying than crossing something off your to-do list.\", {'entities': [(42, 48, 'ADE')]}), (\"@_chanabeth_ @laceykaybee i didn't stay long. and i took a vyvanse so i can't go back to sleep. lol\", {'entities': [(72, 94, 'ADE')]}), (\"i don't know if vyvanse was a good idea #nosleep\", {'entities': [(41, 48, 'ADE')]}), ('i have got to stop taking my vyvanse so late!! #nosleep #addproblems', {'entities': [(48, 55, 'ADE')]}), ('i always plan on eating breakfast, and then i wake up &amp; take my vyvanse... #vyvanseproblems', {'entities': [(10, 24, 'ADE')]}), ('pretty sure my vyvanse is making me dizzy and making my chest hurt. ?', {'entities': [(36, 41, 'ADE'), (56, 66, 'ADE')]}), ('vyvanse was like aderall and crack i got ten minutes of sleep pearl', {'entities': [(37, 61, 'ADE')]}), ('this vyvanse got me sweating right now and i dont even know why', {'entities': [(20, 28, 'ADE')]}), ('@whiskey_girl33 oh yuck. we all have our least favorite body fluid. mine is aerosolized blood. nosebleed on xarelto -eeeew', {'entities': [(95, 104, 'ADE')]}), ('do you think anyone has ever managed to have an orgasm while on xarelto?', {'entities': [(48, 54, 'ADE')]}), (\"@verlieren thank you! it didn't even fucking work. i went back to ziprasidone but now will never have another orgasm in my life.\", {'entities': [(91, 116, 'ADE')]}), (\"i just found out that some dude from my friend's family was in a coma because of that drug (zyprexa) i was prescribed.\", {'entities': [(65, 69, 'ADE')]}), ('that zyprexa really makes your vocal chords marvelous only it makes you gain so much weight', {'entities': [(72, 91, 'ADE')]}), (\"i'm so fine today. increasing zyprexa,my condisition is became so good. it has a side effect that increase my weight. i must care about it.\", {'entities': [(99, 117, 'ADE')]})]\n",
            "1234\n"
          ],
          "name": "stdout"
        }
      ]
    },
    {
      "cell_type": "markdown",
      "metadata": {
        "id": "ULUzBJXNS4ul"
      },
      "source": [
        "# Creating the spaCy model\n"
      ]
    },
    {
      "cell_type": "code",
      "metadata": {
        "id": "IaAAx7NRkaks"
      },
      "source": [
        "import spacy\n",
        "import warnings\n",
        "from pathlib import Path\n",
        "from spacy.util import minibatch, compounding\n",
        "from spacy.training import Example\n",
        "import random\n",
        "from tqdm import tqdm\n",
        "import torch"
      ],
      "execution_count": null,
      "outputs": []
    },
    {
      "cell_type": "code",
      "metadata": {
        "id": "4PSRwCcVS_zh"
      },
      "source": [
        "model = None\n",
        "output_dir = Path(\"/content/model_val\")\n",
        "n_iter=250"
      ],
      "execution_count": null,
      "outputs": []
    },
    {
      "cell_type": "code",
      "metadata": {
        "id": "B7TUvrBcU3q6"
      },
      "source": [
        "nlp2 = spacy.load('en_core_web_trf')\n",
        "#nlp2 = spacy.load('en_core_web_sm')\n",
        "is_using_gpu = spacy.prefer_gpu()\n",
        "if is_using_gpu:\n",
        "    torch.set_default_tensor_type(\"torch.cuda.FloatTensor\")\n"
      ],
      "execution_count": null,
      "outputs": []
    },
    {
      "cell_type": "code",
      "metadata": {
        "id": "g_3nz2WHTUfb",
        "colab": {
          "base_uri": "https://localhost:8080/"
        },
        "outputId": "23544c16-3741-4c38-89c1-f0e414ea57c5"
      },
      "source": [
        "if model is not None:\n",
        "    ner_model = spacy.load(model)  # load existing spaCy model\n",
        "    print(\"Loaded model '%s'\" % model)\n",
        "else:\n",
        "# this will create a blank english model\n",
        "    ner_model = spacy.blank('en')  # create blank Language class\n",
        "    print(\"Created blank 'en' model\")"
      ],
      "execution_count": null,
      "outputs": [
        {
          "output_type": "stream",
          "text": [
            "Created blank 'en' model\n"
          ],
          "name": "stdout"
        }
      ]
    },
    {
      "cell_type": "code",
      "metadata": {
        "id": "8GereR2MoinR"
      },
      "source": [
        "# nlp.create_pipe works for built-ins that are registered with spaCy\n",
        "if \"ner\" not in ner_model.pipe_names:\n",
        "  ner = ner_model.create_pipe(\"ner\")\n",
        "  ner_model.add_pipe(\"ner\", last=True)\n",
        "# otherwise, get it so we can add labels\n",
        "else:\n",
        "  ner = ner_model.get_pipe(\"ner\")\n"
      ],
      "execution_count": null,
      "outputs": []
    },
    {
      "cell_type": "code",
      "metadata": {
        "id": "aslQBG53o0jv"
      },
      "source": [
        "for _,annotations in TRAIN_DATA:\n",
        "        for ent in annotations.get(\"entities\"):\n",
        "            ner.add_label(ent[2])"
      ],
      "execution_count": null,
      "outputs": []
    },
    {
      "cell_type": "code",
      "metadata": {
        "colab": {
          "base_uri": "https://localhost:8080/"
        },
        "id": "sC6bwUgXUe6h",
        "outputId": "d59b6719-8b44-4dd0-ab4d-aceb11904e1f"
      },
      "source": [
        "pipe_exceptions = [\"ner\"]\n",
        "other_pipes = [pipe for pipe in ner_model.pipe_names if pipe not in pipe_exceptions]\n",
        "# only train NER\n",
        "with ner_model.disable_pipes(*other_pipes), warnings.catch_warnings():\n",
        "#with nlp2.disable_pipes(*other_pipes), warnings.catch_warnings():\n",
        "  # ignore warnings for misaligned entity spans once\n",
        "  warnings.filterwarnings(\"ignore\", category=UserWarning, module='spacy')\n",
        "\n",
        "# reset and initialize the weights randomly – but only if we're\n",
        "# training a new model\n",
        "  if model is None:\n",
        "    optimizer = ner_model.begin_training()\n",
        "    #optimizer = nlp2.resume_training()\n",
        "    for i in tqdm(range(n_iter), total = n_iter):\n",
        "      random.shuffle(TRAIN_DATA)\n",
        "      losses = {}\n",
        "      batches = minibatch(TRAIN_DATA, size=compounding(4.0, 32.0, 1.001))\n",
        "      for batch in batches:\n",
        "        examples = []\n",
        "        for text, annots in batch:\n",
        "          examples.append(Example.from_dict(ner_model.make_doc(text), annots))\n",
        "        ner_model.update(examples, drop = 0.3, sgd = optimizer, losses = losses)\n",
        "        #nlp2.update(examples, drop = 0.5, sgd = optimizer, losses = losses)\n",
        "      print(\"Epoch, Losses:\",i, losses)"
      ],
      "execution_count": null,
      "outputs": [
        {
          "output_type": "stream",
          "text": [
            "  0%|          | 1/250 [00:14<1:00:42, 14.63s/it]"
          ],
          "name": "stderr"
        },
        {
          "output_type": "stream",
          "text": [
            "Epoch, Losses: 0 {'ner': 2769.8204395220732}\n"
          ],
          "name": "stdout"
        },
        {
          "output_type": "stream",
          "text": [
            "\r  1%|          | 2/250 [00:27<58:17, 14.10s/it]  "
          ],
          "name": "stderr"
        },
        {
          "output_type": "stream",
          "text": [
            "Epoch, Losses: 1 {'ner': 1878.3243639311374}\n"
          ],
          "name": "stdout"
        },
        {
          "output_type": "stream",
          "text": [
            "\r  1%|          | 3/250 [00:39<55:29, 13.48s/it]"
          ],
          "name": "stderr"
        },
        {
          "output_type": "stream",
          "text": [
            "Epoch, Losses: 2 {'ner': 1602.30964029993}\n"
          ],
          "name": "stdout"
        },
        {
          "output_type": "stream",
          "text": [
            "\r  2%|▏         | 4/250 [00:51<52:48, 12.88s/it]"
          ],
          "name": "stderr"
        },
        {
          "output_type": "stream",
          "text": [
            "Epoch, Losses: 3 {'ner': 1393.2969896296736}\n"
          ],
          "name": "stdout"
        },
        {
          "output_type": "stream",
          "text": [
            "\r  2%|▏         | 5/250 [01:03<51:53, 12.71s/it]"
          ],
          "name": "stderr"
        },
        {
          "output_type": "stream",
          "text": [
            "Epoch, Losses: 4 {'ner': 1287.6048489796156}\n"
          ],
          "name": "stdout"
        },
        {
          "output_type": "stream",
          "text": [
            "\r  2%|▏         | 6/250 [01:13<49:12, 12.10s/it]"
          ],
          "name": "stderr"
        },
        {
          "output_type": "stream",
          "text": [
            "Epoch, Losses: 5 {'ner': 1148.3134136605663}\n"
          ],
          "name": "stdout"
        },
        {
          "output_type": "stream",
          "text": [
            "\r  3%|▎         | 7/250 [01:26<50:00, 12.35s/it]"
          ],
          "name": "stderr"
        },
        {
          "output_type": "stream",
          "text": [
            "Epoch, Losses: 6 {'ner': 1098.5081861424794}\n"
          ],
          "name": "stdout"
        },
        {
          "output_type": "stream",
          "text": [
            "\r  3%|▎         | 8/250 [01:39<49:43, 12.33s/it]"
          ],
          "name": "stderr"
        },
        {
          "output_type": "stream",
          "text": [
            "Epoch, Losses: 7 {'ner': 950.263093205513}\n"
          ],
          "name": "stdout"
        },
        {
          "output_type": "stream",
          "text": [
            "\r  4%|▎         | 9/250 [01:49<46:34, 11.60s/it]"
          ],
          "name": "stderr"
        },
        {
          "output_type": "stream",
          "text": [
            "Epoch, Losses: 8 {'ner': 907.8058242521756}\n"
          ],
          "name": "stdout"
        },
        {
          "output_type": "stream",
          "text": [
            "\r  4%|▍         | 10/250 [02:00<46:31, 11.63s/it]"
          ],
          "name": "stderr"
        },
        {
          "output_type": "stream",
          "text": [
            "Epoch, Losses: 9 {'ner': 886.3261570350239}\n"
          ],
          "name": "stdout"
        },
        {
          "output_type": "stream",
          "text": [
            "\r  4%|▍         | 11/250 [02:12<46:28, 11.67s/it]"
          ],
          "name": "stderr"
        },
        {
          "output_type": "stream",
          "text": [
            "Epoch, Losses: 10 {'ner': 774.3616011636898}\n"
          ],
          "name": "stdout"
        },
        {
          "output_type": "stream",
          "text": [
            "\r  5%|▍         | 12/250 [02:22<44:03, 11.11s/it]"
          ],
          "name": "stderr"
        },
        {
          "output_type": "stream",
          "text": [
            "Epoch, Losses: 11 {'ner': 730.4665435869201}\n"
          ],
          "name": "stdout"
        },
        {
          "output_type": "stream",
          "text": [
            "\r  5%|▌         | 13/250 [02:34<44:52, 11.36s/it]"
          ],
          "name": "stderr"
        },
        {
          "output_type": "stream",
          "text": [
            "Epoch, Losses: 12 {'ner': 708.2921153973512}\n"
          ],
          "name": "stdout"
        },
        {
          "output_type": "stream",
          "text": [
            "\r  6%|▌         | 14/250 [02:45<44:58, 11.44s/it]"
          ],
          "name": "stderr"
        },
        {
          "output_type": "stream",
          "text": [
            "Epoch, Losses: 13 {'ner': 635.0356456773779}\n"
          ],
          "name": "stdout"
        },
        {
          "output_type": "stream",
          "text": [
            "\r  6%|▌         | 15/250 [02:57<45:17, 11.56s/it]"
          ],
          "name": "stderr"
        },
        {
          "output_type": "stream",
          "text": [
            "Epoch, Losses: 14 {'ner': 630.058325720916}\n"
          ],
          "name": "stdout"
        },
        {
          "output_type": "stream",
          "text": [
            "\r  6%|▋         | 16/250 [03:09<45:50, 11.75s/it]"
          ],
          "name": "stderr"
        },
        {
          "output_type": "stream",
          "text": [
            "Epoch, Losses: 15 {'ner': 655.7352476925532}\n"
          ],
          "name": "stdout"
        },
        {
          "output_type": "stream",
          "text": [
            "\r  7%|▋         | 17/250 [03:22<45:57, 11.83s/it]"
          ],
          "name": "stderr"
        },
        {
          "output_type": "stream",
          "text": [
            "Epoch, Losses: 16 {'ner': 576.8236055813675}\n"
          ],
          "name": "stdout"
        },
        {
          "output_type": "stream",
          "text": [
            "\r  7%|▋         | 18/250 [03:33<45:40, 11.81s/it]"
          ],
          "name": "stderr"
        },
        {
          "output_type": "stream",
          "text": [
            "Epoch, Losses: 17 {'ner': 551.4001095156251}\n"
          ],
          "name": "stdout"
        },
        {
          "output_type": "stream",
          "text": [
            "\r  8%|▊         | 19/250 [03:46<46:10, 11.99s/it]"
          ],
          "name": "stderr"
        },
        {
          "output_type": "stream",
          "text": [
            "Epoch, Losses: 18 {'ner': 528.3278528795358}\n"
          ],
          "name": "stdout"
        },
        {
          "output_type": "stream",
          "text": [
            "\r  8%|▊         | 20/250 [03:58<45:55, 11.98s/it]"
          ],
          "name": "stderr"
        },
        {
          "output_type": "stream",
          "text": [
            "Epoch, Losses: 19 {'ner': 522.2188355634536}\n"
          ],
          "name": "stdout"
        },
        {
          "output_type": "stream",
          "text": [
            "\r  8%|▊         | 21/250 [04:09<45:19, 11.88s/it]"
          ],
          "name": "stderr"
        },
        {
          "output_type": "stream",
          "text": [
            "Epoch, Losses: 20 {'ner': 467.6533398730298}\n"
          ],
          "name": "stdout"
        },
        {
          "output_type": "stream",
          "text": [
            "\r  9%|▉         | 22/250 [04:21<45:21, 11.94s/it]"
          ],
          "name": "stderr"
        },
        {
          "output_type": "stream",
          "text": [
            "Epoch, Losses: 21 {'ner': 490.4386554785589}\n"
          ],
          "name": "stdout"
        },
        {
          "output_type": "stream",
          "text": [
            "\r  9%|▉         | 23/250 [04:36<47:46, 12.63s/it]"
          ],
          "name": "stderr"
        },
        {
          "output_type": "stream",
          "text": [
            "Epoch, Losses: 22 {'ner': 436.4899568658977}\n"
          ],
          "name": "stdout"
        },
        {
          "output_type": "stream",
          "text": [
            "\r 10%|▉         | 24/250 [04:50<49:21, 13.10s/it]"
          ],
          "name": "stderr"
        },
        {
          "output_type": "stream",
          "text": [
            "Epoch, Losses: 23 {'ner': 428.88096826865905}\n"
          ],
          "name": "stdout"
        },
        {
          "output_type": "stream",
          "text": [
            "\r 10%|█         | 25/250 [05:03<49:16, 13.14s/it]"
          ],
          "name": "stderr"
        },
        {
          "output_type": "stream",
          "text": [
            "Epoch, Losses: 24 {'ner': 455.188507867982}\n"
          ],
          "name": "stdout"
        },
        {
          "output_type": "stream",
          "text": [
            "\r 10%|█         | 26/250 [05:17<50:10, 13.44s/it]"
          ],
          "name": "stderr"
        },
        {
          "output_type": "stream",
          "text": [
            "Epoch, Losses: 25 {'ner': 407.78910428299037}\n"
          ],
          "name": "stdout"
        },
        {
          "output_type": "stream",
          "text": [
            "\r 11%|█         | 27/250 [05:30<49:27, 13.31s/it]"
          ],
          "name": "stderr"
        },
        {
          "output_type": "stream",
          "text": [
            "Epoch, Losses: 26 {'ner': 448.5731688076848}\n"
          ],
          "name": "stdout"
        },
        {
          "output_type": "stream",
          "text": [
            "\r 11%|█         | 28/250 [05:44<50:07, 13.55s/it]"
          ],
          "name": "stderr"
        },
        {
          "output_type": "stream",
          "text": [
            "Epoch, Losses: 27 {'ner': 401.7189917681997}\n"
          ],
          "name": "stdout"
        },
        {
          "output_type": "stream",
          "text": [
            "\r 12%|█▏        | 29/250 [05:58<50:30, 13.71s/it]"
          ],
          "name": "stderr"
        },
        {
          "output_type": "stream",
          "text": [
            "Epoch, Losses: 28 {'ner': 401.5204092930527}\n"
          ],
          "name": "stdout"
        },
        {
          "output_type": "stream",
          "text": [
            "\r 12%|█▏        | 30/250 [06:12<50:44, 13.84s/it]"
          ],
          "name": "stderr"
        },
        {
          "output_type": "stream",
          "text": [
            "Epoch, Losses: 29 {'ner': 415.88011982204364}\n"
          ],
          "name": "stdout"
        },
        {
          "output_type": "stream",
          "text": [
            "\r 12%|█▏        | 31/250 [06:27<50:48, 13.92s/it]"
          ],
          "name": "stderr"
        },
        {
          "output_type": "stream",
          "text": [
            "Epoch, Losses: 30 {'ner': 348.5187419852091}\n"
          ],
          "name": "stdout"
        },
        {
          "output_type": "stream",
          "text": [
            "\r 13%|█▎        | 32/250 [06:41<50:38, 13.94s/it]"
          ],
          "name": "stderr"
        },
        {
          "output_type": "stream",
          "text": [
            "Epoch, Losses: 31 {'ner': 398.0960803032217}\n"
          ],
          "name": "stdout"
        },
        {
          "output_type": "stream",
          "text": [
            "\r 13%|█▎        | 33/250 [06:54<50:22, 13.93s/it]"
          ],
          "name": "stderr"
        },
        {
          "output_type": "stream",
          "text": [
            "Epoch, Losses: 32 {'ner': 358.64912422754526}\n"
          ],
          "name": "stdout"
        },
        {
          "output_type": "stream",
          "text": [
            "\r 14%|█▎        | 34/250 [07:08<50:11, 13.94s/it]"
          ],
          "name": "stderr"
        },
        {
          "output_type": "stream",
          "text": [
            "Epoch, Losses: 33 {'ner': 351.37327049338853}\n"
          ],
          "name": "stdout"
        },
        {
          "output_type": "stream",
          "text": [
            "\r 14%|█▍        | 35/250 [07:23<50:05, 13.98s/it]"
          ],
          "name": "stderr"
        },
        {
          "output_type": "stream",
          "text": [
            "Epoch, Losses: 34 {'ner': 319.618248887523}\n"
          ],
          "name": "stdout"
        },
        {
          "output_type": "stream",
          "text": [
            "\r 14%|█▍        | 36/250 [07:37<49:53, 13.99s/it]"
          ],
          "name": "stderr"
        },
        {
          "output_type": "stream",
          "text": [
            "Epoch, Losses: 35 {'ner': 338.13862803525103}\n"
          ],
          "name": "stdout"
        },
        {
          "output_type": "stream",
          "text": [
            "\r 15%|█▍        | 37/250 [07:51<49:51, 14.04s/it]"
          ],
          "name": "stderr"
        },
        {
          "output_type": "stream",
          "text": [
            "Epoch, Losses: 36 {'ner': 339.43788177414444}\n"
          ],
          "name": "stdout"
        },
        {
          "output_type": "stream",
          "text": [
            "\r 15%|█▌        | 38/250 [08:05<49:29, 14.01s/it]"
          ],
          "name": "stderr"
        },
        {
          "output_type": "stream",
          "text": [
            "Epoch, Losses: 37 {'ner': 319.4625865698838}\n"
          ],
          "name": "stdout"
        },
        {
          "output_type": "stream",
          "text": [
            "\r 16%|█▌        | 39/250 [08:18<48:45, 13.87s/it]"
          ],
          "name": "stderr"
        },
        {
          "output_type": "stream",
          "text": [
            "Epoch, Losses: 38 {'ner': 287.49750322993407}\n"
          ],
          "name": "stdout"
        },
        {
          "output_type": "stream",
          "text": [
            "\r 16%|█▌        | 40/250 [08:30<46:13, 13.21s/it]"
          ],
          "name": "stderr"
        },
        {
          "output_type": "stream",
          "text": [
            "Epoch, Losses: 39 {'ner': 315.3225356535441}\n"
          ],
          "name": "stdout"
        },
        {
          "output_type": "stream",
          "text": [
            "\r 16%|█▋        | 41/250 [08:42<44:34, 12.80s/it]"
          ],
          "name": "stderr"
        },
        {
          "output_type": "stream",
          "text": [
            "Epoch, Losses: 40 {'ner': 284.0627326228013}\n"
          ],
          "name": "stdout"
        },
        {
          "output_type": "stream",
          "text": [
            "\r 17%|█▋        | 42/250 [08:53<43:16, 12.48s/it]"
          ],
          "name": "stderr"
        },
        {
          "output_type": "stream",
          "text": [
            "Epoch, Losses: 41 {'ner': 296.0036837850307}\n"
          ],
          "name": "stdout"
        },
        {
          "output_type": "stream",
          "text": [
            "\r 17%|█▋        | 43/250 [09:05<42:15, 12.25s/it]"
          ],
          "name": "stderr"
        },
        {
          "output_type": "stream",
          "text": [
            "Epoch, Losses: 42 {'ner': 266.5954207512666}\n"
          ],
          "name": "stdout"
        },
        {
          "output_type": "stream",
          "text": [
            "\r 18%|█▊        | 44/250 [09:17<41:38, 12.13s/it]"
          ],
          "name": "stderr"
        },
        {
          "output_type": "stream",
          "text": [
            "Epoch, Losses: 43 {'ner': 257.82444695975823}\n"
          ],
          "name": "stdout"
        },
        {
          "output_type": "stream",
          "text": [
            "\r 18%|█▊        | 45/250 [09:29<41:35, 12.17s/it]"
          ],
          "name": "stderr"
        },
        {
          "output_type": "stream",
          "text": [
            "Epoch, Losses: 44 {'ner': 280.57954708777913}\n"
          ],
          "name": "stdout"
        },
        {
          "output_type": "stream",
          "text": [
            "\r 18%|█▊        | 46/250 [09:41<40:54, 12.03s/it]"
          ],
          "name": "stderr"
        },
        {
          "output_type": "stream",
          "text": [
            "Epoch, Losses: 45 {'ner': 263.36982099413916}\n"
          ],
          "name": "stdout"
        },
        {
          "output_type": "stream",
          "text": [
            "\r 19%|█▉        | 47/250 [09:53<40:18, 11.91s/it]"
          ],
          "name": "stderr"
        },
        {
          "output_type": "stream",
          "text": [
            "Epoch, Losses: 46 {'ner': 295.18778379115514}\n"
          ],
          "name": "stdout"
        },
        {
          "output_type": "stream",
          "text": [
            "\r 19%|█▉        | 48/250 [10:04<39:46, 11.81s/it]"
          ],
          "name": "stderr"
        },
        {
          "output_type": "stream",
          "text": [
            "Epoch, Losses: 47 {'ner': 252.9002726668057}\n"
          ],
          "name": "stdout"
        },
        {
          "output_type": "stream",
          "text": [
            "\r 20%|█▉        | 49/250 [10:16<39:31, 11.80s/it]"
          ],
          "name": "stderr"
        },
        {
          "output_type": "stream",
          "text": [
            "Epoch, Losses: 48 {'ner': 246.1212444913374}\n"
          ],
          "name": "stdout"
        },
        {
          "output_type": "stream",
          "text": [
            "\r 20%|██        | 50/250 [10:28<39:06, 11.73s/it]"
          ],
          "name": "stderr"
        },
        {
          "output_type": "stream",
          "text": [
            "Epoch, Losses: 49 {'ner': 209.04536887150348}\n"
          ],
          "name": "stdout"
        },
        {
          "output_type": "stream",
          "text": [
            "\r 20%|██        | 51/250 [10:39<38:25, 11.59s/it]"
          ],
          "name": "stderr"
        },
        {
          "output_type": "stream",
          "text": [
            "Epoch, Losses: 50 {'ner': 243.6154500703951}\n"
          ],
          "name": "stdout"
        },
        {
          "output_type": "stream",
          "text": [
            "\r 21%|██        | 52/250 [10:50<38:17, 11.60s/it]"
          ],
          "name": "stderr"
        },
        {
          "output_type": "stream",
          "text": [
            "Epoch, Losses: 51 {'ner': 241.51665460464497}\n"
          ],
          "name": "stdout"
        },
        {
          "output_type": "stream",
          "text": [
            "\r 21%|██        | 53/250 [11:02<38:03, 11.59s/it]"
          ],
          "name": "stderr"
        },
        {
          "output_type": "stream",
          "text": [
            "Epoch, Losses: 52 {'ner': 247.98668498617093}\n"
          ],
          "name": "stdout"
        },
        {
          "output_type": "stream",
          "text": [
            "\r 22%|██▏       | 54/250 [11:14<38:00, 11.64s/it]"
          ],
          "name": "stderr"
        },
        {
          "output_type": "stream",
          "text": [
            "Epoch, Losses: 53 {'ner': 214.60579071793234}\n"
          ],
          "name": "stdout"
        },
        {
          "output_type": "stream",
          "text": [
            "\r 22%|██▏       | 55/250 [11:25<37:54, 11.66s/it]"
          ],
          "name": "stderr"
        },
        {
          "output_type": "stream",
          "text": [
            "Epoch, Losses: 54 {'ner': 237.31028133145918}\n"
          ],
          "name": "stdout"
        },
        {
          "output_type": "stream",
          "text": [
            "\r 22%|██▏       | 56/250 [11:37<37:39, 11.65s/it]"
          ],
          "name": "stderr"
        },
        {
          "output_type": "stream",
          "text": [
            "Epoch, Losses: 55 {'ner': 211.09188824864157}\n"
          ],
          "name": "stdout"
        },
        {
          "output_type": "stream",
          "text": [
            "\r 23%|██▎       | 57/250 [11:49<37:24, 11.63s/it]"
          ],
          "name": "stderr"
        },
        {
          "output_type": "stream",
          "text": [
            "Epoch, Losses: 56 {'ner': 216.65101766343875}\n"
          ],
          "name": "stdout"
        },
        {
          "output_type": "stream",
          "text": [
            "\r 23%|██▎       | 58/250 [12:00<37:03, 11.58s/it]"
          ],
          "name": "stderr"
        },
        {
          "output_type": "stream",
          "text": [
            "Epoch, Losses: 57 {'ner': 256.17933759918526}\n"
          ],
          "name": "stdout"
        },
        {
          "output_type": "stream",
          "text": [
            "\r 24%|██▎       | 59/250 [12:12<36:56, 11.61s/it]"
          ],
          "name": "stderr"
        },
        {
          "output_type": "stream",
          "text": [
            "Epoch, Losses: 58 {'ner': 206.38315940837842}\n"
          ],
          "name": "stdout"
        },
        {
          "output_type": "stream",
          "text": [
            "\r 24%|██▍       | 60/250 [12:23<36:29, 11.52s/it]"
          ],
          "name": "stderr"
        },
        {
          "output_type": "stream",
          "text": [
            "Epoch, Losses: 59 {'ner': 231.2358105082647}\n"
          ],
          "name": "stdout"
        },
        {
          "output_type": "stream",
          "text": [
            "\r 24%|██▍       | 61/250 [12:35<36:12, 11.50s/it]"
          ],
          "name": "stderr"
        },
        {
          "output_type": "stream",
          "text": [
            "Epoch, Losses: 60 {'ner': 187.88264061567537}\n"
          ],
          "name": "stdout"
        },
        {
          "output_type": "stream",
          "text": [
            "\r 25%|██▍       | 62/250 [12:46<35:54, 11.46s/it]"
          ],
          "name": "stderr"
        },
        {
          "output_type": "stream",
          "text": [
            "Epoch, Losses: 61 {'ner': 174.56923482764728}\n"
          ],
          "name": "stdout"
        },
        {
          "output_type": "stream",
          "text": [
            "\r 25%|██▌       | 63/250 [12:57<35:48, 11.49s/it]"
          ],
          "name": "stderr"
        },
        {
          "output_type": "stream",
          "text": [
            "Epoch, Losses: 62 {'ner': 198.07138693178985}\n"
          ],
          "name": "stdout"
        },
        {
          "output_type": "stream",
          "text": [
            "\r 26%|██▌       | 64/250 [13:09<36:04, 11.64s/it]"
          ],
          "name": "stderr"
        },
        {
          "output_type": "stream",
          "text": [
            "Epoch, Losses: 63 {'ner': 168.74427345016824}\n"
          ],
          "name": "stdout"
        },
        {
          "output_type": "stream",
          "text": [
            "\r 26%|██▌       | 65/250 [13:23<37:49, 12.27s/it]"
          ],
          "name": "stderr"
        },
        {
          "output_type": "stream",
          "text": [
            "Epoch, Losses: 64 {'ner': 218.2281733700792}\n"
          ],
          "name": "stdout"
        },
        {
          "output_type": "stream",
          "text": [
            "\r 26%|██▋       | 66/250 [13:37<39:05, 12.75s/it]"
          ],
          "name": "stderr"
        },
        {
          "output_type": "stream",
          "text": [
            "Epoch, Losses: 65 {'ner': 198.21312989236444}\n"
          ],
          "name": "stdout"
        },
        {
          "output_type": "stream",
          "text": [
            "\r 27%|██▋       | 67/250 [13:51<39:48, 13.05s/it]"
          ],
          "name": "stderr"
        },
        {
          "output_type": "stream",
          "text": [
            "Epoch, Losses: 66 {'ner': 187.76460518696936}\n"
          ],
          "name": "stdout"
        },
        {
          "output_type": "stream",
          "text": [
            "\r 27%|██▋       | 68/250 [14:05<40:10, 13.24s/it]"
          ],
          "name": "stderr"
        },
        {
          "output_type": "stream",
          "text": [
            "Epoch, Losses: 67 {'ner': 192.58045764223746}\n"
          ],
          "name": "stdout"
        },
        {
          "output_type": "stream",
          "text": [
            "\r 28%|██▊       | 69/250 [14:19<40:41, 13.49s/it]"
          ],
          "name": "stderr"
        },
        {
          "output_type": "stream",
          "text": [
            "Epoch, Losses: 68 {'ner': 175.17481363871903}\n"
          ],
          "name": "stdout"
        },
        {
          "output_type": "stream",
          "text": [
            "\r 28%|██▊       | 70/250 [14:32<40:48, 13.60s/it]"
          ],
          "name": "stderr"
        },
        {
          "output_type": "stream",
          "text": [
            "Epoch, Losses: 69 {'ner': 198.80213448390808}\n"
          ],
          "name": "stdout"
        },
        {
          "output_type": "stream",
          "text": [
            "\r 28%|██▊       | 71/250 [14:46<40:33, 13.60s/it]"
          ],
          "name": "stderr"
        },
        {
          "output_type": "stream",
          "text": [
            "Epoch, Losses: 70 {'ner': 150.0667900639479}\n"
          ],
          "name": "stdout"
        },
        {
          "output_type": "stream",
          "text": [
            "\r 29%|██▉       | 72/250 [14:59<40:06, 13.52s/it]"
          ],
          "name": "stderr"
        },
        {
          "output_type": "stream",
          "text": [
            "Epoch, Losses: 71 {'ner': 143.37581561604983}\n"
          ],
          "name": "stdout"
        },
        {
          "output_type": "stream",
          "text": [
            "\r 29%|██▉       | 73/250 [15:11<38:13, 12.96s/it]"
          ],
          "name": "stderr"
        },
        {
          "output_type": "stream",
          "text": [
            "Epoch, Losses: 72 {'ner': 173.97410714365145}\n"
          ],
          "name": "stdout"
        },
        {
          "output_type": "stream",
          "text": [
            "\r 30%|██▉       | 74/250 [15:23<37:20, 12.73s/it]"
          ],
          "name": "stderr"
        },
        {
          "output_type": "stream",
          "text": [
            "Epoch, Losses: 73 {'ner': 156.37284594319706}\n"
          ],
          "name": "stdout"
        },
        {
          "output_type": "stream",
          "text": [
            "\r 30%|███       | 75/250 [15:35<36:38, 12.56s/it]"
          ],
          "name": "stderr"
        },
        {
          "output_type": "stream",
          "text": [
            "Epoch, Losses: 74 {'ner': 164.3799743416893}\n"
          ],
          "name": "stdout"
        },
        {
          "output_type": "stream",
          "text": [
            "\r 30%|███       | 76/250 [15:48<36:11, 12.48s/it]"
          ],
          "name": "stderr"
        },
        {
          "output_type": "stream",
          "text": [
            "Epoch, Losses: 75 {'ner': 176.8795911835475}\n"
          ],
          "name": "stdout"
        },
        {
          "output_type": "stream",
          "text": [
            "\r 31%|███       | 77/250 [16:00<35:52, 12.44s/it]"
          ],
          "name": "stderr"
        },
        {
          "output_type": "stream",
          "text": [
            "Epoch, Losses: 76 {'ner': 157.42785769816416}\n"
          ],
          "name": "stdout"
        },
        {
          "output_type": "stream",
          "text": [
            "\r 31%|███       | 78/250 [16:12<35:23, 12.35s/it]"
          ],
          "name": "stderr"
        },
        {
          "output_type": "stream",
          "text": [
            "Epoch, Losses: 77 {'ner': 180.86541797035773}\n"
          ],
          "name": "stdout"
        },
        {
          "output_type": "stream",
          "text": [
            "\r 32%|███▏      | 79/250 [16:28<38:33, 13.53s/it]"
          ],
          "name": "stderr"
        },
        {
          "output_type": "stream",
          "text": [
            "Epoch, Losses: 78 {'ner': 198.22640193459796}\n"
          ],
          "name": "stdout"
        },
        {
          "output_type": "stream",
          "text": [
            "\r 32%|███▏      | 80/250 [16:40<36:42, 12.96s/it]"
          ],
          "name": "stderr"
        },
        {
          "output_type": "stream",
          "text": [
            "Epoch, Losses: 79 {'ner': 198.58405423452194}\n"
          ],
          "name": "stdout"
        },
        {
          "output_type": "stream",
          "text": [
            "\r 32%|███▏      | 81/250 [16:52<35:22, 12.56s/it]"
          ],
          "name": "stderr"
        },
        {
          "output_type": "stream",
          "text": [
            "Epoch, Losses: 80 {'ner': 162.64205088151675}\n"
          ],
          "name": "stdout"
        },
        {
          "output_type": "stream",
          "text": [
            "\r 33%|███▎      | 82/250 [17:04<34:33, 12.34s/it]"
          ],
          "name": "stderr"
        },
        {
          "output_type": "stream",
          "text": [
            "Epoch, Losses: 81 {'ner': 155.62682126299285}\n"
          ],
          "name": "stdout"
        },
        {
          "output_type": "stream",
          "text": [
            "\r 33%|███▎      | 83/250 [17:15<33:49, 12.15s/it]"
          ],
          "name": "stderr"
        },
        {
          "output_type": "stream",
          "text": [
            "Epoch, Losses: 82 {'ner': 145.11483244038678}\n"
          ],
          "name": "stdout"
        },
        {
          "output_type": "stream",
          "text": [
            "\r 34%|███▎      | 84/250 [17:32<37:13, 13.46s/it]"
          ],
          "name": "stderr"
        },
        {
          "output_type": "stream",
          "text": [
            "Epoch, Losses: 83 {'ner': 175.00895500158046}\n"
          ],
          "name": "stdout"
        },
        {
          "output_type": "stream",
          "text": [
            "\r 34%|███▍      | 85/250 [17:47<38:53, 14.14s/it]"
          ],
          "name": "stderr"
        },
        {
          "output_type": "stream",
          "text": [
            "Epoch, Losses: 84 {'ner': 162.88189335391354}\n"
          ],
          "name": "stdout"
        },
        {
          "output_type": "stream",
          "text": [
            "\r 34%|███▍      | 86/250 [18:00<37:02, 13.55s/it]"
          ],
          "name": "stderr"
        },
        {
          "output_type": "stream",
          "text": [
            "Epoch, Losses: 85 {'ner': 174.73958039903698}\n"
          ],
          "name": "stdout"
        },
        {
          "output_type": "stream",
          "text": [
            "\r 35%|███▍      | 87/250 [18:12<35:49, 13.18s/it]"
          ],
          "name": "stderr"
        },
        {
          "output_type": "stream",
          "text": [
            "Epoch, Losses: 86 {'ner': 153.3952495003457}\n"
          ],
          "name": "stdout"
        },
        {
          "output_type": "stream",
          "text": [
            "\r 35%|███▌      | 88/250 [18:24<34:50, 12.90s/it]"
          ],
          "name": "stderr"
        },
        {
          "output_type": "stream",
          "text": [
            "Epoch, Losses: 87 {'ner': 152.01279989078287}\n"
          ],
          "name": "stdout"
        },
        {
          "output_type": "stream",
          "text": [
            "\r 36%|███▌      | 89/250 [18:36<33:33, 12.51s/it]"
          ],
          "name": "stderr"
        },
        {
          "output_type": "stream",
          "text": [
            "Epoch, Losses: 88 {'ner': 120.30093864606704}\n"
          ],
          "name": "stdout"
        },
        {
          "output_type": "stream",
          "text": [
            "\r 36%|███▌      | 90/250 [18:48<32:43, 12.27s/it]"
          ],
          "name": "stderr"
        },
        {
          "output_type": "stream",
          "text": [
            "Epoch, Losses: 89 {'ner': 142.59332642949752}\n"
          ],
          "name": "stdout"
        },
        {
          "output_type": "stream",
          "text": [
            "\r 36%|███▋      | 91/250 [18:59<32:05, 12.11s/it]"
          ],
          "name": "stderr"
        },
        {
          "output_type": "stream",
          "text": [
            "Epoch, Losses: 90 {'ner': 160.28168897247284}\n"
          ],
          "name": "stdout"
        },
        {
          "output_type": "stream",
          "text": [
            "\r 37%|███▋      | 92/250 [19:11<31:41, 12.03s/it]"
          ],
          "name": "stderr"
        },
        {
          "output_type": "stream",
          "text": [
            "Epoch, Losses: 91 {'ner': 128.09758368174906}\n"
          ],
          "name": "stdout"
        },
        {
          "output_type": "stream",
          "text": [
            "\r 37%|███▋      | 93/250 [19:23<31:23, 11.99s/it]"
          ],
          "name": "stderr"
        },
        {
          "output_type": "stream",
          "text": [
            "Epoch, Losses: 92 {'ner': 149.9867690304504}\n"
          ],
          "name": "stdout"
        },
        {
          "output_type": "stream",
          "text": [
            "\r 38%|███▊      | 94/250 [19:35<30:59, 11.92s/it]"
          ],
          "name": "stderr"
        },
        {
          "output_type": "stream",
          "text": [
            "Epoch, Losses: 93 {'ner': 133.6008387046549}\n"
          ],
          "name": "stdout"
        },
        {
          "output_type": "stream",
          "text": [
            "\r 38%|███▊      | 95/250 [19:46<30:33, 11.83s/it]"
          ],
          "name": "stderr"
        },
        {
          "output_type": "stream",
          "text": [
            "Epoch, Losses: 94 {'ner': 129.46864795027224}\n"
          ],
          "name": "stdout"
        },
        {
          "output_type": "stream",
          "text": [
            "\r 38%|███▊      | 96/250 [19:58<30:19, 11.81s/it]"
          ],
          "name": "stderr"
        },
        {
          "output_type": "stream",
          "text": [
            "Epoch, Losses: 95 {'ner': 133.64864480086527}\n"
          ],
          "name": "stdout"
        },
        {
          "output_type": "stream",
          "text": [
            "\r 39%|███▉      | 97/250 [20:10<30:31, 11.97s/it]"
          ],
          "name": "stderr"
        },
        {
          "output_type": "stream",
          "text": [
            "Epoch, Losses: 96 {'ner': 136.22825397638303}\n"
          ],
          "name": "stdout"
        },
        {
          "output_type": "stream",
          "text": [
            "\r 39%|███▉      | 98/250 [20:22<30:21, 11.98s/it]"
          ],
          "name": "stderr"
        },
        {
          "output_type": "stream",
          "text": [
            "Epoch, Losses: 97 {'ner': 126.52543699728176}\n"
          ],
          "name": "stdout"
        },
        {
          "output_type": "stream",
          "text": [
            "\r 40%|███▉      | 99/250 [20:34<30:05, 11.96s/it]"
          ],
          "name": "stderr"
        },
        {
          "output_type": "stream",
          "text": [
            "Epoch, Losses: 98 {'ner': 123.69346690330191}\n"
          ],
          "name": "stdout"
        },
        {
          "output_type": "stream",
          "text": [
            "\r 40%|████      | 100/250 [20:47<30:10, 12.07s/it]"
          ],
          "name": "stderr"
        },
        {
          "output_type": "stream",
          "text": [
            "Epoch, Losses: 99 {'ner': 145.25602531478685}\n"
          ],
          "name": "stdout"
        },
        {
          "output_type": "stream",
          "text": [
            "\r 40%|████      | 101/250 [20:59<29:50, 12.02s/it]"
          ],
          "name": "stderr"
        },
        {
          "output_type": "stream",
          "text": [
            "Epoch, Losses: 100 {'ner': 177.4348935883496}\n"
          ],
          "name": "stdout"
        },
        {
          "output_type": "stream",
          "text": [
            "\r 41%|████      | 102/250 [21:10<29:17, 11.87s/it]"
          ],
          "name": "stderr"
        },
        {
          "output_type": "stream",
          "text": [
            "Epoch, Losses: 101 {'ner': 142.66080592446227}\n"
          ],
          "name": "stdout"
        },
        {
          "output_type": "stream",
          "text": [
            "\r 41%|████      | 103/250 [21:22<28:57, 11.82s/it]"
          ],
          "name": "stderr"
        },
        {
          "output_type": "stream",
          "text": [
            "Epoch, Losses: 102 {'ner': 113.04824115824604}\n"
          ],
          "name": "stdout"
        },
        {
          "output_type": "stream",
          "text": [
            "\r 42%|████▏     | 104/250 [21:34<28:46, 11.83s/it]"
          ],
          "name": "stderr"
        },
        {
          "output_type": "stream",
          "text": [
            "Epoch, Losses: 103 {'ner': 101.81731846136714}\n"
          ],
          "name": "stdout"
        },
        {
          "output_type": "stream",
          "text": [
            "\r 42%|████▏     | 105/250 [21:45<28:32, 11.81s/it]"
          ],
          "name": "stderr"
        },
        {
          "output_type": "stream",
          "text": [
            "Epoch, Losses: 104 {'ner': 131.15695336005737}\n"
          ],
          "name": "stdout"
        },
        {
          "output_type": "stream",
          "text": [
            "\r 42%|████▏     | 106/250 [21:57<28:18, 11.80s/it]"
          ],
          "name": "stderr"
        },
        {
          "output_type": "stream",
          "text": [
            "Epoch, Losses: 105 {'ner': 140.87784976509982}\n"
          ],
          "name": "stdout"
        },
        {
          "output_type": "stream",
          "text": [
            "\r 43%|████▎     | 107/250 [22:09<27:55, 11.72s/it]"
          ],
          "name": "stderr"
        },
        {
          "output_type": "stream",
          "text": [
            "Epoch, Losses: 106 {'ner': 122.97576878309123}\n"
          ],
          "name": "stdout"
        },
        {
          "output_type": "stream",
          "text": [
            "\r 43%|████▎     | 108/250 [22:21<27:56, 11.80s/it]"
          ],
          "name": "stderr"
        },
        {
          "output_type": "stream",
          "text": [
            "Epoch, Losses: 107 {'ner': 137.5620161616051}\n"
          ],
          "name": "stdout"
        },
        {
          "output_type": "stream",
          "text": [
            "\r 44%|████▎     | 109/250 [22:33<27:50, 11.85s/it]"
          ],
          "name": "stderr"
        },
        {
          "output_type": "stream",
          "text": [
            "Epoch, Losses: 108 {'ner': 86.07775155067591}\n"
          ],
          "name": "stdout"
        },
        {
          "output_type": "stream",
          "text": [
            "\r 44%|████▍     | 110/250 [22:45<27:45, 11.90s/it]"
          ],
          "name": "stderr"
        },
        {
          "output_type": "stream",
          "text": [
            "Epoch, Losses: 109 {'ner': 106.33558166356814}\n"
          ],
          "name": "stdout"
        },
        {
          "output_type": "stream",
          "text": [
            "\r 44%|████▍     | 111/250 [22:57<27:45, 11.98s/it]"
          ],
          "name": "stderr"
        },
        {
          "output_type": "stream",
          "text": [
            "Epoch, Losses: 110 {'ner': 96.70638889086447}\n"
          ],
          "name": "stdout"
        },
        {
          "output_type": "stream",
          "text": [
            "\r 45%|████▍     | 112/250 [23:10<28:22, 12.34s/it]"
          ],
          "name": "stderr"
        },
        {
          "output_type": "stream",
          "text": [
            "Epoch, Losses: 111 {'ner': 119.7540673612265}\n"
          ],
          "name": "stdout"
        },
        {
          "output_type": "stream",
          "text": [
            "\r 45%|████▌     | 113/250 [23:24<29:31, 12.93s/it]"
          ],
          "name": "stderr"
        },
        {
          "output_type": "stream",
          "text": [
            "Epoch, Losses: 112 {'ner': 117.97725828304846}\n"
          ],
          "name": "stdout"
        },
        {
          "output_type": "stream",
          "text": [
            "\r 46%|████▌     | 114/250 [23:39<30:23, 13.41s/it]"
          ],
          "name": "stderr"
        },
        {
          "output_type": "stream",
          "text": [
            "Epoch, Losses: 113 {'ner': 144.31393747716763}\n"
          ],
          "name": "stdout"
        },
        {
          "output_type": "stream",
          "text": [
            "\r 46%|████▌     | 115/250 [23:53<30:54, 13.73s/it]"
          ],
          "name": "stderr"
        },
        {
          "output_type": "stream",
          "text": [
            "Epoch, Losses: 114 {'ner': 138.724063967864}\n"
          ],
          "name": "stdout"
        },
        {
          "output_type": "stream",
          "text": [
            "\r 46%|████▋     | 116/250 [24:07<30:19, 13.57s/it]"
          ],
          "name": "stderr"
        },
        {
          "output_type": "stream",
          "text": [
            "Epoch, Losses: 115 {'ner': 135.81717621666076}\n"
          ],
          "name": "stdout"
        },
        {
          "output_type": "stream",
          "text": [
            "\r 47%|████▋     | 117/250 [24:19<29:06, 13.13s/it]"
          ],
          "name": "stderr"
        },
        {
          "output_type": "stream",
          "text": [
            "Epoch, Losses: 116 {'ner': 116.01816333967498}\n"
          ],
          "name": "stdout"
        },
        {
          "output_type": "stream",
          "text": [
            "\r 47%|████▋     | 118/250 [24:31<28:05, 12.77s/it]"
          ],
          "name": "stderr"
        },
        {
          "output_type": "stream",
          "text": [
            "Epoch, Losses: 117 {'ner': 102.63760475718449}\n"
          ],
          "name": "stdout"
        },
        {
          "output_type": "stream",
          "text": [
            "\r 48%|████▊     | 119/250 [24:43<27:51, 12.76s/it]"
          ],
          "name": "stderr"
        },
        {
          "output_type": "stream",
          "text": [
            "Epoch, Losses: 118 {'ner': 107.9316332456574}\n"
          ],
          "name": "stdout"
        },
        {
          "output_type": "stream",
          "text": [
            "\r 48%|████▊     | 120/250 [24:56<27:18, 12.61s/it]"
          ],
          "name": "stderr"
        },
        {
          "output_type": "stream",
          "text": [
            "Epoch, Losses: 119 {'ner': 121.49163966774864}\n"
          ],
          "name": "stdout"
        },
        {
          "output_type": "stream",
          "text": [
            "\r 48%|████▊     | 121/250 [25:08<27:00, 12.56s/it]"
          ],
          "name": "stderr"
        },
        {
          "output_type": "stream",
          "text": [
            "Epoch, Losses: 120 {'ner': 103.31794192949677}\n"
          ],
          "name": "stdout"
        },
        {
          "output_type": "stream",
          "text": [
            "\r 49%|████▉     | 122/250 [25:20<26:38, 12.48s/it]"
          ],
          "name": "stderr"
        },
        {
          "output_type": "stream",
          "text": [
            "Epoch, Losses: 121 {'ner': 128.34537409541764}\n"
          ],
          "name": "stdout"
        },
        {
          "output_type": "stream",
          "text": [
            "\r 49%|████▉     | 123/250 [25:33<26:15, 12.40s/it]"
          ],
          "name": "stderr"
        },
        {
          "output_type": "stream",
          "text": [
            "Epoch, Losses: 122 {'ner': 78.43178527168901}\n"
          ],
          "name": "stdout"
        },
        {
          "output_type": "stream",
          "text": [
            "\r 50%|████▉     | 124/250 [25:44<25:37, 12.21s/it]"
          ],
          "name": "stderr"
        },
        {
          "output_type": "stream",
          "text": [
            "Epoch, Losses: 123 {'ner': 112.0635296326021}\n"
          ],
          "name": "stdout"
        },
        {
          "output_type": "stream",
          "text": [
            "\r 50%|█████     | 125/250 [25:57<25:34, 12.28s/it]"
          ],
          "name": "stderr"
        },
        {
          "output_type": "stream",
          "text": [
            "Epoch, Losses: 124 {'ner': 92.11897437065996}\n"
          ],
          "name": "stdout"
        },
        {
          "output_type": "stream",
          "text": [
            "\r 50%|█████     | 126/250 [26:09<25:36, 12.39s/it]"
          ],
          "name": "stderr"
        },
        {
          "output_type": "stream",
          "text": [
            "Epoch, Losses: 125 {'ner': 102.78918965745494}\n"
          ],
          "name": "stdout"
        },
        {
          "output_type": "stream",
          "text": [
            "\r 51%|█████     | 127/250 [26:22<25:30, 12.44s/it]"
          ],
          "name": "stderr"
        },
        {
          "output_type": "stream",
          "text": [
            "Epoch, Losses: 126 {'ner': 100.24013657682276}\n"
          ],
          "name": "stdout"
        },
        {
          "output_type": "stream",
          "text": [
            "\r 51%|█████     | 128/250 [26:34<25:16, 12.43s/it]"
          ],
          "name": "stderr"
        },
        {
          "output_type": "stream",
          "text": [
            "Epoch, Losses: 127 {'ner': 101.40476354786888}\n"
          ],
          "name": "stdout"
        },
        {
          "output_type": "stream",
          "text": [
            "\r 52%|█████▏    | 129/250 [26:46<24:43, 12.26s/it]"
          ],
          "name": "stderr"
        },
        {
          "output_type": "stream",
          "text": [
            "Epoch, Losses: 128 {'ner': 122.14767945327971}\n"
          ],
          "name": "stdout"
        },
        {
          "output_type": "stream",
          "text": [
            "\r 52%|█████▏    | 130/250 [26:58<24:20, 12.17s/it]"
          ],
          "name": "stderr"
        },
        {
          "output_type": "stream",
          "text": [
            "Epoch, Losses: 129 {'ner': 110.12253652596613}\n"
          ],
          "name": "stdout"
        },
        {
          "output_type": "stream",
          "text": [
            "\r 52%|█████▏    | 131/250 [27:10<23:53, 12.04s/it]"
          ],
          "name": "stderr"
        },
        {
          "output_type": "stream",
          "text": [
            "Epoch, Losses: 130 {'ner': 82.98189721947715}\n"
          ],
          "name": "stdout"
        },
        {
          "output_type": "stream",
          "text": [
            "\r 53%|█████▎    | 132/250 [27:22<23:51, 12.13s/it]"
          ],
          "name": "stderr"
        },
        {
          "output_type": "stream",
          "text": [
            "Epoch, Losses: 131 {'ner': 105.33826803547989}\n"
          ],
          "name": "stdout"
        },
        {
          "output_type": "stream",
          "text": [
            "\r 53%|█████▎    | 133/250 [27:36<24:43, 12.68s/it]"
          ],
          "name": "stderr"
        },
        {
          "output_type": "stream",
          "text": [
            "Epoch, Losses: 132 {'ner': 99.38778759791683}\n"
          ],
          "name": "stdout"
        },
        {
          "output_type": "stream",
          "text": [
            "\r 54%|█████▎    | 134/250 [27:50<25:20, 13.11s/it]"
          ],
          "name": "stderr"
        },
        {
          "output_type": "stream",
          "text": [
            "Epoch, Losses: 133 {'ner': 110.93289721744361}\n"
          ],
          "name": "stdout"
        },
        {
          "output_type": "stream",
          "text": [
            "\r 54%|█████▍    | 135/250 [28:04<25:33, 13.33s/it]"
          ],
          "name": "stderr"
        },
        {
          "output_type": "stream",
          "text": [
            "Epoch, Losses: 134 {'ner': 107.78008180323071}\n"
          ],
          "name": "stdout"
        },
        {
          "output_type": "stream",
          "text": [
            "\r 54%|█████▍    | 136/250 [28:18<25:43, 13.54s/it]"
          ],
          "name": "stderr"
        },
        {
          "output_type": "stream",
          "text": [
            "Epoch, Losses: 135 {'ner': 101.67079191822272}\n"
          ],
          "name": "stdout"
        },
        {
          "output_type": "stream",
          "text": [
            "\r 55%|█████▍    | 137/250 [28:32<25:45, 13.68s/it]"
          ],
          "name": "stderr"
        },
        {
          "output_type": "stream",
          "text": [
            "Epoch, Losses: 136 {'ner': 112.23975502564433}\n"
          ],
          "name": "stdout"
        },
        {
          "output_type": "stream",
          "text": [
            "\r 55%|█████▌    | 138/250 [28:46<25:43, 13.78s/it]"
          ],
          "name": "stderr"
        },
        {
          "output_type": "stream",
          "text": [
            "Epoch, Losses: 137 {'ner': 84.49647960453758}\n"
          ],
          "name": "stdout"
        },
        {
          "output_type": "stream",
          "text": [
            "\r 56%|█████▌    | 139/250 [29:00<25:22, 13.71s/it]"
          ],
          "name": "stderr"
        },
        {
          "output_type": "stream",
          "text": [
            "Epoch, Losses: 138 {'ner': 96.08230307598319}\n"
          ],
          "name": "stdout"
        },
        {
          "output_type": "stream",
          "text": [
            "\r 56%|█████▌    | 140/250 [29:11<24:00, 13.10s/it]"
          ],
          "name": "stderr"
        },
        {
          "output_type": "stream",
          "text": [
            "Epoch, Losses: 139 {'ner': 98.45102300016778}\n"
          ],
          "name": "stdout"
        },
        {
          "output_type": "stream",
          "text": [
            "\r 56%|█████▋    | 141/250 [29:23<23:02, 12.69s/it]"
          ],
          "name": "stderr"
        },
        {
          "output_type": "stream",
          "text": [
            "Epoch, Losses: 140 {'ner': 88.58831651968069}\n"
          ],
          "name": "stdout"
        },
        {
          "output_type": "stream",
          "text": [
            "\r 57%|█████▋    | 142/250 [29:35<22:10, 12.32s/it]"
          ],
          "name": "stderr"
        },
        {
          "output_type": "stream",
          "text": [
            "Epoch, Losses: 141 {'ner': 85.93023431415259}\n"
          ],
          "name": "stdout"
        },
        {
          "output_type": "stream",
          "text": [
            "\r 57%|█████▋    | 143/250 [29:46<21:34, 12.10s/it]"
          ],
          "name": "stderr"
        },
        {
          "output_type": "stream",
          "text": [
            "Epoch, Losses: 142 {'ner': 83.8490740605586}\n"
          ],
          "name": "stdout"
        },
        {
          "output_type": "stream",
          "text": [
            "\r 58%|█████▊    | 144/250 [29:58<21:12, 12.00s/it]"
          ],
          "name": "stderr"
        },
        {
          "output_type": "stream",
          "text": [
            "Epoch, Losses: 143 {'ner': 102.34639530280899}\n"
          ],
          "name": "stdout"
        },
        {
          "output_type": "stream",
          "text": [
            "\r 58%|█████▊    | 145/250 [30:10<20:53, 11.93s/it]"
          ],
          "name": "stderr"
        },
        {
          "output_type": "stream",
          "text": [
            "Epoch, Losses: 144 {'ner': 92.03711451319094}\n"
          ],
          "name": "stdout"
        },
        {
          "output_type": "stream",
          "text": [
            "\r 58%|█████▊    | 146/250 [30:22<20:50, 12.02s/it]"
          ],
          "name": "stderr"
        },
        {
          "output_type": "stream",
          "text": [
            "Epoch, Losses: 145 {'ner': 104.15518775475417}\n"
          ],
          "name": "stdout"
        },
        {
          "output_type": "stream",
          "text": [
            "\r 59%|█████▉    | 147/250 [30:34<20:38, 12.02s/it]"
          ],
          "name": "stderr"
        },
        {
          "output_type": "stream",
          "text": [
            "Epoch, Losses: 146 {'ner': 109.50168159435268}\n"
          ],
          "name": "stdout"
        },
        {
          "output_type": "stream",
          "text": [
            "\r 59%|█████▉    | 148/250 [30:46<20:10, 11.87s/it]"
          ],
          "name": "stderr"
        },
        {
          "output_type": "stream",
          "text": [
            "Epoch, Losses: 147 {'ner': 83.71488476775671}\n"
          ],
          "name": "stdout"
        },
        {
          "output_type": "stream",
          "text": [
            "\r 60%|█████▉    | 149/250 [30:57<19:53, 11.81s/it]"
          ],
          "name": "stderr"
        },
        {
          "output_type": "stream",
          "text": [
            "Epoch, Losses: 148 {'ner': 91.626193360636}\n"
          ],
          "name": "stdout"
        },
        {
          "output_type": "stream",
          "text": [
            "\r 60%|██████    | 150/250 [31:09<19:36, 11.77s/it]"
          ],
          "name": "stderr"
        },
        {
          "output_type": "stream",
          "text": [
            "Epoch, Losses: 149 {'ner': 83.62639259843307}\n"
          ],
          "name": "stdout"
        },
        {
          "output_type": "stream",
          "text": [
            "\r 60%|██████    | 151/250 [31:21<19:24, 11.77s/it]"
          ],
          "name": "stderr"
        },
        {
          "output_type": "stream",
          "text": [
            "Epoch, Losses: 150 {'ner': 104.97577744508524}\n"
          ],
          "name": "stdout"
        },
        {
          "output_type": "stream",
          "text": [
            "\r 61%|██████    | 152/250 [31:32<19:08, 11.72s/it]"
          ],
          "name": "stderr"
        },
        {
          "output_type": "stream",
          "text": [
            "Epoch, Losses: 151 {'ner': 101.06230004701416}\n"
          ],
          "name": "stdout"
        },
        {
          "output_type": "stream",
          "text": [
            "\r 61%|██████    | 153/250 [31:43<18:39, 11.54s/it]"
          ],
          "name": "stderr"
        },
        {
          "output_type": "stream",
          "text": [
            "Epoch, Losses: 152 {'ner': 116.60607637450259}\n"
          ],
          "name": "stdout"
        },
        {
          "output_type": "stream",
          "text": [
            "\r 62%|██████▏   | 154/250 [31:55<18:16, 11.42s/it]"
          ],
          "name": "stderr"
        },
        {
          "output_type": "stream",
          "text": [
            "Epoch, Losses: 153 {'ner': 109.619488714203}\n"
          ],
          "name": "stdout"
        },
        {
          "output_type": "stream",
          "text": [
            "\r 62%|██████▏   | 155/250 [32:06<17:55, 11.32s/it]"
          ],
          "name": "stderr"
        },
        {
          "output_type": "stream",
          "text": [
            "Epoch, Losses: 154 {'ner': 91.67849232694135}\n"
          ],
          "name": "stdout"
        },
        {
          "output_type": "stream",
          "text": [
            "\r 62%|██████▏   | 156/250 [32:17<17:36, 11.24s/it]"
          ],
          "name": "stderr"
        },
        {
          "output_type": "stream",
          "text": [
            "Epoch, Losses: 155 {'ner': 88.04092976782923}\n"
          ],
          "name": "stdout"
        },
        {
          "output_type": "stream",
          "text": [
            "\r 63%|██████▎   | 157/250 [32:28<17:19, 11.18s/it]"
          ],
          "name": "stderr"
        },
        {
          "output_type": "stream",
          "text": [
            "Epoch, Losses: 156 {'ner': 73.38538605093039}\n"
          ],
          "name": "stdout"
        },
        {
          "output_type": "stream",
          "text": [
            "\r 63%|██████▎   | 158/250 [32:39<17:01, 11.10s/it]"
          ],
          "name": "stderr"
        },
        {
          "output_type": "stream",
          "text": [
            "Epoch, Losses: 157 {'ner': 73.19061605649303}\n"
          ],
          "name": "stdout"
        },
        {
          "output_type": "stream",
          "text": [
            "\r 64%|██████▎   | 159/250 [32:50<16:46, 11.06s/it]"
          ],
          "name": "stderr"
        },
        {
          "output_type": "stream",
          "text": [
            "Epoch, Losses: 158 {'ner': 90.47744676640126}\n"
          ],
          "name": "stdout"
        },
        {
          "output_type": "stream",
          "text": [
            "\r 64%|██████▍   | 160/250 [33:01<16:34, 11.05s/it]"
          ],
          "name": "stderr"
        },
        {
          "output_type": "stream",
          "text": [
            "Epoch, Losses: 159 {'ner': 111.52509383898523}\n"
          ],
          "name": "stdout"
        },
        {
          "output_type": "stream",
          "text": [
            "\r 64%|██████▍   | 161/250 [33:12<16:24, 11.06s/it]"
          ],
          "name": "stderr"
        },
        {
          "output_type": "stream",
          "text": [
            "Epoch, Losses: 160 {'ner': 88.45296404236085}\n"
          ],
          "name": "stdout"
        },
        {
          "output_type": "stream",
          "text": [
            "\r 65%|██████▍   | 162/250 [33:23<16:17, 11.11s/it]"
          ],
          "name": "stderr"
        },
        {
          "output_type": "stream",
          "text": [
            "Epoch, Losses: 161 {'ner': 79.43592106282345}\n"
          ],
          "name": "stdout"
        },
        {
          "output_type": "stream",
          "text": [
            "\r 65%|██████▌   | 163/250 [33:34<16:06, 11.11s/it]"
          ],
          "name": "stderr"
        },
        {
          "output_type": "stream",
          "text": [
            "Epoch, Losses: 162 {'ner': 99.3055656219477}\n"
          ],
          "name": "stdout"
        },
        {
          "output_type": "stream",
          "text": [
            "\r 66%|██████▌   | 164/250 [33:46<16:04, 11.22s/it]"
          ],
          "name": "stderr"
        },
        {
          "output_type": "stream",
          "text": [
            "Epoch, Losses: 163 {'ner': 111.21292564501061}\n"
          ],
          "name": "stdout"
        },
        {
          "output_type": "stream",
          "text": [
            "\r 66%|██████▌   | 165/250 [33:58<16:19, 11.53s/it]"
          ],
          "name": "stderr"
        },
        {
          "output_type": "stream",
          "text": [
            "Epoch, Losses: 164 {'ner': 68.6114154147191}\n"
          ],
          "name": "stdout"
        },
        {
          "output_type": "stream",
          "text": [
            "\r 66%|██████▋   | 166/250 [34:10<16:26, 11.75s/it]"
          ],
          "name": "stderr"
        },
        {
          "output_type": "stream",
          "text": [
            "Epoch, Losses: 165 {'ner': 73.98897942851592}\n"
          ],
          "name": "stdout"
        },
        {
          "output_type": "stream",
          "text": [
            "\r 67%|██████▋   | 167/250 [34:23<16:35, 12.00s/it]"
          ],
          "name": "stderr"
        },
        {
          "output_type": "stream",
          "text": [
            "Epoch, Losses: 166 {'ner': 93.80896599338776}\n"
          ],
          "name": "stdout"
        },
        {
          "output_type": "stream",
          "text": [
            "\r 67%|██████▋   | 168/250 [34:35<16:28, 12.05s/it]"
          ],
          "name": "stderr"
        },
        {
          "output_type": "stream",
          "text": [
            "Epoch, Losses: 167 {'ner': 80.55974527372464}\n"
          ],
          "name": "stdout"
        },
        {
          "output_type": "stream",
          "text": [
            "\r 68%|██████▊   | 169/250 [34:47<16:08, 11.96s/it]"
          ],
          "name": "stderr"
        },
        {
          "output_type": "stream",
          "text": [
            "Epoch, Losses: 168 {'ner': 79.31704032299737}\n"
          ],
          "name": "stdout"
        },
        {
          "output_type": "stream",
          "text": [
            "\r 68%|██████▊   | 170/250 [34:59<16:00, 12.00s/it]"
          ],
          "name": "stderr"
        },
        {
          "output_type": "stream",
          "text": [
            "Epoch, Losses: 169 {'ner': 79.41978388226585}\n"
          ],
          "name": "stdout"
        },
        {
          "output_type": "stream",
          "text": [
            "\r 68%|██████▊   | 171/250 [35:13<16:37, 12.63s/it]"
          ],
          "name": "stderr"
        },
        {
          "output_type": "stream",
          "text": [
            "Epoch, Losses: 170 {'ner': 78.62017360741966}\n"
          ],
          "name": "stdout"
        },
        {
          "output_type": "stream",
          "text": [
            "\r 69%|██████▉   | 172/250 [35:27<17:01, 13.09s/it]"
          ],
          "name": "stderr"
        },
        {
          "output_type": "stream",
          "text": [
            "Epoch, Losses: 171 {'ner': 84.6130438307146}\n"
          ],
          "name": "stdout"
        },
        {
          "output_type": "stream",
          "text": [
            "\r 69%|██████▉   | 173/250 [35:41<17:08, 13.36s/it]"
          ],
          "name": "stderr"
        },
        {
          "output_type": "stream",
          "text": [
            "Epoch, Losses: 172 {'ner': 83.37354239820044}\n"
          ],
          "name": "stdout"
        },
        {
          "output_type": "stream",
          "text": [
            "\r 70%|██████▉   | 174/250 [35:55<17:11, 13.57s/it]"
          ],
          "name": "stderr"
        },
        {
          "output_type": "stream",
          "text": [
            "Epoch, Losses: 173 {'ner': 65.31820202337252}\n"
          ],
          "name": "stdout"
        },
        {
          "output_type": "stream",
          "text": [
            "\r 70%|███████   | 175/250 [36:07<16:30, 13.21s/it]"
          ],
          "name": "stderr"
        },
        {
          "output_type": "stream",
          "text": [
            "Epoch, Losses: 174 {'ner': 84.60696471511298}\n"
          ],
          "name": "stdout"
        },
        {
          "output_type": "stream",
          "text": [
            "\r 70%|███████   | 176/250 [36:19<15:43, 12.75s/it]"
          ],
          "name": "stderr"
        },
        {
          "output_type": "stream",
          "text": [
            "Epoch, Losses: 175 {'ner': 73.80851537456729}\n"
          ],
          "name": "stdout"
        },
        {
          "output_type": "stream",
          "text": [
            "\r 71%|███████   | 177/250 [36:33<15:50, 13.03s/it]"
          ],
          "name": "stderr"
        },
        {
          "output_type": "stream",
          "text": [
            "Epoch, Losses: 176 {'ner': 72.76432129302765}\n"
          ],
          "name": "stdout"
        },
        {
          "output_type": "stream",
          "text": [
            "\r 71%|███████   | 178/250 [36:44<15:06, 12.60s/it]"
          ],
          "name": "stderr"
        },
        {
          "output_type": "stream",
          "text": [
            "Epoch, Losses: 177 {'ner': 71.19163348717574}\n"
          ],
          "name": "stdout"
        },
        {
          "output_type": "stream",
          "text": [
            "\r 72%|███████▏  | 179/250 [36:56<14:30, 12.26s/it]"
          ],
          "name": "stderr"
        },
        {
          "output_type": "stream",
          "text": [
            "Epoch, Losses: 178 {'ner': 104.30887704812062}\n"
          ],
          "name": "stdout"
        },
        {
          "output_type": "stream",
          "text": [
            "\r 72%|███████▏  | 180/250 [37:08<14:07, 12.11s/it]"
          ],
          "name": "stderr"
        },
        {
          "output_type": "stream",
          "text": [
            "Epoch, Losses: 179 {'ner': 89.63978941663636}\n"
          ],
          "name": "stdout"
        },
        {
          "output_type": "stream",
          "text": [
            "\r 72%|███████▏  | 181/250 [37:19<13:50, 12.04s/it]"
          ],
          "name": "stderr"
        },
        {
          "output_type": "stream",
          "text": [
            "Epoch, Losses: 180 {'ner': 71.84946537177248}\n"
          ],
          "name": "stdout"
        },
        {
          "output_type": "stream",
          "text": [
            "\r 73%|███████▎  | 182/250 [37:31<13:28, 11.89s/it]"
          ],
          "name": "stderr"
        },
        {
          "output_type": "stream",
          "text": [
            "Epoch, Losses: 181 {'ner': 88.45572947270779}\n"
          ],
          "name": "stdout"
        },
        {
          "output_type": "stream",
          "text": [
            "\r 73%|███████▎  | 183/250 [37:42<13:09, 11.78s/it]"
          ],
          "name": "stderr"
        },
        {
          "output_type": "stream",
          "text": [
            "Epoch, Losses: 182 {'ner': 71.60311602855062}\n"
          ],
          "name": "stdout"
        },
        {
          "output_type": "stream",
          "text": [
            "\r 74%|███████▎  | 184/250 [37:54<12:48, 11.65s/it]"
          ],
          "name": "stderr"
        },
        {
          "output_type": "stream",
          "text": [
            "Epoch, Losses: 183 {'ner': 102.64933527750239}\n"
          ],
          "name": "stdout"
        },
        {
          "output_type": "stream",
          "text": [
            "\r 74%|███████▍  | 185/250 [38:05<12:33, 11.59s/it]"
          ],
          "name": "stderr"
        },
        {
          "output_type": "stream",
          "text": [
            "Epoch, Losses: 184 {'ner': 111.9124452401838}\n"
          ],
          "name": "stdout"
        },
        {
          "output_type": "stream",
          "text": [
            "\r 74%|███████▍  | 186/250 [38:17<12:21, 11.59s/it]"
          ],
          "name": "stderr"
        },
        {
          "output_type": "stream",
          "text": [
            "Epoch, Losses: 185 {'ner': 88.30877026928302}\n"
          ],
          "name": "stdout"
        },
        {
          "output_type": "stream",
          "text": [
            "\r 75%|███████▍  | 187/250 [38:29<12:29, 11.89s/it]"
          ],
          "name": "stderr"
        },
        {
          "output_type": "stream",
          "text": [
            "Epoch, Losses: 186 {'ner': 75.84875437988741}\n"
          ],
          "name": "stdout"
        },
        {
          "output_type": "stream",
          "text": [
            "\r 75%|███████▌  | 188/250 [38:46<13:43, 13.28s/it]"
          ],
          "name": "stderr"
        },
        {
          "output_type": "stream",
          "text": [
            "Epoch, Losses: 187 {'ner': 72.53036006666018}\n"
          ],
          "name": "stdout"
        },
        {
          "output_type": "stream",
          "text": [
            "\r 76%|███████▌  | 189/250 [39:02<14:27, 14.21s/it]"
          ],
          "name": "stderr"
        },
        {
          "output_type": "stream",
          "text": [
            "Epoch, Losses: 188 {'ner': 64.47569141811663}\n"
          ],
          "name": "stdout"
        },
        {
          "output_type": "stream",
          "text": [
            "\r 76%|███████▌  | 190/250 [39:16<14:09, 14.16s/it]"
          ],
          "name": "stderr"
        },
        {
          "output_type": "stream",
          "text": [
            "Epoch, Losses: 189 {'ner': 58.70981291592693}\n"
          ],
          "name": "stdout"
        },
        {
          "output_type": "stream",
          "text": [
            "\r 76%|███████▋  | 191/250 [39:30<13:45, 13.99s/it]"
          ],
          "name": "stderr"
        },
        {
          "output_type": "stream",
          "text": [
            "Epoch, Losses: 190 {'ner': 65.99531751020898}\n"
          ],
          "name": "stdout"
        },
        {
          "output_type": "stream",
          "text": [
            "\r 77%|███████▋  | 192/250 [39:44<13:29, 13.95s/it]"
          ],
          "name": "stderr"
        },
        {
          "output_type": "stream",
          "text": [
            "Epoch, Losses: 191 {'ner': 63.417391695352485}\n"
          ],
          "name": "stdout"
        },
        {
          "output_type": "stream",
          "text": [
            "\r 77%|███████▋  | 193/250 [39:58<13:16, 13.98s/it]"
          ],
          "name": "stderr"
        },
        {
          "output_type": "stream",
          "text": [
            "Epoch, Losses: 192 {'ner': 79.18721214823367}\n"
          ],
          "name": "stdout"
        },
        {
          "output_type": "stream",
          "text": [
            "\r 78%|███████▊  | 194/250 [40:12<13:02, 13.97s/it]"
          ],
          "name": "stderr"
        },
        {
          "output_type": "stream",
          "text": [
            "Epoch, Losses: 193 {'ner': 98.05890302013823}\n"
          ],
          "name": "stdout"
        },
        {
          "output_type": "stream",
          "text": [
            "\r 78%|███████▊  | 195/250 [40:25<12:39, 13.82s/it]"
          ],
          "name": "stderr"
        },
        {
          "output_type": "stream",
          "text": [
            "Epoch, Losses: 194 {'ner': 106.20534667343732}\n"
          ],
          "name": "stdout"
        },
        {
          "output_type": "stream",
          "text": [
            "\r 78%|███████▊  | 196/250 [40:38<12:00, 13.35s/it]"
          ],
          "name": "stderr"
        },
        {
          "output_type": "stream",
          "text": [
            "Epoch, Losses: 195 {'ner': 93.30163097623686}\n"
          ],
          "name": "stdout"
        },
        {
          "output_type": "stream",
          "text": [
            "\r 79%|███████▉  | 197/250 [40:52<11:57, 13.54s/it]"
          ],
          "name": "stderr"
        },
        {
          "output_type": "stream",
          "text": [
            "Epoch, Losses: 196 {'ner': 80.5611253815735}\n"
          ],
          "name": "stdout"
        },
        {
          "output_type": "stream",
          "text": [
            "\r 79%|███████▉  | 198/250 [41:06<11:51, 13.68s/it]"
          ],
          "name": "stderr"
        },
        {
          "output_type": "stream",
          "text": [
            "Epoch, Losses: 197 {'ner': 99.54390687334754}\n"
          ],
          "name": "stdout"
        },
        {
          "output_type": "stream",
          "text": [
            "\r 80%|███████▉  | 199/250 [41:18<11:17, 13.29s/it]"
          ],
          "name": "stderr"
        },
        {
          "output_type": "stream",
          "text": [
            "Epoch, Losses: 198 {'ner': 75.71532479888393}\n"
          ],
          "name": "stdout"
        },
        {
          "output_type": "stream",
          "text": [
            "\r 80%|████████  | 200/250 [41:30<10:39, 12.79s/it]"
          ],
          "name": "stderr"
        },
        {
          "output_type": "stream",
          "text": [
            "Epoch, Losses: 199 {'ner': 69.97854760386659}\n"
          ],
          "name": "stdout"
        },
        {
          "output_type": "stream",
          "text": [
            "\r 80%|████████  | 201/250 [41:41<10:10, 12.46s/it]"
          ],
          "name": "stderr"
        },
        {
          "output_type": "stream",
          "text": [
            "Epoch, Losses: 200 {'ner': 77.8714381797527}\n"
          ],
          "name": "stdout"
        },
        {
          "output_type": "stream",
          "text": [
            "\r 81%|████████  | 202/250 [41:53<09:46, 12.22s/it]"
          ],
          "name": "stderr"
        },
        {
          "output_type": "stream",
          "text": [
            "Epoch, Losses: 201 {'ner': 73.97672145265612}\n"
          ],
          "name": "stdout"
        },
        {
          "output_type": "stream",
          "text": [
            "\r 81%|████████  | 203/250 [42:04<09:25, 12.02s/it]"
          ],
          "name": "stderr"
        },
        {
          "output_type": "stream",
          "text": [
            "Epoch, Losses: 202 {'ner': 63.319588746151325}\n"
          ],
          "name": "stdout"
        },
        {
          "output_type": "stream",
          "text": [
            "\r 82%|████████▏ | 204/250 [42:16<09:09, 11.94s/it]"
          ],
          "name": "stderr"
        },
        {
          "output_type": "stream",
          "text": [
            "Epoch, Losses: 203 {'ner': 66.49816789860064}\n"
          ],
          "name": "stdout"
        },
        {
          "output_type": "stream",
          "text": [
            "\r 82%|████████▏ | 205/250 [42:28<08:57, 11.94s/it]"
          ],
          "name": "stderr"
        },
        {
          "output_type": "stream",
          "text": [
            "Epoch, Losses: 204 {'ner': 89.32818844079006}\n"
          ],
          "name": "stdout"
        },
        {
          "output_type": "stream",
          "text": [
            "\r 82%|████████▏ | 206/250 [42:40<08:40, 11.82s/it]"
          ],
          "name": "stderr"
        },
        {
          "output_type": "stream",
          "text": [
            "Epoch, Losses: 205 {'ner': 76.99013178749418}\n"
          ],
          "name": "stdout"
        },
        {
          "output_type": "stream",
          "text": [
            "\r 83%|████████▎ | 207/250 [42:51<08:26, 11.78s/it]"
          ],
          "name": "stderr"
        },
        {
          "output_type": "stream",
          "text": [
            "Epoch, Losses: 206 {'ner': 62.247986760847176}\n"
          ],
          "name": "stdout"
        },
        {
          "output_type": "stream",
          "text": [
            "\r 83%|████████▎ | 208/250 [43:03<08:10, 11.68s/it]"
          ],
          "name": "stderr"
        },
        {
          "output_type": "stream",
          "text": [
            "Epoch, Losses: 207 {'ner': 50.34688293211594}\n"
          ],
          "name": "stdout"
        },
        {
          "output_type": "stream",
          "text": [
            "\r 84%|████████▎ | 209/250 [43:15<07:58, 11.67s/it]"
          ],
          "name": "stderr"
        },
        {
          "output_type": "stream",
          "text": [
            "Epoch, Losses: 208 {'ner': 122.02562735067521}\n"
          ],
          "name": "stdout"
        },
        {
          "output_type": "stream",
          "text": [
            "\r 84%|████████▍ | 210/250 [43:26<07:46, 11.65s/it]"
          ],
          "name": "stderr"
        },
        {
          "output_type": "stream",
          "text": [
            "Epoch, Losses: 209 {'ner': 78.68169558532333}\n"
          ],
          "name": "stdout"
        },
        {
          "output_type": "stream",
          "text": [
            "\r 84%|████████▍ | 211/250 [43:38<07:35, 11.68s/it]"
          ],
          "name": "stderr"
        },
        {
          "output_type": "stream",
          "text": [
            "Epoch, Losses: 210 {'ner': 84.65156026247105}\n"
          ],
          "name": "stdout"
        },
        {
          "output_type": "stream",
          "text": [
            "\r 85%|████████▍ | 212/250 [43:50<07:24, 11.70s/it]"
          ],
          "name": "stderr"
        },
        {
          "output_type": "stream",
          "text": [
            "Epoch, Losses: 211 {'ner': 90.98001480785763}\n"
          ],
          "name": "stdout"
        },
        {
          "output_type": "stream",
          "text": [
            "\r 85%|████████▌ | 213/250 [44:01<07:13, 11.72s/it]"
          ],
          "name": "stderr"
        },
        {
          "output_type": "stream",
          "text": [
            "Epoch, Losses: 212 {'ner': 72.49759222625231}\n"
          ],
          "name": "stdout"
        },
        {
          "output_type": "stream",
          "text": [
            "\r 86%|████████▌ | 214/250 [44:15<07:26, 12.39s/it]"
          ],
          "name": "stderr"
        },
        {
          "output_type": "stream",
          "text": [
            "Epoch, Losses: 213 {'ner': 57.35805511421156}\n"
          ],
          "name": "stdout"
        },
        {
          "output_type": "stream",
          "text": [
            "\r 86%|████████▌ | 215/250 [44:30<07:35, 13.01s/it]"
          ],
          "name": "stderr"
        },
        {
          "output_type": "stream",
          "text": [
            "Epoch, Losses: 214 {'ner': 83.17907404867037}\n"
          ],
          "name": "stdout"
        },
        {
          "output_type": "stream",
          "text": [
            "\r 86%|████████▋ | 216/250 [44:46<07:54, 13.95s/it]"
          ],
          "name": "stderr"
        },
        {
          "output_type": "stream",
          "text": [
            "Epoch, Losses: 215 {'ner': 62.85210630024146}\n"
          ],
          "name": "stdout"
        },
        {
          "output_type": "stream",
          "text": [
            "\r 87%|████████▋ | 217/250 [45:02<08:00, 14.57s/it]"
          ],
          "name": "stderr"
        },
        {
          "output_type": "stream",
          "text": [
            "Epoch, Losses: 216 {'ner': 63.057681238554025}\n"
          ],
          "name": "stdout"
        },
        {
          "output_type": "stream",
          "text": [
            "\r 87%|████████▋ | 218/250 [45:14<07:20, 13.76s/it]"
          ],
          "name": "stderr"
        },
        {
          "output_type": "stream",
          "text": [
            "Epoch, Losses: 217 {'ner': 94.47369447825689}\n"
          ],
          "name": "stdout"
        },
        {
          "output_type": "stream",
          "text": [
            "\r 88%|████████▊ | 219/250 [45:26<06:47, 13.15s/it]"
          ],
          "name": "stderr"
        },
        {
          "output_type": "stream",
          "text": [
            "Epoch, Losses: 218 {'ner': 79.94909678663512}\n"
          ],
          "name": "stdout"
        },
        {
          "output_type": "stream",
          "text": [
            "\r 88%|████████▊ | 220/250 [45:39<06:40, 13.34s/it]"
          ],
          "name": "stderr"
        },
        {
          "output_type": "stream",
          "text": [
            "Epoch, Losses: 219 {'ner': 87.853661477138}\n"
          ],
          "name": "stdout"
        },
        {
          "output_type": "stream",
          "text": [
            "\r 88%|████████▊ | 221/250 [45:51<06:09, 12.76s/it]"
          ],
          "name": "stderr"
        },
        {
          "output_type": "stream",
          "text": [
            "Epoch, Losses: 220 {'ner': 85.40038126349222}\n"
          ],
          "name": "stdout"
        },
        {
          "output_type": "stream",
          "text": [
            "\r 89%|████████▉ | 222/250 [46:02<05:47, 12.40s/it]"
          ],
          "name": "stderr"
        },
        {
          "output_type": "stream",
          "text": [
            "Epoch, Losses: 221 {'ner': 79.98155405622803}\n"
          ],
          "name": "stdout"
        },
        {
          "output_type": "stream",
          "text": [
            "\r 89%|████████▉ | 223/250 [46:14<05:28, 12.16s/it]"
          ],
          "name": "stderr"
        },
        {
          "output_type": "stream",
          "text": [
            "Epoch, Losses: 222 {'ner': 50.53466241632044}\n"
          ],
          "name": "stdout"
        },
        {
          "output_type": "stream",
          "text": [
            "\r 90%|████████▉ | 224/250 [46:26<05:14, 12.10s/it]"
          ],
          "name": "stderr"
        },
        {
          "output_type": "stream",
          "text": [
            "Epoch, Losses: 223 {'ner': 74.20226959137005}\n"
          ],
          "name": "stdout"
        },
        {
          "output_type": "stream",
          "text": [
            "\r 90%|█████████ | 225/250 [46:38<04:59, 11.98s/it]"
          ],
          "name": "stderr"
        },
        {
          "output_type": "stream",
          "text": [
            "Epoch, Losses: 224 {'ner': 69.24310249708981}\n"
          ],
          "name": "stdout"
        },
        {
          "output_type": "stream",
          "text": [
            "\r 90%|█████████ | 226/250 [46:49<04:43, 11.80s/it]"
          ],
          "name": "stderr"
        },
        {
          "output_type": "stream",
          "text": [
            "Epoch, Losses: 225 {'ner': 54.68334127807495}\n"
          ],
          "name": "stdout"
        },
        {
          "output_type": "stream",
          "text": [
            "\r 91%|█████████ | 227/250 [47:00<04:29, 11.72s/it]"
          ],
          "name": "stderr"
        },
        {
          "output_type": "stream",
          "text": [
            "Epoch, Losses: 226 {'ner': 63.69140922737252}\n"
          ],
          "name": "stdout"
        },
        {
          "output_type": "stream",
          "text": [
            "\r 91%|█████████ | 228/250 [47:12<04:17, 11.69s/it]"
          ],
          "name": "stderr"
        },
        {
          "output_type": "stream",
          "text": [
            "Epoch, Losses: 227 {'ner': 71.2659342124488}\n"
          ],
          "name": "stdout"
        },
        {
          "output_type": "stream",
          "text": [
            "\r 92%|█████████▏| 229/250 [47:24<04:07, 11.77s/it]"
          ],
          "name": "stderr"
        },
        {
          "output_type": "stream",
          "text": [
            "Epoch, Losses: 228 {'ner': 96.28726678793181}\n"
          ],
          "name": "stdout"
        },
        {
          "output_type": "stream",
          "text": [
            "\r 92%|█████████▏| 230/250 [47:38<04:10, 12.50s/it]"
          ],
          "name": "stderr"
        },
        {
          "output_type": "stream",
          "text": [
            "Epoch, Losses: 229 {'ner': 52.04103594115174}\n"
          ],
          "name": "stdout"
        },
        {
          "output_type": "stream",
          "text": [
            "\r 92%|█████████▏| 231/250 [47:52<04:05, 12.95s/it]"
          ],
          "name": "stderr"
        },
        {
          "output_type": "stream",
          "text": [
            "Epoch, Losses: 230 {'ner': 93.05554329485098}\n"
          ],
          "name": "stdout"
        },
        {
          "output_type": "stream",
          "text": [
            "\r 93%|█████████▎| 232/250 [48:06<03:58, 13.25s/it]"
          ],
          "name": "stderr"
        },
        {
          "output_type": "stream",
          "text": [
            "Epoch, Losses: 231 {'ner': 58.639715781106204}\n"
          ],
          "name": "stdout"
        },
        {
          "output_type": "stream",
          "text": [
            "\r 93%|█████████▎| 233/250 [48:20<03:48, 13.42s/it]"
          ],
          "name": "stderr"
        },
        {
          "output_type": "stream",
          "text": [
            "Epoch, Losses: 232 {'ner': 64.04476614984787}\n"
          ],
          "name": "stdout"
        },
        {
          "output_type": "stream",
          "text": [
            "\r 94%|█████████▎| 234/250 [48:31<03:25, 12.84s/it]"
          ],
          "name": "stderr"
        },
        {
          "output_type": "stream",
          "text": [
            "Epoch, Losses: 233 {'ner': 71.51060022241955}\n"
          ],
          "name": "stdout"
        },
        {
          "output_type": "stream",
          "text": [
            "\r 94%|█████████▍| 235/250 [48:43<03:05, 12.35s/it]"
          ],
          "name": "stderr"
        },
        {
          "output_type": "stream",
          "text": [
            "Epoch, Losses: 234 {'ner': 77.99488219743156}\n"
          ],
          "name": "stdout"
        },
        {
          "output_type": "stream",
          "text": [
            "\r 94%|█████████▍| 236/250 [48:53<02:46, 11.86s/it]"
          ],
          "name": "stderr"
        },
        {
          "output_type": "stream",
          "text": [
            "Epoch, Losses: 235 {'ner': 66.17385626628264}\n"
          ],
          "name": "stdout"
        },
        {
          "output_type": "stream",
          "text": [
            "\r 95%|█████████▍| 237/250 [49:04<02:28, 11.39s/it]"
          ],
          "name": "stderr"
        },
        {
          "output_type": "stream",
          "text": [
            "Epoch, Losses: 236 {'ner': 76.86189218861244}\n"
          ],
          "name": "stdout"
        },
        {
          "output_type": "stream",
          "text": [
            "\r 95%|█████████▌| 238/250 [49:17<02:22, 11.88s/it]"
          ],
          "name": "stderr"
        },
        {
          "output_type": "stream",
          "text": [
            "Epoch, Losses: 237 {'ner': 57.561862605338014}\n"
          ],
          "name": "stdout"
        },
        {
          "output_type": "stream",
          "text": [
            "\r 96%|█████████▌| 239/250 [49:28<02:08, 11.65s/it]"
          ],
          "name": "stderr"
        },
        {
          "output_type": "stream",
          "text": [
            "Epoch, Losses: 238 {'ner': 60.670980874556705}\n"
          ],
          "name": "stdout"
        },
        {
          "output_type": "stream",
          "text": [
            "\r 96%|█████████▌| 240/250 [49:39<01:54, 11.42s/it]"
          ],
          "name": "stderr"
        },
        {
          "output_type": "stream",
          "text": [
            "Epoch, Losses: 239 {'ner': 67.82413089253924}\n"
          ],
          "name": "stdout"
        },
        {
          "output_type": "stream",
          "text": [
            "\r 96%|█████████▋| 241/250 [49:50<01:41, 11.27s/it]"
          ],
          "name": "stderr"
        },
        {
          "output_type": "stream",
          "text": [
            "Epoch, Losses: 240 {'ner': 63.401035082509345}\n"
          ],
          "name": "stdout"
        },
        {
          "output_type": "stream",
          "text": [
            "\r 97%|█████████▋| 242/250 [50:01<01:29, 11.18s/it]"
          ],
          "name": "stderr"
        },
        {
          "output_type": "stream",
          "text": [
            "Epoch, Losses: 241 {'ner': 59.20091735222992}\n"
          ],
          "name": "stdout"
        },
        {
          "output_type": "stream",
          "text": [
            "\r 97%|█████████▋| 243/250 [50:11<01:17, 11.09s/it]"
          ],
          "name": "stderr"
        },
        {
          "output_type": "stream",
          "text": [
            "Epoch, Losses: 242 {'ner': 58.91515564497775}\n"
          ],
          "name": "stdout"
        },
        {
          "output_type": "stream",
          "text": [
            "\r 98%|█████████▊| 244/250 [50:22<01:06, 11.04s/it]"
          ],
          "name": "stderr"
        },
        {
          "output_type": "stream",
          "text": [
            "Epoch, Losses: 243 {'ner': 78.05777158393026}\n"
          ],
          "name": "stdout"
        },
        {
          "output_type": "stream",
          "text": [
            "\r 98%|█████████▊| 245/250 [50:34<00:55, 11.07s/it]"
          ],
          "name": "stderr"
        },
        {
          "output_type": "stream",
          "text": [
            "Epoch, Losses: 244 {'ner': 65.56573490960083}\n"
          ],
          "name": "stdout"
        },
        {
          "output_type": "stream",
          "text": [
            "\r 98%|█████████▊| 246/250 [50:45<00:44, 11.08s/it]"
          ],
          "name": "stderr"
        },
        {
          "output_type": "stream",
          "text": [
            "Epoch, Losses: 245 {'ner': 103.8844326255222}\n"
          ],
          "name": "stdout"
        },
        {
          "output_type": "stream",
          "text": [
            "\r 99%|█████████▉| 247/250 [50:56<00:33, 11.04s/it]"
          ],
          "name": "stderr"
        },
        {
          "output_type": "stream",
          "text": [
            "Epoch, Losses: 246 {'ner': 48.65516044866997}\n"
          ],
          "name": "stdout"
        },
        {
          "output_type": "stream",
          "text": [
            "\r 99%|█████████▉| 248/250 [51:06<00:21, 10.99s/it]"
          ],
          "name": "stderr"
        },
        {
          "output_type": "stream",
          "text": [
            "Epoch, Losses: 247 {'ner': 57.009245359012205}\n"
          ],
          "name": "stdout"
        },
        {
          "output_type": "stream",
          "text": [
            "\r100%|█████████▉| 249/250 [51:17<00:10, 10.96s/it]"
          ],
          "name": "stderr"
        },
        {
          "output_type": "stream",
          "text": [
            "Epoch, Losses: 248 {'ner': 83.49762709669679}\n"
          ],
          "name": "stdout"
        },
        {
          "output_type": "stream",
          "text": [
            "100%|██████████| 250/250 [51:28<00:00, 12.36s/it]"
          ],
          "name": "stderr"
        },
        {
          "output_type": "stream",
          "text": [
            "Epoch, Losses: 249 {'ner': 82.37191147339722}\n"
          ],
          "name": "stdout"
        },
        {
          "output_type": "stream",
          "text": [
            "\n"
          ],
          "name": "stderr"
        }
      ]
    },
    {
      "cell_type": "code",
      "metadata": {
        "id": "Bj_Bhhh4VIpZ",
        "colab": {
          "base_uri": "https://localhost:8080/"
        },
        "outputId": "fb32ea84-10ca-408f-afc6-9d6e4e439b59"
      },
      "source": [
        "if output_dir is not None:\n",
        "    output_dir = Path(output_dir)\n",
        "if not output_dir.exists():\n",
        "    output_dir.mkdir()\n",
        "ner_model.to_disk(output_dir)\n",
        "print(\"Saved model to\", output_dir)"
      ],
      "execution_count": null,
      "outputs": [
        {
          "output_type": "stream",
          "text": [
            "Saved model to /content/model_val\n"
          ],
          "name": "stdout"
        }
      ]
    },
    {
      "cell_type": "code",
      "metadata": {
        "id": "YYa997oQaV2j",
        "colab": {
          "base_uri": "https://localhost:8080/"
        },
        "outputId": "cf6e538d-8fb3-47dc-e576-54283a00a07e"
      },
      "source": [
        "# test the saved model\n",
        "print(\"Loading from\", output_dir)\n",
        "nlp2 = spacy.load(output_dir)\n",
        "for text, _ in TRAIN_DATA:\n",
        "    doc = nlp2(text)\n",
        "    print(\"Entities\", [(ent.text, ent.label_) for ent in doc.ents])"
      ],
      "execution_count": null,
      "outputs": [
        {
          "output_type": "stream",
          "text": [
            "Loading from /content/model_val\n",
            "Entities [('drowsy', 'ADE'), ('haze', 'ADE')]\n",
            "Entities [('cravings', 'ADE')]\n",
            "Entities [('drowsy', 'ADE')]\n",
            "Entities [('numb', 'ADE')]\n",
            "Entities [('barely function', 'ADE')]\n",
            "Entities [('lucidity', 'ADE')]\n",
            "Entities [('jolting', 'ADE'), ('rocking', 'ADE')]\n",
            "Entities [('withdrawal', 'ADE')]\n",
            "Entities [('sleep for 12 straight hours', 'ADE')]\n",
            "Entities [('asleep', 'ADE')]\n",
            "Entities [('sleep on my own. but i got at least 16 hours', 'ADE')]\n",
            "Entities [('tearful', 'ADE'), ('poor nights sleep', 'ADE'), ('withdrawing', 'ADE')]\n",
            "Entities [('rage', 'ADE')]\n",
            "Entities [('aches', 'ADE')]\n",
            "Entities [('pains', 'ADE'), ('fluid retention', 'ADE')]\n",
            "Entities [('high', 'ADE')]\n",
            "Entities [('wired', 'ADE'), ('not sleeping', 'ADE')]\n",
            "Entities [('high', 'ADE'), ('feel like throwing up', 'ADE')]\n",
            "Entities [('sleep for 11 hours', 'ADE')]\n",
            "Entities [('Coming off venlafaxine', 'ADE'), ('nasty', 'ADE')]\n",
            "Entities [('addiction', 'ADE')]\n",
            "Entities [('neuro problems', 'ADE'), ('ataxia', 'ADE')]\n",
            "Entities [('put on weight', 'ADE')]\n",
            "Entities [('allergic to penicillin', 'ADE')]\n",
            "Entities [('gastro pain', 'ADE'), ('crying', 'ADE')]\n",
            "Entities [('wonky', 'ADE')]\n",
            "Entities [('addictive', 'ADE')]\n",
            "Entities [('stacked on the weight', 'ADE')]\n",
            "Entities [('restlessness', 'ADE'), ('jitters', 'ADE')]\n",
            "Entities [('weight gain', 'ADE')]\n",
            "Entities [('night visions', 'ADE')]\n",
            "Entities [('gain 18 kg', 'ADE')]\n",
            "Entities [('drip', 'ADE')]\n",
            "Entities [('losing every breath', 'ADE'), ('heart beat', 'ADE')]\n",
            "Entities [('worsening pain', 'ADE')]\n",
            "Entities [('eating incredibly differently', 'ADE')]\n",
            "Entities [('paranoia', 'ADE'), ('leg is itching', 'ADE')]\n",
            "Entities [('screwing with my memory', 'ADE')]\n",
            "Entities [('anxious', 'ADE'), ('insomniac', 'ADE')]\n",
            "Entities [('reaction', 'ADE')]\n",
            "Entities []\n",
            "Entities []\n",
            "Entities [('pee so often', 'ADE')]\n",
            "Entities [('feel crap every morning', 'ADE'), ('restless night', 'ADE')]\n",
            "Entities [('depression', 'ADE')]\n",
            "Entities [('heart was hurting', 'ADE')]\n",
            "Entities [('numb', 'ADE')]\n",
            "Entities [('sleeping schedule of a fucking vampire', 'ADE')]\n",
            "Entities []\n",
            "Entities [('neck pain', 'ADE'), ('legs still weak', 'ADE')]\n",
            "Entities [('drowsy', 'ADE')]\n",
            "Entities [('addict', 'ADE')]\n",
            "Entities [('jaw clenching', 'ADE')]\n",
            "Entities [('nose feel like its bleeding', 'ADE')]\n",
            "Entities [('sleepy', 'ADE')]\n",
            "Entities []\n",
            "Entities [('allergic', 'ADE')]\n",
            "Entities [('zombie', 'ADE')]\n",
            "Entities [('brain zaps', 'ADE'), (\"genitals aren't numb\", 'ADE')]\n",
            "Entities [('gained 80 pounds', 'ADE')]\n",
            "Entities [('chemo', 'ADE'), ('destroyed my lungs', 'ADE')]\n",
            "Entities [('creativity was blocked', 'ADE')]\n",
            "Entities [('restless leg syndrome', 'ADE')]\n",
            "Entities [('ab pain', 'ADE'), ('cramps', 'ADE'), ('nausea', 'ADE'), ('vomitting', 'ADE'), ('skin&joint problems', 'ADE')]\n",
            "Entities [('hobbling', 'ADE'), ('ruptures', 'ADE')]\n",
            "Entities [('sleep for fifteen hours', 'ADE')]\n",
            "Entities [('falling asleep', 'ADE'), (\"brain's always scattered\", 'ADE')]\n",
            "Entities [('shakes', 'ADE')]\n",
            "Entities [(\"achille's\", 'ADE')]\n",
            "Entities [('weight gain', 'ADE')]\n",
            "Entities [('memory loss', 'ADE')]\n",
            "Entities [('withdrawals', 'ADE')]\n",
            "Entities [('nap', 'ADE')]\n",
            "Entities [(\"haven't slept\", 'ADE')]\n",
            "Entities [('withdrawal', 'ADE')]\n",
            "Entities [('awake all night', 'ADE'), ('feeling ill', 'ADE')]\n",
            "Entities [('dizzing', 'ADE'), ('feel so ick', 'ADE')]\n",
            "Entities [('pains', 'ADE')]\n",
            "Entities [('sleep paralysis', 'ADE')]\n",
            "Entities [('septic c diff', 'ADE')]\n",
            "Entities [('perspective time and people', 'ADE')]\n",
            "Entities [(\"don't want to get up\", 'ADE')]\n",
            "Entities [('withdrawals', 'ADE')]\n",
            "Entities [('need to be awake', 'ADE')]\n",
            "Entities [('weight gain', 'ADE')]\n",
            "Entities [('after-sting', 'ADE')]\n",
            "Entities [('headaches', 'ADE')]\n",
            "Entities [('stomach discomfort', 'ADE'), ('sweating', 'ADE')]\n",
            "Entities [('not sleeping', 'ADE')]\n",
            "Entities [('put on weight', 'ADE'), ('extra 20kg', 'ADE')]\n",
            "Entities [('coming off', 'ADE'), ('nausea', 'ADE'), ('sickness', 'ADE'), ('hot and cold', 'ADE'), ('shivers', 'ADE'), ('twitching', 'ADE'), ('headache', 'ADE')]\n",
            "Entities [('hunger', 'ADE'), ('cravings have gotten', 'ADE')]\n",
            "Entities [('stressful', 'ADE')]\n",
            "Entities [('weight gain', 'ADE'), ('pain', 'ADE')]\n",
            "Entities [('urge to vomit', 'ADE'), ('feel disgusting', 'ADE')]\n",
            "Entities [('feelin weird', 'ADE')]\n",
            "Entities [('crazier', 'ADE')]\n",
            "Entities [('withdrawals', 'ADE'), ('headache', 'ADE'), ('irritable', 'ADE')]\n",
            "Entities [('killed my libido', 'ADE')]\n",
            "Entities [('pains in head', 'ADE'), ('neck', 'ADE'), ('back', 'ADE'), ('hip', 'ADE'), ('legs', 'ADE')]\n",
            "Entities [('urge to procure food', 'ADE')]\n",
            "Entities [('sucidal thoughts', 'ADE'), ('insomnia', 'ADE'), ('feeling high', 'ADE'), ('unresponsible', 'ADE'), ('-dry mouth', 'ADE')]\n",
            "Entities []\n",
            "Entities []\n",
            "Entities [('sprayed hairspray all over my tongue', 'ADE')]\n",
            "Entities [('insomnia', 'ADE'), ('insomnia', 'ADE')]\n",
            "Entities [('allergic', 'ADE'), ('puke', 'ADE')]\n",
            "Entities [('falling into a realm of utter disillusion', 'ADE')]\n",
            "Entities [('ocd', 'ADE'), ('wired', 'ADE')]\n",
            "Entities [('lucid dreaming', 'ADE'), ('sleep paralysis', 'ADE')]\n",
            "Entities [('dreamt', 'ADE'), ('dreams', 'ADE'), ('withdrawal', 'ADE')]\n",
            "Entities [('rashes', 'ADE')]\n",
            "Entities [('allergic', 'ADE')]\n",
            "Entities [('tiredness', 'ADE')]\n",
            "Entities [('painful', 'ADE')]\n",
            "Entities [('sweaty', 'ADE'), ('addict', 'ADE')]\n",
            "Entities [('sleep for 12 hours', 'ADE')]\n",
            "Entities [('allergic', 'ADE')]\n",
            "Entities [('Aches', 'ADE')]\n",
            "Entities [(\"don't sleep\", 'ADE'), ('cant get up', 'ADE')]\n",
            "Entities [('hungry', 'ADE')]\n",
            "Entities [('feels dreadful', 'ADE'), ('lung pain', 'ADE')]\n",
            "Entities [('walk &amp;', 'ADE')]\n",
            "Entities [('sick', 'ADE'), ('twice as drunk', 'ADE')]\n",
            "Entities [('rash', 'ADE'), ('glaucoma', 'ADE')]\n",
            "Entities [('loosing so much blood', 'ADE')]\n",
            "Entities [('brain is melting', 'ADE')]\n",
            "Entities [('portions prob too big', 'ADE')]\n",
            "Entities [('tired', 'ADE')]\n",
            "Entities [('you are so horny and i am not', 'ADE')]\n",
            "Entities [('paraesthesia', 'ADE')]\n",
            "Entities [('felt like i.had a frontal lobotomy', 'ADE')]\n",
            "Entities [('suicidal', 'ADE')]\n",
            "Entities [('hearing the words', 'ADE')]\n",
            "Entities [('weight', 'ADE')]\n",
            "Entities [('nicotine beast', 'ADE')]\n",
            "Entities [('migraine', 'ADE')]\n",
            "Entities [('shivering', 'ADE')]\n",
            "Entities [('brain disorder', 'ADE')]\n",
            "Entities [('withdrawals', 'ADE')]\n",
            "Entities [('oversleeping', 'ADE'), ('overeating', 'ADE')]\n",
            "Entities [('floatin', 'ADE')]\n",
            "Entities [('headache', 'ADE'), ('back pain', 'ADE')]\n",
            "Entities [('chest pain', 'ADE')]\n",
            "Entities [('vomits', 'ADE')]\n",
            "Entities [('munchies', 'ADE'), ('not being able to fit into summer wardrobe', 'ADE')]\n",
            "Entities []\n",
            "Entities [('respiratory issues', 'ADE'), ('lung issues', 'ADE')]\n",
            "Entities [('zombie', 'ADE')]\n",
            "Entities [('swollen feet thx to olanzapine', 'ADE')]\n",
            "Entities [('carb cravings', 'ADE')]\n",
            "Entities [('dreams became vivider', 'ADE')]\n",
            "Entities []\n",
            "Entities [('bombed', 'ADE'), ('sleep all the time', 'ADE')]\n",
            "Entities []\n",
            "Entities [('allergic reaction', 'ADE')]\n",
            "Entities [('withdrawal', 'ADE')]\n",
            "Entities [('depressed', 'ADE')]\n",
            "Entities [(\"don't feel fully human\", 'ADE')]\n",
            "Entities []\n",
            "Entities [('withdrawals', 'ADE')]\n",
            "Entities [('addictive', 'ADE')]\n",
            "Entities [('zombified', 'ADE')]\n",
            "Entities [('antsy', 'ADE')]\n",
            "Entities [('able to sleep at night', 'ADE')]\n",
            "Entities [('sweating', 'ADE')]\n",
            "Entities []\n",
            "Entities [('hungry', 'ADE')]\n",
            "Entities [('withdrawals', 'ADE')]\n",
            "Entities [('drunk as hell', 'ADE')]\n",
            "Entities [('aching', 'ADE')]\n",
            "Entities [('oedema', 'ADE'), ('musculo-skeletal pain', 'ADE')]\n",
            "Entities [('tired', 'ADE'), ('anxious', 'ADE')]\n",
            "Entities [('joint pain', 'ADE')]\n",
            "Entities [('not stay up', 'ADE')]\n",
            "Entities [('not sleeping', 'ADE')]\n",
            "Entities [('joint pain', 'ADE')]\n",
            "Entities [('exhausted', 'ADE'), ('grumpy', 'ADE')]\n",
            "Entities []\n",
            "Entities [('withdrawls', 'ADE')]\n",
            "Entities [('no sleep', 'ADE')]\n",
            "Entities [('increased appetite', 'ADE'), ('cravings', 'ADE')]\n",
            "Entities [('addictive', 'ADE')]\n",
            "Entities [('never have another orgasm', 'ADE')]\n",
            "Entities [('depressed', 'ADE')]\n",
            "Entities [('joint pain', 'ADE')]\n",
            "Entities [('addictive', 'ADE'), ('sedating', 'ADE')]\n",
            "Entities [('withdrawl', 'ADE')]\n",
            "Entities [('low', 'ADE')]\n",
            "Entities [('irritable', 'ADE')]\n",
            "Entities [('drive me crazy', 'ADE')]\n",
            "Entities [('insomnia', 'ADE')]\n",
            "Entities [('drowsiness', 'ADE')]\n",
            "Entities [('withdrawal', 'ADE')]\n",
            "Entities [('delirious', 'ADE'), ('messed up', 'ADE')]\n",
            "Entities [('sick', 'ADE')]\n",
            "Entities [('nosleep', 'ADE')]\n",
            "Entities [('drunk', 'ADE')]\n",
            "Entities [('hurt', 'ADE')]\n",
            "Entities [('crazy dreams', 'ADE')]\n",
            "Entities [('allergic reaction', 'ADE')]\n",
            "Entities []\n",
            "Entities [('central nervous system breakdown', 'ADE')]\n",
            "Entities [('wake up at 2:30', 'ADE'), ('half your day sleeping', 'ADE')]\n",
            "Entities [('zombified', 'ADE')]\n",
            "Entities [('bloat', 'ADE')]\n",
            "Entities [('slept 13-14 hrs', 'ADE'), ('feel wasted', 'ADE')]\n",
            "Entities [('toochill', 'ADE')]\n",
            "Entities [('withdrawals', 'ADE'), ('head is spinning', 'ADE'), ('blood pressure low', 'ADE')]\n",
            "Entities [('sick to my stomach', 'ADE')]\n",
            "Entities [('zombie', 'ADE')]\n",
            "Entities [('restlessness', 'ADE'), ('insomnia', 'ADE')]\n",
            "Entities [('zombie', 'ADE')]\n",
            "Entities [('hungry', 'ADE'), ('tear my own face off &amp; eat it', 'ADE'), ('cry', 'ADE')]\n",
            "Entities []\n",
            "Entities [('zombie-ness', 'ADE')]\n",
            "Entities [('add', 'ADE'), ('memory', 'ADE'), ('attention-killing', 'ADE')]\n",
            "Entities [('acne', 'ADE')]\n",
            "Entities [('withdrawing', 'ADE')]\n",
            "Entities []\n",
            "Entities [('messed up my attitude', 'ADE')]\n",
            "Entities [('pain', 'ADE')]\n",
            "Entities [('pancreatitis', 'ADE'), ('digestive problems', 'ADE')]\n",
            "Entities [('wrecking my sleep', 'ADE')]\n",
            "Entities [('not eat', 'ADE')]\n",
            "Entities [('rebound', 'ADE')]\n",
            "Entities [('stopped working', 'ADE')]\n",
            "Entities [('feel like crap', 'ADE')]\n",
            "Entities [('feels like when you come off heroin', 'ADE')]\n",
            "Entities [('out of it', 'ADE'), ('doping up', 'ADE')]\n",
            "Entities [('weight', 'ADE')]\n",
            "Entities [('poison', 'ADE'), ('kills your taste buds', 'ADE')]\n",
            "Entities [('make me a bigger asshole', 'ADE')]\n",
            "Entities [('jacked up', 'ADE')]\n",
            "Entities [('nightmares', 'ADE'), ('coming of it was horrific', 'ADE')]\n",
            "Entities [('irritated', 'ADE'), (\"can't think as fast\", 'ADE')]\n",
            "Entities [('feel like shit', 'ADE')]\n",
            "Entities [(\"can't think\", 'ADE')]\n",
            "Entities [('digestive system', 'ADE')]\n",
            "Entities [('feel like death', 'ADE')]\n",
            "Entities [('dreadful', 'ADE'), ('joint pain', 'ADE')]\n",
            "Entities [('cravings', 'ADE')]\n",
            "Entities [('tremors', 'ADE')]\n",
            "Entities [('allergic', 'ADE')]\n",
            "Entities [('tourettes', 'ADE'), ('twitchy', 'ADE')]\n",
            "Entities [('rash', 'ADE')]\n",
            "Entities [('disable', 'ADE'), ('crippled', 'ADE')]\n",
            "Entities [('keeping me up', 'ADE')]\n",
            "Entities [('arms &amp; heels', 'ADE'), ('hurt like hell', 'ADE'), ('pain is spreading', 'ADE')]\n",
            "Entities [(\"can't take both\", 'ADE')]\n",
            "Entities [('pain', 'ADE'), ('fluid retention', 'ADE')]\n",
            "Entities [('tired', 'ADE'), ('fog', 'ADE')]\n",
            "Entities [('pain', 'ADE')]\n",
            "Entities [('depressed', 'ADE')]\n",
            "Entities [('feel like i am in a straight jacket', 'ADE'), ('muscles feel stiff', 'ADE')]\n",
            "Entities [('stopped working', 'ADE')]\n",
            "Entities [('zombie', 'ADE')]\n",
            "Entities [('tired', 'ADE')]\n",
            "Entities [('sweating', 'ADE')]\n",
            "Entities [('nightmares', 'ADE')]\n",
            "Entities [('destroyed my entire body', 'ADE'), ('Bedridden', 'ADE')]\n",
            "Entities [('nauseous', 'ADE')]\n",
            "Entities [('night terrors', 'ADE')]\n",
            "Entities []\n",
            "Entities [('high', 'ADE')]\n",
            "Entities [('smelled\" a pungent solvent odor, i', 'ADE')]\n",
            "Entities [('crippled', 'ADE'), ('tendon rupture', 'ADE')]\n",
            "Entities [('All nighter', 'ADE')]\n",
            "Entities []\n",
            "Entities [('stressful', 'ADE')]\n",
            "Entities [('focus', 'ADE')]\n",
            "Entities [('pain all day', 'ADE'), ('zombie', 'ADE')]\n",
            "Entities [('nighter is killing me', 'ADE')]\n",
            "Entities [('look at my farrah fawcett poster', 'ADE')]\n",
            "Entities [('going though hell', 'ADE')]\n",
            "Entities [('orgasm', 'ADE')]\n",
            "Entities [('addicted', 'ADE')]\n",
            "Entities []\n",
            "Entities [('eating', 'ADE')]\n",
            "Entities [('holes in my head', 'ADE')]\n",
            "Entities [('tired', 'ADE')]\n",
            "Entities [('disturbed sleep', 'ADE'), ('bad dreams', 'ADE')]\n",
            "Entities [('dizzy', 'ADE')]\n",
            "Entities [('feels like i have raw nerve endings', 'ADE')]\n",
            "Entities [('psychosis', 'ADE')]\n",
            "Entities [('sleep', 'ADE')]\n",
            "Entities [('headaches', 'ADE'), ('vomiting', 'ADE'), ('diarrhea', 'ADE')]\n",
            "Entities [('withdrawal', 'ADE')]\n",
            "Entities [('fat', 'ADE')]\n",
            "Entities [('heart attack', 'ADE')]\n",
            "Entities [('dry mouth', 'ADE')]\n",
            "Entities [('tired', 'ADE')]\n",
            "Entities [('never leave', 'ADE')]\n",
            "Entities [('driving me insane', 'ADE')]\n",
            "Entities [('dizzy', 'ADE'), ('tired', 'ADE')]\n",
            "Entities [('nightmare', 'ADE'), ('awake', 'ADE')]\n",
            "Entities [('weight still keeps coming', 'ADE')]\n",
            "Entities [('withdrawal', 'ADE')]\n",
            "Entities [('withdrawal', 'ADE')]\n",
            "Entities [('bruises', 'ADE')]\n",
            "Entities [('headache', 'ADE'), ('anger', 'ADE')]\n",
            "Entities [('hungry', 'ADE'), ('hunger', 'ADE')]\n",
            "Entities [('drowsy', 'ADE')]\n",
            "Entities [('brain zaps', 'ADE')]\n",
            "Entities [('over think', 'ADE'), ('angry', 'ADE')]\n",
            "Entities [('going to my head', 'ADE')]\n",
            "Entities [('hungrier', 'ADE')]\n",
            "Entities []\n",
            "Entities [('not slept', 'ADE')]\n",
            "Entities [('withdrawal', 'ADE')]\n",
            "Entities [('withdrawal', 'ADE'), ('emotional', 'ADE'), ('crawl in a hole', 'ADE')]\n",
            "Entities [('cant feel my mouth', 'ADE')]\n",
            "Entities [('stupid', 'ADE'), ('clumsy', 'ADE')]\n",
            "Entities [('fat.', 'ADE')]\n",
            "Entities [('like wading through treacle getting up', 'ADE')]\n",
            "Entities []\n",
            "Entities []\n",
            "Entities [('hurts', 'ADE')]\n",
            "Entities [('fat', 'ADE'), ('hand shake', 'ADE')]\n",
            "Entities [('20 hours a day, asleep', 'ADE')]\n",
            "Entities []\n",
            "Entities [('muscle tremors', 'ADE'), ('combination', 'ADE')]\n",
            "Entities [('panic attack', 'ADE')]\n",
            "Entities [('feeling like absolute shit', 'ADE')]\n",
            "Entities [('pain', 'ADE')]\n",
            "Entities [('rage', 'ADE')]\n",
            "Entities [('halitosis', 'ADE')]\n",
            "Entities [('dry mouth', 'ADE'), ('saliva', 'ADE')]\n",
            "Entities [('weight gain', 'ADE')]\n",
            "Entities [('groggy', 'ADE')]\n",
            "Entities []\n",
            "Entities [('feeling awful', 'ADE'), ('withdrawal', 'ADE')]\n",
            "Entities [('whacks me out', 'ADE'), ('asleep', 'ADE')]\n",
            "Entities []\n",
            "Entities [('allergic', 'ADE')]\n",
            "Entities [('fucks up my sleep', 'ADE')]\n",
            "Entities [('tiredness', 'ADE')]\n",
            "Entities [('sick', 'ADE')]\n",
            "Entities [('erectile dysfunction', 'ADE')]\n",
            "Entities [('stomach hurt', 'ADE')]\n",
            "Entities [('gain weight', 'ADE')]\n",
            "Entities [('erectile dysfunction', 'ADE')]\n",
            "Entities [('brain shivers', 'ADE'), ('withdrawal', 'ADE')]\n",
            "Entities [('exacerbates', 'ADE')]\n",
            "Entities [('thirsty', 'ADE'), ('mouth is painfully dry', 'ADE'), ('feels like the sahara desert in my mouth', 'ADE')]\n",
            "Entities [('sweats', 'ADE'), ('migraine', 'ADE'), ('tremors', 'ADE')]\n",
            "Entities [('vitamin d malsorption', 'ADE'), ('calcium problems', 'ADE')]\n",
            "Entities [('lost 10 pounds', 'ADE')]\n",
            "Entities [('dopey', 'ADE')]\n",
            "Entities [('could not orgasm', 'ADE')]\n",
            "Entities [('messed up my sleep', 'ADE')]\n",
            "Entities [('hyper', 'ADE')]\n",
            "Entities [('felt like acid', 'ADE'), ('lupus flare', 'ADE')]\n",
            "Entities [('yucky', 'ADE')]\n",
            "Entities [('mind races', 'ADE')]\n",
            "Entities [('kidneys have been swollen', 'ADE')]\n",
            "Entities [('nausea', 'ADE')]\n",
            "Entities [('nauseous', 'ADE')]\n",
            "Entities [('plot to steal my thoughts', 'ADE')]\n",
            "Entities [('depressed', 'ADE'), ('angry', 'ADE')]\n",
            "Entities [('talk a mile a minute', 'ADE')]\n",
            "Entities [('priapism', 'ADE')]\n",
            "Entities [('impossible to cry', 'ADE')]\n",
            "Entities [('fatigue', 'ADE'), ('pale', 'ADE'), ('lost tons of weight', 'ADE')]\n",
            "Entities [('sleep is a nightmare.#msfatigue', 'ADE')]\n",
            "Entities [('ocd', 'ADE')]\n",
            "Entities []\n",
            "Entities [('back pain', 'ADE')]\n",
            "Entities [('tolerance', 'ADE')]\n",
            "Entities [('allergic', 'ADE')]\n",
            "Entities [('been in bed', 'ADE')]\n",
            "Entities [('tummy trouble', 'ADE')]\n",
            "Entities [('tired', 'ADE'), ('sleepy', 'ADE')]\n",
            "Entities [('food just looks/sounds/tastes fucking disgusting', 'ADE')]\n",
            "Entities [(\"feel like crying but can't\", 'ADE'), ('zombie', 'ADE')]\n",
            "Entities [('sick', 'ADE')]\n",
            "Entities [('mixed episodes', 'ADE'), ('instability', 'ADE')]\n",
            "Entities [('dizziness', 'ADE')]\n",
            "Entities [('groggy', 'ADE'), ('wont wake', 'ADE')]\n",
            "Entities [('drowsy', 'ADE'), (\"don't sleep well\", 'ADE')]\n",
            "Entities [('dizzy', 'ADE'), ('lightheadeded & a myriad of other bad', 'ADE')]\n",
            "Entities [('hungry', 'ADE')]\n",
            "Entities [('zombie', 'ADE'), ('hating the world', 'ADE')]\n",
            "Entities [('knocked on my ass', 'ADE')]\n",
            "Entities [('reaction', 'ADE')]\n",
            "Entities [('barely function', 'ADE')]\n",
            "Entities [('dry mouth', 'ADE')]\n",
            "Entities [('hurt', 'ADE'), (\"weaker &amp; won't heal\", 'ADE')]\n",
            "Entities [('behaving oddly', 'ADE')]\n",
            "Entities [('brain zaps', 'ADE')]\n",
            "Entities [('rash', 'ADE')]\n",
            "Entities [('dying', 'ADE')]\n",
            "Entities [(\"can't eat\", 'ADE')]\n",
            "Entities [('sickest', 'ADE')]\n",
            "Entities [('ocd', 'ADE')]\n",
            "Entities [('pain', 'ADE')]\n",
            "Entities [('weird dreams', 'ADE')]\n",
            "Entities [('over think', 'ADE'), ('angry', 'ADE')]\n",
            "Entities [('put much weight on', 'ADE')]\n",
            "Entities [('stopped working', 'ADE')]\n",
            "Entities [('restlessness', 'ADE'), ('did make my legs go', 'ADE')]\n",
            "Entities [('pain', 'ADE'), ('weakness', 'ADE')]\n",
            "Entities [('shaky', 'ADE'), ('tired', 'ADE'), ('withdrawal', 'ADE')]\n",
            "Entities [('depressed', 'ADE')]\n",
            "Entities [('tipped me to a dark place', 'ADE')]\n",
            "Entities [('wrecked', 'ADE')]\n",
            "Entities [('resisting it', 'ADE')]\n",
            "Entities [('drowsy', 'ADE')]\n",
            "Entities [('coming off effexor was the worst', 'ADE')]\n",
            "Entities [('rash', 'ADE')]\n",
            "Entities [('moods are void of stability', 'ADE')]\n",
            "Entities [('terrifying', 'ADE')]\n",
            "Entities [('crippled', 'ADE'), (\"can't walk\", 'ADE')]\n",
            "Entities [('disturbed sleep', 'ADE')]\n",
            "Entities [('crippled', 'ADE')]\n",
            "Entities [('crazy dreams', 'ADE')]\n",
            "Entities [('need to sleep 24/7', 'ADE')]\n",
            "Entities [('depression', 'ADE')]\n",
            "Entities [('fatigue', 'ADE'), ('achy', 'ADE')]\n",
            "Entities []\n",
            "Entities [('sleep schedule', 'ADE'), ('gain weight', 'ADE')]\n",
            "Entities [('tired', 'ADE')]\n",
            "Entities [('withdrawals', 'ADE')]\n",
            "Entities [('cleaned my entire kitchen', 'ADE'), ('3am', 'ADE')]\n",
            "Entities [('hurts', 'ADE')]\n",
            "Entities [('pain', 'ADE'), ('struggled to get out of the bath', 'ADE')]\n",
            "Entities [('withdrawals', 'ADE')]\n",
            "Entities [(\"shouldn't wake up\", 'ADE')]\n",
            "Entities [('high', 'ADE')]\n",
            "Entities [('dry nose', 'ADE'), ('throat', 'ADE')]\n",
            "Entities [('screaming', 'ADE'), ('crying', 'ADE')]\n",
            "Entities []\n",
            "Entities [('sleep past 24hrs', 'ADE'), ('tummy pains', 'ADE')]\n",
            "Entities [('withdraws', 'ADE')]\n",
            "Entities [('restless', 'ADE')]\n",
            "Entities [('awake', 'ADE')]\n",
            "Entities [('tiiiiired', 'ADE')]\n",
            "Entities [('shaking', 'ADE')]\n",
            "Entities [('facial spasms', 'ADE'), ('eye', 'ADE')]\n",
            "Entities [('not remembering', 'ADE')]\n",
            "Entities [('fistula', 'ADE'), ('painful reactions', 'ADE')]\n",
            "Entities [('nausea', 'ADE')]\n",
            "Entities [('maniatriggering', 'ADE')]\n",
            "Entities [('hyper', 'ADE')]\n",
            "Entities [('never sleep', 'ADE'), ('may NOT switch your brain off', 'ADE'), ('Exhaustion', 'ADE')]\n",
            "Entities [('put on weight', 'ADE')]\n",
            "Entities []\n",
            "Entities [('lucidity. i grant the power', 'ADE')]\n",
            "Entities [('tweakin out', 'ADE')]\n",
            "Entities [('felt drugged', 'ADE')]\n",
            "Entities [('not sleeping', 'ADE')]\n",
            "Entities [('withdraw', 'ADE')]\n",
            "Entities [('withdrawal', 'ADE'), ('eyeballs make a sound', 'ADE')]\n",
            "Entities [('not remember', 'ADE')]\n",
            "Entities [('w/d', 'ADE')]\n",
            "Entities [('feeling like a train wreck', 'ADE'), ('tweaking', 'ADE')]\n",
            "Entities []\n",
            "Entities [('allergic reaction', 'ADE')]\n",
            "Entities [('just now wake up', 'ADE')]\n",
            "Entities [('munchies', 'ADE')]\n",
            "Entities [('tired', 'ADE')]\n",
            "Entities [('burn my veins', 'ADE')]\n",
            "Entities [('crazy shit in my dreams', 'ADE')]\n",
            "Entities [('sleep walking', 'ADE')]\n",
            "Entities [('withdrawal', 'ADE')]\n",
            "Entities [('cooked my brain', 'ADE')]\n",
            "Entities [('exhausting', 'ADE')]\n",
            "Entities []\n",
            "Entities [('disability', 'ADE')]\n",
            "Entities [('see shapes', 'ADE')]\n",
            "Entities [('immune system went poof', 'ADE')]\n",
            "Entities [('fatigue', 'ADE')]\n",
            "Entities [(\"won't sleep\", 'ADE')]\n",
            "Entities []\n",
            "Entities [('hungry', 'ADE')]\n",
            "Entities [('interacts', 'ADE')]\n",
            "Entities [('asleep 24/7', 'ADE')]\n",
            "Entities [(\"didn't eat a thing\", 'ADE')]\n",
            "Entities [('nausea', 'ADE'), ('akathisia', 'ADE')]\n",
            "Entities [('poison', 'ADE'), ('headache', 'ADE')]\n",
            "Entities [('withdrawal', 'ADE'), ('nauesousness', 'ADE'), ('insomnia', 'ADE'), ('withdrawal', 'ADE')]\n",
            "Entities [('tired', 'ADE'), ('naptime', 'ADE')]\n",
            "Entities [('destroyed my liver', 'ADE')]\n",
            "Entities [('not sleeping', 'ADE')]\n",
            "Entities [('hotflashes', 'ADE')]\n",
            "Entities [('numb', 'ADE'), ('lifeless', 'ADE')]\n",
            "Entities [('crippled', 'ADE')]\n",
            "Entities [('just woke up', 'ADE')]\n",
            "Entities [('manic reactions', 'ADE'), ('angry', 'ADE'), ('tired', 'ADE')]\n",
            "Entities [('shooting pains down arms &amp; legs', 'ADE'), ('body ache', 'ADE')]\n",
            "Entities [('crazy ish', 'ADE')]\n",
            "Entities [('feel sooooooo weird', 'ADE')]\n",
            "Entities [('gained weight', 'ADE')]\n",
            "Entities [('sugar crashes', 'ADE'), ('feel ill', 'ADE')]\n",
            "Entities [('dissociation', 'ADE')]\n",
            "Entities [('withdrawal', 'ADE'), ('lost vision', 'ADE'), ('brain zap', 'ADE')]\n",
            "Entities [('weight gain', 'ADE')]\n",
            "Entities [('sleeping 9 hours in the day', 'ADE')]\n",
            "Entities [('withdrawal', 'ADE')]\n",
            "Entities [('mood swings', 'ADE')]\n",
            "Entities [('withdrawal', 'ADE')]\n",
            "Entities [('headaches', 'ADE')]\n",
            "Entities [('restless arms', 'ADE')]\n",
            "Entities []\n",
            "Entities [('hangover', 'ADE')]\n",
            "Entities []\n",
            "Entities [('no feelings', 'ADE')]\n",
            "Entities [('dreams', 'ADE')]\n",
            "Entities [('memory damage', 'ADE')]\n",
            "Entities [('depressed', 'ADE')]\n",
            "Entities [('wdrawals', 'ADE')]\n",
            "Entities [('nuasea', 'ADE'), ('low grade temp', 'ADE')]\n",
            "Entities [('poisoned', 'ADE'), ('pain', 'ADE')]\n",
            "Entities [('sick', 'ADE')]\n",
            "Entities [('ill', 'ADE')]\n",
            "Entities [('not hungry', 'ADE')]\n",
            "Entities []\n",
            "Entities [('sleep', 'ADE')]\n",
            "Entities [('withdrawal', 'ADE')]\n",
            "Entities [('eating all day', 'ADE'), ('feel weird', 'ADE')]\n",
            "Entities []\n",
            "Entities [('Numbness', 'ADE'), ('tingling', 'ADE')]\n",
            "Entities [('not let me sleep', 'ADE')]\n",
            "Entities [('addicted', 'ADE')]\n",
            "Entities [('negative', 'ADE')]\n",
            "Entities [('neck ache', 'ADE'), ('shoulder ache', 'ADE'), ('back pain', 'ADE')]\n",
            "Entities [('feeling so shitty', 'ADE')]\n",
            "Entities [('horrible sleep', 'ADE')]\n",
            "Entities [('coming off effexor is not fun', 'ADE')]\n",
            "Entities [('knee pain', 'ADE')]\n",
            "Entities [('slept horribly', 'ADE')]\n",
            "Entities [(\"potato drug bcuz that's what i looked like\", 'ADE')]\n",
            "Entities [('over-eaten', 'ADE')]\n",
            "Entities [('wait gain', 'ADE'), ('weight', 'ADE')]\n",
            "Entities [('dizzy', 'ADE'), ('sick', 'ADE'), ('crippled', 'ADE')]\n",
            "Entities [('aches', 'ADE'), ('lower back ache', 'ADE'), ('weak knees', 'ADE')]\n",
            "Entities [('mashed', 'ADE')]\n",
            "Entities [('tired', 'ADE'), ('half-asleep', 'ADE')]\n",
            "Entities [('destroy myself', 'ADE')]\n",
            "Entities [('itchy and my', 'ADE'), ('neck was red so', 'ADE')]\n",
            "Entities [('nausea', 'ADE'), ('headache', 'ADE'), ('sweats', 'ADE'), ('diarrhea', 'ADE'), ('withdrawal', 'ADE')]\n",
            "Entities [('ache', 'ADE')]\n",
            "Entities [('pain', 'ADE'), ('poor sleep', 'ADE')]\n",
            "Entities [('need to sleep', 'ADE')]\n",
            "Entities [('retarded', 'ADE')]\n",
            "Entities []\n",
            "Entities [('stop breathin', 'ADE')]\n",
            "Entities [('feel like a pile of shit', 'ADE'), ('sick', 'ADE'), ('cold', 'ADE'), ('stomach reacting', 'ADE')]\n",
            "Entities [('eat', 'ADE')]\n",
            "Entities [('withdrawals', 'ADE')]\n",
            "Entities [('withdrawal', 'ADE')]\n",
            "Entities [('racing heart', 'ADE'), ('palpitations', 'ADE')]\n",
            "Entities [('hangover', 'ADE')]\n",
            "Entities [('loopy', 'ADE')]\n",
            "Entities [('sick', 'ADE')]\n",
            "Entities [('weird &amp; bizarre dreams', 'ADE')]\n",
            "Entities [('withdrawals', 'ADE')]\n",
            "Entities [('suicidally depressed', 'ADE'), ('voice', 'ADE'), ('worthlessness', 'ADE')]\n",
            "Entities [('dry-mouth', 'ADE')]\n",
            "Entities [(\"doesn't even work for me anymore\", 'ADE'), ('sick', 'ADE')]\n",
            "Entities [('horrid intrusive thoughts', 'ADE')]\n",
            "Entities [('gain unwanted pounds', 'ADE'), ('water weight', 'ADE')]\n",
            "Entities [('comatose', 'ADE')]\n",
            "Entities []\n",
            "Entities [('burnt', 'ADE')]\n",
            "Entities [('sweats', 'ADE'), ('insomnia', 'ADE')]\n",
            "Entities [('OCD', 'ADE')]\n",
            "Entities []\n",
            "Entities [('pain', 'ADE')]\n",
            "Entities [('knocked me sidewards', 'ADE')]\n",
            "Entities [('lo0o0py', 'ADE'), ('thirty minutes to type', 'ADE'), ('waking up without knowing i feel asleep', 'ADE')]\n",
            "Entities [('allergic', 'ADE'), ('sick', 'ADE')]\n",
            "Entities [('brain zap', 'ADE'), ('twitch', 'ADE')]\n",
            "Entities [('back pain', 'ADE'), ('weak', 'ADE'), ('aching knees', 'ADE')]\n",
            "Entities [('haze', 'ADE')]\n",
            "Entities [('headaches', 'ADE')]\n",
            "Entities [('fuck with your head', 'ADE')]\n",
            "Entities [('turn peaceful people into the hulk', 'ADE')]\n",
            "Entities [('stress incontinence', 'ADE'), ('like niagara falls when i cough', 'ADE')]\n",
            "Entities [('hungry', 'ADE'), ('want to eat my own arm', 'ADE')]\n",
            "Entities [('tolerant', 'ADE')]\n",
            "Entities [('cough', 'ADE')]\n",
            "Entities [('tmj', 'ADE'), ('headaches', 'ADE')]\n",
            "Entities [('numbing', 'ADE')]\n",
            "Entities [('felt nothing', 'ADE'), ('Coming off klonopin and paxil was hell', 'ADE')]\n",
            "Entities [('slow turtle', 'ADE')]\n",
            "Entities []\n",
            "Entities [('acid like trips', 'ADE')]\n",
            "Entities [('hot', 'ADE')]\n",
            "Entities [('throwing', 'ADE')]\n",
            "Entities [('tolerance to the sun', 'ADE')]\n",
            "Entities [('headache', 'ADE')]\n",
            "Entities [('rid myself of it', 'ADE'), ('no sleep', 'ADE')]\n",
            "Entities [('tired', 'ADE')]\n",
            "Entities [('dependence', 'ADE')]\n",
            "Entities [('died', 'ADE')]\n",
            "Entities [('addiction', 'ADE')]\n",
            "Entities [('drowsy', 'ADE'), ('weight gain', 'ADE')]\n",
            "Entities [('nausea', 'ADE'), ('hypotension', 'ADE')]\n",
            "Entities [('addictive', 'ADE')]\n",
            "Entities [('no immune', 'ADE')]\n",
            "Entities [('tremors', 'ADE'), ('weight gain', 'ADE')]\n",
            "Entities [('get the horn my life', 'ADE')]\n",
            "Entities []\n",
            "Entities [('parasthesia', 'ADE'), ('cognitive problems', 'ADE'), ('kidney stones', 'ADE')]\n",
            "Entities [('Aches', 'ADE'), ('back pain', 'ADE'), ('Swollen lower legs', 'ADE'), ('fluid retention', 'ADE')]\n",
            "Entities [('weakness', 'ADE'), ('muscle pain', 'ADE')]\n",
            "Entities [('drowsy', 'ADE')]\n",
            "Entities [('allergic reaction', 'ADE')]\n",
            "Entities [('not dangerous but it is damn unpleasant', 'ADE')]\n",
            "Entities [('withdraw', 'ADE')]\n",
            "Entities [('high', 'ADE')]\n",
            "Entities [('stomach cramps', 'ADE')]\n",
            "Entities [('only let me sleep four hours', 'ADE')]\n",
            "Entities [('tiered', 'ADE')]\n",
            "Entities [('space cadet', 'ADE')]\n",
            "Entities [('wiping me out', 'ADE'), (\"can't function\", 'ADE')]\n",
            "Entities [('aches', 'ADE'), ('pains', 'ADE')]\n",
            "Entities [('stop spending all of your income in food', 'ADE')]\n",
            "Entities [('drowsy', 'ADE'), ('high', 'ADE')]\n",
            "Entities [('sick', 'ADE')]\n",
            "Entities [('reacted badly', 'ADE')]\n",
            "Entities [('bloated', 'ADE'), ('zombie', 'ADE')]\n",
            "Entities [('weak', 'ADE')]\n",
            "Entities [(\"feel like you're on your death bed\", 'ADE')]\n",
            "Entities [('withdrawal', 'ADE')]\n",
            "Entities [('addict', 'ADE')]\n",
            "Entities [('hating the world', 'ADE')]\n",
            "Entities [('hairloss', 'ADE')]\n",
            "Entities [('bizarre thoughts', 'ADE')]\n",
            "Entities [('fast pulse', 'ADE')]\n",
            "Entities [('walking dead', 'ADE')]\n",
            "Entities [('sleep', 'ADE')]\n",
            "Entities [('breath smells', 'ADE')]\n",
            "Entities [('chest infections', 'ADE')]\n",
            "Entities [('withdrawal', 'ADE')]\n",
            "Entities [('addicted', 'ADE')]\n",
            "Entities [('going off of olanzapine is no picnic', 'ADE')]\n",
            "Entities [('pooped out', 'ADE')]\n",
            "Entities [('dry mouth', 'ADE')]\n",
            "Entities [('sweatin', 'ADE')]\n",
            "Entities [('withdrawals', 'ADE')]\n",
            "Entities [('paraesthesia', 'ADE')]\n",
            "Entities [('itchy scalp', 'ADE'), ('hairloss', 'ADE')]\n",
            "Entities [('sick', 'ADE')]\n",
            "Entities [('vertigo', 'ADE')]\n",
            "Entities [('addicted', 'ADE')]\n",
            "Entities [('teamnosleep', 'ADE')]\n",
            "Entities [('sleepy', 'ADE')]\n",
            "Entities [('died', 'ADE')]\n",
            "Entities [('stopped working', 'ADE')]\n",
            "Entities []\n",
            "Entities [('flu Iike symptoms', 'ADE'), ('aches and pains', 'ADE'), ('shivers', 'ADE'), ('sweats', 'ADE')]\n",
            "Entities [('out of bed is haaard', 'ADE')]\n",
            "Entities [('withdrawal', 'ADE')]\n",
            "Entities [('drowsiness', 'ADE')]\n",
            "Entities [('ate', 'ADE')]\n",
            "Entities [('allergic reaction', 'ADE'), ('rash', 'ADE')]\n",
            "Entities [('joints killing me', 'ADE'), ('knackered', 'ADE')]\n",
            "Entities [('prolactin', 'ADE'), ('boobs humungous', 'ADE')]\n",
            "Entities [('dream', 'ADE')]\n",
            "Entities [('sucked going from 100mg desvenlafaxine / day to zero', 'ADE')]\n",
            "Entities [('addiction', 'ADE')]\n",
            "Entities [('tired', 'ADE'), ('out of it', 'ADE')]\n",
            "Entities [('withdrawals', 'ADE'), ('sick', 'ADE'), ('withdraws', 'ADE'), ('sicksicksick', 'ADE')]\n",
            "Entities [('withdrawls', 'ADE')]\n",
            "Entities [('tendon rupture', 'ADE')]\n",
            "Entities [('headache', 'ADE')]\n",
            "Entities [('migraines', 'ADE'), ('tired', 'ADE')]\n",
            "Entities [('aches', 'ADE'), ('pains', 'ADE')]\n",
            "Entities [('interaction', 'ADE'), ('dizzy', 'ADE')]\n",
            "Entities [('hungry', 'ADE'), ('prop my eyelids open', 'ADE')]\n",
            "Entities [('holes in my head', 'ADE')]\n",
            "Entities [('weight', 'ADE')]\n",
            "Entities [('not going to go to bed', 'ADE')]\n",
            "Entities [('allergic', 'ADE'), ('rash', 'ADE'), ('needing my inhaler', 'ADE')]\n",
            "Entities [(\"can't run\", 'ADE')]\n",
            "Entities [('respiratory probs', 'ADE')]\n",
            "Entities [('restless legs', 'ADE')]\n",
            "Entities [('nap', 'ADE')]\n",
            "Entities [('bad dreams', 'ADE')]\n",
            "Entities [('cant feel my throat', 'ADE')]\n",
            "Entities [('withdrawl', 'ADE')]\n",
            "Entities [('space me out', 'ADE')]\n",
            "Entities [('tendons in lots of pain,', 'ADE'), ('hands barely', 'ADE')]\n",
            "Entities [('fucked up dreams', 'ADE')]\n",
            "Entities [('burns', 'ADE')]\n",
            "Entities [('gained over 20 lbs', 'ADE')]\n",
            "Entities [('urinary track infections', 'ADE')]\n",
            "Entities [('steven johnson syndrome', 'ADE')]\n",
            "Entities [('eyes worse', 'ADE')]\n",
            "Entities [('rash', 'ADE')]\n",
            "Entities [('cry', 'ADE'), ('throw chairs', 'ADE')]\n",
            "Entities [('fatigue', 'ADE'), ('achy', 'ADE')]\n",
            "Entities [('lethargic', 'ADE')]\n",
            "Entities [('shaking', 'ADE')]\n",
            "Entities [('dead from the waist down', 'ADE')]\n",
            "Entities [('drooling', 'ADE')]\n",
            "Entities []\n",
            "Entities [('nausea', 'ADE')]\n",
            "Entities [('nauseas', 'ADE'), ('chunder', 'ADE')]\n",
            "Entities [('trying to function normally', 'ADE')]\n",
            "Entities [(\"haven't ate\", 'ADE')]\n",
            "Entities [('vision blurry', 'ADE')]\n",
            "Entities [('ejaculate', 'ADE')]\n",
            "Entities [('withdrawal', 'ADE')]\n",
            "Entities [('nap', 'ADE')]\n",
            "Entities [('falling asleep', 'ADE')]\n",
            "Entities [('headache', 'ADE'), ('headache', 'ADE'), ('withdrawls', 'ADE')]\n",
            "Entities [('headache', 'ADE')]\n",
            "Entities [('sick', 'ADE'), ('withdrawal', 'ADE')]\n",
            "Entities [('sleepy', 'ADE')]\n",
            "Entities [('emotional', 'ADE')]\n",
            "Entities [('messed up dreams', 'ADE')]\n",
            "Entities [('tweak', 'ADE')]\n",
            "Entities [('zombie', 'ADE')]\n",
            "Entities [('sleep for 15 hours', 'ADE')]\n",
            "Entities []\n",
            "Entities [('hurting', 'ADE')]\n",
            "Entities [('symptoms of schizophrenia', 'ADE')]\n",
            "Entities [('cold', 'ADE')]\n",
            "Entities [('allergic', 'ADE'), ('SJS', 'ADE')]\n",
            "Entities [(\"don't eat\", 'ADE')]\n",
            "Entities [('want to be sick', 'ADE')]\n",
            "Entities [('vertigo', 'ADE')]\n",
            "Entities [('flat', 'ADE'), ('weight gain', 'ADE')]\n",
            "Entities [('hangovers', 'ADE')]\n",
            "Entities [('sleep', 'ADE')]\n",
            "Entities [('unconscious', 'ADE')]\n",
            "Entities [('withdrawal', 'ADE')]\n",
            "Entities [('reduces libido', 'ADE'), ('lethargy', 'ADE')]\n",
            "Entities [('yawning', 'ADE')]\n",
            "Entities [('neck, back, hip, and leg aches', 'ADE')]\n",
            "Entities [('sleepy', 'ADE')]\n",
            "Entities [('thick fog', 'ADE')]\n",
            "Entities [('olanzapine lbs', 'ADE')]\n",
            "Entities [('horrid imposing dream', 'ADE')]\n",
            "Entities [('think too much', 'ADE')]\n",
            "Entities [('hypomania', 'ADE')]\n",
            "Entities [('migraines', 'ADE')]\n",
            "Entities [('addictive', 'ADE')]\n",
            "Entities [('neck ache', 'ADE'), ('back pain', 'ADE')]\n",
            "Entities [('hip joints just started hurting', 'ADE')]\n",
            "Entities [('crabby', 'ADE'), ('sluggish and groggy', 'ADE')]\n",
            "Entities []\n",
            "Entities [('zombie', 'ADE')]\n",
            "Entities []\n",
            "Entities []\n",
            "Entities [('headaches', 'ADE')]\n",
            "Entities [('fewer hours sleep', 'ADE')]\n",
            "Entities [('dehydrates', 'ADE')]\n",
            "Entities [('tired', 'ADE')]\n",
            "Entities [('sick', 'ADE')]\n",
            "Entities [('orgasm', 'ADE')]\n",
            "Entities [('inside i was still screaming', 'ADE')]\n",
            "Entities [('hungry', 'ADE')]\n",
            "Entities [('sleepy', 'ADE')]\n",
            "Entities [('cantsleep', 'ADE')]\n",
            "Entities []\n",
            "Entities [('nightmares', 'ADE')]\n",
            "Entities [('boner killer', 'ADE')]\n",
            "Entities [('added 1 stone', 'ADE')]\n",
            "Entities [('withdrawal', 'ADE')]\n",
            "Entities [('depression', 'ADE'), ('ocd', 'ADE'), ('insomnia', 'ADE')]\n",
            "Entities [('withdrawals', 'ADE'), ('electric shocks in your brain', 'ADE')]\n",
            "Entities [('gained 50', 'ADE')]\n",
            "Entities [(\"can't go back to sleep\", 'ADE')]\n",
            "Entities [('pinsandneedles', 'ADE')]\n",
            "Entities [('sleepy', 'ADE')]\n",
            "Entities [('hallucinate', 'ADE')]\n",
            "Entities [('coming off it would be so awful', 'ADE')]\n",
            "Entities [(\"feel like i can't even stand\", 'ADE')]\n",
            "Entities [('taste', 'ADE')]\n",
            "Entities [('withdrawals', 'ADE')]\n",
            "Entities [('back to sleep', 'ADE')]\n",
            "Entities [('migraine', 'ADE'), ('withdrawals', 'ADE')]\n",
            "Entities [('knocks me out', 'ADE')]\n",
            "Entities [('sleeping 12 hours', 'ADE'), ('falling asleep', 'ADE')]\n",
            "Entities [('tongue is numb', 'ADE')]\n",
            "Entities [('sedative', 'ADE')]\n",
            "Entities [('nightmares', 'ADE')]\n",
            "Entities [(\"raging bm's\", 'ADE'), ('mood swings', 'ADE'), ('weight gain', 'ADE')]\n",
            "Entities [('cravings', 'ADE')]\n",
            "Entities [('slept 11 hours', 'ADE')]\n",
            "Entities [('sick', 'ADE')]\n",
            "Entities [('trying to get up', 'ADE')]\n",
            "Entities [('starvation', 'ADE')]\n",
            "Entities [('think too much', 'ADE')]\n",
            "Entities [('rashes', 'ADE'), ('skin sensitivity', 'ADE')]\n",
            "Entities [('zombie', 'ADE')]\n",
            "Entities [('sleep', 'ADE')]\n",
            "Entities [('could be tired', 'ADE'), ('never sleeping', 'ADE')]\n",
            "Entities [('hallucinating', 'ADE')]\n",
            "Entities [('RLS', 'ADE')]\n",
            "Entities [('reaction', 'ADE')]\n",
            "Entities [('loss of appetite', 'ADE')]\n",
            "Entities [('nightmare', 'ADE')]\n",
            "Entities [('nightmare', 'ADE')]\n",
            "Entities [(\"syndrome ain't exactly\", 'ADE')]\n",
            "Entities [('headaches', 'ADE'), ('no appetite', 'ADE')]\n",
            "Entities [('tendonitis', 'ADE')]\n",
            "Entities [('vomit', 'ADE'), ('lost 4 stone', 'ADE')]\n",
            "Entities [('lose focus', 'ADE')]\n",
            "Entities [('allergic reaction', 'ADE')]\n",
            "Entities [('prolactin', 'ADE'), ('boobs humungous', 'ADE')]\n",
            "Entities [('impossible to cry', 'ADE')]\n",
            "Entities [('dream all types of crazy', 'ADE')]\n",
            "Entities [('tolerance', 'ADE'), ('come too fast', 'ADE')]\n",
            "Entities [('knee still painful', 'ADE'), ('back ache', 'ADE')]\n",
            "Entities [('value your brain cells', 'ADE')]\n",
            "Entities [('sleep paralysis', 'ADE'), ('muscle spasms', 'ADE')]\n",
            "Entities [('sedating', 'ADE')]\n",
            "Entities [('shakes', 'ADE')]\n",
            "Entities [('-9.5lbs', 'ADE')]\n",
            "Entities [('tired', 'ADE'), ('sleepy', 'ADE'), ('fog', 'ADE')]\n",
            "Entities [('weirdo dreams', 'ADE'), ('drowsy', 'ADE')]\n",
            "Entities [('vision shake', 'ADE')]\n",
            "Entities [('gained a good seven or eight pounds', 'ADE')]\n",
            "Entities []\n",
            "Entities [('carb cravings', 'ADE')]\n",
            "Entities [('itchy skin', 'ADE')]\n",
            "Entities [('munchies', 'ADE')]\n",
            "Entities [('gaps in memory', 'ADE')]\n",
            "Entities [('increases hunger', 'ADE')]\n",
            "Entities [('sweating', 'ADE')]\n",
            "Entities [('withdrawal', 'ADE')]\n",
            "Entities []\n",
            "Entities [('headache', 'ADE')]\n",
            "Entities [('got me up', 'ADE'), ('only slept about 2 hours', 'ADE')]\n",
            "Entities [('headache', 'ADE')]\n",
            "Entities [('prolactin', 'ADE'), ('boobs humungous', 'ADE')]\n",
            "Entities [('sleeping schedule of a vampire', 'ADE')]\n",
            "Entities [('sleepy', 'ADE')]\n",
            "Entities [('lethargy', 'ADE')]\n",
            "Entities [('working any more', 'ADE')]\n",
            "Entities [('Felt like chemo', 'ADE')]\n",
            "Entities [('brain feels like its actually vibrating', 'ADE')]\n",
            "Entities [('hangover', 'ADE'), ('dry eyes', 'ADE')]\n",
            "Entities [('scared', 'ADE'), ('need to save the world', 'ADE')]\n",
            "Entities [('burp', 'ADE'), ('want to ralph', 'ADE')]\n",
            "Entities [('addictive', 'ADE'), ('discontinuation syndrome', 'ADE')]\n",
            "Entities [('headache', 'ADE')]\n",
            "Entities [('nauseous', 'ADE')]\n",
            "Entities []\n",
            "Entities [('sleepy', 'ADE')]\n",
            "Entities [('rls', 'ADE')]\n",
            "Entities [('breastmilk production', 'ADE'), ('hallucinations', 'ADE')]\n",
            "Entities [('bowels', 'ADE')]\n",
            "Entities [('gained 40lbs', 'ADE')]\n",
            "Entities [('zombie', 'ADE')]\n",
            "Entities [('back ache', 'ADE')]\n",
            "Entities [('barely keep my eyes open', 'ADE')]\n",
            "Entities [('withdrawal', 'ADE'), ('feel kinda terrible', 'ADE')]\n",
            "Entities []\n",
            "Entities [('withdrawal', 'ADE')]\n",
            "Entities [('lethargic', 'ADE'), ('hot &amp; cold', 'ADE')]\n",
            "Entities [('loopy', 'ADE')]\n",
            "Entities [('crazy dreams', 'ADE')]\n",
            "Entities [('addicted', 'ADE')]\n",
            "Entities [('headache', 'ADE'), ('nausea', 'ADE')]\n",
            "Entities [('tolerance', 'ADE')]\n",
            "Entities [('withdrawals', 'ADE')]\n",
            "Entities [('depressed', 'ADE'), ('suicidal', 'ADE')]\n",
            "Entities []\n",
            "Entities [('insomnia', 'ADE')]\n",
            "Entities [('eyesight', 'ADE'), ('awesome vision, to wearing glasses', 'ADE')]\n",
            "Entities [('kills my libido', 'ADE')]\n",
            "Entities [('flat', 'ADE')]\n",
            "Entities [('slept through every alarm', 'ADE')]\n",
            "Entities []\n",
            "Entities [('weight gain', 'ADE')]\n",
            "Entities [('withdrawal', 'ADE')]\n",
            "Entities [('raised my blood pressure', 'ADE')]\n",
            "Entities []\n",
            "Entities [('tired', 'ADE')]\n",
            "Entities [('withdrawal', 'ADE')]\n",
            "Entities [('sweatin', 'ADE')]\n",
            "Entities [('lower back pain', 'ADE'), ('crippled', 'ADE')]\n",
            "Entities [('knocked me out', 'ADE')]\n",
            "Entities [('munchies', 'ADE')]\n",
            "Entities [('last night i was a mermaid and then a wizard who had to save the world while being hunted by the japanese', 'ADE')]\n",
            "Entities [('weight gain', 'ADE')]\n",
            "Entities [('wreck my head', 'ADE')]\n",
            "Entities [('crazier', 'ADE')]\n",
            "Entities [('makes me nocturnal', 'ADE')]\n",
            "Entities [('not remember', 'ADE'), ('memory lapse', 'ADE')]\n",
            "Entities [('damage ALL tendons', 'ADE'), ('walk', 'ADE')]\n",
            "Entities [('muscle spasms', 'ADE'), ('fluid retention', 'ADE'), ('mobile', 'ADE')]\n",
            "Entities [('walk', 'ADE')]\n",
            "Entities [('withdrawal', 'ADE')]\n",
            "Entities [('screwing up my sleep', 'ADE')]\n",
            "Entities []\n",
            "Entities [('sick', 'ADE'), ('couldnt move', 'ADE'), ('migraine', 'ADE'), ('puke', 'ADE'), ('shakes', 'ADE')]\n",
            "Entities [('rash', 'ADE')]\n",
            "Entities [('tremors', 'ADE'), ('tension in my nerves', 'ADE'), ('shaking', 'ADE')]\n",
            "Entities [('mood', 'ADE')]\n",
            "Entities [('vampire', 'ADE')]\n",
            "Entities [('hypo manic mixed episode', 'ADE')]\n",
            "Entities [('no appetite', 'ADE')]\n",
            "Entities [('psychedelic', 'ADE')]\n",
            "Entities [('Lower back ache', 'ADE'), ('neck ache', 'ADE'), ('hips', 'ADE'), ('knees ache', 'ADE'), ('short of breath', 'ADE')]\n",
            "Entities [('hungover', 'ADE')]\n",
            "Entities []\n",
            "Entities [('no taste', 'ADE')]\n",
            "Entities [('wideawake', 'ADE')]\n",
            "Entities [('sleeping', 'ADE')]\n",
            "Entities [('dehydration', 'ADE')]\n",
            "Entities [('not working as well', 'ADE'), ('sleepy', 'ADE')]\n",
            "Entities [('sting', 'ADE')]\n",
            "Entities [('sleep for days', 'ADE')]\n",
            "Entities [('tolerance', 'ADE')]\n",
            "Entities [('got ten minutes of sleep', 'ADE')]\n",
            "Entities [('neck', 'ADE'), ('should ache', 'ADE'), ('back pain', 'ADE'), ('knee ache', 'ADE')]\n",
            "Entities [('no sleep', 'ADE')]\n",
            "Entities [('legs ache', 'ADE')]\n",
            "Entities [('inability to cry', 'ADE'), ('dry eyed', 'ADE')]\n",
            "Entities [('addiction', 'ADE')]\n",
            "Entities [('14 hour nap', 'ADE')]\n",
            "Entities [('feeling like shit', 'ADE')]\n",
            "Entities [('troubles waking up', 'ADE')]\n",
            "Entities []\n",
            "Entities [('zombified', 'ADE')]\n",
            "Entities [('convulsions', 'ADE'), ('fever', 'ADE'), ('toxic reactions', 'ADE'), ('psychotic reactions', 'ADE')]\n",
            "Entities [('olanzapine lbs', 'ADE')]\n",
            "Entities [('hair falling out', 'ADE')]\n",
            "Entities [('boner kryptonite', 'ADE')]\n",
            "Entities [('painful', 'ADE')]\n",
            "Entities [('weight gain', 'ADE')]\n",
            "Entities [('hit hard', 'ADE')]\n",
            "Entities [('angry', 'ADE'), ('awake', 'ADE')]\n",
            "Entities [('getting off of it is hell', 'ADE')]\n",
            "Entities [('spazzing out', 'ADE')]\n",
            "Entities [('addict', 'ADE')]\n",
            "Entities [('tired', 'ADE')]\n",
            "Entities [('17h sleep', 'ADE')]\n",
            "Entities [('withdrawal', 'ADE')]\n",
            "Entities [('coma', 'ADE')]\n",
            "Entities [('fucked up', 'ADE')]\n",
            "Entities [('driving my fucking mind up the fucking wall', 'ADE')]\n",
            "Entities [('face break out', 'ADE')]\n",
            "Entities [('15 hours sleep', 'ADE')]\n",
            "Entities [('veins', 'ADE')]\n",
            "Entities [('crazy town', 'ADE')]\n",
            "Entities [('tired', 'ADE'), ('nap time', 'ADE')]\n",
            "Entities [('addiction', 'ADE')]\n",
            "Entities [('rid of my appetite', 'ADE')]\n",
            "Entities [('dreams', 'ADE')]\n",
            "Entities [('sloth', 'ADE'), ('weight gain', 'ADE')]\n",
            "Entities [('allergic reaction', 'ADE')]\n",
            "Entities [('sick', 'ADE')]\n",
            "Entities [('depressed', 'ADE')]\n",
            "Entities [(\"can't. stop. moving\", 'ADE')]\n",
            "Entities [('nausea', 'ADE'), ('dry mouth', 'ADE'), ('constipation', 'ADE'), ('diarrhea', 'ADE'), ('fatigue', 'ADE'), ('THOUGHTS OF SUICIDE', 'ADE')]\n",
            "Entities [('crippled', 'ADE')]\n",
            "Entities [('irritating my nerve endings', 'ADE')]\n",
            "Entities [('dream', 'ADE')]\n",
            "Entities [('fuzziness', 'ADE')]\n",
            "Entities [('feel like i need to throw up', 'ADE')]\n",
            "Entities [('want to sleeeeep', 'ADE')]\n",
            "Entities [('vasovagal pre-syncope', 'ADE'), ('toxicity', 'ADE'), ('hard to digest', 'ADE')]\n",
            "Entities [('come down', 'ADE')]\n",
            "Entities [('withdrawal', 'ADE')]\n",
            "Entities [(\"can't sleep\", 'ADE')]\n",
            "Entities [(\"doesn't care about my bed time\", 'ADE')]\n",
            "Entities [('dizzy', 'ADE'), ('wrecked', 'ADE')]\n",
            "Entities [('grind my teeth', 'ADE')]\n",
            "Entities [('zombified', 'ADE')]\n",
            "Entities [('wide awake', 'ADE')]\n",
            "Entities [('ruined my creativity', 'ADE'), ('memory now is awful', 'ADE')]\n",
            "Entities [(\"can't even enjoy this banana\", 'ADE')]\n",
            "Entities [('knocks you outttttttt', 'ADE')]\n",
            "Entities [('discontinuation syndrome', 'ADE')]\n",
            "Entities [('bad dreams', 'ADE')]\n",
            "Entities [('vomit', 'ADE'), ('migraines', 'ADE')]\n",
            "Entities [('gainin weight', 'ADE'), ('fat', 'ADE'), (\"can't cum\", 'ADE')]\n",
            "Entities [('TWERK ME OUT', 'ADE')]\n",
            "Entities [('try for sleep', 'ADE'), ('light bastard', 'ADE')]\n",
            "Entities [('dreams', 'ADE')]\n",
            "Entities [('burned', 'ADE')]\n",
            "Entities [('sleeping my life away', 'ADE')]\n",
            "Entities [('almost died', 'ADE')]\n",
            "Entities [('sleep for like 12 hours', 'ADE')]\n",
            "Entities [('heart will explode', 'ADE')]\n",
            "Entities [('ill', 'ADE')]\n",
            "Entities [('eyes are outta focus', 'ADE'), (\"can't walk straight\", 'ADE')]\n",
            "Entities [('tired', 'ADE')]\n",
            "Entities [('knocks me out', 'ADE')]\n",
            "Entities [('hyper-sensitive', 'ADE')]\n",
            "Entities [('lose my temper', 'ADE')]\n",
            "Entities [('knocked me out', 'ADE')]\n",
            "Entities []\n",
            "Entities [('sick', 'ADE'), ('seizures', 'ADE')]\n",
            "Entities [('ataxia', 'ADE')]\n",
            "Entities [('headache', 'ADE')]\n",
            "Entities [('nightmares', 'ADE'), ('insomnia', 'ADE')]\n",
            "Entities [('withdrawals', 'ADE')]\n",
            "Entities [('egg burps', 'ADE')]\n",
            "Entities [('rage', 'ADE')]\n",
            "Entities [('gorked', 'ADE')]\n",
            "Entities [('awake', 'ADE')]\n",
            "Entities []\n",
            "Entities [('emotional mess', 'ADE')]\n",
            "Entities [('weight', 'ADE')]\n",
            "Entities [('hating the world', 'ADE')]\n",
            "Entities [('allergic reaction', 'ADE'), ('almost killed me', 'ADE')]\n",
            "Entities [('pain', 'ADE'), ('tendonitis', 'ADE'), ('headaches', 'ADE'), ('cognitive issues', 'ADE')]\n",
            "Entities [('heart stopped', 'ADE')]\n",
            "Entities [('ZOMBIES', 'ADE')]\n",
            "Entities [('biffiness', 'ADE')]\n",
            "Entities [('ocd', 'ADE')]\n",
            "Entities [('allergic', 'ADE')]\n",
            "Entities [('sleep 12 hours', 'ADE')]\n",
            "Entities [(\"can't even get whipped cream out of the can\", 'ADE'), ('arms just keep getting worse.', 'ADE')]\n",
            "Entities [('hungry', 'ADE'), ('dizzy', 'ADE'), ('lethargic', 'ADE'), ('weight gain', 'ADE')]\n",
            "Entities [('withdrawals', 'ADE'), (\"don't have the energy\", 'ADE')]\n",
            "Entities [('dizzy', 'ADE'), ('chest hurt', 'ADE')]\n",
            "Entities [('gain weight', 'ADE')]\n",
            "Entities []\n",
            "Entities [('bloated', 'ADE'), ('heart was beating wicked fast', 'ADE')]\n",
            "Entities [('panic attacks', 'ADE')]\n",
            "Entities [('gain so much weight', 'ADE')]\n",
            "Entities [('dark night of the soul', 'ADE')]\n",
            "Entities [('illness worse', 'ADE'), (\"can't eat\", 'ADE')]\n",
            "Entities [('psychotic episode', 'ADE')]\n",
            "Entities [('feels like one of those 5-cup #coffee days', 'ADE')]\n",
            "Entities [('delirious', 'ADE')]\n",
            "Entities [('ill', 'ADE')]\n",
            "Entities [('ability to cum', 'ADE')]\n",
            "Entities [('burping', 'ADE')]\n",
            "Entities [('hardly open or close your mouth', 'ADE')]\n",
            "Entities [('backache', 'ADE')]\n",
            "Entities [('insomniac', 'ADE')]\n",
            "Entities [('sick', 'ADE')]\n",
            "Entities [('messing with my sleep', 'ADE')]\n",
            "Entities [('depression.', 'ADE')]\n",
            "Entities [('descent into madness', 'ADE')]\n",
            "Entities [('addiction', 'ADE')]\n",
            "Entities [('not making me feel so awesome.', 'ADE')]\n",
            "Entities [('not sleeping', 'ADE')]\n",
            "Entities [('knocking me about', 'ADE')]\n",
            "Entities [('withdrawals', 'ADE')]\n",
            "Entities []\n",
            "Entities [('nauaea', 'ADE'), ('kicking my ass', 'ADE')]\n",
            "Entities [('connective tissue', 'ADE'), ('lungs', 'ADE'), ('thyroid', 'ADE')]\n",
            "Entities [('sleep for dayyssss', 'ADE')]\n",
            "Entities []\n",
            "Entities [('nerve damage', 'ADE'), ('ms like', 'ADE')]\n",
            "Entities [('no appetite', 'ADE')]\n",
            "Entities [('addicted', 'ADE')]\n",
            "Entities []\n",
            "Entities [('eat so much', 'ADE')]\n",
            "Entities [('knocks me right out', 'ADE'), (\"won't let me wake up\", 'ADE')]\n",
            "Entities [('forgetting', 'ADE')]\n",
            "Entities [('up till 4', 'ADE'), ('zombie', 'ADE'), ('tired', 'ADE')]\n",
            "Entities [('hallucinate', 'ADE')]\n",
            "Entities [('dreams', 'ADE')]\n",
            "Entities [('headache', 'ADE'), ('stomach ache', 'ADE')]\n",
            "Entities [('hide in the apartment', 'ADE')]\n",
            "Entities [('suicidal', 'ADE'), ('numb', 'ADE')]\n",
            "Entities [('hangover', 'ADE')]\n",
            "Entities [('addiction', 'ADE')]\n",
            "Entities [('crippled', 'ADE')]\n",
            "Entities [('Zombiness', 'ADE')]\n",
            "Entities [('ocd', 'ADE')]\n",
            "Entities [('remembered what food is', 'ADE')]\n",
            "Entities [('lost 17 pounds', 'ADE')]\n",
            "Entities [('weird', 'ADE')]\n",
            "Entities [('palpitate', 'ADE')]\n",
            "Entities [('limbs ached', 'ADE'), ('shivering', 'ADE'), ('withdrawal', 'ADE')]\n",
            "Entities [('pain in neck', 'ADE'), ('hips', 'ADE'), ('legs', 'ADE')]\n",
            "Entities [('takes it out', 'ADE'), ('sleeping', 'ADE')]\n",
            "Entities [('allergic reaction', 'ADE')]\n",
            "Entities [('eat', 'ADE')]\n",
            "Entities [('diabetes risk', 'ADE')]\n",
            "Entities [('dreams', 'ADE')]\n",
            "Entities [('headaches', 'ADE')]\n",
            "Entities [('t cell went up', 'ADE')]\n",
            "Entities [('after sting', 'ADE')]\n",
            "Entities [('whale', 'ADE')]\n",
            "Entities [('rip out my teeth', 'ADE')]\n",
            "Entities [('grinds the shit out of their teeth', 'ADE')]\n",
            "Entities [('tired', 'ADE')]\n",
            "Entities [('messed me up', 'ADE')]\n",
            "Entities [('tendon damage', 'ADE')]\n",
            "Entities [('lightheaded', 'ADE')]\n",
            "Entities [('withdrawals', 'ADE'), ('circulation', 'ADE')]\n",
            "Entities [('interfering with my visions', 'ADE'), ('memory loss', 'ADE')]\n",
            "Entities []\n",
            "Entities []\n",
            "Entities [('wear-off', 'ADE')]\n",
            "Entities [('nosleep', 'ADE')]\n",
            "Entities [('no sleeping', 'ADE')]\n",
            "Entities [('coma', 'ADE')]\n",
            "Entities [('joint pain', 'ADE')]\n",
            "Entities [('crying', 'ADE'), ('withdrawls', 'ADE')]\n",
            "Entities []\n",
            "Entities [('schizophrenia', 'ADE'), ('hear answers', 'ADE')]\n",
            "Entities [('stuffy sinuses', 'ADE'), ('addiction', 'ADE')]\n",
            "Entities [('nosleep', 'ADE')]\n",
            "Entities []\n",
            "Entities [('siiiiiiiiiiiiiiick', 'ADE')]\n",
            "Entities [('zombie', 'ADE')]\n",
            "Entities [('withdrawal', 'ADE'), ('anxiety', 'ADE'), ('hypochondria', 'ADE')]\n",
            "Entities [('headache', 'ADE'), ('shoulder', 'ADE'), ('neck ache', 'ADE'), ('lower back pain', 'ADE'), ('weak knees', 'ADE'), ('limping', 'ADE')]\n",
            "Entities [('hives', 'ADE')]\n",
            "Entities [('headache', 'ADE')]\n",
            "Entities [('crippled', 'ADE')]\n",
            "Entities [('felt like sumo wrestler', 'ADE')]\n",
            "Entities [('appetite is still terrible', 'ADE')]\n",
            "Entities [('restlesslegs', 'ADE')]\n",
            "Entities [('discomfort', 'ADE')]\n",
            "Entities [('withdrawal', 'ADE')]\n",
            "Entities []\n",
            "Entities [('skin issues', 'ADE')]\n",
            "Entities [('drowsy', 'ADE')]\n",
            "Entities [('overheating', 'ADE')]\n",
            "Entities [(\"like i'm having a heart attack\", 'ADE'), ('panic attack', 'ADE')]\n",
            "Entities [('drowsy', 'ADE')]\n",
            "Entities [('anaphylactic shock', 'ADE'), ('almost died', 'ADE')]\n",
            "Entities [('addictive', 'ADE'), ('hands shake', 'ADE'), ('brain zaps', 'ADE')]\n",
            "Entities [('put a gun in your hand', 'ADE')]\n",
            "Entities [('feeling weird', 'ADE')]\n",
            "Entities [('weight gain', 'ADE')]\n",
            "Entities [('withdrawal', 'ADE')]\n",
            "Entities [('sleep paralysis', 'ADE')]\n",
            "Entities [('sleep schedule', 'ADE')]\n",
            "Entities [('heart arrhythmia', 'ADE')]\n",
            "Entities [('arms &amp; heels', 'ADE'), ('hurt like hell', 'ADE'), ('pain is spreading', 'ADE')]\n",
            "Entities [('intense dreams', 'ADE')]\n",
            "Entities [('passing out', 'ADE')]\n",
            "Entities [('addicted', 'ADE')]\n",
            "Entities [('difficult to wake up', 'ADE')]\n",
            "Entities [('tired', 'ADE'), ('sleep so much', 'ADE')]\n",
            "Entities [('painful', 'ADE')]\n",
            "Entities [('gain weight', 'ADE')]\n",
            "Entities [('miserable', 'ADE')]\n",
            "Entities [('dreams', 'ADE')]\n",
            "Entities [('sleepy', 'ADE')]\n",
            "Entities [('sadvil', 'ADE')]\n",
            "Entities [('back pain', 'ADE'), ('sad', 'ADE'), ('crying for no reason', 'ADE')]\n",
            "Entities [(\"won't wake up\", 'ADE')]\n",
            "Entities [('rls', 'ADE'), ('restless leg syndrome', 'ADE')]\n",
            "Entities [('withdrawal', 'ADE'), ('starving', 'ADE')]\n",
            "Entities [('think too much', 'ADE')]\n",
            "Entities [('munchies', 'ADE'), ('eatin weird', 'ADE'), ('tearin up food', 'ADE')]\n",
            "Entities [('allergic reaction', 'ADE')]\n",
            "Entities [(\"WON'T YOU LET ME EAT\", 'ADE')]\n",
            "Entities [('plan on eating', 'ADE')]\n",
            "Entities [('withdrawal', 'ADE')]\n",
            "Entities [('hangovers', 'ADE')]\n",
            "Entities []\n",
            "Entities [('lightweight', 'ADE')]\n",
            "Entities [('addiction', 'ADE')]\n",
            "Entities [('hairloss', 'ADE')]\n",
            "Entities [('stay in shape', 'ADE')]\n",
            "Entities [('suicidal thoughts', 'ADE'), ('stops you from jizzing', 'ADE')]\n",
            "Entities [('hunger inducing', 'ADE')]\n",
            "Entities [('toxic', 'ADE'), ('equivalent to torture', 'ADE'), ('oww', 'ADE')]\n",
            "Entities [('manic', 'ADE')]\n",
            "Entities [('weight-gaining', 'ADE')]\n",
            "Entities []\n",
            "Entities [('sleep cycle', 'ADE'), ('quality', 'ADE')]\n",
            "Entities [('hair is... definitely falling out', 'ADE')]\n",
            "Entities [('tired', 'ADE'), ('no freaking motivation', 'ADE'), ('energy', 'ADE')]\n",
            "Entities [(\"can't sleeeep\", 'ADE')]\n",
            "Entities [('tremors', 'ADE')]\n",
            "Entities []\n",
            "Entities [('shakes', 'ADE')]\n",
            "Entities [('restless leg syndrome', 'ADE')]\n",
            "Entities [('might notice if i got hit in the crotch w/ a lance in a jousting accident', 'ADE')]\n",
            "Entities [('detox', 'ADE')]\n",
            "Entities [('tremors in hands and legs', 'ADE'), ('restlessness', 'ADE'), ('desperation', 'ADE')]\n",
            "Entities [('symptom free', 'ADE')]\n",
            "Entities [('slept 10 hrs', 'ADE')]\n",
            "Entities [(\"light' sleep\", 'ADE'), ('feel low', 'ADE'), ('subdued', 'ADE'), ('sad', 'ADE')]\n",
            "Entities [('zombies', 'ADE')]\n",
            "Entities [('nosebleed', 'ADE')]\n",
            "Entities [('sleeping 18 hrs', 'ADE')]\n",
            "Entities [('balm', 'ADE'), ('hairloss', 'ADE')]\n",
            "Entities [('drunk', 'ADE'), ('staggering', 'ADE'), ('blurry-eyed', 'ADE')]\n",
            "Entities []\n",
            "Entities [('rant', 'ADE'), ('withdrawl', 'ADE')]\n",
            "Entities [('sex drive', 'ADE'), ('libido', 'ADE'), ('withdrawal', 'ADE')]\n",
            "Entities []\n",
            "Entities [('groggy in the morning', 'ADE')]\n",
            "Entities [('tremors', 'ADE'), ('weight gain', 'ADE'), ('diabetes', 'ADE')]\n",
            "Entities [('sleep problems', 'ADE')]\n",
            "Entities [('physically', 'ADE'), ('mentally drained', 'ADE')]\n",
            "Entities [('nap', 'ADE')]\n",
            "Entities [('eat a lot', 'ADE')]\n",
            "Entities [('dreamt colours', 'ADE'), ('lost my fucking mind', 'ADE')]\n",
            "Entities [('addicted', 'ADE')]\n",
            "Entities [('sleep', 'ADE'), ('tired', 'ADE'), ('dizzy', 'ADE')]\n",
            "Entities [('no legit sex', 'ADE')]\n",
            "Entities [('pee way too much', 'ADE'), ('dehydrate', 'ADE')]\n",
            "Entities [('gaining weight', 'ADE')]\n",
            "Entities []\n",
            "Entities [('shitty feeling when you wake up', 'ADE')]\n",
            "Entities [('comedown is hell', 'ADE'), ('zap noises', 'ADE')]\n",
            "Entities [('sinuses close up', 'ADE')]\n",
            "Entities [('sleepy', 'ADE')]\n",
            "Entities [('common for apartments to be haunted', 'ADE')]\n",
            "Entities [('slept', 'ADE')]\n",
            "Entities [('pain in my joints', 'ADE')]\n",
            "Entities [('continuous shitting', 'ADE')]\n",
            "Entities [('headaches', 'ADE'), ('yawn', 'ADE')]\n",
            "Entities [('nearly killed me', 'ADE')]\n",
            "Entities [('toxicity', 'ADE'), ('chronic pain', 'ADE')]\n",
            "Entities [('withdrawal', 'ADE')]\n",
            "Entities [('sleeping 15 hrs', 'ADE')]\n",
            "Entities []\n",
            "Entities [('ready for bed but vyvanse is saying no', 'ADE'), ('forciblynocturnal', 'ADE')]\n",
            "Entities [('withdrawal', 'ADE')]\n",
            "Entities [('gotta wake up', 'ADE')]\n",
            "Entities [('depressed', 'ADE')]\n",
            "Entities [('pupils', 'ADE'), ('blurry vision', 'ADE'), ('nausea', 'ADE'), ('headaches', 'ADE')]\n",
            "Entities [('gain weight', 'ADE'), ('joint pain', 'ADE')]\n",
            "Entities [('like taking rat poison', 'ADE')]\n",
            "Entities [('migraines', 'ADE')]\n",
            "Entities [('gain 20 lbs', 'ADE'), ('acne', 'ADE')]\n",
            "Entities [('brain is a sack of nope', 'ADE')]\n",
            "Entities [('dream', 'ADE')]\n",
            "Entities [('like you have to poop', 'ADE')]\n",
            "Entities [('gain weight', 'ADE')]\n",
            "Entities [('headache', 'ADE'), ('throat is raw', 'ADE')]\n",
            "Entities [('gained weight', 'ADE')]\n",
            "Entities [('Just about dead', 'ADE')]\n",
            "Entities [('zombie', 'ADE')]\n",
            "Entities [('back', 'ADE'), ('knee pain', 'ADE'), ('walking painful', 'ADE')]\n",
            "Entities [('sweating', 'ADE')]\n",
            "Entities [('flat', 'ADE')]\n",
            "Entities [('tweaking', 'ADE')]\n",
            "Entities [('mad', 'ADE')]\n",
            "Entities [('allergic', 'ADE'), ('face break out', 'ADE')]\n"
          ],
          "name": "stdout"
        }
      ]
    },
    {
      "cell_type": "code",
      "metadata": {
        "id": "6CVS9CmPfhSF",
        "colab": {
          "base_uri": "https://localhost:8080/"
        },
        "outputId": "e7b6df93-3b05-4d58-ab30-9fd7e864a432"
      },
      "source": [
        "df_val = pd.read_csv(\"/content/tweets.tsv\", sep = '\\t')\n",
        "df_val.head()\n",
        "print(len(df_val))"
      ],
      "execution_count": null,
      "outputs": [
        {
          "output_type": "stream",
          "text": [
            "914\n"
          ],
          "name": "stdout"
        }
      ]
    },
    {
      "cell_type": "code",
      "metadata": {
        "id": "0iK40AeHiXZF",
        "colab": {
          "base_uri": "https://localhost:8080/"
        },
        "outputId": "1e0408ff-a70d-440b-ad70-14449c18b0fc"
      },
      "source": [
        "!zip -r /content/spacymodel_sm.zip /content/model_sm/"
      ],
      "execution_count": null,
      "outputs": [
        {
          "output_type": "stream",
          "text": [
            "\tzip warning: name not matched: /content/model_sm/\n",
            "\n",
            "zip error: Nothing to do! (try: zip -r /content/spacymodel_sm.zip . -i /content/model_sm/)\n"
          ],
          "name": "stdout"
        }
      ]
    },
    {
      "cell_type": "code",
      "metadata": {
        "id": "oMS97v8jjgvP",
        "colab": {
          "base_uri": "https://localhost:8080/",
          "height": 197
        },
        "outputId": "880e424c-fe8b-4c18-d0da-27ece6976ce4"
      },
      "source": [
        "id = []\n",
        "start = []\n",
        "end = []\n",
        "word = []\n",
        "for i in df_val.index:\n",
        "  doc = nlp2(df_val[\"tweet\"][i])\n",
        "  for ent in doc.ents:\n",
        "    id.append(df_val[\"tweet_id\"][i])\n",
        "    start.append(ent.start_char)\n",
        "    end.append(ent.end_char)\n",
        "    word.append(ent.text)\n",
        "df_1b = pd.DataFrame(list(zip(id, start, end, word)), columns = ['tweet_id', 'start', 'end', 'span'])\n",
        "df_1b.head()"
      ],
      "execution_count": null,
      "outputs": [
        {
          "output_type": "execute_result",
          "data": {
            "text/html": [
              "<div>\n",
              "<style scoped>\n",
              "    .dataframe tbody tr th:only-of-type {\n",
              "        vertical-align: middle;\n",
              "    }\n",
              "\n",
              "    .dataframe tbody tr th {\n",
              "        vertical-align: top;\n",
              "    }\n",
              "\n",
              "    .dataframe thead th {\n",
              "        text-align: right;\n",
              "    }\n",
              "</style>\n",
              "<table border=\"1\" class=\"dataframe\">\n",
              "  <thead>\n",
              "    <tr style=\"text-align: right;\">\n",
              "      <th></th>\n",
              "      <th>tweet_id</th>\n",
              "      <th>start</th>\n",
              "      <th>end</th>\n",
              "      <th>span</th>\n",
              "    </tr>\n",
              "  </thead>\n",
              "  <tbody>\n",
              "    <tr>\n",
              "      <th>0</th>\n",
              "      <td>342138828087234560</td>\n",
              "      <td>125</td>\n",
              "      <td>138</td>\n",
              "      <td>muscle spasms</td>\n",
              "    </tr>\n",
              "    <tr>\n",
              "      <th>1</th>\n",
              "      <td>342382016030973953</td>\n",
              "      <td>61</td>\n",
              "      <td>76</td>\n",
              "      <td>gaining. stupid</td>\n",
              "    </tr>\n",
              "    <tr>\n",
              "      <th>2</th>\n",
              "      <td>342382016030973953</td>\n",
              "      <td>91</td>\n",
              "      <td>110</td>\n",
              "      <td>gain like 50 pounds</td>\n",
              "    </tr>\n",
              "    <tr>\n",
              "      <th>3</th>\n",
              "      <td>345414697148887041</td>\n",
              "      <td>87</td>\n",
              "      <td>103</td>\n",
              "      <td>continuous sleep</td>\n",
              "    </tr>\n",
              "    <tr>\n",
              "      <th>4</th>\n",
              "      <td>345414697148887041</td>\n",
              "      <td>126</td>\n",
              "      <td>134</td>\n",
              "      <td>headache</td>\n",
              "    </tr>\n",
              "  </tbody>\n",
              "</table>\n",
              "</div>"
            ],
            "text/plain": [
              "             tweet_id  start  end                 span\n",
              "0  342138828087234560    125  138        muscle spasms\n",
              "1  342382016030973953     61   76      gaining. stupid\n",
              "2  342382016030973953     91  110  gain like 50 pounds\n",
              "3  345414697148887041     87  103     continuous sleep\n",
              "4  345414697148887041    126  134             headache"
            ]
          },
          "metadata": {
            "tags": []
          },
          "execution_count": 21
        }
      ]
    },
    {
      "cell_type": "code",
      "metadata": {
        "id": "aZAijEzyQrVL",
        "colab": {
          "base_uri": "https://localhost:8080/"
        },
        "outputId": "bb6eb328-43ec-4206-89dd-4446b56b913d"
      },
      "source": [
        "len(df_1b)"
      ],
      "execution_count": null,
      "outputs": [
        {
          "output_type": "execute_result",
          "data": {
            "text/plain": [
              "374"
            ]
          },
          "metadata": {
            "tags": []
          },
          "execution_count": 22
        }
      ]
    },
    {
      "cell_type": "code",
      "metadata": {
        "id": "NUGslHfFTG2q"
      },
      "source": [
        "df_1b.to_csv(\"1b_val_3.tsv\", sep = '\\t')"
      ],
      "execution_count": null,
      "outputs": []
    },
    {
      "cell_type": "markdown",
      "metadata": {
        "id": "1aks4RpL-15b"
      },
      "source": [
        "#Added this section to get validation scores\n"
      ]
    },
    {
      "cell_type": "code",
      "metadata": {
        "id": "iGBmnQ6w2Wpo",
        "colab": {
          "base_uri": "https://localhost:8080/",
          "height": 197
        },
        "outputId": "4667d3a2-fa80-4c38-f302-60defef69210"
      },
      "source": [
        "df_1a = pd.read_csv('/content/val_final.tsv', sep = '\\t') \n",
        "df_1b = pd.read_csv('/content/1b_val_3.tsv', sep = '\\t')\n",
        "df_1b.drop([\"Unnamed: 0\"], axis=1, inplace=True)\n",
        "df_1b.head()"
      ],
      "execution_count": null,
      "outputs": [
        {
          "output_type": "execute_result",
          "data": {
            "text/html": [
              "<div>\n",
              "<style scoped>\n",
              "    .dataframe tbody tr th:only-of-type {\n",
              "        vertical-align: middle;\n",
              "    }\n",
              "\n",
              "    .dataframe tbody tr th {\n",
              "        vertical-align: top;\n",
              "    }\n",
              "\n",
              "    .dataframe thead th {\n",
              "        text-align: right;\n",
              "    }\n",
              "</style>\n",
              "<table border=\"1\" class=\"dataframe\">\n",
              "  <thead>\n",
              "    <tr style=\"text-align: right;\">\n",
              "      <th></th>\n",
              "      <th>tweet_id</th>\n",
              "      <th>start</th>\n",
              "      <th>end</th>\n",
              "      <th>span</th>\n",
              "    </tr>\n",
              "  </thead>\n",
              "  <tbody>\n",
              "    <tr>\n",
              "      <th>0</th>\n",
              "      <td>342138828087234560</td>\n",
              "      <td>125</td>\n",
              "      <td>138</td>\n",
              "      <td>muscle spasms</td>\n",
              "    </tr>\n",
              "    <tr>\n",
              "      <th>1</th>\n",
              "      <td>342382016030973953</td>\n",
              "      <td>61</td>\n",
              "      <td>76</td>\n",
              "      <td>gaining. stupid</td>\n",
              "    </tr>\n",
              "    <tr>\n",
              "      <th>2</th>\n",
              "      <td>342382016030973953</td>\n",
              "      <td>91</td>\n",
              "      <td>110</td>\n",
              "      <td>gain like 50 pounds</td>\n",
              "    </tr>\n",
              "    <tr>\n",
              "      <th>3</th>\n",
              "      <td>345414697148887041</td>\n",
              "      <td>87</td>\n",
              "      <td>103</td>\n",
              "      <td>continuous sleep</td>\n",
              "    </tr>\n",
              "    <tr>\n",
              "      <th>4</th>\n",
              "      <td>345414697148887041</td>\n",
              "      <td>126</td>\n",
              "      <td>134</td>\n",
              "      <td>headache</td>\n",
              "    </tr>\n",
              "  </tbody>\n",
              "</table>\n",
              "</div>"
            ],
            "text/plain": [
              "             tweet_id  start  end                 span\n",
              "0  342138828087234560    125  138        muscle spasms\n",
              "1  342382016030973953     61   76      gaining. stupid\n",
              "2  342382016030973953     91  110  gain like 50 pounds\n",
              "3  345414697148887041     87  103     continuous sleep\n",
              "4  345414697148887041    126  134             headache"
            ]
          },
          "metadata": {
            "tags": []
          },
          "execution_count": 24
        }
      ]
    },
    {
      "cell_type": "code",
      "metadata": {
        "colab": {
          "base_uri": "https://localhost:8080/",
          "height": 197
        },
        "id": "9C-FyHOd-vye",
        "outputId": "63fda428-b8a0-40c0-9f6a-70f9a8a80549"
      },
      "source": [
        "df_1 = df_1a.merge(df_1b, on = 'tweet_id')\n",
        "df_1.columns = [\"tweet_id\", \"label\", \"start\", \"end\", \"span\"]\n",
        "df_1[\"start\"] = df_1[\"start\"].astype(int)\n",
        "df_1[\"end\"] = df_1[\"end\"].astype(int)\n",
        "df_1.dropna(axis=0, inplace=True)\n",
        "df_1 = df_1[df_1.label==\"ADE\"]\n",
        "df_1.head()"
      ],
      "execution_count": null,
      "outputs": [
        {
          "output_type": "execute_result",
          "data": {
            "text/html": [
              "<div>\n",
              "<style scoped>\n",
              "    .dataframe tbody tr th:only-of-type {\n",
              "        vertical-align: middle;\n",
              "    }\n",
              "\n",
              "    .dataframe tbody tr th {\n",
              "        vertical-align: top;\n",
              "    }\n",
              "\n",
              "    .dataframe thead th {\n",
              "        text-align: right;\n",
              "    }\n",
              "</style>\n",
              "<table border=\"1\" class=\"dataframe\">\n",
              "  <thead>\n",
              "    <tr style=\"text-align: right;\">\n",
              "      <th></th>\n",
              "      <th>tweet_id</th>\n",
              "      <th>label</th>\n",
              "      <th>start</th>\n",
              "      <th>end</th>\n",
              "      <th>span</th>\n",
              "    </tr>\n",
              "  </thead>\n",
              "  <tbody>\n",
              "    <tr>\n",
              "      <th>0</th>\n",
              "      <td>342138828087234560</td>\n",
              "      <td>ADE</td>\n",
              "      <td>125</td>\n",
              "      <td>138</td>\n",
              "      <td>muscle spasms</td>\n",
              "    </tr>\n",
              "    <tr>\n",
              "      <th>1</th>\n",
              "      <td>342382016030973953</td>\n",
              "      <td>ADE</td>\n",
              "      <td>61</td>\n",
              "      <td>76</td>\n",
              "      <td>gaining. stupid</td>\n",
              "    </tr>\n",
              "    <tr>\n",
              "      <th>2</th>\n",
              "      <td>342382016030973953</td>\n",
              "      <td>ADE</td>\n",
              "      <td>91</td>\n",
              "      <td>110</td>\n",
              "      <td>gain like 50 pounds</td>\n",
              "    </tr>\n",
              "    <tr>\n",
              "      <th>3</th>\n",
              "      <td>345414697148887041</td>\n",
              "      <td>ADE</td>\n",
              "      <td>87</td>\n",
              "      <td>103</td>\n",
              "      <td>continuous sleep</td>\n",
              "    </tr>\n",
              "    <tr>\n",
              "      <th>4</th>\n",
              "      <td>345414697148887041</td>\n",
              "      <td>ADE</td>\n",
              "      <td>126</td>\n",
              "      <td>134</td>\n",
              "      <td>headache</td>\n",
              "    </tr>\n",
              "  </tbody>\n",
              "</table>\n",
              "</div>"
            ],
            "text/plain": [
              "             tweet_id label  start  end                 span\n",
              "0  342138828087234560   ADE    125  138        muscle spasms\n",
              "1  342382016030973953   ADE     61   76      gaining. stupid\n",
              "2  342382016030973953   ADE     91  110  gain like 50 pounds\n",
              "3  345414697148887041   ADE     87  103     continuous sleep\n",
              "4  345414697148887041   ADE    126  134             headache"
            ]
          },
          "metadata": {
            "tags": []
          },
          "execution_count": 25
        }
      ]
    },
    {
      "cell_type": "code",
      "metadata": {
        "id": "7eq2vmsj-0QO"
      },
      "source": [
        "df_1.to_csv('/content/val_score_3.tsv', sep = '\\t', index= False)"
      ],
      "execution_count": null,
      "outputs": []
    },
    {
      "cell_type": "code",
      "metadata": {
        "id": "zlARtesz_FUK"
      },
      "source": [
        ""
      ],
      "execution_count": null,
      "outputs": []
    }
  ]
}